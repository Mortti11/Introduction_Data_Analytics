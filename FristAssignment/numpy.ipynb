{
 "cells": [
  {
   "cell_type": "code",
   "execution_count": 25,
   "metadata": {},
   "outputs": [],
   "source": [
    "import numpy  as np"
   ]
  },
  {
   "cell_type": "markdown",
   "metadata": {},
   "source": [
    "## Create Lists Without NumPy \n",
    "1. Create a list of 15 ones.\n",
    "2. Create a list of 15 number 7's.\n",
    "3. Create a list of numbers from 100 to 150.\n",
    "4. Create a list of even numbers between 0 and 100.\n",
    "5. Create a list of years that are divisible by 4 between 1950 and 2020.\n"
   ]
  },
  {
   "cell_type": "code",
   "execution_count": 131,
   "metadata": {},
   "outputs": [
    {
     "name": "stdout",
     "output_type": "stream",
     "text": [
      "[1, 1, 1, 1, 1, 1, 1, 1, 1, 1, 1, 1, 1, 1, 1]\n"
     ]
    }
   ],
   "source": [
    "# 1- Create a list of 15 ones without using \" Numpy\"\n",
    "one = [1]*15\n",
    "print(one)\n"
   ]
  },
  {
   "cell_type": "code",
   "execution_count": 132,
   "metadata": {},
   "outputs": [
    {
     "data": {
      "text/plain": [
       "[1, 1, 1, 1, 1, 1, 1, 1, 1, 1, 1, 1, 1, 1, 1]"
      ]
     },
     "execution_count": 132,
     "metadata": {},
     "output_type": "execute_result"
    }
   ],
   "source": [
    "one  = [1 for _ in range(15)]\n",
    "one\n",
    "\n",
    "one "
   ]
  },
  {
   "cell_type": "code",
   "execution_count": 133,
   "metadata": {},
   "outputs": [
    {
     "name": "stdout",
     "output_type": "stream",
     "text": [
      "[7, 7, 7, 7, 7, 7, 7, 7, 7, 7, 7, 7, 7, 7, 7]\n"
     ]
    }
   ],
   "source": [
    "# Create a list of  15 numbers of 7s without using \" Numpy\"\n",
    "seven = [7]*15\n",
    "print(seven)"
   ]
  },
  {
   "cell_type": "code",
   "execution_count": 134,
   "metadata": {},
   "outputs": [
    {
     "data": {
      "text/plain": [
       "[7, 7, 7, 7, 7, 7, 7, 7, 7, 7, 7, 7, 7, 7, 7]"
      ]
     },
     "execution_count": 134,
     "metadata": {},
     "output_type": "execute_result"
    }
   ],
   "source": [
    "seven = [7 for _ in range(15)]\n",
    "seven "
   ]
  },
  {
   "cell_type": "code",
   "execution_count": 135,
   "metadata": {},
   "outputs": [
    {
     "name": "stdout",
     "output_type": "stream",
     "text": [
      "[100, 101, 102, 103, 104, 105, 106, 107, 108, 109, 110, 111, 112, 113, 114, 115, 116, 117, 118, 119, 120, 121, 122, 123, 124, 125, 126, 127, 128, 129, 130, 131, 132, 133, 134, 135, 136, 137, 138, 139, 140, 141, 142, 143, 144, 145, 146, 147, 148, 149, 150]\n"
     ]
    }
   ],
   "source": [
    "# 3- Create a list numbers from 100 to 150 without using \" Numpy\"\n",
    "\n",
    "number = [i for i in range(100, 151)]\n",
    "print(number)"
   ]
  },
  {
   "cell_type": "code",
   "execution_count": 136,
   "metadata": {},
   "outputs": [
    {
     "data": {
      "text/plain": [
       "[0,\n",
       " 2,\n",
       " 4,\n",
       " 6,\n",
       " 8,\n",
       " 10,\n",
       " 12,\n",
       " 14,\n",
       " 16,\n",
       " 18,\n",
       " 20,\n",
       " 22,\n",
       " 24,\n",
       " 26,\n",
       " 28,\n",
       " 30,\n",
       " 32,\n",
       " 34,\n",
       " 36,\n",
       " 38,\n",
       " 40,\n",
       " 42,\n",
       " 44,\n",
       " 46,\n",
       " 48,\n",
       " 50,\n",
       " 52,\n",
       " 54,\n",
       " 56,\n",
       " 58,\n",
       " 60,\n",
       " 62,\n",
       " 64,\n",
       " 66,\n",
       " 68,\n",
       " 70,\n",
       " 72,\n",
       " 74,\n",
       " 76,\n",
       " 78,\n",
       " 80,\n",
       " 82,\n",
       " 84,\n",
       " 86,\n",
       " 88,\n",
       " 90,\n",
       " 92,\n",
       " 94,\n",
       " 96,\n",
       " 98,\n",
       " 100]"
      ]
     },
     "execution_count": 136,
     "metadata": {},
     "output_type": "execute_result"
    }
   ],
   "source": [
    "# 4- Create a list of even number between 0 to 100 numbers without using \" Numpy\"\n",
    "even  = [i for i in range(0, 101) if i % 2 == 0]\n",
    "even\n"
   ]
  },
  {
   "cell_type": "code",
   "execution_count": 137,
   "metadata": {},
   "outputs": [
    {
     "data": {
      "text/plain": [
       "[1952,\n",
       " 1956,\n",
       " 1960,\n",
       " 1964,\n",
       " 1968,\n",
       " 1972,\n",
       " 1976,\n",
       " 1980,\n",
       " 1984,\n",
       " 1988,\n",
       " 1992,\n",
       " 1996,\n",
       " 2000,\n",
       " 2004,\n",
       " 2008,\n",
       " 2012,\n",
       " 2016,\n",
       " 2020]"
      ]
     },
     "execution_count": 137,
     "metadata": {},
     "output_type": "execute_result"
    }
   ],
   "source": [
    "#-5  Create list of years that are dividable by 4 between 1950 and 2020\n",
    "years = [i for i in range(1950, 2021) if i % 4 == 0]\n",
    "years"
   ]
  },
  {
   "cell_type": "markdown",
   "metadata": {},
   "source": [
    "## Create these arrays with NumPy!\n",
    "1. Array of 15 zeroes.\n",
    "2. Array of 15 ones.\n",
    "3. Array of 15 number 7's.\n",
    "4. Array of numbers from 100 to 150.\n",
    "5. Array of numbers from 1900 to 2021.\n",
    "6. Array of even numbers between 0 and 100.\n",
    "7. Array of years that are divisible by 4 between 1950 and 2020.\n"
   ]
  },
  {
   "cell_type": "code",
   "execution_count": 139,
   "metadata": {},
   "outputs": [
    {
     "data": {
      "text/plain": [
       "array([0., 0., 0., 0., 0., 0., 0., 0., 0., 0., 0., 0., 0., 0., 0.])"
      ]
     },
     "execution_count": 139,
     "metadata": {},
     "output_type": "execute_result"
    }
   ],
   "source": [
    "# 1- Create a list of 15 ones using \" Numpy\"\n",
    "zero = np.zeros(15)\n",
    "zero\n"
   ]
  },
  {
   "cell_type": "code",
   "execution_count": 140,
   "metadata": {},
   "outputs": [
    {
     "data": {
      "text/plain": [
       "array([1., 1., 1., 1., 1., 1., 1., 1., 1., 1., 1., 1., 1., 1., 1.])"
      ]
     },
     "execution_count": 140,
     "metadata": {},
     "output_type": "execute_result"
    }
   ],
   "source": [
    "# 2- Create a list of  15 numbers of 1s using \" Numpy\"\n",
    "one = np.ones(15)\n",
    "one"
   ]
  },
  {
   "cell_type": "code",
   "execution_count": 141,
   "metadata": {},
   "outputs": [
    {
     "data": {
      "text/plain": [
       "array([7, 7, 7, 7, 7, 7, 7, 7, 7, 7, 7, 7, 7, 7, 7])"
      ]
     },
     "execution_count": 141,
     "metadata": {},
     "output_type": "execute_result"
    }
   ],
   "source": [
    "# 3- Create a array of 15 numbers 7 using \" Numpy\"\n",
    "seven = np.full(15, 7)\n",
    "seven"
   ]
  },
  {
   "cell_type": "code",
   "execution_count": 142,
   "metadata": {},
   "outputs": [
    {
     "data": {
      "text/plain": [
       "array([100, 101, 102, 103, 104, 105, 106, 107, 108, 109, 110, 111, 112,\n",
       "       113, 114, 115, 116, 117, 118, 119, 120, 121, 122, 123, 124, 125,\n",
       "       126, 127, 128, 129, 130, 131, 132, 133, 134, 135, 136, 137, 138,\n",
       "       139, 140, 141, 142, 143, 144, 145, 146, 147, 148, 149, 150])"
      ]
     },
     "execution_count": 142,
     "metadata": {},
     "output_type": "execute_result"
    }
   ],
   "source": [
    "# 4- Create a list numbers from 100 to 150 using \" Numpy\"\n",
    "number = np.arange(100, 151)\n",
    "number"
   ]
  },
  {
   "cell_type": "code",
   "execution_count": 144,
   "metadata": {},
   "outputs": [
    {
     "data": {
      "text/plain": [
       "array([  0,   2,   4,   6,   8,  10,  12,  14,  16,  18,  20,  22,  24,\n",
       "        26,  28,  30,  32,  34,  36,  38,  40,  42,  44,  46,  48,  50,\n",
       "        52,  54,  56,  58,  60,  62,  64,  66,  68,  70,  72,  74,  76,\n",
       "        78,  80,  82,  84,  86,  88,  90,  92,  94,  96,  98, 100])"
      ]
     },
     "execution_count": 144,
     "metadata": {},
     "output_type": "execute_result"
    }
   ],
   "source": [
    "# 5- Create a list of even number between 0 to 100 numbers using \" Numpy\"\n",
    "even = np.arange(0, 101, 2)\n",
    "even"
   ]
  },
  {
   "cell_type": "code",
   "execution_count": 153,
   "metadata": {},
   "outputs": [
    {
     "data": {
      "text/plain": [
       "array([1952, 1956, 1960, 1964, 1968, 1972, 1976, 1980, 1984, 1988, 1992,\n",
       "       1996, 2000, 2004, 2008, 2012, 2016, 2020])"
      ]
     },
     "execution_count": 153,
     "metadata": {},
     "output_type": "execute_result"
    }
   ],
   "source": [
    "# 6- Create list of years that are dividable by 4 between 1950 and 2020 using \" Numpy\"\n",
    "numbers = np.arange(1950, 2021)\n",
    "years = numbers[numbers % 4 == 0]\n",
    "years\n"
   ]
  },
  {
   "cell_type": "markdown",
   "metadata": {},
   "source": [
    "## NumPy vectors and matrices:"
   ]
  },
  {
   "cell_type": "code",
   "execution_count": 157,
   "metadata": {},
   "outputs": [
    {
     "name": "stdout",
     "output_type": "stream",
     "text": [
      "4\n"
     ]
    }
   ],
   "source": [
    "# Creating  a NumPy vector (list) containing these values: 5, 16, 9, 2, 19, 18, 11, 7\n",
    "# Use argmax() to find the position index of the largest value in the vector, and print it\n",
    "\n",
    "vect = np.array([5, 16, 9, 2, 19, 18, 11, 7])\n",
    "\n",
    "position = np.argmax(vect)\n",
    "print(position)\n",
    "\n",
    "# The position index of the 19 in the vector is 4. \n"
   ]
  },
  {
   "cell_type": "code",
   "execution_count": null,
   "metadata": {},
   "outputs": [
    {
     "data": {
      "text/plain": [
       "array([[ 1,  2,  3,  4,  5,  6,  7],\n",
       "       [ 8,  9, 10, 11, 12, 13, 14],\n",
       "       [15, 16, 17, 18, 19, 20, 21],\n",
       "       [22, 23, 24, 25, 26, 27, 28],\n",
       "       [29, 30, 31, 32, 33, 34, 35],\n",
       "       [36, 37, 38, 39, 40, 41, 42],\n",
       "       [43, 44, 45, 46, 47, 48, 49]])"
      ]
     },
     "execution_count": 159,
     "metadata": {},
     "output_type": "execute_result"
    }
   ],
   "source": [
    "# Creating  a 7x7 matrix, with values from 1 to 49\n",
    "matrix = np.arange(1, 50).reshape(7, 7)\n",
    "matrix"
   ]
  },
  {
   "cell_type": "code",
   "execution_count": 167,
   "metadata": {},
   "outputs": [
    {
     "data": {
      "text/plain": [
       "[[1, 2, 3, 4, 5, 6, 7],\n",
       " [8, 9, 10, 11, 12, 13, 14],\n",
       " [15, 16, 17, 18, 19, 20, 21],\n",
       " [22, 23, 24, 25, 26, 27, 28],\n",
       " [29, 30, 31, 32, 33, 34, 35],\n",
       " [36, 37, 38, 39, 40, 41, 42],\n",
       " [43, 44, 45, 46, 47, 48, 49]]"
      ]
     },
     "execution_count": 167,
     "metadata": {},
     "output_type": "execute_result"
    }
   ],
   "source": [
    "# Extra tasks:\n",
    "# Creating 7x7 matrix, with values from 1 to 49 without using \"Numpy\"\n",
    "\n",
    "matrix = [[i + j for i in range(7)] for j in range(1, 49, 7)]\n",
    "matrix"
   ]
  },
  {
   "cell_type": "code",
   "execution_count": 169,
   "metadata": {},
   "outputs": [
    {
     "data": {
      "text/plain": [
       "array([[0, 3, 1, 3, 1, 5, 4, 4],\n",
       "       [5, 0, 5, 4, 3, 0, 2, 5],\n",
       "       [2, 4, 0, 1, 3, 5, 1, 5],\n",
       "       [0, 0, 1, 5, 1, 4, 3, 5],\n",
       "       [3, 0, 4, 5, 5, 1, 5, 0],\n",
       "       [3, 1, 1, 4, 2, 4, 1, 3],\n",
       "       [2, 1, 0, 1, 4, 3, 0, 5],\n",
       "       [5, 3, 2, 0, 0, 5, 0, 5]], dtype=int32)"
      ]
     },
     "execution_count": 169,
     "metadata": {},
     "output_type": "execute_result"
    }
   ],
   "source": [
    "# Generating 8x8 random number matrix, values between 0 and 5\n",
    "matrix = np.random.randint(0, 6, (8, 8))    \n",
    "matrix"
   ]
  },
  {
   "cell_type": "code",
   "execution_count": 174,
   "metadata": {},
   "outputs": [
    {
     "data": {
      "text/plain": [
       "array([[ 2, -1,  3,  3, -3, -3,  3, -1],\n",
       "       [-3, -3, -2,  3, -2, -1, -3,  3],\n",
       "       [-2,  1, -3, -1,  1,  3,  1,  2],\n",
       "       [ 0, -1,  0,  1,  1,  2,  2, -3],\n",
       "       [ 0, -2,  3,  0, -1,  3, -2, -2],\n",
       "       [ 1, -3,  1, -1,  3,  2,  3,  1],\n",
       "       [-1,  1,  1,  2, -2, -1,  0,  1],\n",
       "       [ 0, -2, -1,  2, -2, -3, -1,  2]], dtype=int32)"
      ]
     },
     "execution_count": 174,
     "metadata": {},
     "output_type": "execute_result"
    }
   ],
   "source": [
    "# Creating  8x8 random number matrix, using standard normal distribution values (= values are between -3 and 3)\n",
    "matrix = np.random.randint(-3, 4, (8, 8))   \n",
    "matrix"
   ]
  },
  {
   "cell_type": "code",
   "execution_count": 175,
   "metadata": {},
   "outputs": [
    {
     "data": {
      "text/plain": [
       "array([0.        , 0.11111111, 0.22222222, 0.33333333, 0.44444444,\n",
       "       0.55555556, 0.66666667, 0.77777778, 0.88888889, 1.        ])"
      ]
     },
     "execution_count": 175,
     "metadata": {},
     "output_type": "execute_result"
    }
   ],
   "source": [
    "#  array (list/vector) of 10 values between value 0 and 1 \n",
    "array = np.linspace(0, 1, 10)\n",
    "array"
   ]
  },
  {
   "cell_type": "code",
   "execution_count": 177,
   "metadata": {},
   "outputs": [
    {
     "data": {
      "text/plain": [
       "array([[0.        , 0.05050505, 0.1010101 , 0.15151515, 0.2020202 ,\n",
       "        0.25252525, 0.3030303 , 0.35353535, 0.4040404 , 0.45454545],\n",
       "       [0.50505051, 0.55555556, 0.60606061, 0.65656566, 0.70707071,\n",
       "        0.75757576, 0.80808081, 0.85858586, 0.90909091, 0.95959596],\n",
       "       [1.01010101, 1.06060606, 1.11111111, 1.16161616, 1.21212121,\n",
       "        1.26262626, 1.31313131, 1.36363636, 1.41414141, 1.46464646],\n",
       "       [1.51515152, 1.56565657, 1.61616162, 1.66666667, 1.71717172,\n",
       "        1.76767677, 1.81818182, 1.86868687, 1.91919192, 1.96969697],\n",
       "       [2.02020202, 2.07070707, 2.12121212, 2.17171717, 2.22222222,\n",
       "        2.27272727, 2.32323232, 2.37373737, 2.42424242, 2.47474747],\n",
       "       [2.52525253, 2.57575758, 2.62626263, 2.67676768, 2.72727273,\n",
       "        2.77777778, 2.82828283, 2.87878788, 2.92929293, 2.97979798],\n",
       "       [3.03030303, 3.08080808, 3.13131313, 3.18181818, 3.23232323,\n",
       "        3.28282828, 3.33333333, 3.38383838, 3.43434343, 3.48484848],\n",
       "       [3.53535354, 3.58585859, 3.63636364, 3.68686869, 3.73737374,\n",
       "        3.78787879, 3.83838384, 3.88888889, 3.93939394, 3.98989899],\n",
       "       [4.04040404, 4.09090909, 4.14141414, 4.19191919, 4.24242424,\n",
       "        4.29292929, 4.34343434, 4.39393939, 4.44444444, 4.49494949],\n",
       "       [4.54545455, 4.5959596 , 4.64646465, 4.6969697 , 4.74747475,\n",
       "        4.7979798 , 4.84848485, 4.8989899 , 4.94949495, 5.        ]])"
      ]
     },
     "execution_count": 177,
     "metadata": {},
     "output_type": "execute_result"
    }
   ],
   "source": [
    "# Creating 10x10 matrix between values 0 and 5\n",
    "matrix = np.linspace(0, 5, 100).reshape(10, 10)\n",
    "matrix"
   ]
  },
  {
   "cell_type": "code",
   "execution_count": null,
   "metadata": {},
   "outputs": [],
   "source": [
    "#  Extra task: create this matrix without NumPy as well!# "
   ]
  }
 ],
 "metadata": {
  "kernelspec": {
   "display_name": ".venv",
   "language": "python",
   "name": "python3"
  },
  "language_info": {
   "codemirror_mode": {
    "name": "ipython",
    "version": 3
   },
   "file_extension": ".py",
   "mimetype": "text/x-python",
   "name": "python",
   "nbconvert_exporter": "python",
   "pygments_lexer": "ipython3",
   "version": "3.10.11"
  }
 },
 "nbformat": 4,
 "nbformat_minor": 2
}
