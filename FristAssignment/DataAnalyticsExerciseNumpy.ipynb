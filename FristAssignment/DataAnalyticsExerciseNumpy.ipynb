{
 "cells": [
  {
   "attachments": {},
   "cell_type": "markdown",
   "metadata": {},
   "source": [
    "<h3><b>Introduction to Data Analytics - Exercise set 1 - Python and NumPy Basics</b></h3>"
   ]
  },
  {
   "attachments": {},
   "cell_type": "markdown",
   "metadata": {},
   "source": [
    "Put all your exercises (Jupyter Notebooks or Python-files) in your course Git-project.\n",
    "Use either code comments or Jupyter Notebook markdown (text) to document which exercise you are doing and what a certain code section does! \n",
    "You can return all of these exercises in a single Jupyter Notebook, if you wish.\n",
    "\n",
    "<img src=\"http://srv.plab.fi/~tuomasv/data_analytics_2023_images/exercise_set_1/numpylogo.png\" width=\"250\"/>"
   ]
  },
  {
   "cell_type": "markdown",
   "metadata": {},
   "source": [
    "<b>NOTE!</b> For each subtask, save the result into a separate variable!"
   ]
  },
  {
   "cell_type": "code",
   "execution_count": 103,
   "metadata": {},
   "outputs": [
    {
     "name": "stdout",
     "output_type": "stream",
     "text": [
      "The numpy_html extension is already loaded. To reload it, use:\n",
      "  %reload_ext numpy_html\n"
     ]
    }
   ],
   "source": [
    "# setup all needed modules and configurations\n",
    "import numpy as np\n",
    "import random\n",
    "import pandas as pd\n",
    "\n",
    "# re-style the NumPy arrays\n",
    "# remember to install needed module first:\n",
    "%load_ext numpy_html"
   ]
  },
  {
   "attachments": {},
   "cell_type": "markdown",
   "metadata": {},
   "source": [
    "Run the cell below to enable custom style for NumPy arrays:"
   ]
  },
  {
   "cell_type": "code",
   "execution_count": 104,
   "metadata": {},
   "outputs": [
    {
     "data": {
      "text/html": [
       "<style>\n",
       "table {margin-top: 16pt;}\n",
       "td {font-family: Arial, Helvetica, sans-serif !important; font-weight: 600; white-space: normal !important;}\n",
       "tr:nth-child(even) {background: #b0d9eb !important; color: black}\n",
       "tr:nth-child(odd) {background: #8fb1bf !important; color: black}\n",
       "</style>\n"
      ],
      "text/plain": [
       "<IPython.core.display.HTML object>"
      ]
     },
     "metadata": {},
     "output_type": "display_data"
    }
   ],
   "source": [
    "%%html\n",
    "<style>\n",
    "table {margin-top: 16pt;}\n",
    "td {font-family: Arial, Helvetica, sans-serif !important; font-weight: 600; white-space: normal !important;}\n",
    "tr:nth-child(even) {background: #b0d9eb !important; color: black}\n",
    "tr:nth-child(odd) {background: #8fb1bf !important; color: black}\n",
    "</style>"
   ]
  },
  {
   "attachments": {},
   "cell_type": "markdown",
   "metadata": {},
   "source": [
    "<h4><b>1. Create these lists without NumPy:</b></h4>\n",
    "\n",
    "- List of 15 ones\n",
    "\n",
    "- List of 15 number 7's\n",
    "\n",
    "- List of numbers from 100 to 150\n",
    "\n",
    "- List of even numbers between 0 and 100\n",
    "\n",
    "- List of years that are divisible by 4 between 1950 and 2020\n",
    "\n",
    "<br>\n",
    "\n",
    "<b>Tip: creating a list with Python code is usually something like this:</b>\n",
    "\n",
    "<pre>\n",
    "numbers = []\n",
    "\n",
    "for x in range(0, 5):\n",
    "    numbers.append(x)\n",
    "</pre>"
   ]
  },
  {
   "cell_type": "code",
   "execution_count": 105,
   "metadata": {},
   "outputs": [
    {
     "data": {
      "text/plain": [
       "[1, 1, 1, 1, 1, 1, 1, 1, 1, 1, 1, 1, 1, 1, 1]"
      ]
     },
     "execution_count": 105,
     "metadata": {},
     "output_type": "execute_result"
    }
   ],
   "source": [
    "# Using loop to create a list of 15 ones\n",
    "\n",
    "values=[]\n",
    "\n",
    "for i in range(15):\n",
    " values.append(1)\n",
    "   \n",
    "values"
   ]
  },
  {
   "cell_type": "code",
   "execution_count": 106,
   "metadata": {},
   "outputs": [
    {
     "name": "stdout",
     "output_type": "stream",
     "text": [
      "[7, 7, 7, 7, 7, 7, 7, 7, 7, 7, 7, 7, 7, 7, 7]\n"
     ]
    }
   ],
   "source": [
    "# Using loop  to create a list of 15 sevens\n",
    "arraySeven = []\n",
    "\n",
    "for i in range(15):\n",
    "    arraySeven.append(7)\n",
    "print(arraySeven)"
   ]
  },
  {
   "cell_type": "code",
   "execution_count": 107,
   "metadata": {},
   "outputs": [
    {
     "name": "stdout",
     "output_type": "stream",
     "text": [
      "[100, 101, 102, 103, 104, 105, 106, 107, 108, 109, 110, 111, 112, 113, 114, 115, 116, 117, 118, 119, 120, 121, 122, 123, 124, 125, 126, 127, 128, 129, 130, 131, 132, 133, 134, 135, 136, 137, 138, 139, 140, 141, 142, 143, 144, 145, 146, 147, 148, 149, 150]\n"
     ]
    }
   ],
   "source": [
    "# 3- Create a list numbers from 100 to 150 without using \" Numpy\"\n",
    "\n",
    "number = [i for i in range(100, 151)]\n",
    "print(number)"
   ]
  },
  {
   "cell_type": "code",
   "execution_count": 108,
   "metadata": {},
   "outputs": [
    {
     "data": {
      "text/plain": [
       "[1952,\n",
       " 1956,\n",
       " 1960,\n",
       " 1964,\n",
       " 1968,\n",
       " 1972,\n",
       " 1976,\n",
       " 1980,\n",
       " 1984,\n",
       " 1988,\n",
       " 1992,\n",
       " 1996,\n",
       " 2000,\n",
       " 2004,\n",
       " 2008,\n",
       " 2012,\n",
       " 2016,\n",
       " 2020]"
      ]
     },
     "execution_count": 108,
     "metadata": {},
     "output_type": "execute_result"
    }
   ],
   "source": [
    "#-5  Create list of years that are dividable by 4 between 1950 and 2020\n",
    "years = [i for i in range(1950, 2021) if i % 4 == 0]\n",
    "years"
   ]
  },
  {
   "attachments": {},
   "cell_type": "markdown",
   "metadata": {},
   "source": [
    "<h4><b>2.\tNow, create these arrays with NumPy!</b></h4>\n",
    "\n",
    "- Array of 15 zeroes\n",
    "\n",
    "- Array of 15 ones\n",
    "\n",
    "- Array of 15 number 7's\n",
    "\n",
    "- Array of numbers from 100 to 150\n",
    "\n",
    "- Array of numbers from 1900 to 2021\n",
    "\n",
    "- Array of even numbers between 0 and 100\n",
    "\n",
    "- Array of years that are divisible by 4 between 1950 and 2020\n",
    "\n"
   ]
  },
  {
   "cell_type": "code",
   "execution_count": 109,
   "metadata": {},
   "outputs": [
    {
     "data": {
      "text/html": [
       "<table style='border-style:solid;border-width:1px;'>\n",
       "<tr><td style=\"font-family:monospace;white-space: pre;\" title=\"0\"><center>0.</center></td></tr>\n",
       "<tr><td style=\"font-family:monospace;white-space: pre;\" title=\"1\"><center>0.</center></td></tr>\n",
       "<tr><td style=\"font-family:monospace;white-space: pre;\" title=\"2\"><center>0.</center></td></tr>\n",
       "<tr><td style=\"font-family:monospace;white-space: pre;\" title=\"3\"><center>0.</center></td></tr>\n",
       "<tr><td style=\"font-family:monospace;white-space: pre;\" title=\"4\"><center>0.</center></td></tr>\n",
       "<tr><td style=\"font-family:monospace;white-space: pre;\" title=\"5\"><center>0.</center></td></tr>\n",
       "<tr><td style=\"font-family:monospace;white-space: pre;\" title=\"6\"><center>0.</center></td></tr>\n",
       "<tr><td style=\"font-family:monospace;white-space: pre;\" title=\"7\"><center>0.</center></td></tr>\n",
       "<tr><td style=\"font-family:monospace;white-space: pre;\" title=\"8\"><center>0.</center></td></tr>\n",
       "<tr><td style=\"font-family:monospace;white-space: pre;\" title=\"9\"><center>0.</center></td></tr>\n",
       "<tr><td style=\"font-family:monospace;white-space: pre;\" title=\"10\"><center>0.</center></td></tr>\n",
       "<tr><td style=\"font-family:monospace;white-space: pre;\" title=\"11\"><center>0.</center></td></tr>\n",
       "<tr><td style=\"font-family:monospace;white-space: pre;\" title=\"12\"><center>0.</center></td></tr>\n",
       "<tr><td style=\"font-family:monospace;white-space: pre;\" title=\"13\"><center>0.</center></td></tr>\n",
       "<tr><td style=\"font-family:monospace;white-space: pre;\" title=\"14\"><center>0.</center></td></tr>\n",
       "</table>"
      ],
      "text/plain": [
       "array([0., 0., 0., 0., 0., 0., 0., 0., 0., 0., 0., 0., 0., 0., 0.])"
      ]
     },
     "execution_count": 109,
     "metadata": {},
     "output_type": "execute_result"
    }
   ],
   "source": [
    "# exercise 1.2, create lists WITH NumPy\n",
    "#1- Creating a list of 15 ones using \" Numpy\"\n",
    "zero = np.zeros(15)\n",
    "zero\n",
    "\n"
   ]
  },
  {
   "cell_type": "code",
   "execution_count": 110,
   "metadata": {},
   "outputs": [
    {
     "data": {
      "text/html": [
       "<table style='border-style:solid;border-width:1px;'>\n",
       "<tr><td style=\"font-family:monospace;white-space: pre;\" title=\"0\"><center>1.</center></td></tr>\n",
       "<tr><td style=\"font-family:monospace;white-space: pre;\" title=\"1\"><center>1.</center></td></tr>\n",
       "<tr><td style=\"font-family:monospace;white-space: pre;\" title=\"2\"><center>1.</center></td></tr>\n",
       "<tr><td style=\"font-family:monospace;white-space: pre;\" title=\"3\"><center>1.</center></td></tr>\n",
       "<tr><td style=\"font-family:monospace;white-space: pre;\" title=\"4\"><center>1.</center></td></tr>\n",
       "<tr><td style=\"font-family:monospace;white-space: pre;\" title=\"5\"><center>1.</center></td></tr>\n",
       "<tr><td style=\"font-family:monospace;white-space: pre;\" title=\"6\"><center>1.</center></td></tr>\n",
       "<tr><td style=\"font-family:monospace;white-space: pre;\" title=\"7\"><center>1.</center></td></tr>\n",
       "<tr><td style=\"font-family:monospace;white-space: pre;\" title=\"8\"><center>1.</center></td></tr>\n",
       "<tr><td style=\"font-family:monospace;white-space: pre;\" title=\"9\"><center>1.</center></td></tr>\n",
       "<tr><td style=\"font-family:monospace;white-space: pre;\" title=\"10\"><center>1.</center></td></tr>\n",
       "<tr><td style=\"font-family:monospace;white-space: pre;\" title=\"11\"><center>1.</center></td></tr>\n",
       "<tr><td style=\"font-family:monospace;white-space: pre;\" title=\"12\"><center>1.</center></td></tr>\n",
       "<tr><td style=\"font-family:monospace;white-space: pre;\" title=\"13\"><center>1.</center></td></tr>\n",
       "<tr><td style=\"font-family:monospace;white-space: pre;\" title=\"14\"><center>1.</center></td></tr>\n",
       "</table>"
      ],
      "text/plain": [
       "array([1., 1., 1., 1., 1., 1., 1., 1., 1., 1., 1., 1., 1., 1., 1.])"
      ]
     },
     "execution_count": 110,
     "metadata": {},
     "output_type": "execute_result"
    }
   ],
   "source": [
    "# 2- Creating a list of  15 numbers of 1s using \" Numpy\"\n",
    "one = np.ones(15)\n",
    "one"
   ]
  },
  {
   "cell_type": "code",
   "execution_count": 111,
   "metadata": {},
   "outputs": [
    {
     "data": {
      "text/html": [
       "<table style='border-style:solid;border-width:1px;'>\n",
       "<tr><td style=\"font-family:monospace;white-space: pre;\" title=\"0\"><center>7</center></td></tr>\n",
       "<tr><td style=\"font-family:monospace;white-space: pre;\" title=\"1\"><center>7</center></td></tr>\n",
       "<tr><td style=\"font-family:monospace;white-space: pre;\" title=\"2\"><center>7</center></td></tr>\n",
       "<tr><td style=\"font-family:monospace;white-space: pre;\" title=\"3\"><center>7</center></td></tr>\n",
       "<tr><td style=\"font-family:monospace;white-space: pre;\" title=\"4\"><center>7</center></td></tr>\n",
       "<tr><td style=\"font-family:monospace;white-space: pre;\" title=\"5\"><center>7</center></td></tr>\n",
       "<tr><td style=\"font-family:monospace;white-space: pre;\" title=\"6\"><center>7</center></td></tr>\n",
       "<tr><td style=\"font-family:monospace;white-space: pre;\" title=\"7\"><center>7</center></td></tr>\n",
       "<tr><td style=\"font-family:monospace;white-space: pre;\" title=\"8\"><center>7</center></td></tr>\n",
       "<tr><td style=\"font-family:monospace;white-space: pre;\" title=\"9\"><center>7</center></td></tr>\n",
       "<tr><td style=\"font-family:monospace;white-space: pre;\" title=\"10\"><center>7</center></td></tr>\n",
       "<tr><td style=\"font-family:monospace;white-space: pre;\" title=\"11\"><center>7</center></td></tr>\n",
       "<tr><td style=\"font-family:monospace;white-space: pre;\" title=\"12\"><center>7</center></td></tr>\n",
       "<tr><td style=\"font-family:monospace;white-space: pre;\" title=\"13\"><center>7</center></td></tr>\n",
       "<tr><td style=\"font-family:monospace;white-space: pre;\" title=\"14\"><center>7</center></td></tr>\n",
       "</table>"
      ],
      "text/plain": [
       "array([7, 7, 7, 7, 7, 7, 7, 7, 7, 7, 7, 7, 7, 7, 7])"
      ]
     },
     "execution_count": 111,
     "metadata": {},
     "output_type": "execute_result"
    }
   ],
   "source": [
    "# 3 Creating  a array of 15 numbers 7 using \" Numpy\"\n",
    "seven = np.full(15, 7)\n",
    "seven"
   ]
  },
  {
   "cell_type": "code",
   "execution_count": 112,
   "metadata": {},
   "outputs": [
    {
     "data": {
      "text/html": [
       "<table style='border-style:solid;border-width:1px;'>\n",
       "<tr><td style=\"font-family:monospace;white-space: pre;\" title=\"0\"><center>7</center></td></tr>\n",
       "<tr><td style=\"font-family:monospace;white-space: pre;\" title=\"1\"><center>7</center></td></tr>\n",
       "<tr><td style=\"font-family:monospace;white-space: pre;\" title=\"2\"><center>7</center></td></tr>\n",
       "<tr><td style=\"font-family:monospace;white-space: pre;\" title=\"3\"><center>7</center></td></tr>\n",
       "<tr><td style=\"font-family:monospace;white-space: pre;\" title=\"4\"><center>7</center></td></tr>\n",
       "<tr><td style=\"font-family:monospace;white-space: pre;\" title=\"5\"><center>7</center></td></tr>\n",
       "<tr><td style=\"font-family:monospace;white-space: pre;\" title=\"6\"><center>7</center></td></tr>\n",
       "<tr><td style=\"font-family:monospace;white-space: pre;\" title=\"7\"><center>7</center></td></tr>\n",
       "<tr><td style=\"font-family:monospace;white-space: pre;\" title=\"8\"><center>7</center></td></tr>\n",
       "<tr><td style=\"font-family:monospace;white-space: pre;\" title=\"9\"><center>7</center></td></tr>\n",
       "<tr><td style=\"font-family:monospace;white-space: pre;\" title=\"10\"><center>7</center></td></tr>\n",
       "<tr><td style=\"font-family:monospace;white-space: pre;\" title=\"11\"><center>7</center></td></tr>\n",
       "<tr><td style=\"font-family:monospace;white-space: pre;\" title=\"12\"><center>7</center></td></tr>\n",
       "<tr><td style=\"font-family:monospace;white-space: pre;\" title=\"13\"><center>7</center></td></tr>\n",
       "<tr><td style=\"font-family:monospace;white-space: pre;\" title=\"14\"><center>7</center></td></tr>\n",
       "</table>"
      ],
      "text/plain": [
       "array([7, 7, 7, 7, 7, 7, 7, 7, 7, 7, 7, 7, 7, 7, 7])"
      ]
     },
     "execution_count": 112,
     "metadata": {},
     "output_type": "execute_result"
    }
   ],
   "source": [
    "# 3- Creating  a array of 15 numbers 7 using \" Numpy\"\n",
    "seven = np.full(15, 7)\n",
    "seven"
   ]
  },
  {
   "cell_type": "code",
   "execution_count": 113,
   "metadata": {},
   "outputs": [
    {
     "data": {
      "text/html": [
       "<table style='border-style:solid;border-width:1px;'>\n",
       "<tr><td style=\"font-family:monospace;white-space: pre;\" title=\"0\"><center>100</center></td></tr>\n",
       "<tr><td style=\"font-family:monospace;white-space: pre;\" title=\"1\"><center>101</center></td></tr>\n",
       "<tr><td style=\"font-family:monospace;white-space: pre;\" title=\"2\"><center>102</center></td></tr>\n",
       "<tr><td style=\"font-family:monospace;white-space: pre;\" title=\"3\"><center>103</center></td></tr>\n",
       "<tr><td style=\"font-family:monospace;white-space: pre;\" title=\"4\"><center>104</center></td></tr>\n",
       "<tr><td style=\"font-family:monospace;white-space: pre;\" title=\"5\"><center>105</center></td></tr>\n",
       "<tr><td style=\"font-family:monospace;white-space: pre;\" title=\"6\"><center>106</center></td></tr>\n",
       "<tr><td style=\"font-family:monospace;white-space: pre;\" title=\"7\"><center>107</center></td></tr>\n",
       "<tr><td style=\"font-family:monospace;white-space: pre;\" title=\"8\"><center>108</center></td></tr>\n",
       "<tr><td style=\"font-family:monospace;white-space: pre;\" title=\"9\"><center>109</center></td></tr>\n",
       "<tr><td style=\"font-family:monospace;white-space: pre;\" title=\"10\"><center>110</center></td></tr>\n",
       "<tr><td style=\"font-family:monospace;white-space: pre;\" title=\"11\"><center>111</center></td></tr>\n",
       "<tr><td style=\"font-family:monospace;white-space: pre;\" title=\"12\"><center>112</center></td></tr>\n",
       "<tr><td style=\"font-family:monospace;white-space: pre;\" title=\"13\"><center>113</center></td></tr>\n",
       "<tr><td style=\"font-family:monospace;white-space: pre;\" title=\"14\"><center>114</center></td></tr>\n",
       "<tr><td style=\"font-family:monospace;white-space: pre;\" title=\"15\"><center>115</center></td></tr>\n",
       "<tr><td style=\"font-family:monospace;white-space: pre;\" title=\"16\"><center>116</center></td></tr>\n",
       "<tr><td style=\"font-family:monospace;white-space: pre;\" title=\"17\"><center>117</center></td></tr>\n",
       "<tr><td style=\"font-family:monospace;white-space: pre;\" title=\"18\"><center>118</center></td></tr>\n",
       "<tr><td style=\"font-family:monospace;white-space: pre;\" title=\"19\"><center>119</center></td></tr>\n",
       "<tr><td style=\"font-family:monospace;white-space: pre;\" title=\"20\"><center>120</center></td></tr>\n",
       "<tr><td style=\"font-family:monospace;white-space: pre;\" title=\"21\"><center>121</center></td></tr>\n",
       "<tr><td style=\"font-family:monospace;white-space: pre;\" title=\"22\"><center>122</center></td></tr>\n",
       "<tr><td style=\"font-family:monospace;white-space: pre;\" title=\"23\"><center>123</center></td></tr>\n",
       "<tr><td style=\"font-family:monospace;white-space: pre;\" title=\"24\"><center>124</center></td></tr>\n",
       "<tr><td style=\"font-family:monospace;white-space: pre;\" title=\"25\"><center>125</center></td></tr>\n",
       "<tr><td style=\"font-family:monospace;white-space: pre;\" title=\"26\"><center>126</center></td></tr>\n",
       "<tr><td style=\"font-family:monospace;white-space: pre;\" title=\"27\"><center>127</center></td></tr>\n",
       "<tr><td style=\"font-family:monospace;white-space: pre;\" title=\"28\"><center>128</center></td></tr>\n",
       "<tr><td style=\"font-family:monospace;white-space: pre;\" title=\"29\"><center>129</center></td></tr>\n",
       "<tr><td style=\"font-family:monospace;white-space: pre;\" title=\"30\"><center>130</center></td></tr>\n",
       "<tr><td style=\"font-family:monospace;white-space: pre;\" title=\"31\"><center>131</center></td></tr>\n",
       "<tr><td style=\"font-family:monospace;white-space: pre;\" title=\"32\"><center>132</center></td></tr>\n",
       "<tr><td style=\"font-family:monospace;white-space: pre;\" title=\"33\"><center>133</center></td></tr>\n",
       "<tr><td style=\"font-family:monospace;white-space: pre;\" title=\"34\"><center>134</center></td></tr>\n",
       "<tr><td style=\"font-family:monospace;white-space: pre;\" title=\"35\"><center>135</center></td></tr>\n",
       "<tr><td style=\"font-family:monospace;white-space: pre;\" title=\"36\"><center>136</center></td></tr>\n",
       "<tr><td style=\"font-family:monospace;white-space: pre;\" title=\"37\"><center>137</center></td></tr>\n",
       "<tr><td style=\"font-family:monospace;white-space: pre;\" title=\"38\"><center>138</center></td></tr>\n",
       "<tr><td style=\"font-family:monospace;white-space: pre;\" title=\"39\"><center>139</center></td></tr>\n",
       "<tr><td style=\"font-family:monospace;white-space: pre;\" title=\"40\"><center>140</center></td></tr>\n",
       "<tr><td style=\"font-family:monospace;white-space: pre;\" title=\"41\"><center>141</center></td></tr>\n",
       "<tr><td style=\"font-family:monospace;white-space: pre;\" title=\"42\"><center>142</center></td></tr>\n",
       "<tr><td style=\"font-family:monospace;white-space: pre;\" title=\"43\"><center>143</center></td></tr>\n",
       "<tr><td style=\"font-family:monospace;white-space: pre;\" title=\"44\"><center>144</center></td></tr>\n",
       "<tr><td style=\"font-family:monospace;white-space: pre;\" title=\"45\"><center>145</center></td></tr>\n",
       "<tr><td style=\"font-family:monospace;white-space: pre;\" title=\"46\"><center>146</center></td></tr>\n",
       "<tr><td style=\"font-family:monospace;white-space: pre;\" title=\"47\"><center>147</center></td></tr>\n",
       "<tr><td style=\"font-family:monospace;white-space: pre;\" title=\"48\"><center>148</center></td></tr>\n",
       "<tr><td style=\"font-family:monospace;white-space: pre;\" title=\"49\"><center>149</center></td></tr>\n",
       "<tr><td style=\"font-family:monospace;white-space: pre;\" title=\"50\"><center>150</center></td></tr>\n",
       "</table>"
      ],
      "text/plain": [
       "array([100, 101, 102, 103, 104, 105, 106, 107, 108, 109, 110, 111, 112,\n",
       "       113, 114, 115, 116, 117, 118, 119, 120, 121, 122, 123, 124, 125,\n",
       "       126, 127, 128, 129, 130, 131, 132, 133, 134, 135, 136, 137, 138,\n",
       "       139, 140, 141, 142, 143, 144, 145, 146, 147, 148, 149, 150])"
      ]
     },
     "execution_count": 113,
     "metadata": {},
     "output_type": "execute_result"
    }
   ],
   "source": [
    "# 4- Creating a list numbers from 100 to 150 using \" Numpy\"\n",
    "number = np.arange(100, 151)\n",
    "number"
   ]
  },
  {
   "cell_type": "code",
   "execution_count": 114,
   "metadata": {},
   "outputs": [
    {
     "data": {
      "text/html": [
       "<table style='border-style:solid;border-width:1px;'>\n",
       "<tr><td style=\"font-family:monospace;white-space: pre;\" title=\"0\"><center>0  </center></td></tr>\n",
       "<tr><td style=\"font-family:monospace;white-space: pre;\" title=\"1\"><center>2  </center></td></tr>\n",
       "<tr><td style=\"font-family:monospace;white-space: pre;\" title=\"2\"><center>4  </center></td></tr>\n",
       "<tr><td style=\"font-family:monospace;white-space: pre;\" title=\"3\"><center>6  </center></td></tr>\n",
       "<tr><td style=\"font-family:monospace;white-space: pre;\" title=\"4\"><center>8  </center></td></tr>\n",
       "<tr><td style=\"font-family:monospace;white-space: pre;\" title=\"5\"><center>10 </center></td></tr>\n",
       "<tr><td style=\"font-family:monospace;white-space: pre;\" title=\"6\"><center>12 </center></td></tr>\n",
       "<tr><td style=\"font-family:monospace;white-space: pre;\" title=\"7\"><center>14 </center></td></tr>\n",
       "<tr><td style=\"font-family:monospace;white-space: pre;\" title=\"8\"><center>16 </center></td></tr>\n",
       "<tr><td style=\"font-family:monospace;white-space: pre;\" title=\"9\"><center>18 </center></td></tr>\n",
       "<tr><td style=\"font-family:monospace;white-space: pre;\" title=\"10\"><center>20 </center></td></tr>\n",
       "<tr><td style=\"font-family:monospace;white-space: pre;\" title=\"11\"><center>22 </center></td></tr>\n",
       "<tr><td style=\"font-family:monospace;white-space: pre;\" title=\"12\"><center>24 </center></td></tr>\n",
       "<tr><td style=\"font-family:monospace;white-space: pre;\" title=\"13\"><center>26 </center></td></tr>\n",
       "<tr><td style=\"font-family:monospace;white-space: pre;\" title=\"14\"><center>28 </center></td></tr>\n",
       "<tr><td style=\"font-family:monospace;white-space: pre;\" title=\"15\"><center>30 </center></td></tr>\n",
       "<tr><td style=\"font-family:monospace;white-space: pre;\" title=\"16\"><center>32 </center></td></tr>\n",
       "<tr><td style=\"font-family:monospace;white-space: pre;\" title=\"17\"><center>34 </center></td></tr>\n",
       "<tr><td style=\"font-family:monospace;white-space: pre;\" title=\"18\"><center>36 </center></td></tr>\n",
       "<tr><td style=\"font-family:monospace;white-space: pre;\" title=\"19\"><center>38 </center></td></tr>\n",
       "<tr><td style=\"font-family:monospace;white-space: pre;\" title=\"20\"><center>40 </center></td></tr>\n",
       "<tr><td style=\"font-family:monospace;white-space: pre;\" title=\"21\"><center>42 </center></td></tr>\n",
       "<tr><td style=\"font-family:monospace;white-space: pre;\" title=\"22\"><center>44 </center></td></tr>\n",
       "<tr><td style=\"font-family:monospace;white-space: pre;\" title=\"23\"><center>46 </center></td></tr>\n",
       "<tr><td style=\"font-family:monospace;white-space: pre;\" title=\"24\"><center>48 </center></td></tr>\n",
       "<tr><td style=\"font-family:monospace;white-space: pre;\" title=\"25\"><center>50 </center></td></tr>\n",
       "<tr><td style=\"font-family:monospace;white-space: pre;\" title=\"26\"><center>52 </center></td></tr>\n",
       "<tr><td style=\"font-family:monospace;white-space: pre;\" title=\"27\"><center>54 </center></td></tr>\n",
       "<tr><td style=\"font-family:monospace;white-space: pre;\" title=\"28\"><center>56 </center></td></tr>\n",
       "<tr><td style=\"font-family:monospace;white-space: pre;\" title=\"29\"><center>58 </center></td></tr>\n",
       "<tr><td style=\"font-family:monospace;white-space: pre;\" title=\"30\"><center>60 </center></td></tr>\n",
       "<tr><td style=\"font-family:monospace;white-space: pre;\" title=\"31\"><center>62 </center></td></tr>\n",
       "<tr><td style=\"font-family:monospace;white-space: pre;\" title=\"32\"><center>64 </center></td></tr>\n",
       "<tr><td style=\"font-family:monospace;white-space: pre;\" title=\"33\"><center>66 </center></td></tr>\n",
       "<tr><td style=\"font-family:monospace;white-space: pre;\" title=\"34\"><center>68 </center></td></tr>\n",
       "<tr><td style=\"font-family:monospace;white-space: pre;\" title=\"35\"><center>70 </center></td></tr>\n",
       "<tr><td style=\"font-family:monospace;white-space: pre;\" title=\"36\"><center>72 </center></td></tr>\n",
       "<tr><td style=\"font-family:monospace;white-space: pre;\" title=\"37\"><center>74 </center></td></tr>\n",
       "<tr><td style=\"font-family:monospace;white-space: pre;\" title=\"38\"><center>76 </center></td></tr>\n",
       "<tr><td style=\"font-family:monospace;white-space: pre;\" title=\"39\"><center>78 </center></td></tr>\n",
       "<tr><td style=\"font-family:monospace;white-space: pre;\" title=\"40\"><center>80 </center></td></tr>\n",
       "<tr><td style=\"font-family:monospace;white-space: pre;\" title=\"41\"><center>82 </center></td></tr>\n",
       "<tr><td style=\"font-family:monospace;white-space: pre;\" title=\"42\"><center>84 </center></td></tr>\n",
       "<tr><td style=\"font-family:monospace;white-space: pre;\" title=\"43\"><center>86 </center></td></tr>\n",
       "<tr><td style=\"font-family:monospace;white-space: pre;\" title=\"44\"><center>88 </center></td></tr>\n",
       "<tr><td style=\"font-family:monospace;white-space: pre;\" title=\"45\"><center>90 </center></td></tr>\n",
       "<tr><td style=\"font-family:monospace;white-space: pre;\" title=\"46\"><center>92 </center></td></tr>\n",
       "<tr><td style=\"font-family:monospace;white-space: pre;\" title=\"47\"><center>94 </center></td></tr>\n",
       "<tr><td style=\"font-family:monospace;white-space: pre;\" title=\"48\"><center>96 </center></td></tr>\n",
       "<tr><td style=\"font-family:monospace;white-space: pre;\" title=\"49\"><center>98 </center></td></tr>\n",
       "<tr><td style=\"font-family:monospace;white-space: pre;\" title=\"50\"><center>100</center></td></tr>\n",
       "</table>"
      ],
      "text/plain": [
       "array([  0,   2,   4,   6,   8,  10,  12,  14,  16,  18,  20,  22,  24,\n",
       "        26,  28,  30,  32,  34,  36,  38,  40,  42,  44,  46,  48,  50,\n",
       "        52,  54,  56,  58,  60,  62,  64,  66,  68,  70,  72,  74,  76,\n",
       "        78,  80,  82,  84,  86,  88,  90,  92,  94,  96,  98, 100])"
      ]
     },
     "execution_count": 114,
     "metadata": {},
     "output_type": "execute_result"
    }
   ],
   "source": [
    "# 5- Creating a list of even number between 0 to 100 numbers using \" Numpy\"\n",
    "even = np.arange(0, 101, 2)\n",
    "even"
   ]
  },
  {
   "cell_type": "code",
   "execution_count": 115,
   "metadata": {},
   "outputs": [
    {
     "data": {
      "text/html": [
       "<table style='border-style:solid;border-width:1px;'>\n",
       "<tr><td style=\"font-family:monospace;white-space: pre;\" title=\"0\"><center>0  </center></td></tr>\n",
       "<tr><td style=\"font-family:monospace;white-space: pre;\" title=\"1\"><center>2  </center></td></tr>\n",
       "<tr><td style=\"font-family:monospace;white-space: pre;\" title=\"2\"><center>4  </center></td></tr>\n",
       "<tr><td style=\"font-family:monospace;white-space: pre;\" title=\"3\"><center>6  </center></td></tr>\n",
       "<tr><td style=\"font-family:monospace;white-space: pre;\" title=\"4\"><center>8  </center></td></tr>\n",
       "<tr><td style=\"font-family:monospace;white-space: pre;\" title=\"5\"><center>10 </center></td></tr>\n",
       "<tr><td style=\"font-family:monospace;white-space: pre;\" title=\"6\"><center>12 </center></td></tr>\n",
       "<tr><td style=\"font-family:monospace;white-space: pre;\" title=\"7\"><center>14 </center></td></tr>\n",
       "<tr><td style=\"font-family:monospace;white-space: pre;\" title=\"8\"><center>16 </center></td></tr>\n",
       "<tr><td style=\"font-family:monospace;white-space: pre;\" title=\"9\"><center>18 </center></td></tr>\n",
       "<tr><td style=\"font-family:monospace;white-space: pre;\" title=\"10\"><center>20 </center></td></tr>\n",
       "<tr><td style=\"font-family:monospace;white-space: pre;\" title=\"11\"><center>22 </center></td></tr>\n",
       "<tr><td style=\"font-family:monospace;white-space: pre;\" title=\"12\"><center>24 </center></td></tr>\n",
       "<tr><td style=\"font-family:monospace;white-space: pre;\" title=\"13\"><center>26 </center></td></tr>\n",
       "<tr><td style=\"font-family:monospace;white-space: pre;\" title=\"14\"><center>28 </center></td></tr>\n",
       "<tr><td style=\"font-family:monospace;white-space: pre;\" title=\"15\"><center>30 </center></td></tr>\n",
       "<tr><td style=\"font-family:monospace;white-space: pre;\" title=\"16\"><center>32 </center></td></tr>\n",
       "<tr><td style=\"font-family:monospace;white-space: pre;\" title=\"17\"><center>34 </center></td></tr>\n",
       "<tr><td style=\"font-family:monospace;white-space: pre;\" title=\"18\"><center>36 </center></td></tr>\n",
       "<tr><td style=\"font-family:monospace;white-space: pre;\" title=\"19\"><center>38 </center></td></tr>\n",
       "<tr><td style=\"font-family:monospace;white-space: pre;\" title=\"20\"><center>40 </center></td></tr>\n",
       "<tr><td style=\"font-family:monospace;white-space: pre;\" title=\"21\"><center>42 </center></td></tr>\n",
       "<tr><td style=\"font-family:monospace;white-space: pre;\" title=\"22\"><center>44 </center></td></tr>\n",
       "<tr><td style=\"font-family:monospace;white-space: pre;\" title=\"23\"><center>46 </center></td></tr>\n",
       "<tr><td style=\"font-family:monospace;white-space: pre;\" title=\"24\"><center>48 </center></td></tr>\n",
       "<tr><td style=\"font-family:monospace;white-space: pre;\" title=\"25\"><center>50 </center></td></tr>\n",
       "<tr><td style=\"font-family:monospace;white-space: pre;\" title=\"26\"><center>52 </center></td></tr>\n",
       "<tr><td style=\"font-family:monospace;white-space: pre;\" title=\"27\"><center>54 </center></td></tr>\n",
       "<tr><td style=\"font-family:monospace;white-space: pre;\" title=\"28\"><center>56 </center></td></tr>\n",
       "<tr><td style=\"font-family:monospace;white-space: pre;\" title=\"29\"><center>58 </center></td></tr>\n",
       "<tr><td style=\"font-family:monospace;white-space: pre;\" title=\"30\"><center>60 </center></td></tr>\n",
       "<tr><td style=\"font-family:monospace;white-space: pre;\" title=\"31\"><center>62 </center></td></tr>\n",
       "<tr><td style=\"font-family:monospace;white-space: pre;\" title=\"32\"><center>64 </center></td></tr>\n",
       "<tr><td style=\"font-family:monospace;white-space: pre;\" title=\"33\"><center>66 </center></td></tr>\n",
       "<tr><td style=\"font-family:monospace;white-space: pre;\" title=\"34\"><center>68 </center></td></tr>\n",
       "<tr><td style=\"font-family:monospace;white-space: pre;\" title=\"35\"><center>70 </center></td></tr>\n",
       "<tr><td style=\"font-family:monospace;white-space: pre;\" title=\"36\"><center>72 </center></td></tr>\n",
       "<tr><td style=\"font-family:monospace;white-space: pre;\" title=\"37\"><center>74 </center></td></tr>\n",
       "<tr><td style=\"font-family:monospace;white-space: pre;\" title=\"38\"><center>76 </center></td></tr>\n",
       "<tr><td style=\"font-family:monospace;white-space: pre;\" title=\"39\"><center>78 </center></td></tr>\n",
       "<tr><td style=\"font-family:monospace;white-space: pre;\" title=\"40\"><center>80 </center></td></tr>\n",
       "<tr><td style=\"font-family:monospace;white-space: pre;\" title=\"41\"><center>82 </center></td></tr>\n",
       "<tr><td style=\"font-family:monospace;white-space: pre;\" title=\"42\"><center>84 </center></td></tr>\n",
       "<tr><td style=\"font-family:monospace;white-space: pre;\" title=\"43\"><center>86 </center></td></tr>\n",
       "<tr><td style=\"font-family:monospace;white-space: pre;\" title=\"44\"><center>88 </center></td></tr>\n",
       "<tr><td style=\"font-family:monospace;white-space: pre;\" title=\"45\"><center>90 </center></td></tr>\n",
       "<tr><td style=\"font-family:monospace;white-space: pre;\" title=\"46\"><center>92 </center></td></tr>\n",
       "<tr><td style=\"font-family:monospace;white-space: pre;\" title=\"47\"><center>94 </center></td></tr>\n",
       "<tr><td style=\"font-family:monospace;white-space: pre;\" title=\"48\"><center>96 </center></td></tr>\n",
       "<tr><td style=\"font-family:monospace;white-space: pre;\" title=\"49\"><center>98 </center></td></tr>\n",
       "<tr><td style=\"font-family:monospace;white-space: pre;\" title=\"50\"><center>100</center></td></tr>\n",
       "</table>"
      ],
      "text/plain": [
       "array([  0,   2,   4,   6,   8,  10,  12,  14,  16,  18,  20,  22,  24,\n",
       "        26,  28,  30,  32,  34,  36,  38,  40,  42,  44,  46,  48,  50,\n",
       "        52,  54,  56,  58,  60,  62,  64,  66,  68,  70,  72,  74,  76,\n",
       "        78,  80,  82,  84,  86,  88,  90,  92,  94,  96,  98, 100])"
      ]
     },
     "execution_count": 115,
     "metadata": {},
     "output_type": "execute_result"
    }
   ],
   "source": [
    "# 5- Creating a list of even number between 0 to 100 numbers using \" Numpy\"\n",
    "even = np.arange(0, 101, 2)\n",
    "even"
   ]
  },
  {
   "cell_type": "code",
   "execution_count": 116,
   "metadata": {},
   "outputs": [
    {
     "data": {
      "text/html": [
       "<table style='border-style:solid;border-width:1px;'>\n",
       "<tr><td style=\"font-family:monospace;white-space: pre;\" title=\"0\"><center>1952</center></td></tr>\n",
       "<tr><td style=\"font-family:monospace;white-space: pre;\" title=\"1\"><center>1956</center></td></tr>\n",
       "<tr><td style=\"font-family:monospace;white-space: pre;\" title=\"2\"><center>1960</center></td></tr>\n",
       "<tr><td style=\"font-family:monospace;white-space: pre;\" title=\"3\"><center>1964</center></td></tr>\n",
       "<tr><td style=\"font-family:monospace;white-space: pre;\" title=\"4\"><center>1968</center></td></tr>\n",
       "<tr><td style=\"font-family:monospace;white-space: pre;\" title=\"5\"><center>1972</center></td></tr>\n",
       "<tr><td style=\"font-family:monospace;white-space: pre;\" title=\"6\"><center>1976</center></td></tr>\n",
       "<tr><td style=\"font-family:monospace;white-space: pre;\" title=\"7\"><center>1980</center></td></tr>\n",
       "<tr><td style=\"font-family:monospace;white-space: pre;\" title=\"8\"><center>1984</center></td></tr>\n",
       "<tr><td style=\"font-family:monospace;white-space: pre;\" title=\"9\"><center>1988</center></td></tr>\n",
       "<tr><td style=\"font-family:monospace;white-space: pre;\" title=\"10\"><center>1992</center></td></tr>\n",
       "<tr><td style=\"font-family:monospace;white-space: pre;\" title=\"11\"><center>1996</center></td></tr>\n",
       "<tr><td style=\"font-family:monospace;white-space: pre;\" title=\"12\"><center>2000</center></td></tr>\n",
       "<tr><td style=\"font-family:monospace;white-space: pre;\" title=\"13\"><center>2004</center></td></tr>\n",
       "<tr><td style=\"font-family:monospace;white-space: pre;\" title=\"14\"><center>2008</center></td></tr>\n",
       "<tr><td style=\"font-family:monospace;white-space: pre;\" title=\"15\"><center>2012</center></td></tr>\n",
       "<tr><td style=\"font-family:monospace;white-space: pre;\" title=\"16\"><center>2016</center></td></tr>\n",
       "<tr><td style=\"font-family:monospace;white-space: pre;\" title=\"17\"><center>2020</center></td></tr>\n",
       "</table>"
      ],
      "text/plain": [
       "array([1952, 1956, 1960, 1964, 1968, 1972, 1976, 1980, 1984, 1988, 1992,\n",
       "       1996, 2000, 2004, 2008, 2012, 2016, 2020])"
      ]
     },
     "execution_count": 116,
     "metadata": {},
     "output_type": "execute_result"
    }
   ],
   "source": [
    "# 6- Creating list of years that are dividable by 4 between 1950 and 2020 using \" Numpy\"\n",
    "numbers = np.arange(1950, 2021)\n",
    "years = numbers[numbers % 4 == 0]\n",
    "years\n"
   ]
  },
  {
   "attachments": {},
   "cell_type": "markdown",
   "metadata": {},
   "source": [
    "<h4><b style=\"color: red\">Note: compare the NumPy code to the plain Python code after doing the exercises. Easier or more difficult? :) \n",
    "(answer in code comments or as text in Jupyter Notebook)</b></h4>"
   ]
  },
  {
   "cell_type": "markdown",
   "metadata": {},
   "source": [
    "<b> Based on my experience, working with NumPy is quite easy and saves time. But, plain python code is good for a deeper understanding of Python logic and concept. <b>"
   ]
  },
  {
   "attachments": {},
   "cell_type": "markdown",
   "metadata": {},
   "source": [
    "<h3><b>3. Let's try out NumPy vectors and matrices:</b></h3>\n",
    "\n",
    "- Create a NumPy vector (list) containing these values:<br>\n",
    "<b><i>5, 16, 9, 2, 19, 18, 11, 7</i></b><br>\n",
    "    - Use argmax() to find the position index of the largest value in the vector, and print it\n",
    "<br><br>\n",
    "- Create a 7x7 matrix, with values from 1 to 49\n",
    "\n",
    "    - Extra task: Create this matrix (list of lists) without NumPy in Python!\n",
    "\n",
    "<br>\n",
    "\n",
    "- Generate 8x8 random number matrix, values between 0 and 5\n",
    "\n",
    "- Generate 8x8 random number matrix, using standard normal distribution values (= values are between -3 and 3)\n"
   ]
  },
  {
   "cell_type": "code",
   "execution_count": 117,
   "metadata": {},
   "outputs": [
    {
     "data": {
      "text/plain": [
       "np.int64(4)"
      ]
     },
     "execution_count": 117,
     "metadata": {},
     "output_type": "execute_result"
    }
   ],
   "source": [
    "# Creating  a NumPy vector (list) containing these values: 5, 16, 9, 2, 19, 18, 11, 7\n",
    "# Use argmax() to find the position index of the largest value in the vector, and print it\n",
    "\n",
    "vector = np.array([5, 16, 9, 2, 19, 18, 11, 7])\n",
    "\n",
    "position = np.argmax(vector)\n",
    "position\n",
    "\n",
    "# The position index of the 19 in the vector is 4. "
   ]
  },
  {
   "cell_type": "code",
   "execution_count": 118,
   "metadata": {},
   "outputs": [
    {
     "data": {
      "text/html": [
       "<table style='border-style:solid;border-width:1px;'>\n",
       "<tr>\n",
       "<td style=\"font-family:monospace;white-space: pre;\" title=\"(0, 0)\"><center>1 </center></td>\n",
       "<td style=\"font-family:monospace;white-space: pre;\" title=\"(0, 1)\"><center>2 </center></td>\n",
       "<td style=\"font-family:monospace;white-space: pre;\" title=\"(0, 2)\"><center>3 </center></td>\n",
       "<td style=\"font-family:monospace;white-space: pre;\" title=\"(0, 3)\"><center>4 </center></td>\n",
       "<td style=\"font-family:monospace;white-space: pre;\" title=\"(0, 4)\"><center>5 </center></td>\n",
       "<td style=\"font-family:monospace;white-space: pre;\" title=\"(0, 5)\"><center>6 </center></td>\n",
       "<td style=\"font-family:monospace;white-space: pre;\" title=\"(0, 6)\"><center>7 </center></td>\n",
       "</tr>\n",
       "<tr>\n",
       "<td style=\"font-family:monospace;white-space: pre;\" title=\"(1, 0)\"><center>8 </center></td>\n",
       "<td style=\"font-family:monospace;white-space: pre;\" title=\"(1, 1)\"><center>9 </center></td>\n",
       "<td style=\"font-family:monospace;white-space: pre;\" title=\"(1, 2)\"><center>10</center></td>\n",
       "<td style=\"font-family:monospace;white-space: pre;\" title=\"(1, 3)\"><center>11</center></td>\n",
       "<td style=\"font-family:monospace;white-space: pre;\" title=\"(1, 4)\"><center>12</center></td>\n",
       "<td style=\"font-family:monospace;white-space: pre;\" title=\"(1, 5)\"><center>13</center></td>\n",
       "<td style=\"font-family:monospace;white-space: pre;\" title=\"(1, 6)\"><center>14</center></td>\n",
       "</tr>\n",
       "<tr>\n",
       "<td style=\"font-family:monospace;white-space: pre;\" title=\"(2, 0)\"><center>15</center></td>\n",
       "<td style=\"font-family:monospace;white-space: pre;\" title=\"(2, 1)\"><center>16</center></td>\n",
       "<td style=\"font-family:monospace;white-space: pre;\" title=\"(2, 2)\"><center>17</center></td>\n",
       "<td style=\"font-family:monospace;white-space: pre;\" title=\"(2, 3)\"><center>18</center></td>\n",
       "<td style=\"font-family:monospace;white-space: pre;\" title=\"(2, 4)\"><center>19</center></td>\n",
       "<td style=\"font-family:monospace;white-space: pre;\" title=\"(2, 5)\"><center>20</center></td>\n",
       "<td style=\"font-family:monospace;white-space: pre;\" title=\"(2, 6)\"><center>21</center></td>\n",
       "</tr>\n",
       "<tr>\n",
       "<td style=\"font-family:monospace;white-space: pre;\" title=\"(3, 0)\"><center>22</center></td>\n",
       "<td style=\"font-family:monospace;white-space: pre;\" title=\"(3, 1)\"><center>23</center></td>\n",
       "<td style=\"font-family:monospace;white-space: pre;\" title=\"(3, 2)\"><center>24</center></td>\n",
       "<td style=\"font-family:monospace;white-space: pre;\" title=\"(3, 3)\"><center>25</center></td>\n",
       "<td style=\"font-family:monospace;white-space: pre;\" title=\"(3, 4)\"><center>26</center></td>\n",
       "<td style=\"font-family:monospace;white-space: pre;\" title=\"(3, 5)\"><center>27</center></td>\n",
       "<td style=\"font-family:monospace;white-space: pre;\" title=\"(3, 6)\"><center>28</center></td>\n",
       "</tr>\n",
       "<tr>\n",
       "<td style=\"font-family:monospace;white-space: pre;\" title=\"(4, 0)\"><center>29</center></td>\n",
       "<td style=\"font-family:monospace;white-space: pre;\" title=\"(4, 1)\"><center>30</center></td>\n",
       "<td style=\"font-family:monospace;white-space: pre;\" title=\"(4, 2)\"><center>31</center></td>\n",
       "<td style=\"font-family:monospace;white-space: pre;\" title=\"(4, 3)\"><center>32</center></td>\n",
       "<td style=\"font-family:monospace;white-space: pre;\" title=\"(4, 4)\"><center>33</center></td>\n",
       "<td style=\"font-family:monospace;white-space: pre;\" title=\"(4, 5)\"><center>34</center></td>\n",
       "<td style=\"font-family:monospace;white-space: pre;\" title=\"(4, 6)\"><center>35</center></td>\n",
       "</tr>\n",
       "<tr>\n",
       "<td style=\"font-family:monospace;white-space: pre;\" title=\"(5, 0)\"><center>36</center></td>\n",
       "<td style=\"font-family:monospace;white-space: pre;\" title=\"(5, 1)\"><center>37</center></td>\n",
       "<td style=\"font-family:monospace;white-space: pre;\" title=\"(5, 2)\"><center>38</center></td>\n",
       "<td style=\"font-family:monospace;white-space: pre;\" title=\"(5, 3)\"><center>39</center></td>\n",
       "<td style=\"font-family:monospace;white-space: pre;\" title=\"(5, 4)\"><center>40</center></td>\n",
       "<td style=\"font-family:monospace;white-space: pre;\" title=\"(5, 5)\"><center>41</center></td>\n",
       "<td style=\"font-family:monospace;white-space: pre;\" title=\"(5, 6)\"><center>42</center></td>\n",
       "</tr>\n",
       "<tr>\n",
       "<td style=\"font-family:monospace;white-space: pre;\" title=\"(6, 0)\"><center>43</center></td>\n",
       "<td style=\"font-family:monospace;white-space: pre;\" title=\"(6, 1)\"><center>44</center></td>\n",
       "<td style=\"font-family:monospace;white-space: pre;\" title=\"(6, 2)\"><center>45</center></td>\n",
       "<td style=\"font-family:monospace;white-space: pre;\" title=\"(6, 3)\"><center>46</center></td>\n",
       "<td style=\"font-family:monospace;white-space: pre;\" title=\"(6, 4)\"><center>47</center></td>\n",
       "<td style=\"font-family:monospace;white-space: pre;\" title=\"(6, 5)\"><center>48</center></td>\n",
       "<td style=\"font-family:monospace;white-space: pre;\" title=\"(6, 6)\"><center>49</center></td>\n",
       "</tr>\n",
       "</table>"
      ],
      "text/plain": [
       "array([[ 1,  2,  3,  4,  5,  6,  7],\n",
       "       [ 8,  9, 10, 11, 12, 13, 14],\n",
       "       [15, 16, 17, 18, 19, 20, 21],\n",
       "       [22, 23, 24, 25, 26, 27, 28],\n",
       "       [29, 30, 31, 32, 33, 34, 35],\n",
       "       [36, 37, 38, 39, 40, 41, 42],\n",
       "       [43, 44, 45, 46, 47, 48, 49]])"
      ]
     },
     "execution_count": 118,
     "metadata": {},
     "output_type": "execute_result"
    }
   ],
   "source": [
    "# Creating  a 7x7 matrix, with values from 1 to 49\n",
    "matrix7_7 = np.arange(1, 50).reshape(7, 7)\n",
    "matrix7_7"
   ]
  },
  {
   "cell_type": "code",
   "execution_count": 119,
   "metadata": {},
   "outputs": [
    {
     "data": {
      "text/plain": [
       "[[1, 2, 3, 4, 5, 6, 7],\n",
       " [8, 9, 10, 11, 12, 13, 14],\n",
       " [15, 16, 17, 18, 19, 20, 21],\n",
       " [22, 23, 24, 25, 26, 27, 28],\n",
       " [29, 30, 31, 32, 33, 34, 35],\n",
       " [36, 37, 38, 39, 40, 41, 42],\n",
       " [43, 44, 45, 46, 47, 48, 49]]"
      ]
     },
     "execution_count": 119,
     "metadata": {},
     "output_type": "execute_result"
    }
   ],
   "source": [
    "# Extra tasks:\n",
    "# Creating 7x7 matrix, with values from 1 to 49 without using \"Numpy\"\n",
    "\n",
    "# I got the general idea from there: https://stackoverflow.com/questions/60019226/creating-a-matrix-in-python-with-a-range-of-numbers\n",
    "\n",
    "Extra_task = [[i + j for i in range(7)] for j in range(1, 49, 7)]\n",
    "Extra_task"
   ]
  },
  {
   "cell_type": "code",
   "execution_count": 120,
   "metadata": {},
   "outputs": [
    {
     "data": {
      "text/html": [
       "<table style='border-style:solid;border-width:1px;'>\n",
       "<tr>\n",
       "<td style=\"font-family:monospace;white-space: pre;\" title=\"(0, 0)\"><center>3</center></td>\n",
       "<td style=\"font-family:monospace;white-space: pre;\" title=\"(0, 1)\"><center>5</center></td>\n",
       "<td style=\"font-family:monospace;white-space: pre;\" title=\"(0, 2)\"><center>5</center></td>\n",
       "<td style=\"font-family:monospace;white-space: pre;\" title=\"(0, 3)\"><center>4</center></td>\n",
       "<td style=\"font-family:monospace;white-space: pre;\" title=\"(0, 4)\"><center>5</center></td>\n",
       "<td style=\"font-family:monospace;white-space: pre;\" title=\"(0, 5)\"><center>2</center></td>\n",
       "<td style=\"font-family:monospace;white-space: pre;\" title=\"(0, 6)\"><center>3</center></td>\n",
       "<td style=\"font-family:monospace;white-space: pre;\" title=\"(0, 7)\"><center>2</center></td>\n",
       "</tr>\n",
       "<tr>\n",
       "<td style=\"font-family:monospace;white-space: pre;\" title=\"(1, 0)\"><center>4</center></td>\n",
       "<td style=\"font-family:monospace;white-space: pre;\" title=\"(1, 1)\"><center>4</center></td>\n",
       "<td style=\"font-family:monospace;white-space: pre;\" title=\"(1, 2)\"><center>3</center></td>\n",
       "<td style=\"font-family:monospace;white-space: pre;\" title=\"(1, 3)\"><center>5</center></td>\n",
       "<td style=\"font-family:monospace;white-space: pre;\" title=\"(1, 4)\"><center>1</center></td>\n",
       "<td style=\"font-family:monospace;white-space: pre;\" title=\"(1, 5)\"><center>1</center></td>\n",
       "<td style=\"font-family:monospace;white-space: pre;\" title=\"(1, 6)\"><center>4</center></td>\n",
       "<td style=\"font-family:monospace;white-space: pre;\" title=\"(1, 7)\"><center>4</center></td>\n",
       "</tr>\n",
       "<tr>\n",
       "<td style=\"font-family:monospace;white-space: pre;\" title=\"(2, 0)\"><center>4</center></td>\n",
       "<td style=\"font-family:monospace;white-space: pre;\" title=\"(2, 1)\"><center>4</center></td>\n",
       "<td style=\"font-family:monospace;white-space: pre;\" title=\"(2, 2)\"><center>3</center></td>\n",
       "<td style=\"font-family:monospace;white-space: pre;\" title=\"(2, 3)\"><center>4</center></td>\n",
       "<td style=\"font-family:monospace;white-space: pre;\" title=\"(2, 4)\"><center>3</center></td>\n",
       "<td style=\"font-family:monospace;white-space: pre;\" title=\"(2, 5)\"><center>3</center></td>\n",
       "<td style=\"font-family:monospace;white-space: pre;\" title=\"(2, 6)\"><center>0</center></td>\n",
       "<td style=\"font-family:monospace;white-space: pre;\" title=\"(2, 7)\"><center>0</center></td>\n",
       "</tr>\n",
       "<tr>\n",
       "<td style=\"font-family:monospace;white-space: pre;\" title=\"(3, 0)\"><center>1</center></td>\n",
       "<td style=\"font-family:monospace;white-space: pre;\" title=\"(3, 1)\"><center>1</center></td>\n",
       "<td style=\"font-family:monospace;white-space: pre;\" title=\"(3, 2)\"><center>2</center></td>\n",
       "<td style=\"font-family:monospace;white-space: pre;\" title=\"(3, 3)\"><center>4</center></td>\n",
       "<td style=\"font-family:monospace;white-space: pre;\" title=\"(3, 4)\"><center>5</center></td>\n",
       "<td style=\"font-family:monospace;white-space: pre;\" title=\"(3, 5)\"><center>3</center></td>\n",
       "<td style=\"font-family:monospace;white-space: pre;\" title=\"(3, 6)\"><center>5</center></td>\n",
       "<td style=\"font-family:monospace;white-space: pre;\" title=\"(3, 7)\"><center>1</center></td>\n",
       "</tr>\n",
       "<tr>\n",
       "<td style=\"font-family:monospace;white-space: pre;\" title=\"(4, 0)\"><center>5</center></td>\n",
       "<td style=\"font-family:monospace;white-space: pre;\" title=\"(4, 1)\"><center>3</center></td>\n",
       "<td style=\"font-family:monospace;white-space: pre;\" title=\"(4, 2)\"><center>3</center></td>\n",
       "<td style=\"font-family:monospace;white-space: pre;\" title=\"(4, 3)\"><center>2</center></td>\n",
       "<td style=\"font-family:monospace;white-space: pre;\" title=\"(4, 4)\"><center>0</center></td>\n",
       "<td style=\"font-family:monospace;white-space: pre;\" title=\"(4, 5)\"><center>3</center></td>\n",
       "<td style=\"font-family:monospace;white-space: pre;\" title=\"(4, 6)\"><center>5</center></td>\n",
       "<td style=\"font-family:monospace;white-space: pre;\" title=\"(4, 7)\"><center>0</center></td>\n",
       "</tr>\n",
       "<tr>\n",
       "<td style=\"font-family:monospace;white-space: pre;\" title=\"(5, 0)\"><center>2</center></td>\n",
       "<td style=\"font-family:monospace;white-space: pre;\" title=\"(5, 1)\"><center>1</center></td>\n",
       "<td style=\"font-family:monospace;white-space: pre;\" title=\"(5, 2)\"><center>4</center></td>\n",
       "<td style=\"font-family:monospace;white-space: pre;\" title=\"(5, 3)\"><center>5</center></td>\n",
       "<td style=\"font-family:monospace;white-space: pre;\" title=\"(5, 4)\"><center>4</center></td>\n",
       "<td style=\"font-family:monospace;white-space: pre;\" title=\"(5, 5)\"><center>4</center></td>\n",
       "<td style=\"font-family:monospace;white-space: pre;\" title=\"(5, 6)\"><center>2</center></td>\n",
       "<td style=\"font-family:monospace;white-space: pre;\" title=\"(5, 7)\"><center>3</center></td>\n",
       "</tr>\n",
       "<tr>\n",
       "<td style=\"font-family:monospace;white-space: pre;\" title=\"(6, 0)\"><center>1</center></td>\n",
       "<td style=\"font-family:monospace;white-space: pre;\" title=\"(6, 1)\"><center>3</center></td>\n",
       "<td style=\"font-family:monospace;white-space: pre;\" title=\"(6, 2)\"><center>5</center></td>\n",
       "<td style=\"font-family:monospace;white-space: pre;\" title=\"(6, 3)\"><center>3</center></td>\n",
       "<td style=\"font-family:monospace;white-space: pre;\" title=\"(6, 4)\"><center>1</center></td>\n",
       "<td style=\"font-family:monospace;white-space: pre;\" title=\"(6, 5)\"><center>0</center></td>\n",
       "<td style=\"font-family:monospace;white-space: pre;\" title=\"(6, 6)\"><center>5</center></td>\n",
       "<td style=\"font-family:monospace;white-space: pre;\" title=\"(6, 7)\"><center>4</center></td>\n",
       "</tr>\n",
       "<tr>\n",
       "<td style=\"font-family:monospace;white-space: pre;\" title=\"(7, 0)\"><center>4</center></td>\n",
       "<td style=\"font-family:monospace;white-space: pre;\" title=\"(7, 1)\"><center>0</center></td>\n",
       "<td style=\"font-family:monospace;white-space: pre;\" title=\"(7, 2)\"><center>3</center></td>\n",
       "<td style=\"font-family:monospace;white-space: pre;\" title=\"(7, 3)\"><center>1</center></td>\n",
       "<td style=\"font-family:monospace;white-space: pre;\" title=\"(7, 4)\"><center>4</center></td>\n",
       "<td style=\"font-family:monospace;white-space: pre;\" title=\"(7, 5)\"><center>2</center></td>\n",
       "<td style=\"font-family:monospace;white-space: pre;\" title=\"(7, 6)\"><center>1</center></td>\n",
       "<td style=\"font-family:monospace;white-space: pre;\" title=\"(7, 7)\"><center>0</center></td>\n",
       "</tr>\n",
       "</table>"
      ],
      "text/plain": [
       "array([[3, 5, 5, 4, 5, 2, 3, 2],\n",
       "       [4, 4, 3, 5, 1, 1, 4, 4],\n",
       "       [4, 4, 3, 4, 3, 3, 0, 0],\n",
       "       [1, 1, 2, 4, 5, 3, 5, 1],\n",
       "       [5, 3, 3, 2, 0, 3, 5, 0],\n",
       "       [2, 1, 4, 5, 4, 4, 2, 3],\n",
       "       [1, 3, 5, 3, 1, 0, 5, 4],\n",
       "       [4, 0, 3, 1, 4, 2, 1, 0]], dtype=int32)"
      ]
     },
     "execution_count": 120,
     "metadata": {},
     "output_type": "execute_result"
    }
   ],
   "source": [
    "# Generating 8x8 random number matrix, values between 0 and 5\n",
    "matrix8_8 = np.random.randint(0, 6, size=(8, 8))\n",
    "matrix8_8"
   ]
  },
  {
   "cell_type": "code",
   "execution_count": 121,
   "metadata": {},
   "outputs": [
    {
     "data": {
      "text/html": [
       "<table style='border-style:solid;border-width:1px;'>\n",
       "<tr>\n",
       "<td style=\"font-family:monospace;white-space: pre;\" title=\"(0, 0)\"><center>-2</center></td>\n",
       "<td style=\"font-family:monospace;white-space: pre;\" title=\"(0, 1)\"><center>3 </center></td>\n",
       "<td style=\"font-family:monospace;white-space: pre;\" title=\"(0, 2)\"><center>0 </center></td>\n",
       "<td style=\"font-family:monospace;white-space: pre;\" title=\"(0, 3)\"><center>1 </center></td>\n",
       "<td style=\"font-family:monospace;white-space: pre;\" title=\"(0, 4)\"><center>2 </center></td>\n",
       "<td style=\"font-family:monospace;white-space: pre;\" title=\"(0, 5)\"><center>-3</center></td>\n",
       "<td style=\"font-family:monospace;white-space: pre;\" title=\"(0, 6)\"><center>-2</center></td>\n",
       "<td style=\"font-family:monospace;white-space: pre;\" title=\"(0, 7)\"><center>0 </center></td>\n",
       "</tr>\n",
       "<tr>\n",
       "<td style=\"font-family:monospace;white-space: pre;\" title=\"(1, 0)\"><center>-2</center></td>\n",
       "<td style=\"font-family:monospace;white-space: pre;\" title=\"(1, 1)\"><center>1 </center></td>\n",
       "<td style=\"font-family:monospace;white-space: pre;\" title=\"(1, 2)\"><center>-1</center></td>\n",
       "<td style=\"font-family:monospace;white-space: pre;\" title=\"(1, 3)\"><center>-1</center></td>\n",
       "<td style=\"font-family:monospace;white-space: pre;\" title=\"(1, 4)\"><center>0 </center></td>\n",
       "<td style=\"font-family:monospace;white-space: pre;\" title=\"(1, 5)\"><center>1 </center></td>\n",
       "<td style=\"font-family:monospace;white-space: pre;\" title=\"(1, 6)\"><center>-2</center></td>\n",
       "<td style=\"font-family:monospace;white-space: pre;\" title=\"(1, 7)\"><center>-3</center></td>\n",
       "</tr>\n",
       "<tr>\n",
       "<td style=\"font-family:monospace;white-space: pre;\" title=\"(2, 0)\"><center>2 </center></td>\n",
       "<td style=\"font-family:monospace;white-space: pre;\" title=\"(2, 1)\"><center>-1</center></td>\n",
       "<td style=\"font-family:monospace;white-space: pre;\" title=\"(2, 2)\"><center>3 </center></td>\n",
       "<td style=\"font-family:monospace;white-space: pre;\" title=\"(2, 3)\"><center>1 </center></td>\n",
       "<td style=\"font-family:monospace;white-space: pre;\" title=\"(2, 4)\"><center>0 </center></td>\n",
       "<td style=\"font-family:monospace;white-space: pre;\" title=\"(2, 5)\"><center>2 </center></td>\n",
       "<td style=\"font-family:monospace;white-space: pre;\" title=\"(2, 6)\"><center>-2</center></td>\n",
       "<td style=\"font-family:monospace;white-space: pre;\" title=\"(2, 7)\"><center>-2</center></td>\n",
       "</tr>\n",
       "<tr>\n",
       "<td style=\"font-family:monospace;white-space: pre;\" title=\"(3, 0)\"><center>-1</center></td>\n",
       "<td style=\"font-family:monospace;white-space: pre;\" title=\"(3, 1)\"><center>3 </center></td>\n",
       "<td style=\"font-family:monospace;white-space: pre;\" title=\"(3, 2)\"><center>1 </center></td>\n",
       "<td style=\"font-family:monospace;white-space: pre;\" title=\"(3, 3)\"><center>-2</center></td>\n",
       "<td style=\"font-family:monospace;white-space: pre;\" title=\"(3, 4)\"><center>1 </center></td>\n",
       "<td style=\"font-family:monospace;white-space: pre;\" title=\"(3, 5)\"><center>-2</center></td>\n",
       "<td style=\"font-family:monospace;white-space: pre;\" title=\"(3, 6)\"><center>0 </center></td>\n",
       "<td style=\"font-family:monospace;white-space: pre;\" title=\"(3, 7)\"><center>0 </center></td>\n",
       "</tr>\n",
       "<tr>\n",
       "<td style=\"font-family:monospace;white-space: pre;\" title=\"(4, 0)\"><center>0 </center></td>\n",
       "<td style=\"font-family:monospace;white-space: pre;\" title=\"(4, 1)\"><center>2 </center></td>\n",
       "<td style=\"font-family:monospace;white-space: pre;\" title=\"(4, 2)\"><center>-3</center></td>\n",
       "<td style=\"font-family:monospace;white-space: pre;\" title=\"(4, 3)\"><center>-1</center></td>\n",
       "<td style=\"font-family:monospace;white-space: pre;\" title=\"(4, 4)\"><center>-1</center></td>\n",
       "<td style=\"font-family:monospace;white-space: pre;\" title=\"(4, 5)\"><center>-1</center></td>\n",
       "<td style=\"font-family:monospace;white-space: pre;\" title=\"(4, 6)\"><center>0 </center></td>\n",
       "<td style=\"font-family:monospace;white-space: pre;\" title=\"(4, 7)\"><center>1 </center></td>\n",
       "</tr>\n",
       "<tr>\n",
       "<td style=\"font-family:monospace;white-space: pre;\" title=\"(5, 0)\"><center>-2</center></td>\n",
       "<td style=\"font-family:monospace;white-space: pre;\" title=\"(5, 1)\"><center>-1</center></td>\n",
       "<td style=\"font-family:monospace;white-space: pre;\" title=\"(5, 2)\"><center>2 </center></td>\n",
       "<td style=\"font-family:monospace;white-space: pre;\" title=\"(5, 3)\"><center>-1</center></td>\n",
       "<td style=\"font-family:monospace;white-space: pre;\" title=\"(5, 4)\"><center>-2</center></td>\n",
       "<td style=\"font-family:monospace;white-space: pre;\" title=\"(5, 5)\"><center>1 </center></td>\n",
       "<td style=\"font-family:monospace;white-space: pre;\" title=\"(5, 6)\"><center>1 </center></td>\n",
       "<td style=\"font-family:monospace;white-space: pre;\" title=\"(5, 7)\"><center>-1</center></td>\n",
       "</tr>\n",
       "<tr>\n",
       "<td style=\"font-family:monospace;white-space: pre;\" title=\"(6, 0)\"><center>-3</center></td>\n",
       "<td style=\"font-family:monospace;white-space: pre;\" title=\"(6, 1)\"><center>-2</center></td>\n",
       "<td style=\"font-family:monospace;white-space: pre;\" title=\"(6, 2)\"><center>-3</center></td>\n",
       "<td style=\"font-family:monospace;white-space: pre;\" title=\"(6, 3)\"><center>-2</center></td>\n",
       "<td style=\"font-family:monospace;white-space: pre;\" title=\"(6, 4)\"><center>-1</center></td>\n",
       "<td style=\"font-family:monospace;white-space: pre;\" title=\"(6, 5)\"><center>0 </center></td>\n",
       "<td style=\"font-family:monospace;white-space: pre;\" title=\"(6, 6)\"><center>3 </center></td>\n",
       "<td style=\"font-family:monospace;white-space: pre;\" title=\"(6, 7)\"><center>0 </center></td>\n",
       "</tr>\n",
       "<tr>\n",
       "<td style=\"font-family:monospace;white-space: pre;\" title=\"(7, 0)\"><center>-1</center></td>\n",
       "<td style=\"font-family:monospace;white-space: pre;\" title=\"(7, 1)\"><center>-3</center></td>\n",
       "<td style=\"font-family:monospace;white-space: pre;\" title=\"(7, 2)\"><center>0 </center></td>\n",
       "<td style=\"font-family:monospace;white-space: pre;\" title=\"(7, 3)\"><center>1 </center></td>\n",
       "<td style=\"font-family:monospace;white-space: pre;\" title=\"(7, 4)\"><center>2 </center></td>\n",
       "<td style=\"font-family:monospace;white-space: pre;\" title=\"(7, 5)\"><center>3 </center></td>\n",
       "<td style=\"font-family:monospace;white-space: pre;\" title=\"(7, 6)\"><center>-2</center></td>\n",
       "<td style=\"font-family:monospace;white-space: pre;\" title=\"(7, 7)\"><center>-2</center></td>\n",
       "</tr>\n",
       "</table>"
      ],
      "text/plain": [
       "array([[-2,  3,  0,  1,  2, -3, -2,  0],\n",
       "       [-2,  1, -1, -1,  0,  1, -2, -3],\n",
       "       [ 2, -1,  3,  1,  0,  2, -2, -2],\n",
       "       [-1,  3,  1, -2,  1, -2,  0,  0],\n",
       "       [ 0,  2, -3, -1, -1, -1,  0,  1],\n",
       "       [-2, -1,  2, -1, -2,  1,  1, -1],\n",
       "       [-3, -2, -3, -2, -1,  0,  3,  0],\n",
       "       [-1, -3,  0,  1,  2,  3, -2, -2]], dtype=int32)"
      ]
     },
     "execution_count": 121,
     "metadata": {},
     "output_type": "execute_result"
    }
   ],
   "source": [
    "# Creating  8x8 random number matrix, using standard normal distribution values (= values are between -3 and 3)\n",
    "normal_matrix = np.random.randint(-3, 4, (8, 8))   \n",
    "normal_matrix"
   ]
  },
  {
   "attachments": {},
   "cell_type": "markdown",
   "metadata": {},
   "source": [
    "<h3><b>4. Create a linearly spaced… </b></h3>\n",
    "\n",
    "- array (list/vector) of 10 values between value 0 and 1\n",
    "\n",
    "- 10x10 matrix between values 0 and 5\n",
    "\n",
    "    - Extra task: create this matrix without NumPy as well!\n",
    "\n",
    "\n",
    "<img src=\"http://srv.plab.fi/~tuomasv/data_analytics_2023_images/exercise_set_1/cubes.png\"/>\n"
   ]
  },
  {
   "cell_type": "code",
   "execution_count": 122,
   "metadata": {},
   "outputs": [],
   "source": [
    "# exercise 1.4, linspace\n",
    "# use different variable names for each subtask\n",
    "# you can also make new code cells if you need\n"
   ]
  },
  {
   "cell_type": "code",
   "execution_count": 123,
   "metadata": {},
   "outputs": [
    {
     "data": {
      "text/html": [
       "<table style='border-style:solid;border-width:1px;'>\n",
       "<tr><td style=\"font-family:monospace;white-space: pre;\" title=\"0\"><center>0.        </center></td></tr>\n",
       "<tr><td style=\"font-family:monospace;white-space: pre;\" title=\"1\"><center>0.11111111</center></td></tr>\n",
       "<tr><td style=\"font-family:monospace;white-space: pre;\" title=\"2\"><center>0.22222222</center></td></tr>\n",
       "<tr><td style=\"font-family:monospace;white-space: pre;\" title=\"3\"><center>0.33333333</center></td></tr>\n",
       "<tr><td style=\"font-family:monospace;white-space: pre;\" title=\"4\"><center>0.44444444</center></td></tr>\n",
       "<tr><td style=\"font-family:monospace;white-space: pre;\" title=\"5\"><center>0.55555556</center></td></tr>\n",
       "<tr><td style=\"font-family:monospace;white-space: pre;\" title=\"6\"><center>0.66666667</center></td></tr>\n",
       "<tr><td style=\"font-family:monospace;white-space: pre;\" title=\"7\"><center>0.77777778</center></td></tr>\n",
       "<tr><td style=\"font-family:monospace;white-space: pre;\" title=\"8\"><center>0.88888889</center></td></tr>\n",
       "<tr><td style=\"font-family:monospace;white-space: pre;\" title=\"9\"><center>1.        </center></td></tr>\n",
       "</table>"
      ],
      "text/plain": [
       "array([0.        , 0.11111111, 0.22222222, 0.33333333, 0.44444444,\n",
       "       0.55555556, 0.66666667, 0.77777778, 0.88888889, 1.        ])"
      ]
     },
     "execution_count": 123,
     "metadata": {},
     "output_type": "execute_result"
    }
   ],
   "source": [
    "#  array (list/vector) of 10 values between value 0 and 1 \n",
    "array = np.linspace(0, 1, 10)\n",
    "array"
   ]
  },
  {
   "cell_type": "code",
   "execution_count": 124,
   "metadata": {},
   "outputs": [
    {
     "data": {
      "text/html": [
       "<table style='border-style:solid;border-width:1px;'>\n",
       "<tr>\n",
       "<td style=\"font-family:monospace;white-space: pre;\" title=\"(0, 0)\"><center>0.        </center></td>\n",
       "<td style=\"font-family:monospace;white-space: pre;\" title=\"(0, 1)\"><center>0.05050505</center></td>\n",
       "<td style=\"font-family:monospace;white-space: pre;\" title=\"(0, 2)\"><center>0.1010101 </center></td>\n",
       "<td style=\"font-family:monospace;white-space: pre;\" title=\"(0, 3)\"><center>0.15151515</center></td>\n",
       "<td style=\"font-family:monospace;white-space: pre;\" title=\"(0, 4)\"><center>0.2020202 </center></td>\n",
       "<td style=\"font-family:monospace;white-space: pre;\" title=\"(0, 5)\"><center>0.25252525</center></td>\n",
       "<td style=\"font-family:monospace;white-space: pre;\" title=\"(0, 6)\"><center>0.3030303 </center></td>\n",
       "<td style=\"font-family:monospace;white-space: pre;\" title=\"(0, 7)\"><center>0.35353535</center></td>\n",
       "<td style=\"font-family:monospace;white-space: pre;\" title=\"(0, 8)\"><center>0.4040404 </center></td>\n",
       "<td style=\"font-family:monospace;white-space: pre;\" title=\"(0, 9)\"><center>0.45454545</center></td>\n",
       "</tr>\n",
       "<tr>\n",
       "<td style=\"font-family:monospace;white-space: pre;\" title=\"(1, 0)\"><center>0.50505051</center></td>\n",
       "<td style=\"font-family:monospace;white-space: pre;\" title=\"(1, 1)\"><center>0.55555556</center></td>\n",
       "<td style=\"font-family:monospace;white-space: pre;\" title=\"(1, 2)\"><center>0.60606061</center></td>\n",
       "<td style=\"font-family:monospace;white-space: pre;\" title=\"(1, 3)\"><center>0.65656566</center></td>\n",
       "<td style=\"font-family:monospace;white-space: pre;\" title=\"(1, 4)\"><center>0.70707071</center></td>\n",
       "<td style=\"font-family:monospace;white-space: pre;\" title=\"(1, 5)\"><center>0.75757576</center></td>\n",
       "<td style=\"font-family:monospace;white-space: pre;\" title=\"(1, 6)\"><center>0.80808081</center></td>\n",
       "<td style=\"font-family:monospace;white-space: pre;\" title=\"(1, 7)\"><center>0.85858586</center></td>\n",
       "<td style=\"font-family:monospace;white-space: pre;\" title=\"(1, 8)\"><center>0.90909091</center></td>\n",
       "<td style=\"font-family:monospace;white-space: pre;\" title=\"(1, 9)\"><center>0.95959596</center></td>\n",
       "</tr>\n",
       "<tr>\n",
       "<td style=\"font-family:monospace;white-space: pre;\" title=\"(2, 0)\"><center>1.01010101</center></td>\n",
       "<td style=\"font-family:monospace;white-space: pre;\" title=\"(2, 1)\"><center>1.06060606</center></td>\n",
       "<td style=\"font-family:monospace;white-space: pre;\" title=\"(2, 2)\"><center>1.11111111</center></td>\n",
       "<td style=\"font-family:monospace;white-space: pre;\" title=\"(2, 3)\"><center>1.16161616</center></td>\n",
       "<td style=\"font-family:monospace;white-space: pre;\" title=\"(2, 4)\"><center>1.21212121</center></td>\n",
       "<td style=\"font-family:monospace;white-space: pre;\" title=\"(2, 5)\"><center>1.26262626</center></td>\n",
       "<td style=\"font-family:monospace;white-space: pre;\" title=\"(2, 6)\"><center>1.31313131</center></td>\n",
       "<td style=\"font-family:monospace;white-space: pre;\" title=\"(2, 7)\"><center>1.36363636</center></td>\n",
       "<td style=\"font-family:monospace;white-space: pre;\" title=\"(2, 8)\"><center>1.41414141</center></td>\n",
       "<td style=\"font-family:monospace;white-space: pre;\" title=\"(2, 9)\"><center>1.46464646</center></td>\n",
       "</tr>\n",
       "<tr>\n",
       "<td style=\"font-family:monospace;white-space: pre;\" title=\"(3, 0)\"><center>1.51515152</center></td>\n",
       "<td style=\"font-family:monospace;white-space: pre;\" title=\"(3, 1)\"><center>1.56565657</center></td>\n",
       "<td style=\"font-family:monospace;white-space: pre;\" title=\"(3, 2)\"><center>1.61616162</center></td>\n",
       "<td style=\"font-family:monospace;white-space: pre;\" title=\"(3, 3)\"><center>1.66666667</center></td>\n",
       "<td style=\"font-family:monospace;white-space: pre;\" title=\"(3, 4)\"><center>1.71717172</center></td>\n",
       "<td style=\"font-family:monospace;white-space: pre;\" title=\"(3, 5)\"><center>1.76767677</center></td>\n",
       "<td style=\"font-family:monospace;white-space: pre;\" title=\"(3, 6)\"><center>1.81818182</center></td>\n",
       "<td style=\"font-family:monospace;white-space: pre;\" title=\"(3, 7)\"><center>1.86868687</center></td>\n",
       "<td style=\"font-family:monospace;white-space: pre;\" title=\"(3, 8)\"><center>1.91919192</center></td>\n",
       "<td style=\"font-family:monospace;white-space: pre;\" title=\"(3, 9)\"><center>1.96969697</center></td>\n",
       "</tr>\n",
       "<tr>\n",
       "<td style=\"font-family:monospace;white-space: pre;\" title=\"(4, 0)\"><center>2.02020202</center></td>\n",
       "<td style=\"font-family:monospace;white-space: pre;\" title=\"(4, 1)\"><center>2.07070707</center></td>\n",
       "<td style=\"font-family:monospace;white-space: pre;\" title=\"(4, 2)\"><center>2.12121212</center></td>\n",
       "<td style=\"font-family:monospace;white-space: pre;\" title=\"(4, 3)\"><center>2.17171717</center></td>\n",
       "<td style=\"font-family:monospace;white-space: pre;\" title=\"(4, 4)\"><center>2.22222222</center></td>\n",
       "<td style=\"font-family:monospace;white-space: pre;\" title=\"(4, 5)\"><center>2.27272727</center></td>\n",
       "<td style=\"font-family:monospace;white-space: pre;\" title=\"(4, 6)\"><center>2.32323232</center></td>\n",
       "<td style=\"font-family:monospace;white-space: pre;\" title=\"(4, 7)\"><center>2.37373737</center></td>\n",
       "<td style=\"font-family:monospace;white-space: pre;\" title=\"(4, 8)\"><center>2.42424242</center></td>\n",
       "<td style=\"font-family:monospace;white-space: pre;\" title=\"(4, 9)\"><center>2.47474747</center></td>\n",
       "</tr>\n",
       "<tr>\n",
       "<td style=\"font-family:monospace;white-space: pre;\" title=\"(5, 0)\"><center>2.52525253</center></td>\n",
       "<td style=\"font-family:monospace;white-space: pre;\" title=\"(5, 1)\"><center>2.57575758</center></td>\n",
       "<td style=\"font-family:monospace;white-space: pre;\" title=\"(5, 2)\"><center>2.62626263</center></td>\n",
       "<td style=\"font-family:monospace;white-space: pre;\" title=\"(5, 3)\"><center>2.67676768</center></td>\n",
       "<td style=\"font-family:monospace;white-space: pre;\" title=\"(5, 4)\"><center>2.72727273</center></td>\n",
       "<td style=\"font-family:monospace;white-space: pre;\" title=\"(5, 5)\"><center>2.77777778</center></td>\n",
       "<td style=\"font-family:monospace;white-space: pre;\" title=\"(5, 6)\"><center>2.82828283</center></td>\n",
       "<td style=\"font-family:monospace;white-space: pre;\" title=\"(5, 7)\"><center>2.87878788</center></td>\n",
       "<td style=\"font-family:monospace;white-space: pre;\" title=\"(5, 8)\"><center>2.92929293</center></td>\n",
       "<td style=\"font-family:monospace;white-space: pre;\" title=\"(5, 9)\"><center>2.97979798</center></td>\n",
       "</tr>\n",
       "<tr>\n",
       "<td style=\"font-family:monospace;white-space: pre;\" title=\"(6, 0)\"><center>3.03030303</center></td>\n",
       "<td style=\"font-family:monospace;white-space: pre;\" title=\"(6, 1)\"><center>3.08080808</center></td>\n",
       "<td style=\"font-family:monospace;white-space: pre;\" title=\"(6, 2)\"><center>3.13131313</center></td>\n",
       "<td style=\"font-family:monospace;white-space: pre;\" title=\"(6, 3)\"><center>3.18181818</center></td>\n",
       "<td style=\"font-family:monospace;white-space: pre;\" title=\"(6, 4)\"><center>3.23232323</center></td>\n",
       "<td style=\"font-family:monospace;white-space: pre;\" title=\"(6, 5)\"><center>3.28282828</center></td>\n",
       "<td style=\"font-family:monospace;white-space: pre;\" title=\"(6, 6)\"><center>3.33333333</center></td>\n",
       "<td style=\"font-family:monospace;white-space: pre;\" title=\"(6, 7)\"><center>3.38383838</center></td>\n",
       "<td style=\"font-family:monospace;white-space: pre;\" title=\"(6, 8)\"><center>3.43434343</center></td>\n",
       "<td style=\"font-family:monospace;white-space: pre;\" title=\"(6, 9)\"><center>3.48484848</center></td>\n",
       "</tr>\n",
       "<tr>\n",
       "<td style=\"font-family:monospace;white-space: pre;\" title=\"(7, 0)\"><center>3.53535354</center></td>\n",
       "<td style=\"font-family:monospace;white-space: pre;\" title=\"(7, 1)\"><center>3.58585859</center></td>\n",
       "<td style=\"font-family:monospace;white-space: pre;\" title=\"(7, 2)\"><center>3.63636364</center></td>\n",
       "<td style=\"font-family:monospace;white-space: pre;\" title=\"(7, 3)\"><center>3.68686869</center></td>\n",
       "<td style=\"font-family:monospace;white-space: pre;\" title=\"(7, 4)\"><center>3.73737374</center></td>\n",
       "<td style=\"font-family:monospace;white-space: pre;\" title=\"(7, 5)\"><center>3.78787879</center></td>\n",
       "<td style=\"font-family:monospace;white-space: pre;\" title=\"(7, 6)\"><center>3.83838384</center></td>\n",
       "<td style=\"font-family:monospace;white-space: pre;\" title=\"(7, 7)\"><center>3.88888889</center></td>\n",
       "<td style=\"font-family:monospace;white-space: pre;\" title=\"(7, 8)\"><center>3.93939394</center></td>\n",
       "<td style=\"font-family:monospace;white-space: pre;\" title=\"(7, 9)\"><center>3.98989899</center></td>\n",
       "</tr>\n",
       "<tr>\n",
       "<td style=\"font-family:monospace;white-space: pre;\" title=\"(8, 0)\"><center>4.04040404</center></td>\n",
       "<td style=\"font-family:monospace;white-space: pre;\" title=\"(8, 1)\"><center>4.09090909</center></td>\n",
       "<td style=\"font-family:monospace;white-space: pre;\" title=\"(8, 2)\"><center>4.14141414</center></td>\n",
       "<td style=\"font-family:monospace;white-space: pre;\" title=\"(8, 3)\"><center>4.19191919</center></td>\n",
       "<td style=\"font-family:monospace;white-space: pre;\" title=\"(8, 4)\"><center>4.24242424</center></td>\n",
       "<td style=\"font-family:monospace;white-space: pre;\" title=\"(8, 5)\"><center>4.29292929</center></td>\n",
       "<td style=\"font-family:monospace;white-space: pre;\" title=\"(8, 6)\"><center>4.34343434</center></td>\n",
       "<td style=\"font-family:monospace;white-space: pre;\" title=\"(8, 7)\"><center>4.39393939</center></td>\n",
       "<td style=\"font-family:monospace;white-space: pre;\" title=\"(8, 8)\"><center>4.44444444</center></td>\n",
       "<td style=\"font-family:monospace;white-space: pre;\" title=\"(8, 9)\"><center>4.49494949</center></td>\n",
       "</tr>\n",
       "<tr>\n",
       "<td style=\"font-family:monospace;white-space: pre;\" title=\"(9, 0)\"><center>4.54545455</center></td>\n",
       "<td style=\"font-family:monospace;white-space: pre;\" title=\"(9, 1)\"><center>4.5959596 </center></td>\n",
       "<td style=\"font-family:monospace;white-space: pre;\" title=\"(9, 2)\"><center>4.64646465</center></td>\n",
       "<td style=\"font-family:monospace;white-space: pre;\" title=\"(9, 3)\"><center>4.6969697 </center></td>\n",
       "<td style=\"font-family:monospace;white-space: pre;\" title=\"(9, 4)\"><center>4.74747475</center></td>\n",
       "<td style=\"font-family:monospace;white-space: pre;\" title=\"(9, 5)\"><center>4.7979798 </center></td>\n",
       "<td style=\"font-family:monospace;white-space: pre;\" title=\"(9, 6)\"><center>4.84848485</center></td>\n",
       "<td style=\"font-family:monospace;white-space: pre;\" title=\"(9, 7)\"><center>4.8989899 </center></td>\n",
       "<td style=\"font-family:monospace;white-space: pre;\" title=\"(9, 8)\"><center>4.94949495</center></td>\n",
       "<td style=\"font-family:monospace;white-space: pre;\" title=\"(9, 9)\"><center>5.        </center></td>\n",
       "</tr>\n",
       "</table>"
      ],
      "text/plain": [
       "array([[0.        , 0.05050505, 0.1010101 , 0.15151515, 0.2020202 ,\n",
       "        0.25252525, 0.3030303 , 0.35353535, 0.4040404 , 0.45454545],\n",
       "       [0.50505051, 0.55555556, 0.60606061, 0.65656566, 0.70707071,\n",
       "        0.75757576, 0.80808081, 0.85858586, 0.90909091, 0.95959596],\n",
       "       [1.01010101, 1.06060606, 1.11111111, 1.16161616, 1.21212121,\n",
       "        1.26262626, 1.31313131, 1.36363636, 1.41414141, 1.46464646],\n",
       "       [1.51515152, 1.56565657, 1.61616162, 1.66666667, 1.71717172,\n",
       "        1.76767677, 1.81818182, 1.86868687, 1.91919192, 1.96969697],\n",
       "       [2.02020202, 2.07070707, 2.12121212, 2.17171717, 2.22222222,\n",
       "        2.27272727, 2.32323232, 2.37373737, 2.42424242, 2.47474747],\n",
       "       [2.52525253, 2.57575758, 2.62626263, 2.67676768, 2.72727273,\n",
       "        2.77777778, 2.82828283, 2.87878788, 2.92929293, 2.97979798],\n",
       "       [3.03030303, 3.08080808, 3.13131313, 3.18181818, 3.23232323,\n",
       "        3.28282828, 3.33333333, 3.38383838, 3.43434343, 3.48484848],\n",
       "       [3.53535354, 3.58585859, 3.63636364, 3.68686869, 3.73737374,\n",
       "        3.78787879, 3.83838384, 3.88888889, 3.93939394, 3.98989899],\n",
       "       [4.04040404, 4.09090909, 4.14141414, 4.19191919, 4.24242424,\n",
       "        4.29292929, 4.34343434, 4.39393939, 4.44444444, 4.49494949],\n",
       "       [4.54545455, 4.5959596 , 4.64646465, 4.6969697 , 4.74747475,\n",
       "        4.7979798 , 4.84848485, 4.8989899 , 4.94949495, 5.        ]])"
      ]
     },
     "execution_count": 124,
     "metadata": {},
     "output_type": "execute_result"
    }
   ],
   "source": [
    "# Creating 10x10 matrix between values 0 and 5\n",
    "matrix10_10 = np.linspace(0, 5, 100).reshape(10, 10)\n",
    "matrix10_10"
   ]
  },
  {
   "cell_type": "code",
   "execution_count": 125,
   "metadata": {},
   "outputs": [
    {
     "data": {
      "text/plain": [
       "[[0.0,\n",
       "  0.050505050505050504,\n",
       "  0.10101010101010101,\n",
       "  0.15151515151515152,\n",
       "  0.20202020202020202,\n",
       "  0.25252525252525254,\n",
       "  0.30303030303030304,\n",
       "  0.35353535353535354,\n",
       "  0.40404040404040403,\n",
       "  0.45454545454545453],\n",
       " [0.5050505050505051,\n",
       "  0.5555555555555556,\n",
       "  0.6060606060606061,\n",
       "  0.6565656565656566,\n",
       "  0.7070707070707071,\n",
       "  0.7575757575757576,\n",
       "  0.8080808080808081,\n",
       "  0.8585858585858586,\n",
       "  0.9090909090909091,\n",
       "  0.9595959595959596],\n",
       " [1.0101010101010102,\n",
       "  1.0606060606060606,\n",
       "  1.1111111111111112,\n",
       "  1.1616161616161615,\n",
       "  1.2121212121212122,\n",
       "  1.2626262626262625,\n",
       "  1.3131313131313131,\n",
       "  1.3636363636363635,\n",
       "  1.4141414141414141,\n",
       "  1.4646464646464645],\n",
       " [1.5151515151515151,\n",
       "  1.5656565656565655,\n",
       "  1.6161616161616161,\n",
       "  1.6666666666666667,\n",
       "  1.7171717171717171,\n",
       "  1.7676767676767677,\n",
       "  1.8181818181818181,\n",
       "  1.8686868686868687,\n",
       "  1.9191919191919191,\n",
       "  1.9696969696969697],\n",
       " [2.0202020202020203,\n",
       "  2.0707070707070705,\n",
       "  2.121212121212121,\n",
       "  2.1717171717171717,\n",
       "  2.2222222222222223,\n",
       "  2.2727272727272725,\n",
       "  2.323232323232323,\n",
       "  2.3737373737373737,\n",
       "  2.4242424242424243,\n",
       "  2.474747474747475],\n",
       " [2.525252525252525,\n",
       "  2.5757575757575757,\n",
       "  2.6262626262626263,\n",
       "  2.676767676767677,\n",
       "  2.727272727272727,\n",
       "  2.7777777777777777,\n",
       "  2.8282828282828283,\n",
       "  2.878787878787879,\n",
       "  2.929292929292929,\n",
       "  2.9797979797979797],\n",
       " [3.0303030303030303,\n",
       "  3.080808080808081,\n",
       "  3.131313131313131,\n",
       "  3.1818181818181817,\n",
       "  3.2323232323232323,\n",
       "  3.282828282828283,\n",
       "  3.3333333333333335,\n",
       "  3.3838383838383836,\n",
       "  3.4343434343434343,\n",
       "  3.484848484848485],\n",
       " [3.5353535353535355,\n",
       "  3.5858585858585856,\n",
       "  3.6363636363636362,\n",
       "  3.686868686868687,\n",
       "  3.7373737373737375,\n",
       "  3.7878787878787876,\n",
       "  3.8383838383838382,\n",
       "  3.888888888888889,\n",
       "  3.9393939393939394,\n",
       "  3.9898989898989896],\n",
       " [4.040404040404041,\n",
       "  4.090909090909091,\n",
       "  4.141414141414141,\n",
       "  4.191919191919192,\n",
       "  4.242424242424242,\n",
       "  4.292929292929293,\n",
       "  4.343434343434343,\n",
       "  4.393939393939394,\n",
       "  4.444444444444445,\n",
       "  4.494949494949495],\n",
       " [4.545454545454545,\n",
       "  4.595959595959596,\n",
       "  4.646464646464646,\n",
       "  4.696969696969697,\n",
       "  4.747474747474747,\n",
       "  4.797979797979798,\n",
       "  4.848484848484849,\n",
       "  4.898989898989899,\n",
       "  4.94949494949495,\n",
       "  5.0]]"
      ]
     },
     "execution_count": 125,
     "metadata": {},
     "output_type": "execute_result"
    }
   ],
   "source": [
    "# Creating a 10x10 matrix with values between 0 and 5, without using NumPy\n",
    "\n",
    "#N = Size of the matrix (10x10)\n",
    "n =  10  \n",
    "# I need 100 unique values between 0 and 5 \n",
    "# I multiply n*n which gives 100 values. Since I want a matrix to go  from 0 to 5, I divide 5 by 99 to get step\n",
    "step = 5 / 99\n",
    "# Step is something like 0.050505050505050504\n",
    "\n",
    "matrix0_5 = [[(i*n + j) * step for j in range(n)] for i in range(n)]\n",
    "matrix0_5\n",
    "\n",
    "# For doing this task, I got the basic idea from here: https://www.geeksforgeeks.org/python-produce-k-evenly-spaced-float-values/\n",
    "# For this task, I spent more time to understand \"How to create a list of evenly spaced numbers in Python without NumPy?\""
   ]
  },
  {
   "attachments": {},
   "cell_type": "markdown",
   "metadata": {},
   "source": [
    "<h3><b>5. Recreate the matrices in code based on the pictures.</b></h3>\n",
    "\n",
    "- Create this 3x5 matrix with NumPy:\n",
    "\n",
    "<img src=\"http://srv.plab.fi/~tuomasv/data_analytics_2023_images/exercise_set_1/matrix1.png\"/>\n",
    "\n",
    "\n",
    "Note: The values above have no logic, you'll have to feed basic Python lists to NumPy for this result\n"
   ]
  },
  {
   "cell_type": "code",
   "execution_count": 126,
   "metadata": {},
   "outputs": [
    {
     "data": {
      "text/html": [
       "<table style='border-style:solid;border-width:1px;'>\n",
       "<tr>\n",
       "<td style=\"font-family:monospace;white-space: pre;\" title=\"(0, 0)\"><center>23</center></td>\n",
       "<td style=\"font-family:monospace;white-space: pre;\" title=\"(0, 1)\"><center>34</center></td>\n",
       "<td style=\"font-family:monospace;white-space: pre;\" title=\"(0, 2)\"><center>54</center></td>\n",
       "<td style=\"font-family:monospace;white-space: pre;\" title=\"(0, 3)\"><center>31</center></td>\n",
       "<td style=\"font-family:monospace;white-space: pre;\" title=\"(0, 4)\"><center>75</center></td>\n",
       "</tr>\n",
       "<tr>\n",
       "<td style=\"font-family:monospace;white-space: pre;\" title=\"(1, 0)\"><center>33</center></td>\n",
       "<td style=\"font-family:monospace;white-space: pre;\" title=\"(1, 1)\"><center>56</center></td>\n",
       "<td style=\"font-family:monospace;white-space: pre;\" title=\"(1, 2)\"><center>78</center></td>\n",
       "<td style=\"font-family:monospace;white-space: pre;\" title=\"(1, 3)\"><center>65</center></td>\n",
       "<td style=\"font-family:monospace;white-space: pre;\" title=\"(1, 4)\"><center>97</center></td>\n",
       "</tr>\n",
       "<tr>\n",
       "<td style=\"font-family:monospace;white-space: pre;\" title=\"(2, 0)\"><center>41</center></td>\n",
       "<td style=\"font-family:monospace;white-space: pre;\" title=\"(2, 1)\"><center>32</center></td>\n",
       "<td style=\"font-family:monospace;white-space: pre;\" title=\"(2, 2)\"><center>11</center></td>\n",
       "<td style=\"font-family:monospace;white-space: pre;\" title=\"(2, 3)\"><center>39</center></td>\n",
       "<td style=\"font-family:monospace;white-space: pre;\" title=\"(2, 4)\"><center>51</center></td>\n",
       "</tr>\n",
       "</table>"
      ],
      "text/plain": [
       "array([[23, 34, 54, 31, 75],\n",
       "       [33, 56, 78, 65, 97],\n",
       "       [41, 32, 11, 39, 51]])"
      ]
     },
     "execution_count": 126,
     "metadata": {},
     "output_type": "execute_result"
    }
   ],
   "source": [
    "numbers = [23, 34, 54, 31, 75, 33, 56, 78, 65, 97, 41, 32, 11, 39, 51]\n",
    "matrix3_5 = np.array(numbers).reshape(3, 5)\n",
    "matrix3_5\n"
   ]
  },
  {
   "attachments": {},
   "cell_type": "markdown",
   "metadata": {},
   "source": [
    "- Generate this NumPy array:\n",
    "\n",
    "<img src=\"http://srv.plab.fi/~tuomasv/data_analytics_2023_images/exercise_set_1/matrix2.png\" width=\"800\"/>"
   ]
  },
  {
   "cell_type": "code",
   "execution_count": 127,
   "metadata": {},
   "outputs": [
    {
     "data": {
      "text/html": [
       "<table style='border-style:solid;border-width:1px;'>\n",
       "<tr>\n",
       "<td style=\"font-family:monospace;white-space: pre;\" title=\"(0, 0)\"><center>128</center></td>\n",
       "<td style=\"font-family:monospace;white-space: pre;\" title=\"(0, 1)\"><center>129</center></td>\n",
       "<td style=\"font-family:monospace;white-space: pre;\" title=\"(0, 2)\"><center>130</center></td>\n",
       "<td style=\"font-family:monospace;white-space: pre;\" title=\"(0, 3)\"><center>131</center></td>\n",
       "<td style=\"font-family:monospace;white-space: pre;\" title=\"(0, 4)\"><center>132</center></td>\n",
       "<td style=\"font-family:monospace;white-space: pre;\" title=\"(0, 5)\"><center>133</center></td>\n",
       "<td style=\"font-family:monospace;white-space: pre;\" title=\"(0, 6)\"><center>134</center></td>\n",
       "<td style=\"font-family:monospace;white-space: pre;\" title=\"(0, 7)\"><center>135</center></td>\n",
       "<td style=\"font-family:monospace;white-space: pre;\" title=\"(0, 8)\"><center>136</center></td>\n",
       "<td style=\"font-family:monospace;white-space: pre;\" title=\"(0, 9)\"><center>137</center></td>\n",
       "<td style=\"font-family:monospace;white-space: pre;\" title=\"(0, 10)\"><center>138</center></td>\n",
       "<td style=\"font-family:monospace;white-space: pre;\" title=\"(0, 11)\"><center>139</center></td>\n",
       "<td style=\"font-family:monospace;white-space: pre;\" title=\"(0, 12)\"><center>140</center></td>\n",
       "<td style=\"font-family:monospace;white-space: pre;\" title=\"(0, 13)\"><center>141</center></td>\n",
       "<td style=\"font-family:monospace;white-space: pre;\" title=\"(0, 14)\"><center>142</center></td>\n",
       "<td style=\"font-family:monospace;white-space: pre;\" title=\"(0, 15)\"><center>143</center></td>\n",
       "</tr>\n",
       "<tr>\n",
       "<td style=\"font-family:monospace;white-space: pre;\" title=\"(1, 0)\"><center>144</center></td>\n",
       "<td style=\"font-family:monospace;white-space: pre;\" title=\"(1, 1)\"><center>145</center></td>\n",
       "<td style=\"font-family:monospace;white-space: pre;\" title=\"(1, 2)\"><center>146</center></td>\n",
       "<td style=\"font-family:monospace;white-space: pre;\" title=\"(1, 3)\"><center>147</center></td>\n",
       "<td style=\"font-family:monospace;white-space: pre;\" title=\"(1, 4)\"><center>148</center></td>\n",
       "<td style=\"font-family:monospace;white-space: pre;\" title=\"(1, 5)\"><center>149</center></td>\n",
       "<td style=\"font-family:monospace;white-space: pre;\" title=\"(1, 6)\"><center>150</center></td>\n",
       "<td style=\"font-family:monospace;white-space: pre;\" title=\"(1, 7)\"><center>151</center></td>\n",
       "<td style=\"font-family:monospace;white-space: pre;\" title=\"(1, 8)\"><center>152</center></td>\n",
       "<td style=\"font-family:monospace;white-space: pre;\" title=\"(1, 9)\"><center>153</center></td>\n",
       "<td style=\"font-family:monospace;white-space: pre;\" title=\"(1, 10)\"><center>154</center></td>\n",
       "<td style=\"font-family:monospace;white-space: pre;\" title=\"(1, 11)\"><center>155</center></td>\n",
       "<td style=\"font-family:monospace;white-space: pre;\" title=\"(1, 12)\"><center>156</center></td>\n",
       "<td style=\"font-family:monospace;white-space: pre;\" title=\"(1, 13)\"><center>157</center></td>\n",
       "<td style=\"font-family:monospace;white-space: pre;\" title=\"(1, 14)\"><center>158</center></td>\n",
       "<td style=\"font-family:monospace;white-space: pre;\" title=\"(1, 15)\"><center>159</center></td>\n",
       "</tr>\n",
       "<tr>\n",
       "<td style=\"font-family:monospace;white-space: pre;\" title=\"(2, 0)\"><center>160</center></td>\n",
       "<td style=\"font-family:monospace;white-space: pre;\" title=\"(2, 1)\"><center>161</center></td>\n",
       "<td style=\"font-family:monospace;white-space: pre;\" title=\"(2, 2)\"><center>162</center></td>\n",
       "<td style=\"font-family:monospace;white-space: pre;\" title=\"(2, 3)\"><center>163</center></td>\n",
       "<td style=\"font-family:monospace;white-space: pre;\" title=\"(2, 4)\"><center>164</center></td>\n",
       "<td style=\"font-family:monospace;white-space: pre;\" title=\"(2, 5)\"><center>165</center></td>\n",
       "<td style=\"font-family:monospace;white-space: pre;\" title=\"(2, 6)\"><center>166</center></td>\n",
       "<td style=\"font-family:monospace;white-space: pre;\" title=\"(2, 7)\"><center>167</center></td>\n",
       "<td style=\"font-family:monospace;white-space: pre;\" title=\"(2, 8)\"><center>168</center></td>\n",
       "<td style=\"font-family:monospace;white-space: pre;\" title=\"(2, 9)\"><center>169</center></td>\n",
       "<td style=\"font-family:monospace;white-space: pre;\" title=\"(2, 10)\"><center>170</center></td>\n",
       "<td style=\"font-family:monospace;white-space: pre;\" title=\"(2, 11)\"><center>171</center></td>\n",
       "<td style=\"font-family:monospace;white-space: pre;\" title=\"(2, 12)\"><center>172</center></td>\n",
       "<td style=\"font-family:monospace;white-space: pre;\" title=\"(2, 13)\"><center>173</center></td>\n",
       "<td style=\"font-family:monospace;white-space: pre;\" title=\"(2, 14)\"><center>174</center></td>\n",
       "<td style=\"font-family:monospace;white-space: pre;\" title=\"(2, 15)\"><center>175</center></td>\n",
       "</tr>\n",
       "<tr>\n",
       "<td style=\"font-family:monospace;white-space: pre;\" title=\"(3, 0)\"><center>176</center></td>\n",
       "<td style=\"font-family:monospace;white-space: pre;\" title=\"(3, 1)\"><center>177</center></td>\n",
       "<td style=\"font-family:monospace;white-space: pre;\" title=\"(3, 2)\"><center>178</center></td>\n",
       "<td style=\"font-family:monospace;white-space: pre;\" title=\"(3, 3)\"><center>179</center></td>\n",
       "<td style=\"font-family:monospace;white-space: pre;\" title=\"(3, 4)\"><center>180</center></td>\n",
       "<td style=\"font-family:monospace;white-space: pre;\" title=\"(3, 5)\"><center>181</center></td>\n",
       "<td style=\"font-family:monospace;white-space: pre;\" title=\"(3, 6)\"><center>182</center></td>\n",
       "<td style=\"font-family:monospace;white-space: pre;\" title=\"(3, 7)\"><center>183</center></td>\n",
       "<td style=\"font-family:monospace;white-space: pre;\" title=\"(3, 8)\"><center>184</center></td>\n",
       "<td style=\"font-family:monospace;white-space: pre;\" title=\"(3, 9)\"><center>185</center></td>\n",
       "<td style=\"font-family:monospace;white-space: pre;\" title=\"(3, 10)\"><center>186</center></td>\n",
       "<td style=\"font-family:monospace;white-space: pre;\" title=\"(3, 11)\"><center>187</center></td>\n",
       "<td style=\"font-family:monospace;white-space: pre;\" title=\"(3, 12)\"><center>188</center></td>\n",
       "<td style=\"font-family:monospace;white-space: pre;\" title=\"(3, 13)\"><center>189</center></td>\n",
       "<td style=\"font-family:monospace;white-space: pre;\" title=\"(3, 14)\"><center>190</center></td>\n",
       "<td style=\"font-family:monospace;white-space: pre;\" title=\"(3, 15)\"><center>191</center></td>\n",
       "</tr>\n",
       "<tr>\n",
       "<td style=\"font-family:monospace;white-space: pre;\" title=\"(4, 0)\"><center>192</center></td>\n",
       "<td style=\"font-family:monospace;white-space: pre;\" title=\"(4, 1)\"><center>193</center></td>\n",
       "<td style=\"font-family:monospace;white-space: pre;\" title=\"(4, 2)\"><center>194</center></td>\n",
       "<td style=\"font-family:monospace;white-space: pre;\" title=\"(4, 3)\"><center>195</center></td>\n",
       "<td style=\"font-family:monospace;white-space: pre;\" title=\"(4, 4)\"><center>196</center></td>\n",
       "<td style=\"font-family:monospace;white-space: pre;\" title=\"(4, 5)\"><center>197</center></td>\n",
       "<td style=\"font-family:monospace;white-space: pre;\" title=\"(4, 6)\"><center>198</center></td>\n",
       "<td style=\"font-family:monospace;white-space: pre;\" title=\"(4, 7)\"><center>199</center></td>\n",
       "<td style=\"font-family:monospace;white-space: pre;\" title=\"(4, 8)\"><center>200</center></td>\n",
       "<td style=\"font-family:monospace;white-space: pre;\" title=\"(4, 9)\"><center>201</center></td>\n",
       "<td style=\"font-family:monospace;white-space: pre;\" title=\"(4, 10)\"><center>202</center></td>\n",
       "<td style=\"font-family:monospace;white-space: pre;\" title=\"(4, 11)\"><center>203</center></td>\n",
       "<td style=\"font-family:monospace;white-space: pre;\" title=\"(4, 12)\"><center>204</center></td>\n",
       "<td style=\"font-family:monospace;white-space: pre;\" title=\"(4, 13)\"><center>205</center></td>\n",
       "<td style=\"font-family:monospace;white-space: pre;\" title=\"(4, 14)\"><center>206</center></td>\n",
       "<td style=\"font-family:monospace;white-space: pre;\" title=\"(4, 15)\"><center>207</center></td>\n",
       "</tr>\n",
       "<tr>\n",
       "<td style=\"font-family:monospace;white-space: pre;\" title=\"(5, 0)\"><center>208</center></td>\n",
       "<td style=\"font-family:monospace;white-space: pre;\" title=\"(5, 1)\"><center>209</center></td>\n",
       "<td style=\"font-family:monospace;white-space: pre;\" title=\"(5, 2)\"><center>210</center></td>\n",
       "<td style=\"font-family:monospace;white-space: pre;\" title=\"(5, 3)\"><center>211</center></td>\n",
       "<td style=\"font-family:monospace;white-space: pre;\" title=\"(5, 4)\"><center>212</center></td>\n",
       "<td style=\"font-family:monospace;white-space: pre;\" title=\"(5, 5)\"><center>213</center></td>\n",
       "<td style=\"font-family:monospace;white-space: pre;\" title=\"(5, 6)\"><center>214</center></td>\n",
       "<td style=\"font-family:monospace;white-space: pre;\" title=\"(5, 7)\"><center>215</center></td>\n",
       "<td style=\"font-family:monospace;white-space: pre;\" title=\"(5, 8)\"><center>216</center></td>\n",
       "<td style=\"font-family:monospace;white-space: pre;\" title=\"(5, 9)\"><center>217</center></td>\n",
       "<td style=\"font-family:monospace;white-space: pre;\" title=\"(5, 10)\"><center>218</center></td>\n",
       "<td style=\"font-family:monospace;white-space: pre;\" title=\"(5, 11)\"><center>219</center></td>\n",
       "<td style=\"font-family:monospace;white-space: pre;\" title=\"(5, 12)\"><center>220</center></td>\n",
       "<td style=\"font-family:monospace;white-space: pre;\" title=\"(5, 13)\"><center>221</center></td>\n",
       "<td style=\"font-family:monospace;white-space: pre;\" title=\"(5, 14)\"><center>222</center></td>\n",
       "<td style=\"font-family:monospace;white-space: pre;\" title=\"(5, 15)\"><center>223</center></td>\n",
       "</tr>\n",
       "<tr>\n",
       "<td style=\"font-family:monospace;white-space: pre;\" title=\"(6, 0)\"><center>224</center></td>\n",
       "<td style=\"font-family:monospace;white-space: pre;\" title=\"(6, 1)\"><center>225</center></td>\n",
       "<td style=\"font-family:monospace;white-space: pre;\" title=\"(6, 2)\"><center>226</center></td>\n",
       "<td style=\"font-family:monospace;white-space: pre;\" title=\"(6, 3)\"><center>227</center></td>\n",
       "<td style=\"font-family:monospace;white-space: pre;\" title=\"(6, 4)\"><center>228</center></td>\n",
       "<td style=\"font-family:monospace;white-space: pre;\" title=\"(6, 5)\"><center>229</center></td>\n",
       "<td style=\"font-family:monospace;white-space: pre;\" title=\"(6, 6)\"><center>230</center></td>\n",
       "<td style=\"font-family:monospace;white-space: pre;\" title=\"(6, 7)\"><center>231</center></td>\n",
       "<td style=\"font-family:monospace;white-space: pre;\" title=\"(6, 8)\"><center>232</center></td>\n",
       "<td style=\"font-family:monospace;white-space: pre;\" title=\"(6, 9)\"><center>233</center></td>\n",
       "<td style=\"font-family:monospace;white-space: pre;\" title=\"(6, 10)\"><center>234</center></td>\n",
       "<td style=\"font-family:monospace;white-space: pre;\" title=\"(6, 11)\"><center>235</center></td>\n",
       "<td style=\"font-family:monospace;white-space: pre;\" title=\"(6, 12)\"><center>236</center></td>\n",
       "<td style=\"font-family:monospace;white-space: pre;\" title=\"(6, 13)\"><center>237</center></td>\n",
       "<td style=\"font-family:monospace;white-space: pre;\" title=\"(6, 14)\"><center>238</center></td>\n",
       "<td style=\"font-family:monospace;white-space: pre;\" title=\"(6, 15)\"><center>239</center></td>\n",
       "</tr>\n",
       "<tr>\n",
       "<td style=\"font-family:monospace;white-space: pre;\" title=\"(7, 0)\"><center>240</center></td>\n",
       "<td style=\"font-family:monospace;white-space: pre;\" title=\"(7, 1)\"><center>241</center></td>\n",
       "<td style=\"font-family:monospace;white-space: pre;\" title=\"(7, 2)\"><center>242</center></td>\n",
       "<td style=\"font-family:monospace;white-space: pre;\" title=\"(7, 3)\"><center>243</center></td>\n",
       "<td style=\"font-family:monospace;white-space: pre;\" title=\"(7, 4)\"><center>244</center></td>\n",
       "<td style=\"font-family:monospace;white-space: pre;\" title=\"(7, 5)\"><center>245</center></td>\n",
       "<td style=\"font-family:monospace;white-space: pre;\" title=\"(7, 6)\"><center>246</center></td>\n",
       "<td style=\"font-family:monospace;white-space: pre;\" title=\"(7, 7)\"><center>247</center></td>\n",
       "<td style=\"font-family:monospace;white-space: pre;\" title=\"(7, 8)\"><center>248</center></td>\n",
       "<td style=\"font-family:monospace;white-space: pre;\" title=\"(7, 9)\"><center>249</center></td>\n",
       "<td style=\"font-family:monospace;white-space: pre;\" title=\"(7, 10)\"><center>250</center></td>\n",
       "<td style=\"font-family:monospace;white-space: pre;\" title=\"(7, 11)\"><center>251</center></td>\n",
       "<td style=\"font-family:monospace;white-space: pre;\" title=\"(7, 12)\"><center>252</center></td>\n",
       "<td style=\"font-family:monospace;white-space: pre;\" title=\"(7, 13)\"><center>253</center></td>\n",
       "<td style=\"font-family:monospace;white-space: pre;\" title=\"(7, 14)\"><center>254</center></td>\n",
       "<td style=\"font-family:monospace;white-space: pre;\" title=\"(7, 15)\"><center>255</center></td>\n",
       "</tr>\n",
       "</table>"
      ],
      "text/plain": [
       "array([[128, 129, 130, 131, 132, 133, 134, 135, 136, 137, 138, 139, 140,\n",
       "        141, 142, 143],\n",
       "       [144, 145, 146, 147, 148, 149, 150, 151, 152, 153, 154, 155, 156,\n",
       "        157, 158, 159],\n",
       "       [160, 161, 162, 163, 164, 165, 166, 167, 168, 169, 170, 171, 172,\n",
       "        173, 174, 175],\n",
       "       [176, 177, 178, 179, 180, 181, 182, 183, 184, 185, 186, 187, 188,\n",
       "        189, 190, 191],\n",
       "       [192, 193, 194, 195, 196, 197, 198, 199, 200, 201, 202, 203, 204,\n",
       "        205, 206, 207],\n",
       "       [208, 209, 210, 211, 212, 213, 214, 215, 216, 217, 218, 219, 220,\n",
       "        221, 222, 223],\n",
       "       [224, 225, 226, 227, 228, 229, 230, 231, 232, 233, 234, 235, 236,\n",
       "        237, 238, 239],\n",
       "       [240, 241, 242, 243, 244, 245, 246, 247, 248, 249, 250, 251, 252,\n",
       "        253, 254, 255]])"
      ]
     },
     "execution_count": 127,
     "metadata": {},
     "output_type": "execute_result"
    }
   ],
   "source": [
    "matrix8_16 = np.arange(128, 256).reshape(8, 16)\n",
    "matrix8_16"
   ]
  },
  {
   "attachments": {},
   "cell_type": "markdown",
   "metadata": {},
   "source": [
    "- Generate this NumPy array:\n",
    "\n",
    "<img src=\"http://srv.plab.fi/~tuomasv/data_analytics_2023_images/exercise_set_1/matrix3.png\" width=\"500\"/>\n",
    "\n",
    "<b>Tips:</b> arange-function (and step-parameter) + reshape is recommended. Alternatively you can use broadcasting and division if you like."
   ]
  },
  {
   "cell_type": "code",
   "execution_count": 128,
   "metadata": {},
   "outputs": [
    {
     "data": {
      "text/html": [
       "<table style='border-style:solid;border-width:1px;'>\n",
       "<tr>\n",
       "<td style=\"font-family:monospace;white-space: pre;\" title=\"(0, 0)\"><center>0.05</center></td>\n",
       "<td style=\"font-family:monospace;white-space: pre;\" title=\"(0, 1)\"><center>0.1 </center></td>\n",
       "<td style=\"font-family:monospace;white-space: pre;\" title=\"(0, 2)\"><center>0.15</center></td>\n",
       "<td style=\"font-family:monospace;white-space: pre;\" title=\"(0, 3)\"><center>0.2 </center></td>\n",
       "<td style=\"font-family:monospace;white-space: pre;\" title=\"(0, 4)\"><center>0.25</center></td>\n",
       "<td style=\"font-family:monospace;white-space: pre;\" title=\"(0, 5)\"><center>0.3 </center></td>\n",
       "<td style=\"font-family:monospace;white-space: pre;\" title=\"(0, 6)\"><center>0.35</center></td>\n",
       "<td style=\"font-family:monospace;white-space: pre;\" title=\"(0, 7)\"><center>0.4 </center></td>\n",
       "<td style=\"font-family:monospace;white-space: pre;\" title=\"(0, 8)\"><center>0.45</center></td>\n",
       "<td style=\"font-family:monospace;white-space: pre;\" title=\"(0, 9)\"><center>0.5 </center></td>\n",
       "</tr>\n",
       "<tr>\n",
       "<td style=\"font-family:monospace;white-space: pre;\" title=\"(1, 0)\"><center>0.55</center></td>\n",
       "<td style=\"font-family:monospace;white-space: pre;\" title=\"(1, 1)\"><center>0.6 </center></td>\n",
       "<td style=\"font-family:monospace;white-space: pre;\" title=\"(1, 2)\"><center>0.65</center></td>\n",
       "<td style=\"font-family:monospace;white-space: pre;\" title=\"(1, 3)\"><center>0.7 </center></td>\n",
       "<td style=\"font-family:monospace;white-space: pre;\" title=\"(1, 4)\"><center>0.75</center></td>\n",
       "<td style=\"font-family:monospace;white-space: pre;\" title=\"(1, 5)\"><center>0.8 </center></td>\n",
       "<td style=\"font-family:monospace;white-space: pre;\" title=\"(1, 6)\"><center>0.85</center></td>\n",
       "<td style=\"font-family:monospace;white-space: pre;\" title=\"(1, 7)\"><center>0.9 </center></td>\n",
       "<td style=\"font-family:monospace;white-space: pre;\" title=\"(1, 8)\"><center>0.95</center></td>\n",
       "<td style=\"font-family:monospace;white-space: pre;\" title=\"(1, 9)\"><center>1.  </center></td>\n",
       "</tr>\n",
       "<tr>\n",
       "<td style=\"font-family:monospace;white-space: pre;\" title=\"(2, 0)\"><center>1.05</center></td>\n",
       "<td style=\"font-family:monospace;white-space: pre;\" title=\"(2, 1)\"><center>1.1 </center></td>\n",
       "<td style=\"font-family:monospace;white-space: pre;\" title=\"(2, 2)\"><center>1.15</center></td>\n",
       "<td style=\"font-family:monospace;white-space: pre;\" title=\"(2, 3)\"><center>1.2 </center></td>\n",
       "<td style=\"font-family:monospace;white-space: pre;\" title=\"(2, 4)\"><center>1.25</center></td>\n",
       "<td style=\"font-family:monospace;white-space: pre;\" title=\"(2, 5)\"><center>1.3 </center></td>\n",
       "<td style=\"font-family:monospace;white-space: pre;\" title=\"(2, 6)\"><center>1.35</center></td>\n",
       "<td style=\"font-family:monospace;white-space: pre;\" title=\"(2, 7)\"><center>1.4 </center></td>\n",
       "<td style=\"font-family:monospace;white-space: pre;\" title=\"(2, 8)\"><center>1.45</center></td>\n",
       "<td style=\"font-family:monospace;white-space: pre;\" title=\"(2, 9)\"><center>1.5 </center></td>\n",
       "</tr>\n",
       "<tr>\n",
       "<td style=\"font-family:monospace;white-space: pre;\" title=\"(3, 0)\"><center>1.55</center></td>\n",
       "<td style=\"font-family:monospace;white-space: pre;\" title=\"(3, 1)\"><center>1.6 </center></td>\n",
       "<td style=\"font-family:monospace;white-space: pre;\" title=\"(3, 2)\"><center>1.65</center></td>\n",
       "<td style=\"font-family:monospace;white-space: pre;\" title=\"(3, 3)\"><center>1.7 </center></td>\n",
       "<td style=\"font-family:monospace;white-space: pre;\" title=\"(3, 4)\"><center>1.75</center></td>\n",
       "<td style=\"font-family:monospace;white-space: pre;\" title=\"(3, 5)\"><center>1.8 </center></td>\n",
       "<td style=\"font-family:monospace;white-space: pre;\" title=\"(3, 6)\"><center>1.85</center></td>\n",
       "<td style=\"font-family:monospace;white-space: pre;\" title=\"(3, 7)\"><center>1.9 </center></td>\n",
       "<td style=\"font-family:monospace;white-space: pre;\" title=\"(3, 8)\"><center>1.95</center></td>\n",
       "<td style=\"font-family:monospace;white-space: pre;\" title=\"(3, 9)\"><center>2.  </center></td>\n",
       "</tr>\n",
       "<tr>\n",
       "<td style=\"font-family:monospace;white-space: pre;\" title=\"(4, 0)\"><center>2.05</center></td>\n",
       "<td style=\"font-family:monospace;white-space: pre;\" title=\"(4, 1)\"><center>2.1 </center></td>\n",
       "<td style=\"font-family:monospace;white-space: pre;\" title=\"(4, 2)\"><center>2.15</center></td>\n",
       "<td style=\"font-family:monospace;white-space: pre;\" title=\"(4, 3)\"><center>2.2 </center></td>\n",
       "<td style=\"font-family:monospace;white-space: pre;\" title=\"(4, 4)\"><center>2.25</center></td>\n",
       "<td style=\"font-family:monospace;white-space: pre;\" title=\"(4, 5)\"><center>2.3 </center></td>\n",
       "<td style=\"font-family:monospace;white-space: pre;\" title=\"(4, 6)\"><center>2.35</center></td>\n",
       "<td style=\"font-family:monospace;white-space: pre;\" title=\"(4, 7)\"><center>2.4 </center></td>\n",
       "<td style=\"font-family:monospace;white-space: pre;\" title=\"(4, 8)\"><center>2.45</center></td>\n",
       "<td style=\"font-family:monospace;white-space: pre;\" title=\"(4, 9)\"><center>2.5 </center></td>\n",
       "</tr>\n",
       "<tr>\n",
       "<td style=\"font-family:monospace;white-space: pre;\" title=\"(5, 0)\"><center>2.55</center></td>\n",
       "<td style=\"font-family:monospace;white-space: pre;\" title=\"(5, 1)\"><center>2.6 </center></td>\n",
       "<td style=\"font-family:monospace;white-space: pre;\" title=\"(5, 2)\"><center>2.65</center></td>\n",
       "<td style=\"font-family:monospace;white-space: pre;\" title=\"(5, 3)\"><center>2.7 </center></td>\n",
       "<td style=\"font-family:monospace;white-space: pre;\" title=\"(5, 4)\"><center>2.75</center></td>\n",
       "<td style=\"font-family:monospace;white-space: pre;\" title=\"(5, 5)\"><center>2.8 </center></td>\n",
       "<td style=\"font-family:monospace;white-space: pre;\" title=\"(5, 6)\"><center>2.85</center></td>\n",
       "<td style=\"font-family:monospace;white-space: pre;\" title=\"(5, 7)\"><center>2.9 </center></td>\n",
       "<td style=\"font-family:monospace;white-space: pre;\" title=\"(5, 8)\"><center>2.95</center></td>\n",
       "<td style=\"font-family:monospace;white-space: pre;\" title=\"(5, 9)\"><center>3.  </center></td>\n",
       "</tr>\n",
       "<tr>\n",
       "<td style=\"font-family:monospace;white-space: pre;\" title=\"(6, 0)\"><center>3.05</center></td>\n",
       "<td style=\"font-family:monospace;white-space: pre;\" title=\"(6, 1)\"><center>3.1 </center></td>\n",
       "<td style=\"font-family:monospace;white-space: pre;\" title=\"(6, 2)\"><center>3.15</center></td>\n",
       "<td style=\"font-family:monospace;white-space: pre;\" title=\"(6, 3)\"><center>3.2 </center></td>\n",
       "<td style=\"font-family:monospace;white-space: pre;\" title=\"(6, 4)\"><center>3.25</center></td>\n",
       "<td style=\"font-family:monospace;white-space: pre;\" title=\"(6, 5)\"><center>3.3 </center></td>\n",
       "<td style=\"font-family:monospace;white-space: pre;\" title=\"(6, 6)\"><center>3.35</center></td>\n",
       "<td style=\"font-family:monospace;white-space: pre;\" title=\"(6, 7)\"><center>3.4 </center></td>\n",
       "<td style=\"font-family:monospace;white-space: pre;\" title=\"(6, 8)\"><center>3.45</center></td>\n",
       "<td style=\"font-family:monospace;white-space: pre;\" title=\"(6, 9)\"><center>3.5 </center></td>\n",
       "</tr>\n",
       "<tr>\n",
       "<td style=\"font-family:monospace;white-space: pre;\" title=\"(7, 0)\"><center>3.55</center></td>\n",
       "<td style=\"font-family:monospace;white-space: pre;\" title=\"(7, 1)\"><center>3.6 </center></td>\n",
       "<td style=\"font-family:monospace;white-space: pre;\" title=\"(7, 2)\"><center>3.65</center></td>\n",
       "<td style=\"font-family:monospace;white-space: pre;\" title=\"(7, 3)\"><center>3.7 </center></td>\n",
       "<td style=\"font-family:monospace;white-space: pre;\" title=\"(7, 4)\"><center>3.75</center></td>\n",
       "<td style=\"font-family:monospace;white-space: pre;\" title=\"(7, 5)\"><center>3.8 </center></td>\n",
       "<td style=\"font-family:monospace;white-space: pre;\" title=\"(7, 6)\"><center>3.85</center></td>\n",
       "<td style=\"font-family:monospace;white-space: pre;\" title=\"(7, 7)\"><center>3.9 </center></td>\n",
       "<td style=\"font-family:monospace;white-space: pre;\" title=\"(7, 8)\"><center>3.95</center></td>\n",
       "<td style=\"font-family:monospace;white-space: pre;\" title=\"(7, 9)\"><center>4.  </center></td>\n",
       "</tr>\n",
       "<tr>\n",
       "<td style=\"font-family:monospace;white-space: pre;\" title=\"(8, 0)\"><center>4.05</center></td>\n",
       "<td style=\"font-family:monospace;white-space: pre;\" title=\"(8, 1)\"><center>4.1 </center></td>\n",
       "<td style=\"font-family:monospace;white-space: pre;\" title=\"(8, 2)\"><center>4.15</center></td>\n",
       "<td style=\"font-family:monospace;white-space: pre;\" title=\"(8, 3)\"><center>4.2 </center></td>\n",
       "<td style=\"font-family:monospace;white-space: pre;\" title=\"(8, 4)\"><center>4.25</center></td>\n",
       "<td style=\"font-family:monospace;white-space: pre;\" title=\"(8, 5)\"><center>4.3 </center></td>\n",
       "<td style=\"font-family:monospace;white-space: pre;\" title=\"(8, 6)\"><center>4.35</center></td>\n",
       "<td style=\"font-family:monospace;white-space: pre;\" title=\"(8, 7)\"><center>4.4 </center></td>\n",
       "<td style=\"font-family:monospace;white-space: pre;\" title=\"(8, 8)\"><center>4.45</center></td>\n",
       "<td style=\"font-family:monospace;white-space: pre;\" title=\"(8, 9)\"><center>4.5 </center></td>\n",
       "</tr>\n",
       "<tr>\n",
       "<td style=\"font-family:monospace;white-space: pre;\" title=\"(9, 0)\"><center>4.55</center></td>\n",
       "<td style=\"font-family:monospace;white-space: pre;\" title=\"(9, 1)\"><center>4.6 </center></td>\n",
       "<td style=\"font-family:monospace;white-space: pre;\" title=\"(9, 2)\"><center>4.65</center></td>\n",
       "<td style=\"font-family:monospace;white-space: pre;\" title=\"(9, 3)\"><center>4.7 </center></td>\n",
       "<td style=\"font-family:monospace;white-space: pre;\" title=\"(9, 4)\"><center>4.75</center></td>\n",
       "<td style=\"font-family:monospace;white-space: pre;\" title=\"(9, 5)\"><center>4.8 </center></td>\n",
       "<td style=\"font-family:monospace;white-space: pre;\" title=\"(9, 6)\"><center>4.85</center></td>\n",
       "<td style=\"font-family:monospace;white-space: pre;\" title=\"(9, 7)\"><center>4.9 </center></td>\n",
       "<td style=\"font-family:monospace;white-space: pre;\" title=\"(9, 8)\"><center>4.95</center></td>\n",
       "<td style=\"font-family:monospace;white-space: pre;\" title=\"(9, 9)\"><center>5.  </center></td>\n",
       "</tr>\n",
       "</table>"
      ],
      "text/plain": [
       "array([[0.05, 0.1 , 0.15, 0.2 , 0.25, 0.3 , 0.35, 0.4 , 0.45, 0.5 ],\n",
       "       [0.55, 0.6 , 0.65, 0.7 , 0.75, 0.8 , 0.85, 0.9 , 0.95, 1.  ],\n",
       "       [1.05, 1.1 , 1.15, 1.2 , 1.25, 1.3 , 1.35, 1.4 , 1.45, 1.5 ],\n",
       "       [1.55, 1.6 , 1.65, 1.7 , 1.75, 1.8 , 1.85, 1.9 , 1.95, 2.  ],\n",
       "       [2.05, 2.1 , 2.15, 2.2 , 2.25, 2.3 , 2.35, 2.4 , 2.45, 2.5 ],\n",
       "       [2.55, 2.6 , 2.65, 2.7 , 2.75, 2.8 , 2.85, 2.9 , 2.95, 3.  ],\n",
       "       [3.05, 3.1 , 3.15, 3.2 , 3.25, 3.3 , 3.35, 3.4 , 3.45, 3.5 ],\n",
       "       [3.55, 3.6 , 3.65, 3.7 , 3.75, 3.8 , 3.85, 3.9 , 3.95, 4.  ],\n",
       "       [4.05, 4.1 , 4.15, 4.2 , 4.25, 4.3 , 4.35, 4.4 , 4.45, 4.5 ],\n",
       "       [4.55, 4.6 , 4.65, 4.7 , 4.75, 4.8 , 4.85, 4.9 , 4.95, 5.  ]])"
      ]
     },
     "execution_count": 128,
     "metadata": {},
     "output_type": "execute_result"
    }
   ],
   "source": [
    "matrix = np.linspace(0.05, 5, 100).reshape(10, 10)\n",
    "matrix"
   ]
  },
  {
   "attachments": {},
   "cell_type": "markdown",
   "metadata": {},
   "source": [
    "<h3><b>6. Use this matrix in your code:</b></h3>\n",
    "\n",
    "dataset = np.arange(1, 37).reshape(6, 6)\n",
    "\n",
    "<img src=\"http://srv.plab.fi/~tuomasv/data_analytics_2023_images/exercise_set_1/matrix4.png\"/>\n"
   ]
  },
  {
   "cell_type": "code",
   "execution_count": 129,
   "metadata": {},
   "outputs": [
    {
     "data": {
      "text/html": [
       "<table style='border-style:solid;border-width:1px;'>\n",
       "<tr>\n",
       "<td style=\"font-family:monospace;white-space: pre;\" title=\"(0, 0)\"><center>1 </center></td>\n",
       "<td style=\"font-family:monospace;white-space: pre;\" title=\"(0, 1)\"><center>2 </center></td>\n",
       "<td style=\"font-family:monospace;white-space: pre;\" title=\"(0, 2)\"><center>3 </center></td>\n",
       "<td style=\"font-family:monospace;white-space: pre;\" title=\"(0, 3)\"><center>4 </center></td>\n",
       "<td style=\"font-family:monospace;white-space: pre;\" title=\"(0, 4)\"><center>5 </center></td>\n",
       "<td style=\"font-family:monospace;white-space: pre;\" title=\"(0, 5)\"><center>6 </center></td>\n",
       "</tr>\n",
       "<tr>\n",
       "<td style=\"font-family:monospace;white-space: pre;\" title=\"(1, 0)\"><center>7 </center></td>\n",
       "<td style=\"font-family:monospace;white-space: pre;\" title=\"(1, 1)\"><center>8 </center></td>\n",
       "<td style=\"font-family:monospace;white-space: pre;\" title=\"(1, 2)\"><center>9 </center></td>\n",
       "<td style=\"font-family:monospace;white-space: pre;\" title=\"(1, 3)\"><center>10</center></td>\n",
       "<td style=\"font-family:monospace;white-space: pre;\" title=\"(1, 4)\"><center>11</center></td>\n",
       "<td style=\"font-family:monospace;white-space: pre;\" title=\"(1, 5)\"><center>12</center></td>\n",
       "</tr>\n",
       "<tr>\n",
       "<td style=\"font-family:monospace;white-space: pre;\" title=\"(2, 0)\"><center>13</center></td>\n",
       "<td style=\"font-family:monospace;white-space: pre;\" title=\"(2, 1)\"><center>14</center></td>\n",
       "<td style=\"font-family:monospace;white-space: pre;\" title=\"(2, 2)\"><center>15</center></td>\n",
       "<td style=\"font-family:monospace;white-space: pre;\" title=\"(2, 3)\"><center>16</center></td>\n",
       "<td style=\"font-family:monospace;white-space: pre;\" title=\"(2, 4)\"><center>17</center></td>\n",
       "<td style=\"font-family:monospace;white-space: pre;\" title=\"(2, 5)\"><center>18</center></td>\n",
       "</tr>\n",
       "<tr>\n",
       "<td style=\"font-family:monospace;white-space: pre;\" title=\"(3, 0)\"><center>19</center></td>\n",
       "<td style=\"font-family:monospace;white-space: pre;\" title=\"(3, 1)\"><center>20</center></td>\n",
       "<td style=\"font-family:monospace;white-space: pre;\" title=\"(3, 2)\"><center>21</center></td>\n",
       "<td style=\"font-family:monospace;white-space: pre;\" title=\"(3, 3)\"><center>22</center></td>\n",
       "<td style=\"font-family:monospace;white-space: pre;\" title=\"(3, 4)\"><center>23</center></td>\n",
       "<td style=\"font-family:monospace;white-space: pre;\" title=\"(3, 5)\"><center>24</center></td>\n",
       "</tr>\n",
       "<tr>\n",
       "<td style=\"font-family:monospace;white-space: pre;\" title=\"(4, 0)\"><center>25</center></td>\n",
       "<td style=\"font-family:monospace;white-space: pre;\" title=\"(4, 1)\"><center>26</center></td>\n",
       "<td style=\"font-family:monospace;white-space: pre;\" title=\"(4, 2)\"><center>27</center></td>\n",
       "<td style=\"font-family:monospace;white-space: pre;\" title=\"(4, 3)\"><center>28</center></td>\n",
       "<td style=\"font-family:monospace;white-space: pre;\" title=\"(4, 4)\"><center>29</center></td>\n",
       "<td style=\"font-family:monospace;white-space: pre;\" title=\"(4, 5)\"><center>30</center></td>\n",
       "</tr>\n",
       "<tr>\n",
       "<td style=\"font-family:monospace;white-space: pre;\" title=\"(5, 0)\"><center>31</center></td>\n",
       "<td style=\"font-family:monospace;white-space: pre;\" title=\"(5, 1)\"><center>32</center></td>\n",
       "<td style=\"font-family:monospace;white-space: pre;\" title=\"(5, 2)\"><center>33</center></td>\n",
       "<td style=\"font-family:monospace;white-space: pre;\" title=\"(5, 3)\"><center>34</center></td>\n",
       "<td style=\"font-family:monospace;white-space: pre;\" title=\"(5, 4)\"><center>35</center></td>\n",
       "<td style=\"font-family:monospace;white-space: pre;\" title=\"(5, 5)\"><center>36</center></td>\n",
       "</tr>\n",
       "</table>"
      ],
      "text/plain": [
       "array([[ 1,  2,  3,  4,  5,  6],\n",
       "       [ 7,  8,  9, 10, 11, 12],\n",
       "       [13, 14, 15, 16, 17, 18],\n",
       "       [19, 20, 21, 22, 23, 24],\n",
       "       [25, 26, 27, 28, 29, 30],\n",
       "       [31, 32, 33, 34, 35, 36]])"
      ]
     },
     "execution_count": 129,
     "metadata": {},
     "output_type": "execute_result"
    }
   ],
   "source": [
    "# exercise 1.6a, matrix slicing\n",
    "dataset = np.arange(1, 37).reshape(6, 6)\n",
    "dataset"
   ]
  },
  {
   "attachments": {},
   "cell_type": "markdown",
   "metadata": {},
   "source": [
    "- Create a slice of the matrix that contains this part of the matrix:\n",
    "\n",
    "<img src=\"http://srv.plab.fi/~tuomasv/data_analytics_2023_images/exercise_set_1/matrix5.png\"/>"
   ]
  },
  {
   "cell_type": "code",
   "execution_count": 130,
   "metadata": {},
   "outputs": [
    {
     "data": {
      "text/html": [
       "<table style='border-style:solid;border-width:1px;'>\n",
       "<tr>\n",
       "<td style=\"font-family:monospace;white-space: pre;\" title=\"(0, 0)\"><center>21</center></td>\n",
       "<td style=\"font-family:monospace;white-space: pre;\" title=\"(0, 1)\"><center>22</center></td>\n",
       "<td style=\"font-family:monospace;white-space: pre;\" title=\"(0, 2)\"><center>23</center></td>\n",
       "<td style=\"font-family:monospace;white-space: pre;\" title=\"(0, 3)\"><center>24</center></td>\n",
       "</tr>\n",
       "<tr>\n",
       "<td style=\"font-family:monospace;white-space: pre;\" title=\"(1, 0)\"><center>27</center></td>\n",
       "<td style=\"font-family:monospace;white-space: pre;\" title=\"(1, 1)\"><center>28</center></td>\n",
       "<td style=\"font-family:monospace;white-space: pre;\" title=\"(1, 2)\"><center>29</center></td>\n",
       "<td style=\"font-family:monospace;white-space: pre;\" title=\"(1, 3)\"><center>30</center></td>\n",
       "</tr>\n",
       "<tr>\n",
       "<td style=\"font-family:monospace;white-space: pre;\" title=\"(2, 0)\"><center>33</center></td>\n",
       "<td style=\"font-family:monospace;white-space: pre;\" title=\"(2, 1)\"><center>34</center></td>\n",
       "<td style=\"font-family:monospace;white-space: pre;\" title=\"(2, 2)\"><center>35</center></td>\n",
       "<td style=\"font-family:monospace;white-space: pre;\" title=\"(2, 3)\"><center>36</center></td>\n",
       "</tr>\n",
       "</table>"
      ],
      "text/plain": [
       "array([[21, 22, 23, 24],\n",
       "       [27, 28, 29, 30],\n",
       "       [33, 34, 35, 36]])"
      ]
     },
     "execution_count": 130,
     "metadata": {},
     "output_type": "execute_result"
    }
   ],
   "source": [
    "matrix_1 = dataset[3:, 2:]\n",
    "matrix_1\n"
   ]
  },
  {
   "attachments": {},
   "cell_type": "markdown",
   "metadata": {},
   "source": [
    "- Pick out this column slice from data\n",
    "\n",
    "<img src=\"http://srv.plab.fi/~tuomasv/data_analytics_2023_images/exercise_set_1/series1.png\"/>"
   ]
  },
  {
   "cell_type": "code",
   "execution_count": 131,
   "metadata": {},
   "outputs": [
    {
     "data": {
      "text/html": [
       "<table style='border-style:solid;border-width:1px;'>\n",
       "<tr><td style=\"font-family:monospace;white-space: pre;\" title=\"0\"><center>4 </center></td></tr>\n",
       "<tr><td style=\"font-family:monospace;white-space: pre;\" title=\"1\"><center>10</center></td></tr>\n",
       "<tr><td style=\"font-family:monospace;white-space: pre;\" title=\"2\"><center>16</center></td></tr>\n",
       "<tr><td style=\"font-family:monospace;white-space: pre;\" title=\"3\"><center>22</center></td></tr>\n",
       "</table>"
      ],
      "text/plain": [
       "array([ 4, 10, 16, 22])"
      ]
     },
     "execution_count": 131,
     "metadata": {},
     "output_type": "execute_result"
    }
   ],
   "source": [
    "# exercise 1.6c, matrix slicing\n",
    "matrix_2 = dataset[:4, 3]\n",
    "matrix_2"
   ]
  },
  {
   "attachments": {},
   "cell_type": "markdown",
   "metadata": {},
   "source": [
    "- Pick out this row from the data\n",
    "\n",
    "<img src=\"http://srv.plab.fi/~tuomasv/data_analytics_2023_images/exercise_set_1/series2.png\"/>"
   ]
  },
  {
   "cell_type": "code",
   "execution_count": 132,
   "metadata": {},
   "outputs": [
    {
     "data": {
      "text/html": [
       "<table style='border-style:solid;border-width:1px;'>\n",
       "<tr><td style=\"font-family:monospace;white-space: pre;\" title=\"0\"><center>13</center></td></tr>\n",
       "<tr><td style=\"font-family:monospace;white-space: pre;\" title=\"1\"><center>14</center></td></tr>\n",
       "<tr><td style=\"font-family:monospace;white-space: pre;\" title=\"2\"><center>15</center></td></tr>\n",
       "<tr><td style=\"font-family:monospace;white-space: pre;\" title=\"3\"><center>16</center></td></tr>\n",
       "<tr><td style=\"font-family:monospace;white-space: pre;\" title=\"4\"><center>17</center></td></tr>\n",
       "<tr><td style=\"font-family:monospace;white-space: pre;\" title=\"5\"><center>18</center></td></tr>\n",
       "</table>"
      ],
      "text/plain": [
       "array([13, 14, 15, 16, 17, 18])"
      ]
     },
     "execution_count": 132,
     "metadata": {},
     "output_type": "execute_result"
    }
   ],
   "source": [
    "matrix_3 =  dataset[2, :]\n",
    "matrix_3"
   ]
  },
  {
   "attachments": {},
   "cell_type": "markdown",
   "metadata": {},
   "source": [
    "- Pick out these three rows from data:\n",
    "\n",
    "<img src=\"http://srv.plab.fi/~tuomasv/data_analytics_2023_images/exercise_set_1/matrix6.png\"/>"
   ]
  },
  {
   "cell_type": "code",
   "execution_count": 133,
   "metadata": {},
   "outputs": [
    {
     "data": {
      "text/html": [
       "<table style='border-style:solid;border-width:1px;'>\n",
       "<tr>\n",
       "<td style=\"font-family:monospace;white-space: pre;\" title=\"(0, 0)\"><center>19</center></td>\n",
       "<td style=\"font-family:monospace;white-space: pre;\" title=\"(0, 1)\"><center>20</center></td>\n",
       "<td style=\"font-family:monospace;white-space: pre;\" title=\"(0, 2)\"><center>21</center></td>\n",
       "<td style=\"font-family:monospace;white-space: pre;\" title=\"(0, 3)\"><center>22</center></td>\n",
       "<td style=\"font-family:monospace;white-space: pre;\" title=\"(0, 4)\"><center>23</center></td>\n",
       "<td style=\"font-family:monospace;white-space: pre;\" title=\"(0, 5)\"><center>24</center></td>\n",
       "</tr>\n",
       "<tr>\n",
       "<td style=\"font-family:monospace;white-space: pre;\" title=\"(1, 0)\"><center>25</center></td>\n",
       "<td style=\"font-family:monospace;white-space: pre;\" title=\"(1, 1)\"><center>26</center></td>\n",
       "<td style=\"font-family:monospace;white-space: pre;\" title=\"(1, 2)\"><center>27</center></td>\n",
       "<td style=\"font-family:monospace;white-space: pre;\" title=\"(1, 3)\"><center>28</center></td>\n",
       "<td style=\"font-family:monospace;white-space: pre;\" title=\"(1, 4)\"><center>29</center></td>\n",
       "<td style=\"font-family:monospace;white-space: pre;\" title=\"(1, 5)\"><center>30</center></td>\n",
       "</tr>\n",
       "<tr>\n",
       "<td style=\"font-family:monospace;white-space: pre;\" title=\"(2, 0)\"><center>31</center></td>\n",
       "<td style=\"font-family:monospace;white-space: pre;\" title=\"(2, 1)\"><center>32</center></td>\n",
       "<td style=\"font-family:monospace;white-space: pre;\" title=\"(2, 2)\"><center>33</center></td>\n",
       "<td style=\"font-family:monospace;white-space: pre;\" title=\"(2, 3)\"><center>34</center></td>\n",
       "<td style=\"font-family:monospace;white-space: pre;\" title=\"(2, 4)\"><center>35</center></td>\n",
       "<td style=\"font-family:monospace;white-space: pre;\" title=\"(2, 5)\"><center>36</center></td>\n",
       "</tr>\n",
       "</table>"
      ],
      "text/plain": [
       "array([[19, 20, 21, 22, 23, 24],\n",
       "       [25, 26, 27, 28, 29, 30],\n",
       "       [31, 32, 33, 34, 35, 36]])"
      ]
     },
     "execution_count": 133,
     "metadata": {},
     "output_type": "execute_result"
    }
   ],
   "source": [
    "matrix_4 = dataset[3:, :]\n",
    "matrix_4"
   ]
  },
  {
   "attachments": {},
   "cell_type": "markdown",
   "metadata": {},
   "source": [
    "<h3><b>7. Use this matrix:</b></h3>\n",
    "\n",
    "<b>dataset_2 = np.arange(1, 50).reshape(7, 7)</b>\n",
    "\n",
    "- Add 50 to all values in the array (use broadcasting)\n",
    "\n",
    "- Get the sum of all values in the dataset\n",
    "\n",
    "- Get sum of only odd numbers in the dataset\n",
    "\n",
    "- Get the standard deviation of the values in the dataset\n",
    "\n",
    "- Get the sum of all values by ROW in the dataset\n",
    "\n",
    "- Get the sum of all values by COLUMN in the dataset (tip, use the axis –parameter)\n",
    "\n",
    "<br>\n",
    "\n",
    "- <b>Extra task:</b> Do the total sum, row sum and column sum exercises <u><b>without</b></u> NumPy in Python!\n",
    "\n",
    "<br>\n",
    "<b>Note:</b> Don't create a new dataset when adding 50 to all values in the array, use the existing one.\n",
    "<br><br>\n",
    "<img src=\"http://srv.plab.fi/~tuomasv/data_analytics_2023_images/exercise_set_1/desktopcomputer.png\"/>\n"
   ]
  },
  {
   "cell_type": "code",
   "execution_count": 134,
   "metadata": {},
   "outputs": [],
   "source": [
    "# exercise 1.7, NumPy -operations on a matrix\n",
    "# use different variable names for each subtask\n",
    "# you can also make new code cells if you need\n"
   ]
  },
  {
   "cell_type": "code",
   "execution_count": 135,
   "metadata": {},
   "outputs": [
    {
     "data": {
      "text/html": [
       "<table style='border-style:solid;border-width:1px;'>\n",
       "<tr>\n",
       "<td style=\"font-family:monospace;white-space: pre;\" title=\"(0, 0)\"><center>1 </center></td>\n",
       "<td style=\"font-family:monospace;white-space: pre;\" title=\"(0, 1)\"><center>2 </center></td>\n",
       "<td style=\"font-family:monospace;white-space: pre;\" title=\"(0, 2)\"><center>3 </center></td>\n",
       "<td style=\"font-family:monospace;white-space: pre;\" title=\"(0, 3)\"><center>4 </center></td>\n",
       "<td style=\"font-family:monospace;white-space: pre;\" title=\"(0, 4)\"><center>5 </center></td>\n",
       "<td style=\"font-family:monospace;white-space: pre;\" title=\"(0, 5)\"><center>6 </center></td>\n",
       "<td style=\"font-family:monospace;white-space: pre;\" title=\"(0, 6)\"><center>7 </center></td>\n",
       "</tr>\n",
       "<tr>\n",
       "<td style=\"font-family:monospace;white-space: pre;\" title=\"(1, 0)\"><center>8 </center></td>\n",
       "<td style=\"font-family:monospace;white-space: pre;\" title=\"(1, 1)\"><center>9 </center></td>\n",
       "<td style=\"font-family:monospace;white-space: pre;\" title=\"(1, 2)\"><center>10</center></td>\n",
       "<td style=\"font-family:monospace;white-space: pre;\" title=\"(1, 3)\"><center>11</center></td>\n",
       "<td style=\"font-family:monospace;white-space: pre;\" title=\"(1, 4)\"><center>12</center></td>\n",
       "<td style=\"font-family:monospace;white-space: pre;\" title=\"(1, 5)\"><center>13</center></td>\n",
       "<td style=\"font-family:monospace;white-space: pre;\" title=\"(1, 6)\"><center>14</center></td>\n",
       "</tr>\n",
       "<tr>\n",
       "<td style=\"font-family:monospace;white-space: pre;\" title=\"(2, 0)\"><center>15</center></td>\n",
       "<td style=\"font-family:monospace;white-space: pre;\" title=\"(2, 1)\"><center>16</center></td>\n",
       "<td style=\"font-family:monospace;white-space: pre;\" title=\"(2, 2)\"><center>17</center></td>\n",
       "<td style=\"font-family:monospace;white-space: pre;\" title=\"(2, 3)\"><center>18</center></td>\n",
       "<td style=\"font-family:monospace;white-space: pre;\" title=\"(2, 4)\"><center>19</center></td>\n",
       "<td style=\"font-family:monospace;white-space: pre;\" title=\"(2, 5)\"><center>20</center></td>\n",
       "<td style=\"font-family:monospace;white-space: pre;\" title=\"(2, 6)\"><center>21</center></td>\n",
       "</tr>\n",
       "<tr>\n",
       "<td style=\"font-family:monospace;white-space: pre;\" title=\"(3, 0)\"><center>22</center></td>\n",
       "<td style=\"font-family:monospace;white-space: pre;\" title=\"(3, 1)\"><center>23</center></td>\n",
       "<td style=\"font-family:monospace;white-space: pre;\" title=\"(3, 2)\"><center>24</center></td>\n",
       "<td style=\"font-family:monospace;white-space: pre;\" title=\"(3, 3)\"><center>25</center></td>\n",
       "<td style=\"font-family:monospace;white-space: pre;\" title=\"(3, 4)\"><center>26</center></td>\n",
       "<td style=\"font-family:monospace;white-space: pre;\" title=\"(3, 5)\"><center>27</center></td>\n",
       "<td style=\"font-family:monospace;white-space: pre;\" title=\"(3, 6)\"><center>28</center></td>\n",
       "</tr>\n",
       "<tr>\n",
       "<td style=\"font-family:monospace;white-space: pre;\" title=\"(4, 0)\"><center>29</center></td>\n",
       "<td style=\"font-family:monospace;white-space: pre;\" title=\"(4, 1)\"><center>30</center></td>\n",
       "<td style=\"font-family:monospace;white-space: pre;\" title=\"(4, 2)\"><center>31</center></td>\n",
       "<td style=\"font-family:monospace;white-space: pre;\" title=\"(4, 3)\"><center>32</center></td>\n",
       "<td style=\"font-family:monospace;white-space: pre;\" title=\"(4, 4)\"><center>33</center></td>\n",
       "<td style=\"font-family:monospace;white-space: pre;\" title=\"(4, 5)\"><center>34</center></td>\n",
       "<td style=\"font-family:monospace;white-space: pre;\" title=\"(4, 6)\"><center>35</center></td>\n",
       "</tr>\n",
       "<tr>\n",
       "<td style=\"font-family:monospace;white-space: pre;\" title=\"(5, 0)\"><center>36</center></td>\n",
       "<td style=\"font-family:monospace;white-space: pre;\" title=\"(5, 1)\"><center>37</center></td>\n",
       "<td style=\"font-family:monospace;white-space: pre;\" title=\"(5, 2)\"><center>38</center></td>\n",
       "<td style=\"font-family:monospace;white-space: pre;\" title=\"(5, 3)\"><center>39</center></td>\n",
       "<td style=\"font-family:monospace;white-space: pre;\" title=\"(5, 4)\"><center>40</center></td>\n",
       "<td style=\"font-family:monospace;white-space: pre;\" title=\"(5, 5)\"><center>41</center></td>\n",
       "<td style=\"font-family:monospace;white-space: pre;\" title=\"(5, 6)\"><center>42</center></td>\n",
       "</tr>\n",
       "<tr>\n",
       "<td style=\"font-family:monospace;white-space: pre;\" title=\"(6, 0)\"><center>43</center></td>\n",
       "<td style=\"font-family:monospace;white-space: pre;\" title=\"(6, 1)\"><center>44</center></td>\n",
       "<td style=\"font-family:monospace;white-space: pre;\" title=\"(6, 2)\"><center>45</center></td>\n",
       "<td style=\"font-family:monospace;white-space: pre;\" title=\"(6, 3)\"><center>46</center></td>\n",
       "<td style=\"font-family:monospace;white-space: pre;\" title=\"(6, 4)\"><center>47</center></td>\n",
       "<td style=\"font-family:monospace;white-space: pre;\" title=\"(6, 5)\"><center>48</center></td>\n",
       "<td style=\"font-family:monospace;white-space: pre;\" title=\"(6, 6)\"><center>49</center></td>\n",
       "</tr>\n",
       "</table>"
      ],
      "text/plain": [
       "array([[ 1,  2,  3,  4,  5,  6,  7],\n",
       "       [ 8,  9, 10, 11, 12, 13, 14],\n",
       "       [15, 16, 17, 18, 19, 20, 21],\n",
       "       [22, 23, 24, 25, 26, 27, 28],\n",
       "       [29, 30, 31, 32, 33, 34, 35],\n",
       "       [36, 37, 38, 39, 40, 41, 42],\n",
       "       [43, 44, 45, 46, 47, 48, 49]])"
      ]
     },
     "execution_count": 135,
     "metadata": {},
     "output_type": "execute_result"
    }
   ],
   "source": [
    "dataset_2 = np.arange(1, 50).reshape(7, 7)\n",
    "dataset_2"
   ]
  },
  {
   "cell_type": "code",
   "execution_count": 136,
   "metadata": {},
   "outputs": [
    {
     "data": {
      "text/html": [
       "<table style='border-style:solid;border-width:1px;'>\n",
       "<tr>\n",
       "<td style=\"font-family:monospace;white-space: pre;\" title=\"(0, 0)\"><center>51</center></td>\n",
       "<td style=\"font-family:monospace;white-space: pre;\" title=\"(0, 1)\"><center>52</center></td>\n",
       "<td style=\"font-family:monospace;white-space: pre;\" title=\"(0, 2)\"><center>53</center></td>\n",
       "<td style=\"font-family:monospace;white-space: pre;\" title=\"(0, 3)\"><center>54</center></td>\n",
       "<td style=\"font-family:monospace;white-space: pre;\" title=\"(0, 4)\"><center>55</center></td>\n",
       "<td style=\"font-family:monospace;white-space: pre;\" title=\"(0, 5)\"><center>56</center></td>\n",
       "<td style=\"font-family:monospace;white-space: pre;\" title=\"(0, 6)\"><center>57</center></td>\n",
       "</tr>\n",
       "<tr>\n",
       "<td style=\"font-family:monospace;white-space: pre;\" title=\"(1, 0)\"><center>58</center></td>\n",
       "<td style=\"font-family:monospace;white-space: pre;\" title=\"(1, 1)\"><center>59</center></td>\n",
       "<td style=\"font-family:monospace;white-space: pre;\" title=\"(1, 2)\"><center>60</center></td>\n",
       "<td style=\"font-family:monospace;white-space: pre;\" title=\"(1, 3)\"><center>61</center></td>\n",
       "<td style=\"font-family:monospace;white-space: pre;\" title=\"(1, 4)\"><center>62</center></td>\n",
       "<td style=\"font-family:monospace;white-space: pre;\" title=\"(1, 5)\"><center>63</center></td>\n",
       "<td style=\"font-family:monospace;white-space: pre;\" title=\"(1, 6)\"><center>64</center></td>\n",
       "</tr>\n",
       "<tr>\n",
       "<td style=\"font-family:monospace;white-space: pre;\" title=\"(2, 0)\"><center>65</center></td>\n",
       "<td style=\"font-family:monospace;white-space: pre;\" title=\"(2, 1)\"><center>66</center></td>\n",
       "<td style=\"font-family:monospace;white-space: pre;\" title=\"(2, 2)\"><center>67</center></td>\n",
       "<td style=\"font-family:monospace;white-space: pre;\" title=\"(2, 3)\"><center>68</center></td>\n",
       "<td style=\"font-family:monospace;white-space: pre;\" title=\"(2, 4)\"><center>69</center></td>\n",
       "<td style=\"font-family:monospace;white-space: pre;\" title=\"(2, 5)\"><center>70</center></td>\n",
       "<td style=\"font-family:monospace;white-space: pre;\" title=\"(2, 6)\"><center>71</center></td>\n",
       "</tr>\n",
       "<tr>\n",
       "<td style=\"font-family:monospace;white-space: pre;\" title=\"(3, 0)\"><center>72</center></td>\n",
       "<td style=\"font-family:monospace;white-space: pre;\" title=\"(3, 1)\"><center>73</center></td>\n",
       "<td style=\"font-family:monospace;white-space: pre;\" title=\"(3, 2)\"><center>74</center></td>\n",
       "<td style=\"font-family:monospace;white-space: pre;\" title=\"(3, 3)\"><center>75</center></td>\n",
       "<td style=\"font-family:monospace;white-space: pre;\" title=\"(3, 4)\"><center>76</center></td>\n",
       "<td style=\"font-family:monospace;white-space: pre;\" title=\"(3, 5)\"><center>77</center></td>\n",
       "<td style=\"font-family:monospace;white-space: pre;\" title=\"(3, 6)\"><center>78</center></td>\n",
       "</tr>\n",
       "<tr>\n",
       "<td style=\"font-family:monospace;white-space: pre;\" title=\"(4, 0)\"><center>79</center></td>\n",
       "<td style=\"font-family:monospace;white-space: pre;\" title=\"(4, 1)\"><center>80</center></td>\n",
       "<td style=\"font-family:monospace;white-space: pre;\" title=\"(4, 2)\"><center>81</center></td>\n",
       "<td style=\"font-family:monospace;white-space: pre;\" title=\"(4, 3)\"><center>82</center></td>\n",
       "<td style=\"font-family:monospace;white-space: pre;\" title=\"(4, 4)\"><center>83</center></td>\n",
       "<td style=\"font-family:monospace;white-space: pre;\" title=\"(4, 5)\"><center>84</center></td>\n",
       "<td style=\"font-family:monospace;white-space: pre;\" title=\"(4, 6)\"><center>85</center></td>\n",
       "</tr>\n",
       "<tr>\n",
       "<td style=\"font-family:monospace;white-space: pre;\" title=\"(5, 0)\"><center>86</center></td>\n",
       "<td style=\"font-family:monospace;white-space: pre;\" title=\"(5, 1)\"><center>87</center></td>\n",
       "<td style=\"font-family:monospace;white-space: pre;\" title=\"(5, 2)\"><center>88</center></td>\n",
       "<td style=\"font-family:monospace;white-space: pre;\" title=\"(5, 3)\"><center>89</center></td>\n",
       "<td style=\"font-family:monospace;white-space: pre;\" title=\"(5, 4)\"><center>90</center></td>\n",
       "<td style=\"font-family:monospace;white-space: pre;\" title=\"(5, 5)\"><center>91</center></td>\n",
       "<td style=\"font-family:monospace;white-space: pre;\" title=\"(5, 6)\"><center>92</center></td>\n",
       "</tr>\n",
       "<tr>\n",
       "<td style=\"font-family:monospace;white-space: pre;\" title=\"(6, 0)\"><center>93</center></td>\n",
       "<td style=\"font-family:monospace;white-space: pre;\" title=\"(6, 1)\"><center>94</center></td>\n",
       "<td style=\"font-family:monospace;white-space: pre;\" title=\"(6, 2)\"><center>95</center></td>\n",
       "<td style=\"font-family:monospace;white-space: pre;\" title=\"(6, 3)\"><center>96</center></td>\n",
       "<td style=\"font-family:monospace;white-space: pre;\" title=\"(6, 4)\"><center>97</center></td>\n",
       "<td style=\"font-family:monospace;white-space: pre;\" title=\"(6, 5)\"><center>98</center></td>\n",
       "<td style=\"font-family:monospace;white-space: pre;\" title=\"(6, 6)\"><center>99</center></td>\n",
       "</tr>\n",
       "</table>"
      ],
      "text/plain": [
       "array([[51, 52, 53, 54, 55, 56, 57],\n",
       "       [58, 59, 60, 61, 62, 63, 64],\n",
       "       [65, 66, 67, 68, 69, 70, 71],\n",
       "       [72, 73, 74, 75, 76, 77, 78],\n",
       "       [79, 80, 81, 82, 83, 84, 85],\n",
       "       [86, 87, 88, 89, 90, 91, 92],\n",
       "       [93, 94, 95, 96, 97, 98, 99]])"
      ]
     },
     "execution_count": 136,
     "metadata": {},
     "output_type": "execute_result"
    }
   ],
   "source": [
    "# 1- Adding 50 to all values in the array\n",
    "matrix_1 = dataset_2 + 50\n",
    "matrix_1"
   ]
  },
  {
   "cell_type": "code",
   "execution_count": 137,
   "metadata": {},
   "outputs": [
    {
     "data": {
      "text/plain": [
       "np.int64(1225)"
      ]
     },
     "execution_count": 137,
     "metadata": {},
     "output_type": "execute_result"
    }
   ],
   "source": [
    "# 2-Getting the sum of all values in the array\n",
    "sum = np.sum(dataset_2)\n",
    "sum"
   ]
  },
  {
   "cell_type": "code",
   "execution_count": 138,
   "metadata": {},
   "outputs": [
    {
     "data": {
      "text/plain": [
       "np.int64(625)"
      ]
     },
     "execution_count": 138,
     "metadata": {},
     "output_type": "execute_result"
    }
   ],
   "source": [
    "# 3 Getting sum of only odd numbers in the matrix\n",
    "odd_sum = dataset_2[dataset_2 % 2 != 0].sum()\n",
    "odd_sum\n"
   ]
  },
  {
   "cell_type": "code",
   "execution_count": 139,
   "metadata": {},
   "outputs": [
    {
     "data": {
      "text/plain": [
       "np.float64(14.142135623730951)"
      ]
     },
     "execution_count": 139,
     "metadata": {},
     "output_type": "execute_result"
    }
   ],
   "source": [
    "# 4- Getting the standard deviation of the values in the matrix\n",
    "std = dataset_2.std()   \n",
    "std"
   ]
  },
  {
   "cell_type": "code",
   "execution_count": 140,
   "metadata": {},
   "outputs": [
    {
     "data": {
      "text/html": [
       "<table style='border-style:solid;border-width:1px;'>\n",
       "<tr><td style=\"font-family:monospace;white-space: pre;\" title=\"0\"><center>28 </center></td></tr>\n",
       "<tr><td style=\"font-family:monospace;white-space: pre;\" title=\"1\"><center>77 </center></td></tr>\n",
       "<tr><td style=\"font-family:monospace;white-space: pre;\" title=\"2\"><center>126</center></td></tr>\n",
       "<tr><td style=\"font-family:monospace;white-space: pre;\" title=\"3\"><center>175</center></td></tr>\n",
       "<tr><td style=\"font-family:monospace;white-space: pre;\" title=\"4\"><center>224</center></td></tr>\n",
       "<tr><td style=\"font-family:monospace;white-space: pre;\" title=\"5\"><center>273</center></td></tr>\n",
       "<tr><td style=\"font-family:monospace;white-space: pre;\" title=\"6\"><center>322</center></td></tr>\n",
       "</table>"
      ],
      "text/plain": [
       "array([ 28,  77, 126, 175, 224, 273, 322])"
      ]
     },
     "execution_count": 140,
     "metadata": {},
     "output_type": "execute_result"
    }
   ],
   "source": [
    "# 5- Getting the sum of all values by ROW in the matrix\n",
    "sum_row = dataset_2.sum(axis=1)\n",
    "sum_row"
   ]
  },
  {
   "cell_type": "code",
   "execution_count": 141,
   "metadata": {},
   "outputs": [
    {
     "data": {
      "text/html": [
       "<table style='border-style:solid;border-width:1px;'>\n",
       "<tr><td style=\"font-family:monospace;white-space: pre;\" title=\"0\"><center>154</center></td></tr>\n",
       "<tr><td style=\"font-family:monospace;white-space: pre;\" title=\"1\"><center>161</center></td></tr>\n",
       "<tr><td style=\"font-family:monospace;white-space: pre;\" title=\"2\"><center>168</center></td></tr>\n",
       "<tr><td style=\"font-family:monospace;white-space: pre;\" title=\"3\"><center>175</center></td></tr>\n",
       "<tr><td style=\"font-family:monospace;white-space: pre;\" title=\"4\"><center>182</center></td></tr>\n",
       "<tr><td style=\"font-family:monospace;white-space: pre;\" title=\"5\"><center>189</center></td></tr>\n",
       "<tr><td style=\"font-family:monospace;white-space: pre;\" title=\"6\"><center>196</center></td></tr>\n",
       "</table>"
      ],
      "text/plain": [
       "array([154, 161, 168, 175, 182, 189, 196])"
      ]
     },
     "execution_count": 141,
     "metadata": {},
     "output_type": "execute_result"
    }
   ],
   "source": [
    "# 6- Getting the sum of all values by COLUMN in the matrix\n",
    "sum_column = dataset_2.sum(axis=0)\n",
    "sum_column"
   ]
  },
  {
   "cell_type": "code",
   "execution_count": 142,
   "metadata": {},
   "outputs": [],
   "source": [
    "# 7- Extra task: \n",
    "# Doing the total sum, row sum and column sum exercises without NumPy\n",
    "# I have not found any way to do this without using NumPy yet, I will try to do it again later."
   ]
  },
  {
   "attachments": {},
   "cell_type": "markdown",
   "metadata": {},
   "source": [
    "<br><br>\n",
    "<h2><b>Advanced extra tasks for extra points (varying challenges, some require Googling):</b></h2>"
   ]
  },
  {
   "attachments": {},
   "cell_type": "markdown",
   "metadata": {},
   "source": [
    "<h3><b>1. Create two files for this exercise: save_matrix.py and read_matrix.py</b></h3>\n",
    "\n",
    "- in save_matrix.py: create a 15x15 matrix, and save it to a file (matrix.txt)\n",
    " - in read_matrix.py, read matrix.txt, and convert it back to a NumPy matrix\n",
    "\n",
    "NumPy has loadtxt() and savetxt()-functions for these purposes.\n"
   ]
  },
  {
   "cell_type": "markdown",
   "metadata": {},
   "source": [
    "<b> I created a 15x15 matrix randomly in save_matrix.py and saved it as matrix.txt file and then I read it in read_matrix.py.<br>\n",
    "Both python files and matrix in First assignment folder<b>"
   ]
  },
  {
   "attachments": {},
   "cell_type": "markdown",
   "metadata": {},
   "source": [
    "<h3><b>2. Masked arrays are a feature of NumPy that allow us to deal with pieces data that are incorrect or missing in a dataset (for example, faulty measurements from equipment etc.).</b></h3>\n",
    "\n",
    "Create a NumPy matrix, that contains numbers between 0 to 50, and put some faulty numbers in a 10 different spots \n",
    "(for example: -100)\n",
    "\n",
    "Use a masked array to handle the -100 values in your matrix. Replace every -100 with 0.\n"
   ]
  },
  {
   "cell_type": "code",
   "execution_count": 143,
   "metadata": {},
   "outputs": [
    {
     "data": {
      "text/html": [
       "<table style='border-style:solid;border-width:1px;'>\n",
       "<tr>\n",
       "<td style=\"font-family:monospace;white-space: pre;\" title=\"(0, 0)\"><center>26</center></td>\n",
       "<td style=\"font-family:monospace;white-space: pre;\" title=\"(0, 1)\"><center>32</center></td>\n",
       "<td style=\"font-family:monospace;white-space: pre;\" title=\"(0, 2)\"><center>28</center></td>\n",
       "<td style=\"font-family:monospace;white-space: pre;\" title=\"(0, 3)\"><center>10</center></td>\n",
       "<td style=\"font-family:monospace;white-space: pre;\" title=\"(0, 4)\"><center>34</center></td>\n",
       "<td style=\"font-family:monospace;white-space: pre;\" title=\"(0, 5)\"><center>18</center></td>\n",
       "<td style=\"font-family:monospace;white-space: pre;\" title=\"(0, 6)\"><center>40</center></td>\n",
       "<td style=\"font-family:monospace;white-space: pre;\" title=\"(0, 7)\"><center>24</center></td>\n",
       "<td style=\"font-family:monospace;white-space: pre;\" title=\"(0, 8)\"><center>19</center></td>\n",
       "<td style=\"font-family:monospace;white-space: pre;\" title=\"(0, 9)\"><center>37</center></td>\n",
       "<td style=\"font-family:monospace;white-space: pre;\" title=\"(0, 10)\"><center>10</center></td>\n",
       "<td style=\"font-family:monospace;white-space: pre;\" title=\"(0, 11)\"><center>27</center></td>\n",
       "<td style=\"font-family:monospace;white-space: pre;\" title=\"(0, 12)\"><center>16</center></td>\n",
       "<td style=\"font-family:monospace;white-space: pre;\" title=\"(0, 13)\"><center>32</center></td>\n",
       "<td style=\"font-family:monospace;white-space: pre;\" title=\"(0, 14)\"><center>21</center></td>\n",
       "</tr>\n",
       "<tr>\n",
       "<td style=\"font-family:monospace;white-space: pre;\" title=\"(1, 0)\"><center>2 </center></td>\n",
       "<td style=\"font-family:monospace;white-space: pre;\" title=\"(1, 1)\"><center>17</center></td>\n",
       "<td style=\"font-family:monospace;white-space: pre;\" title=\"(1, 2)\"><center>30</center></td>\n",
       "<td style=\"font-family:monospace;white-space: pre;\" title=\"(1, 3)\"><center>12</center></td>\n",
       "<td style=\"font-family:monospace;white-space: pre;\" title=\"(1, 4)\"><center>7 </center></td>\n",
       "<td style=\"font-family:monospace;white-space: pre;\" title=\"(1, 5)\"><center>36</center></td>\n",
       "<td style=\"font-family:monospace;white-space: pre;\" title=\"(1, 6)\"><center>41</center></td>\n",
       "<td style=\"font-family:monospace;white-space: pre;\" title=\"(1, 7)\"><center>12</center></td>\n",
       "<td style=\"font-family:monospace;white-space: pre;\" title=\"(1, 8)\"><center>22</center></td>\n",
       "<td style=\"font-family:monospace;white-space: pre;\" title=\"(1, 9)\"><center>32</center></td>\n",
       "<td style=\"font-family:monospace;white-space: pre;\" title=\"(1, 10)\"><center>5 </center></td>\n",
       "<td style=\"font-family:monospace;white-space: pre;\" title=\"(1, 11)\"><center>50</center></td>\n",
       "<td style=\"font-family:monospace;white-space: pre;\" title=\"(1, 12)\"><center>21</center></td>\n",
       "<td style=\"font-family:monospace;white-space: pre;\" title=\"(1, 13)\"><center>46</center></td>\n",
       "<td style=\"font-family:monospace;white-space: pre;\" title=\"(1, 14)\"><center>4 </center></td>\n",
       "</tr>\n",
       "<tr>\n",
       "<td style=\"font-family:monospace;white-space: pre;\" title=\"(2, 0)\"><center>47</center></td>\n",
       "<td style=\"font-family:monospace;white-space: pre;\" title=\"(2, 1)\"><center>4 </center></td>\n",
       "<td style=\"font-family:monospace;white-space: pre;\" title=\"(2, 2)\"><center>43</center></td>\n",
       "<td style=\"font-family:monospace;white-space: pre;\" title=\"(2, 3)\"><center>16</center></td>\n",
       "<td style=\"font-family:monospace;white-space: pre;\" title=\"(2, 4)\"><center>25</center></td>\n",
       "<td style=\"font-family:monospace;white-space: pre;\" title=\"(2, 5)\"><center>46</center></td>\n",
       "<td style=\"font-family:monospace;white-space: pre;\" title=\"(2, 6)\"><center>30</center></td>\n",
       "<td style=\"font-family:monospace;white-space: pre;\" title=\"(2, 7)\"><center>42</center></td>\n",
       "<td style=\"font-family:monospace;white-space: pre;\" title=\"(2, 8)\"><center>11</center></td>\n",
       "<td style=\"font-family:monospace;white-space: pre;\" title=\"(2, 9)\"><center>24</center></td>\n",
       "<td style=\"font-family:monospace;white-space: pre;\" title=\"(2, 10)\"><center>11</center></td>\n",
       "<td style=\"font-family:monospace;white-space: pre;\" title=\"(2, 11)\"><center>46</center></td>\n",
       "<td style=\"font-family:monospace;white-space: pre;\" title=\"(2, 12)\"><center>1 </center></td>\n",
       "<td style=\"font-family:monospace;white-space: pre;\" title=\"(2, 13)\"><center>0 </center></td>\n",
       "<td style=\"font-family:monospace;white-space: pre;\" title=\"(2, 14)\"><center>15</center></td>\n",
       "</tr>\n",
       "<tr>\n",
       "<td style=\"font-family:monospace;white-space: pre;\" title=\"(3, 0)\"><center>20</center></td>\n",
       "<td style=\"font-family:monospace;white-space: pre;\" title=\"(3, 1)\"><center>15</center></td>\n",
       "<td style=\"font-family:monospace;white-space: pre;\" title=\"(3, 2)\"><center>7 </center></td>\n",
       "<td style=\"font-family:monospace;white-space: pre;\" title=\"(3, 3)\"><center>5 </center></td>\n",
       "<td style=\"font-family:monospace;white-space: pre;\" title=\"(3, 4)\"><center>27</center></td>\n",
       "<td style=\"font-family:monospace;white-space: pre;\" title=\"(3, 5)\"><center>35</center></td>\n",
       "<td style=\"font-family:monospace;white-space: pre;\" title=\"(3, 6)\"><center>26</center></td>\n",
       "<td style=\"font-family:monospace;white-space: pre;\" title=\"(3, 7)\"><center>13</center></td>\n",
       "<td style=\"font-family:monospace;white-space: pre;\" title=\"(3, 8)\"><center>20</center></td>\n",
       "<td style=\"font-family:monospace;white-space: pre;\" title=\"(3, 9)\"><center>36</center></td>\n",
       "<td style=\"font-family:monospace;white-space: pre;\" title=\"(3, 10)\"><center>42</center></td>\n",
       "<td style=\"font-family:monospace;white-space: pre;\" title=\"(3, 11)\"><center>43</center></td>\n",
       "<td style=\"font-family:monospace;white-space: pre;\" title=\"(3, 12)\"><center>46</center></td>\n",
       "<td style=\"font-family:monospace;white-space: pre;\" title=\"(3, 13)\"><center>3 </center></td>\n",
       "<td style=\"font-family:monospace;white-space: pre;\" title=\"(3, 14)\"><center>36</center></td>\n",
       "</tr>\n",
       "<tr>\n",
       "<td style=\"font-family:monospace;white-space: pre;\" title=\"(4, 0)\"><center>46</center></td>\n",
       "<td style=\"font-family:monospace;white-space: pre;\" title=\"(4, 1)\"><center>48</center></td>\n",
       "<td style=\"font-family:monospace;white-space: pre;\" title=\"(4, 2)\"><center>13</center></td>\n",
       "<td style=\"font-family:monospace;white-space: pre;\" title=\"(4, 3)\"><center>45</center></td>\n",
       "<td style=\"font-family:monospace;white-space: pre;\" title=\"(4, 4)\"><center>11</center></td>\n",
       "<td style=\"font-family:monospace;white-space: pre;\" title=\"(4, 5)\"><center>36</center></td>\n",
       "<td style=\"font-family:monospace;white-space: pre;\" title=\"(4, 6)\"><center>30</center></td>\n",
       "<td style=\"font-family:monospace;white-space: pre;\" title=\"(4, 7)\"><center>49</center></td>\n",
       "<td style=\"font-family:monospace;white-space: pre;\" title=\"(4, 8)\"><center>18</center></td>\n",
       "<td style=\"font-family:monospace;white-space: pre;\" title=\"(4, 9)\"><center>1 </center></td>\n",
       "<td style=\"font-family:monospace;white-space: pre;\" title=\"(4, 10)\"><center>17</center></td>\n",
       "<td style=\"font-family:monospace;white-space: pre;\" title=\"(4, 11)\"><center>13</center></td>\n",
       "<td style=\"font-family:monospace;white-space: pre;\" title=\"(4, 12)\"><center>4 </center></td>\n",
       "<td style=\"font-family:monospace;white-space: pre;\" title=\"(4, 13)\"><center>37</center></td>\n",
       "<td style=\"font-family:monospace;white-space: pre;\" title=\"(4, 14)\"><center>28</center></td>\n",
       "</tr>\n",
       "<tr>\n",
       "<td style=\"font-family:monospace;white-space: pre;\" title=\"(5, 0)\"><center>11</center></td>\n",
       "<td style=\"font-family:monospace;white-space: pre;\" title=\"(5, 1)\"><center>33</center></td>\n",
       "<td style=\"font-family:monospace;white-space: pre;\" title=\"(5, 2)\"><center>24</center></td>\n",
       "<td style=\"font-family:monospace;white-space: pre;\" title=\"(5, 3)\"><center>6 </center></td>\n",
       "<td style=\"font-family:monospace;white-space: pre;\" title=\"(5, 4)\"><center>50</center></td>\n",
       "<td style=\"font-family:monospace;white-space: pre;\" title=\"(5, 5)\"><center>37</center></td>\n",
       "<td style=\"font-family:monospace;white-space: pre;\" title=\"(5, 6)\"><center>45</center></td>\n",
       "<td style=\"font-family:monospace;white-space: pre;\" title=\"(5, 7)\"><center>47</center></td>\n",
       "<td style=\"font-family:monospace;white-space: pre;\" title=\"(5, 8)\"><center>20</center></td>\n",
       "<td style=\"font-family:monospace;white-space: pre;\" title=\"(5, 9)\"><center>43</center></td>\n",
       "<td style=\"font-family:monospace;white-space: pre;\" title=\"(5, 10)\"><center>2 </center></td>\n",
       "<td style=\"font-family:monospace;white-space: pre;\" title=\"(5, 11)\"><center>24</center></td>\n",
       "<td style=\"font-family:monospace;white-space: pre;\" title=\"(5, 12)\"><center>25</center></td>\n",
       "<td style=\"font-family:monospace;white-space: pre;\" title=\"(5, 13)\"><center>24</center></td>\n",
       "<td style=\"font-family:monospace;white-space: pre;\" title=\"(5, 14)\"><center>37</center></td>\n",
       "</tr>\n",
       "<tr>\n",
       "<td style=\"font-family:monospace;white-space: pre;\" title=\"(6, 0)\"><center>44</center></td>\n",
       "<td style=\"font-family:monospace;white-space: pre;\" title=\"(6, 1)\"><center>29</center></td>\n",
       "<td style=\"font-family:monospace;white-space: pre;\" title=\"(6, 2)\"><center>14</center></td>\n",
       "<td style=\"font-family:monospace;white-space: pre;\" title=\"(6, 3)\"><center>43</center></td>\n",
       "<td style=\"font-family:monospace;white-space: pre;\" title=\"(6, 4)\"><center>26</center></td>\n",
       "<td style=\"font-family:monospace;white-space: pre;\" title=\"(6, 5)\"><center>44</center></td>\n",
       "<td style=\"font-family:monospace;white-space: pre;\" title=\"(6, 6)\"><center>1 </center></td>\n",
       "<td style=\"font-family:monospace;white-space: pre;\" title=\"(6, 7)\"><center>21</center></td>\n",
       "<td style=\"font-family:monospace;white-space: pre;\" title=\"(6, 8)\"><center>10</center></td>\n",
       "<td style=\"font-family:monospace;white-space: pre;\" title=\"(6, 9)\"><center>18</center></td>\n",
       "<td style=\"font-family:monospace;white-space: pre;\" title=\"(6, 10)\"><center>7 </center></td>\n",
       "<td style=\"font-family:monospace;white-space: pre;\" title=\"(6, 11)\"><center>18</center></td>\n",
       "<td style=\"font-family:monospace;white-space: pre;\" title=\"(6, 12)\"><center>4 </center></td>\n",
       "<td style=\"font-family:monospace;white-space: pre;\" title=\"(6, 13)\"><center>32</center></td>\n",
       "<td style=\"font-family:monospace;white-space: pre;\" title=\"(6, 14)\"><center>12</center></td>\n",
       "</tr>\n",
       "<tr>\n",
       "<td style=\"font-family:monospace;white-space: pre;\" title=\"(7, 0)\"><center>14</center></td>\n",
       "<td style=\"font-family:monospace;white-space: pre;\" title=\"(7, 1)\"><center>7 </center></td>\n",
       "<td style=\"font-family:monospace;white-space: pre;\" title=\"(7, 2)\"><center>22</center></td>\n",
       "<td style=\"font-family:monospace;white-space: pre;\" title=\"(7, 3)\"><center>20</center></td>\n",
       "<td style=\"font-family:monospace;white-space: pre;\" title=\"(7, 4)\"><center>21</center></td>\n",
       "<td style=\"font-family:monospace;white-space: pre;\" title=\"(7, 5)\"><center>13</center></td>\n",
       "<td style=\"font-family:monospace;white-space: pre;\" title=\"(7, 6)\"><center>4 </center></td>\n",
       "<td style=\"font-family:monospace;white-space: pre;\" title=\"(7, 7)\"><center>27</center></td>\n",
       "<td style=\"font-family:monospace;white-space: pre;\" title=\"(7, 8)\"><center>16</center></td>\n",
       "<td style=\"font-family:monospace;white-space: pre;\" title=\"(7, 9)\"><center>1 </center></td>\n",
       "<td style=\"font-family:monospace;white-space: pre;\" title=\"(7, 10)\"><center>33</center></td>\n",
       "<td style=\"font-family:monospace;white-space: pre;\" title=\"(7, 11)\"><center>13</center></td>\n",
       "<td style=\"font-family:monospace;white-space: pre;\" title=\"(7, 12)\"><center>32</center></td>\n",
       "<td style=\"font-family:monospace;white-space: pre;\" title=\"(7, 13)\"><center>26</center></td>\n",
       "<td style=\"font-family:monospace;white-space: pre;\" title=\"(7, 14)\"><center>48</center></td>\n",
       "</tr>\n",
       "<tr>\n",
       "<td style=\"font-family:monospace;white-space: pre;\" title=\"(8, 0)\"><center>19</center></td>\n",
       "<td style=\"font-family:monospace;white-space: pre;\" title=\"(8, 1)\"><center>22</center></td>\n",
       "<td style=\"font-family:monospace;white-space: pre;\" title=\"(8, 2)\"><center>14</center></td>\n",
       "<td style=\"font-family:monospace;white-space: pre;\" title=\"(8, 3)\"><center>28</center></td>\n",
       "<td style=\"font-family:monospace;white-space: pre;\" title=\"(8, 4)\"><center>34</center></td>\n",
       "<td style=\"font-family:monospace;white-space: pre;\" title=\"(8, 5)\"><center>48</center></td>\n",
       "<td style=\"font-family:monospace;white-space: pre;\" title=\"(8, 6)\"><center>40</center></td>\n",
       "<td style=\"font-family:monospace;white-space: pre;\" title=\"(8, 7)\"><center>2 </center></td>\n",
       "<td style=\"font-family:monospace;white-space: pre;\" title=\"(8, 8)\"><center>36</center></td>\n",
       "<td style=\"font-family:monospace;white-space: pre;\" title=\"(8, 9)\"><center>45</center></td>\n",
       "<td style=\"font-family:monospace;white-space: pre;\" title=\"(8, 10)\"><center>50</center></td>\n",
       "<td style=\"font-family:monospace;white-space: pre;\" title=\"(8, 11)\"><center>47</center></td>\n",
       "<td style=\"font-family:monospace;white-space: pre;\" title=\"(8, 12)\"><center>49</center></td>\n",
       "<td style=\"font-family:monospace;white-space: pre;\" title=\"(8, 13)\"><center>17</center></td>\n",
       "<td style=\"font-family:monospace;white-space: pre;\" title=\"(8, 14)\"><center>7 </center></td>\n",
       "</tr>\n",
       "<tr>\n",
       "<td style=\"font-family:monospace;white-space: pre;\" title=\"(9, 0)\"><center>15</center></td>\n",
       "<td style=\"font-family:monospace;white-space: pre;\" title=\"(9, 1)\"><center>12</center></td>\n",
       "<td style=\"font-family:monospace;white-space: pre;\" title=\"(9, 2)\"><center>49</center></td>\n",
       "<td style=\"font-family:monospace;white-space: pre;\" title=\"(9, 3)\"><center>11</center></td>\n",
       "<td style=\"font-family:monospace;white-space: pre;\" title=\"(9, 4)\"><center>42</center></td>\n",
       "<td style=\"font-family:monospace;white-space: pre;\" title=\"(9, 5)\"><center>28</center></td>\n",
       "<td style=\"font-family:monospace;white-space: pre;\" title=\"(9, 6)\"><center>19</center></td>\n",
       "<td style=\"font-family:monospace;white-space: pre;\" title=\"(9, 7)\"><center>15</center></td>\n",
       "<td style=\"font-family:monospace;white-space: pre;\" title=\"(9, 8)\"><center>14</center></td>\n",
       "<td style=\"font-family:monospace;white-space: pre;\" title=\"(9, 9)\"><center>50</center></td>\n",
       "<td style=\"font-family:monospace;white-space: pre;\" title=\"(9, 10)\"><center>20</center></td>\n",
       "<td style=\"font-family:monospace;white-space: pre;\" title=\"(9, 11)\"><center>24</center></td>\n",
       "<td style=\"font-family:monospace;white-space: pre;\" title=\"(9, 12)\"><center>40</center></td>\n",
       "<td style=\"font-family:monospace;white-space: pre;\" title=\"(9, 13)\"><center>1 </center></td>\n",
       "<td style=\"font-family:monospace;white-space: pre;\" title=\"(9, 14)\"><center>14</center></td>\n",
       "</tr>\n",
       "<tr>\n",
       "<td style=\"font-family:monospace;white-space: pre;\" title=\"(10, 0)\"><center>2 </center></td>\n",
       "<td style=\"font-family:monospace;white-space: pre;\" title=\"(10, 1)\"><center>40</center></td>\n",
       "<td style=\"font-family:monospace;white-space: pre;\" title=\"(10, 2)\"><center>24</center></td>\n",
       "<td style=\"font-family:monospace;white-space: pre;\" title=\"(10, 3)\"><center>44</center></td>\n",
       "<td style=\"font-family:monospace;white-space: pre;\" title=\"(10, 4)\"><center>13</center></td>\n",
       "<td style=\"font-family:monospace;white-space: pre;\" title=\"(10, 5)\"><center>12</center></td>\n",
       "<td style=\"font-family:monospace;white-space: pre;\" title=\"(10, 6)\"><center>32</center></td>\n",
       "<td style=\"font-family:monospace;white-space: pre;\" title=\"(10, 7)\"><center>42</center></td>\n",
       "<td style=\"font-family:monospace;white-space: pre;\" title=\"(10, 8)\"><center>14</center></td>\n",
       "<td style=\"font-family:monospace;white-space: pre;\" title=\"(10, 9)\"><center>28</center></td>\n",
       "<td style=\"font-family:monospace;white-space: pre;\" title=\"(10, 10)\"><center>8 </center></td>\n",
       "<td style=\"font-family:monospace;white-space: pre;\" title=\"(10, 11)\"><center>9 </center></td>\n",
       "<td style=\"font-family:monospace;white-space: pre;\" title=\"(10, 12)\"><center>46</center></td>\n",
       "<td style=\"font-family:monospace;white-space: pre;\" title=\"(10, 13)\"><center>26</center></td>\n",
       "<td style=\"font-family:monospace;white-space: pre;\" title=\"(10, 14)\"><center>5 </center></td>\n",
       "</tr>\n",
       "<tr>\n",
       "<td style=\"font-family:monospace;white-space: pre;\" title=\"(11, 0)\"><center>26</center></td>\n",
       "<td style=\"font-family:monospace;white-space: pre;\" title=\"(11, 1)\"><center>21</center></td>\n",
       "<td style=\"font-family:monospace;white-space: pre;\" title=\"(11, 2)\"><center>17</center></td>\n",
       "<td style=\"font-family:monospace;white-space: pre;\" title=\"(11, 3)\"><center>13</center></td>\n",
       "<td style=\"font-family:monospace;white-space: pre;\" title=\"(11, 4)\"><center>27</center></td>\n",
       "<td style=\"font-family:monospace;white-space: pre;\" title=\"(11, 5)\"><center>5 </center></td>\n",
       "<td style=\"font-family:monospace;white-space: pre;\" title=\"(11, 6)\"><center>41</center></td>\n",
       "<td style=\"font-family:monospace;white-space: pre;\" title=\"(11, 7)\"><center>31</center></td>\n",
       "<td style=\"font-family:monospace;white-space: pre;\" title=\"(11, 8)\"><center>44</center></td>\n",
       "<td style=\"font-family:monospace;white-space: pre;\" title=\"(11, 9)\"><center>17</center></td>\n",
       "<td style=\"font-family:monospace;white-space: pre;\" title=\"(11, 10)\"><center>29</center></td>\n",
       "<td style=\"font-family:monospace;white-space: pre;\" title=\"(11, 11)\"><center>1 </center></td>\n",
       "<td style=\"font-family:monospace;white-space: pre;\" title=\"(11, 12)\"><center>27</center></td>\n",
       "<td style=\"font-family:monospace;white-space: pre;\" title=\"(11, 13)\"><center>4 </center></td>\n",
       "<td style=\"font-family:monospace;white-space: pre;\" title=\"(11, 14)\"><center>8 </center></td>\n",
       "</tr>\n",
       "<tr>\n",
       "<td style=\"font-family:monospace;white-space: pre;\" title=\"(12, 0)\"><center>39</center></td>\n",
       "<td style=\"font-family:monospace;white-space: pre;\" title=\"(12, 1)\"><center>7 </center></td>\n",
       "<td style=\"font-family:monospace;white-space: pre;\" title=\"(12, 2)\"><center>20</center></td>\n",
       "<td style=\"font-family:monospace;white-space: pre;\" title=\"(12, 3)\"><center>2 </center></td>\n",
       "<td style=\"font-family:monospace;white-space: pre;\" title=\"(12, 4)\"><center>25</center></td>\n",
       "<td style=\"font-family:monospace;white-space: pre;\" title=\"(12, 5)\"><center>15</center></td>\n",
       "<td style=\"font-family:monospace;white-space: pre;\" title=\"(12, 6)\"><center>1 </center></td>\n",
       "<td style=\"font-family:monospace;white-space: pre;\" title=\"(12, 7)\"><center>6 </center></td>\n",
       "<td style=\"font-family:monospace;white-space: pre;\" title=\"(12, 8)\"><center>39</center></td>\n",
       "<td style=\"font-family:monospace;white-space: pre;\" title=\"(12, 9)\"><center>32</center></td>\n",
       "<td style=\"font-family:monospace;white-space: pre;\" title=\"(12, 10)\"><center>13</center></td>\n",
       "<td style=\"font-family:monospace;white-space: pre;\" title=\"(12, 11)\"><center>49</center></td>\n",
       "<td style=\"font-family:monospace;white-space: pre;\" title=\"(12, 12)\"><center>5 </center></td>\n",
       "<td style=\"font-family:monospace;white-space: pre;\" title=\"(12, 13)\"><center>31</center></td>\n",
       "<td style=\"font-family:monospace;white-space: pre;\" title=\"(12, 14)\"><center>17</center></td>\n",
       "</tr>\n",
       "<tr>\n",
       "<td style=\"font-family:monospace;white-space: pre;\" title=\"(13, 0)\"><center>44</center></td>\n",
       "<td style=\"font-family:monospace;white-space: pre;\" title=\"(13, 1)\"><center>39</center></td>\n",
       "<td style=\"font-family:monospace;white-space: pre;\" title=\"(13, 2)\"><center>8 </center></td>\n",
       "<td style=\"font-family:monospace;white-space: pre;\" title=\"(13, 3)\"><center>29</center></td>\n",
       "<td style=\"font-family:monospace;white-space: pre;\" title=\"(13, 4)\"><center>28</center></td>\n",
       "<td style=\"font-family:monospace;white-space: pre;\" title=\"(13, 5)\"><center>50</center></td>\n",
       "<td style=\"font-family:monospace;white-space: pre;\" title=\"(13, 6)\"><center>27</center></td>\n",
       "<td style=\"font-family:monospace;white-space: pre;\" title=\"(13, 7)\"><center>30</center></td>\n",
       "<td style=\"font-family:monospace;white-space: pre;\" title=\"(13, 8)\"><center>4 </center></td>\n",
       "<td style=\"font-family:monospace;white-space: pre;\" title=\"(13, 9)\"><center>9 </center></td>\n",
       "<td style=\"font-family:monospace;white-space: pre;\" title=\"(13, 10)\"><center>31</center></td>\n",
       "<td style=\"font-family:monospace;white-space: pre;\" title=\"(13, 11)\"><center>22</center></td>\n",
       "<td style=\"font-family:monospace;white-space: pre;\" title=\"(13, 12)\"><center>30</center></td>\n",
       "<td style=\"font-family:monospace;white-space: pre;\" title=\"(13, 13)\"><center>38</center></td>\n",
       "<td style=\"font-family:monospace;white-space: pre;\" title=\"(13, 14)\"><center>1 </center></td>\n",
       "</tr>\n",
       "<tr>\n",
       "<td style=\"font-family:monospace;white-space: pre;\" title=\"(14, 0)\"><center>3 </center></td>\n",
       "<td style=\"font-family:monospace;white-space: pre;\" title=\"(14, 1)\"><center>3 </center></td>\n",
       "<td style=\"font-family:monospace;white-space: pre;\" title=\"(14, 2)\"><center>30</center></td>\n",
       "<td style=\"font-family:monospace;white-space: pre;\" title=\"(14, 3)\"><center>30</center></td>\n",
       "<td style=\"font-family:monospace;white-space: pre;\" title=\"(14, 4)\"><center>28</center></td>\n",
       "<td style=\"font-family:monospace;white-space: pre;\" title=\"(14, 5)\"><center>21</center></td>\n",
       "<td style=\"font-family:monospace;white-space: pre;\" title=\"(14, 6)\"><center>20</center></td>\n",
       "<td style=\"font-family:monospace;white-space: pre;\" title=\"(14, 7)\"><center>31</center></td>\n",
       "<td style=\"font-family:monospace;white-space: pre;\" title=\"(14, 8)\"><center>33</center></td>\n",
       "<td style=\"font-family:monospace;white-space: pre;\" title=\"(14, 9)\"><center>9 </center></td>\n",
       "<td style=\"font-family:monospace;white-space: pre;\" title=\"(14, 10)\"><center>44</center></td>\n",
       "<td style=\"font-family:monospace;white-space: pre;\" title=\"(14, 11)\"><center>27</center></td>\n",
       "<td style=\"font-family:monospace;white-space: pre;\" title=\"(14, 12)\"><center>33</center></td>\n",
       "<td style=\"font-family:monospace;white-space: pre;\" title=\"(14, 13)\"><center>21</center></td>\n",
       "<td style=\"font-family:monospace;white-space: pre;\" title=\"(14, 14)\"><center>24</center></td>\n",
       "</tr>\n",
       "</table>"
      ],
      "text/plain": [
       "array([[26, 32, 28, 10, 34, 18, 40, 24, 19, 37, 10, 27, 16, 32, 21],\n",
       "       [ 2, 17, 30, 12,  7, 36, 41, 12, 22, 32,  5, 50, 21, 46,  4],\n",
       "       [47,  4, 43, 16, 25, 46, 30, 42, 11, 24, 11, 46,  1,  0, 15],\n",
       "       [20, 15,  7,  5, 27, 35, 26, 13, 20, 36, 42, 43, 46,  3, 36],\n",
       "       [46, 48, 13, 45, 11, 36, 30, 49, 18,  1, 17, 13,  4, 37, 28],\n",
       "       [11, 33, 24,  6, 50, 37, 45, 47, 20, 43,  2, 24, 25, 24, 37],\n",
       "       [44, 29, 14, 43, 26, 44,  1, 21, 10, 18,  7, 18,  4, 32, 12],\n",
       "       [14,  7, 22, 20, 21, 13,  4, 27, 16,  1, 33, 13, 32, 26, 48],\n",
       "       [19, 22, 14, 28, 34, 48, 40,  2, 36, 45, 50, 47, 49, 17,  7],\n",
       "       [15, 12, 49, 11, 42, 28, 19, 15, 14, 50, 20, 24, 40,  1, 14],\n",
       "       [ 2, 40, 24, 44, 13, 12, 32, 42, 14, 28,  8,  9, 46, 26,  5],\n",
       "       [26, 21, 17, 13, 27,  5, 41, 31, 44, 17, 29,  1, 27,  4,  8],\n",
       "       [39,  7, 20,  2, 25, 15,  1,  6, 39, 32, 13, 49,  5, 31, 17],\n",
       "       [44, 39,  8, 29, 28, 50, 27, 30,  4,  9, 31, 22, 30, 38,  1],\n",
       "       [ 3,  3, 30, 30, 28, 21, 20, 31, 33,  9, 44, 27, 33, 21, 24]],\n",
       "      dtype=int32)"
      ]
     },
     "execution_count": 143,
     "metadata": {},
     "output_type": "execute_result"
    }
   ],
   "source": [
    "# Create a NumPy matrix, that contains numbers between 0 to 50, and put some faulty numbers in a 10 different spots (for example: -100)\n",
    "matrix0_50 = np.random.randint(0, 51, size=(15, 15))\n",
    "matrix0_50\n"
   ]
  },
  {
   "cell_type": "code",
   "execution_count": 169,
   "metadata": {},
   "outputs": [
    {
     "data": {
      "text/html": [
       "<table style='border-style:solid;border-width:1px;'>\n",
       "<tr>\n",
       "<td style=\"font-family:monospace;white-space: pre;\" title=\"(0, 0)\"><center>26  </center></td>\n",
       "<td style=\"font-family:monospace;white-space: pre;\" title=\"(0, 1)\"><center>32  </center></td>\n",
       "<td style=\"font-family:monospace;white-space: pre;\" title=\"(0, 2)\"><center>-100</center></td>\n",
       "<td style=\"font-family:monospace;white-space: pre;\" title=\"(0, 3)\"><center>10  </center></td>\n",
       "<td style=\"font-family:monospace;white-space: pre;\" title=\"(0, 4)\"><center>34  </center></td>\n",
       "<td style=\"font-family:monospace;white-space: pre;\" title=\"(0, 5)\"><center>18  </center></td>\n",
       "<td style=\"font-family:monospace;white-space: pre;\" title=\"(0, 6)\"><center>40  </center></td>\n",
       "<td style=\"font-family:monospace;white-space: pre;\" title=\"(0, 7)\"><center>24  </center></td>\n",
       "<td style=\"font-family:monospace;white-space: pre;\" title=\"(0, 8)\"><center>19  </center></td>\n",
       "<td style=\"font-family:monospace;white-space: pre;\" title=\"(0, 9)\"><center>37  </center></td>\n",
       "<td style=\"font-family:monospace;white-space: pre;\" title=\"(0, 10)\"><center>10  </center></td>\n",
       "<td style=\"font-family:monospace;white-space: pre;\" title=\"(0, 11)\"><center>27  </center></td>\n",
       "<td style=\"font-family:monospace;white-space: pre;\" title=\"(0, 12)\"><center>16  </center></td>\n",
       "<td style=\"font-family:monospace;white-space: pre;\" title=\"(0, 13)\"><center>32  </center></td>\n",
       "<td style=\"font-family:monospace;white-space: pre;\" title=\"(0, 14)\"><center>21  </center></td>\n",
       "</tr>\n",
       "<tr>\n",
       "<td style=\"font-family:monospace;white-space: pre;\" title=\"(1, 0)\"><center>2   </center></td>\n",
       "<td style=\"font-family:monospace;white-space: pre;\" title=\"(1, 1)\"><center>17  </center></td>\n",
       "<td style=\"font-family:monospace;white-space: pre;\" title=\"(1, 2)\"><center>30  </center></td>\n",
       "<td style=\"font-family:monospace;white-space: pre;\" title=\"(1, 3)\"><center>12  </center></td>\n",
       "<td style=\"font-family:monospace;white-space: pre;\" title=\"(1, 4)\"><center>7   </center></td>\n",
       "<td style=\"font-family:monospace;white-space: pre;\" title=\"(1, 5)\"><center>36  </center></td>\n",
       "<td style=\"font-family:monospace;white-space: pre;\" title=\"(1, 6)\"><center>41  </center></td>\n",
       "<td style=\"font-family:monospace;white-space: pre;\" title=\"(1, 7)\"><center>12  </center></td>\n",
       "<td style=\"font-family:monospace;white-space: pre;\" title=\"(1, 8)\"><center>22  </center></td>\n",
       "<td style=\"font-family:monospace;white-space: pre;\" title=\"(1, 9)\"><center>32  </center></td>\n",
       "<td style=\"font-family:monospace;white-space: pre;\" title=\"(1, 10)\"><center>5   </center></td>\n",
       "<td style=\"font-family:monospace;white-space: pre;\" title=\"(1, 11)\"><center>50  </center></td>\n",
       "<td style=\"font-family:monospace;white-space: pre;\" title=\"(1, 12)\"><center>-100</center></td>\n",
       "<td style=\"font-family:monospace;white-space: pre;\" title=\"(1, 13)\"><center>46  </center></td>\n",
       "<td style=\"font-family:monospace;white-space: pre;\" title=\"(1, 14)\"><center>4   </center></td>\n",
       "</tr>\n",
       "<tr>\n",
       "<td style=\"font-family:monospace;white-space: pre;\" title=\"(2, 0)\"><center>47  </center></td>\n",
       "<td style=\"font-family:monospace;white-space: pre;\" title=\"(2, 1)\"><center>-100</center></td>\n",
       "<td style=\"font-family:monospace;white-space: pre;\" title=\"(2, 2)\"><center>43  </center></td>\n",
       "<td style=\"font-family:monospace;white-space: pre;\" title=\"(2, 3)\"><center>16  </center></td>\n",
       "<td style=\"font-family:monospace;white-space: pre;\" title=\"(2, 4)\"><center>25  </center></td>\n",
       "<td style=\"font-family:monospace;white-space: pre;\" title=\"(2, 5)\"><center>46  </center></td>\n",
       "<td style=\"font-family:monospace;white-space: pre;\" title=\"(2, 6)\"><center>30  </center></td>\n",
       "<td style=\"font-family:monospace;white-space: pre;\" title=\"(2, 7)\"><center>-100</center></td>\n",
       "<td style=\"font-family:monospace;white-space: pre;\" title=\"(2, 8)\"><center>11  </center></td>\n",
       "<td style=\"font-family:monospace;white-space: pre;\" title=\"(2, 9)\"><center>24  </center></td>\n",
       "<td style=\"font-family:monospace;white-space: pre;\" title=\"(2, 10)\"><center>11  </center></td>\n",
       "<td style=\"font-family:monospace;white-space: pre;\" title=\"(2, 11)\"><center>46  </center></td>\n",
       "<td style=\"font-family:monospace;white-space: pre;\" title=\"(2, 12)\"><center>1   </center></td>\n",
       "<td style=\"font-family:monospace;white-space: pre;\" title=\"(2, 13)\"><center>-100</center></td>\n",
       "<td style=\"font-family:monospace;white-space: pre;\" title=\"(2, 14)\"><center>15  </center></td>\n",
       "</tr>\n",
       "<tr>\n",
       "<td style=\"font-family:monospace;white-space: pre;\" title=\"(3, 0)\"><center>20  </center></td>\n",
       "<td style=\"font-family:monospace;white-space: pre;\" title=\"(3, 1)\"><center>15  </center></td>\n",
       "<td style=\"font-family:monospace;white-space: pre;\" title=\"(3, 2)\"><center>7   </center></td>\n",
       "<td style=\"font-family:monospace;white-space: pre;\" title=\"(3, 3)\"><center>-100</center></td>\n",
       "<td style=\"font-family:monospace;white-space: pre;\" title=\"(3, 4)\"><center>27  </center></td>\n",
       "<td style=\"font-family:monospace;white-space: pre;\" title=\"(3, 5)\"><center>35  </center></td>\n",
       "<td style=\"font-family:monospace;white-space: pre;\" title=\"(3, 6)\"><center>26  </center></td>\n",
       "<td style=\"font-family:monospace;white-space: pre;\" title=\"(3, 7)\"><center>13  </center></td>\n",
       "<td style=\"font-family:monospace;white-space: pre;\" title=\"(3, 8)\"><center>20  </center></td>\n",
       "<td style=\"font-family:monospace;white-space: pre;\" title=\"(3, 9)\"><center>36  </center></td>\n",
       "<td style=\"font-family:monospace;white-space: pre;\" title=\"(3, 10)\"><center>42  </center></td>\n",
       "<td style=\"font-family:monospace;white-space: pre;\" title=\"(3, 11)\"><center>43  </center></td>\n",
       "<td style=\"font-family:monospace;white-space: pre;\" title=\"(3, 12)\"><center>46  </center></td>\n",
       "<td style=\"font-family:monospace;white-space: pre;\" title=\"(3, 13)\"><center>3   </center></td>\n",
       "<td style=\"font-family:monospace;white-space: pre;\" title=\"(3, 14)\"><center>-100</center></td>\n",
       "</tr>\n",
       "<tr>\n",
       "<td style=\"font-family:monospace;white-space: pre;\" title=\"(4, 0)\"><center>46  </center></td>\n",
       "<td style=\"font-family:monospace;white-space: pre;\" title=\"(4, 1)\"><center>48  </center></td>\n",
       "<td style=\"font-family:monospace;white-space: pre;\" title=\"(4, 2)\"><center>-100</center></td>\n",
       "<td style=\"font-family:monospace;white-space: pre;\" title=\"(4, 3)\"><center>45  </center></td>\n",
       "<td style=\"font-family:monospace;white-space: pre;\" title=\"(4, 4)\"><center>11  </center></td>\n",
       "<td style=\"font-family:monospace;white-space: pre;\" title=\"(4, 5)\"><center>36  </center></td>\n",
       "<td style=\"font-family:monospace;white-space: pre;\" title=\"(4, 6)\"><center>30  </center></td>\n",
       "<td style=\"font-family:monospace;white-space: pre;\" title=\"(4, 7)\"><center>49  </center></td>\n",
       "<td style=\"font-family:monospace;white-space: pre;\" title=\"(4, 8)\"><center>18  </center></td>\n",
       "<td style=\"font-family:monospace;white-space: pre;\" title=\"(4, 9)\"><center>-100</center></td>\n",
       "<td style=\"font-family:monospace;white-space: pre;\" title=\"(4, 10)\"><center>17  </center></td>\n",
       "<td style=\"font-family:monospace;white-space: pre;\" title=\"(4, 11)\"><center>13  </center></td>\n",
       "<td style=\"font-family:monospace;white-space: pre;\" title=\"(4, 12)\"><center>4   </center></td>\n",
       "<td style=\"font-family:monospace;white-space: pre;\" title=\"(4, 13)\"><center>37  </center></td>\n",
       "<td style=\"font-family:monospace;white-space: pre;\" title=\"(4, 14)\"><center>-100</center></td>\n",
       "</tr>\n",
       "<tr>\n",
       "<td style=\"font-family:monospace;white-space: pre;\" title=\"(5, 0)\"><center>11  </center></td>\n",
       "<td style=\"font-family:monospace;white-space: pre;\" title=\"(5, 1)\"><center>33  </center></td>\n",
       "<td style=\"font-family:monospace;white-space: pre;\" title=\"(5, 2)\"><center>24  </center></td>\n",
       "<td style=\"font-family:monospace;white-space: pre;\" title=\"(5, 3)\"><center>6   </center></td>\n",
       "<td style=\"font-family:monospace;white-space: pre;\" title=\"(5, 4)\"><center>50  </center></td>\n",
       "<td style=\"font-family:monospace;white-space: pre;\" title=\"(5, 5)\"><center>37  </center></td>\n",
       "<td style=\"font-family:monospace;white-space: pre;\" title=\"(5, 6)\"><center>45  </center></td>\n",
       "<td style=\"font-family:monospace;white-space: pre;\" title=\"(5, 7)\"><center>47  </center></td>\n",
       "<td style=\"font-family:monospace;white-space: pre;\" title=\"(5, 8)\"><center>20  </center></td>\n",
       "<td style=\"font-family:monospace;white-space: pre;\" title=\"(5, 9)\"><center>43  </center></td>\n",
       "<td style=\"font-family:monospace;white-space: pre;\" title=\"(5, 10)\"><center>2   </center></td>\n",
       "<td style=\"font-family:monospace;white-space: pre;\" title=\"(5, 11)\"><center>24  </center></td>\n",
       "<td style=\"font-family:monospace;white-space: pre;\" title=\"(5, 12)\"><center>-100</center></td>\n",
       "<td style=\"font-family:monospace;white-space: pre;\" title=\"(5, 13)\"><center>24  </center></td>\n",
       "<td style=\"font-family:monospace;white-space: pre;\" title=\"(5, 14)\"><center>37  </center></td>\n",
       "</tr>\n",
       "<tr>\n",
       "<td style=\"font-family:monospace;white-space: pre;\" title=\"(6, 0)\"><center>44  </center></td>\n",
       "<td style=\"font-family:monospace;white-space: pre;\" title=\"(6, 1)\"><center>29  </center></td>\n",
       "<td style=\"font-family:monospace;white-space: pre;\" title=\"(6, 2)\"><center>14  </center></td>\n",
       "<td style=\"font-family:monospace;white-space: pre;\" title=\"(6, 3)\"><center>43  </center></td>\n",
       "<td style=\"font-family:monospace;white-space: pre;\" title=\"(6, 4)\"><center>26  </center></td>\n",
       "<td style=\"font-family:monospace;white-space: pre;\" title=\"(6, 5)\"><center>44  </center></td>\n",
       "<td style=\"font-family:monospace;white-space: pre;\" title=\"(6, 6)\"><center>1   </center></td>\n",
       "<td style=\"font-family:monospace;white-space: pre;\" title=\"(6, 7)\"><center>-100</center></td>\n",
       "<td style=\"font-family:monospace;white-space: pre;\" title=\"(6, 8)\"><center>10  </center></td>\n",
       "<td style=\"font-family:monospace;white-space: pre;\" title=\"(6, 9)\"><center>18  </center></td>\n",
       "<td style=\"font-family:monospace;white-space: pre;\" title=\"(6, 10)\"><center>7   </center></td>\n",
       "<td style=\"font-family:monospace;white-space: pre;\" title=\"(6, 11)\"><center>18  </center></td>\n",
       "<td style=\"font-family:monospace;white-space: pre;\" title=\"(6, 12)\"><center>4   </center></td>\n",
       "<td style=\"font-family:monospace;white-space: pre;\" title=\"(6, 13)\"><center>32  </center></td>\n",
       "<td style=\"font-family:monospace;white-space: pre;\" title=\"(6, 14)\"><center>12  </center></td>\n",
       "</tr>\n",
       "<tr>\n",
       "<td style=\"font-family:monospace;white-space: pre;\" title=\"(7, 0)\"><center>14  </center></td>\n",
       "<td style=\"font-family:monospace;white-space: pre;\" title=\"(7, 1)\"><center>7   </center></td>\n",
       "<td style=\"font-family:monospace;white-space: pre;\" title=\"(7, 2)\"><center>22  </center></td>\n",
       "<td style=\"font-family:monospace;white-space: pre;\" title=\"(7, 3)\"><center>20  </center></td>\n",
       "<td style=\"font-family:monospace;white-space: pre;\" title=\"(7, 4)\"><center>-100</center></td>\n",
       "<td style=\"font-family:monospace;white-space: pre;\" title=\"(7, 5)\"><center>13  </center></td>\n",
       "<td style=\"font-family:monospace;white-space: pre;\" title=\"(7, 6)\"><center>4   </center></td>\n",
       "<td style=\"font-family:monospace;white-space: pre;\" title=\"(7, 7)\"><center>-100</center></td>\n",
       "<td style=\"font-family:monospace;white-space: pre;\" title=\"(7, 8)\"><center>16  </center></td>\n",
       "<td style=\"font-family:monospace;white-space: pre;\" title=\"(7, 9)\"><center>-100</center></td>\n",
       "<td style=\"font-family:monospace;white-space: pre;\" title=\"(7, 10)\"><center>33  </center></td>\n",
       "<td style=\"font-family:monospace;white-space: pre;\" title=\"(7, 11)\"><center>13  </center></td>\n",
       "<td style=\"font-family:monospace;white-space: pre;\" title=\"(7, 12)\"><center>32  </center></td>\n",
       "<td style=\"font-family:monospace;white-space: pre;\" title=\"(7, 13)\"><center>26  </center></td>\n",
       "<td style=\"font-family:monospace;white-space: pre;\" title=\"(7, 14)\"><center>48  </center></td>\n",
       "</tr>\n",
       "<tr>\n",
       "<td style=\"font-family:monospace;white-space: pre;\" title=\"(8, 0)\"><center>19  </center></td>\n",
       "<td style=\"font-family:monospace;white-space: pre;\" title=\"(8, 1)\"><center>-100</center></td>\n",
       "<td style=\"font-family:monospace;white-space: pre;\" title=\"(8, 2)\"><center>14  </center></td>\n",
       "<td style=\"font-family:monospace;white-space: pre;\" title=\"(8, 3)\"><center>28  </center></td>\n",
       "<td style=\"font-family:monospace;white-space: pre;\" title=\"(8, 4)\"><center>34  </center></td>\n",
       "<td style=\"font-family:monospace;white-space: pre;\" title=\"(8, 5)\"><center>48  </center></td>\n",
       "<td style=\"font-family:monospace;white-space: pre;\" title=\"(8, 6)\"><center>40  </center></td>\n",
       "<td style=\"font-family:monospace;white-space: pre;\" title=\"(8, 7)\"><center>2   </center></td>\n",
       "<td style=\"font-family:monospace;white-space: pre;\" title=\"(8, 8)\"><center>36  </center></td>\n",
       "<td style=\"font-family:monospace;white-space: pre;\" title=\"(8, 9)\"><center>45  </center></td>\n",
       "<td style=\"font-family:monospace;white-space: pre;\" title=\"(8, 10)\"><center>50  </center></td>\n",
       "<td style=\"font-family:monospace;white-space: pre;\" title=\"(8, 11)\"><center>47  </center></td>\n",
       "<td style=\"font-family:monospace;white-space: pre;\" title=\"(8, 12)\"><center>49  </center></td>\n",
       "<td style=\"font-family:monospace;white-space: pre;\" title=\"(8, 13)\"><center>17  </center></td>\n",
       "<td style=\"font-family:monospace;white-space: pre;\" title=\"(8, 14)\"><center>7   </center></td>\n",
       "</tr>\n",
       "<tr>\n",
       "<td style=\"font-family:monospace;white-space: pre;\" title=\"(9, 0)\"><center>15  </center></td>\n",
       "<td style=\"font-family:monospace;white-space: pre;\" title=\"(9, 1)\"><center>12  </center></td>\n",
       "<td style=\"font-family:monospace;white-space: pre;\" title=\"(9, 2)\"><center>49  </center></td>\n",
       "<td style=\"font-family:monospace;white-space: pre;\" title=\"(9, 3)\"><center>11  </center></td>\n",
       "<td style=\"font-family:monospace;white-space: pre;\" title=\"(9, 4)\"><center>42  </center></td>\n",
       "<td style=\"font-family:monospace;white-space: pre;\" title=\"(9, 5)\"><center>28  </center></td>\n",
       "<td style=\"font-family:monospace;white-space: pre;\" title=\"(9, 6)\"><center>19  </center></td>\n",
       "<td style=\"font-family:monospace;white-space: pre;\" title=\"(9, 7)\"><center>15  </center></td>\n",
       "<td style=\"font-family:monospace;white-space: pre;\" title=\"(9, 8)\"><center>14  </center></td>\n",
       "<td style=\"font-family:monospace;white-space: pre;\" title=\"(9, 9)\"><center>50  </center></td>\n",
       "<td style=\"font-family:monospace;white-space: pre;\" title=\"(9, 10)\"><center>20  </center></td>\n",
       "<td style=\"font-family:monospace;white-space: pre;\" title=\"(9, 11)\"><center>24  </center></td>\n",
       "<td style=\"font-family:monospace;white-space: pre;\" title=\"(9, 12)\"><center>40  </center></td>\n",
       "<td style=\"font-family:monospace;white-space: pre;\" title=\"(9, 13)\"><center>1   </center></td>\n",
       "<td style=\"font-family:monospace;white-space: pre;\" title=\"(9, 14)\"><center>14  </center></td>\n",
       "</tr>\n",
       "<tr>\n",
       "<td style=\"font-family:monospace;white-space: pre;\" title=\"(10, 0)\"><center>2   </center></td>\n",
       "<td style=\"font-family:monospace;white-space: pre;\" title=\"(10, 1)\"><center>40  </center></td>\n",
       "<td style=\"font-family:monospace;white-space: pre;\" title=\"(10, 2)\"><center>24  </center></td>\n",
       "<td style=\"font-family:monospace;white-space: pre;\" title=\"(10, 3)\"><center>44  </center></td>\n",
       "<td style=\"font-family:monospace;white-space: pre;\" title=\"(10, 4)\"><center>13  </center></td>\n",
       "<td style=\"font-family:monospace;white-space: pre;\" title=\"(10, 5)\"><center>12  </center></td>\n",
       "<td style=\"font-family:monospace;white-space: pre;\" title=\"(10, 6)\"><center>32  </center></td>\n",
       "<td style=\"font-family:monospace;white-space: pre;\" title=\"(10, 7)\"><center>42  </center></td>\n",
       "<td style=\"font-family:monospace;white-space: pre;\" title=\"(10, 8)\"><center>14  </center></td>\n",
       "<td style=\"font-family:monospace;white-space: pre;\" title=\"(10, 9)\"><center>28  </center></td>\n",
       "<td style=\"font-family:monospace;white-space: pre;\" title=\"(10, 10)\"><center>-100</center></td>\n",
       "<td style=\"font-family:monospace;white-space: pre;\" title=\"(10, 11)\"><center>9   </center></td>\n",
       "<td style=\"font-family:monospace;white-space: pre;\" title=\"(10, 12)\"><center>46  </center></td>\n",
       "<td style=\"font-family:monospace;white-space: pre;\" title=\"(10, 13)\"><center>26  </center></td>\n",
       "<td style=\"font-family:monospace;white-space: pre;\" title=\"(10, 14)\"><center>5   </center></td>\n",
       "</tr>\n",
       "<tr>\n",
       "<td style=\"font-family:monospace;white-space: pre;\" title=\"(11, 0)\"><center>-100</center></td>\n",
       "<td style=\"font-family:monospace;white-space: pre;\" title=\"(11, 1)\"><center>21  </center></td>\n",
       "<td style=\"font-family:monospace;white-space: pre;\" title=\"(11, 2)\"><center>17  </center></td>\n",
       "<td style=\"font-family:monospace;white-space: pre;\" title=\"(11, 3)\"><center>13  </center></td>\n",
       "<td style=\"font-family:monospace;white-space: pre;\" title=\"(11, 4)\"><center>-100</center></td>\n",
       "<td style=\"font-family:monospace;white-space: pre;\" title=\"(11, 5)\"><center>5   </center></td>\n",
       "<td style=\"font-family:monospace;white-space: pre;\" title=\"(11, 6)\"><center>41  </center></td>\n",
       "<td style=\"font-family:monospace;white-space: pre;\" title=\"(11, 7)\"><center>-100</center></td>\n",
       "<td style=\"font-family:monospace;white-space: pre;\" title=\"(11, 8)\"><center>44  </center></td>\n",
       "<td style=\"font-family:monospace;white-space: pre;\" title=\"(11, 9)\"><center>-100</center></td>\n",
       "<td style=\"font-family:monospace;white-space: pre;\" title=\"(11, 10)\"><center>29  </center></td>\n",
       "<td style=\"font-family:monospace;white-space: pre;\" title=\"(11, 11)\"><center>1   </center></td>\n",
       "<td style=\"font-family:monospace;white-space: pre;\" title=\"(11, 12)\"><center>27  </center></td>\n",
       "<td style=\"font-family:monospace;white-space: pre;\" title=\"(11, 13)\"><center>4   </center></td>\n",
       "<td style=\"font-family:monospace;white-space: pre;\" title=\"(11, 14)\"><center>8   </center></td>\n",
       "</tr>\n",
       "<tr>\n",
       "<td style=\"font-family:monospace;white-space: pre;\" title=\"(12, 0)\"><center>39  </center></td>\n",
       "<td style=\"font-family:monospace;white-space: pre;\" title=\"(12, 1)\"><center>7   </center></td>\n",
       "<td style=\"font-family:monospace;white-space: pre;\" title=\"(12, 2)\"><center>20  </center></td>\n",
       "<td style=\"font-family:monospace;white-space: pre;\" title=\"(12, 3)\"><center>2   </center></td>\n",
       "<td style=\"font-family:monospace;white-space: pre;\" title=\"(12, 4)\"><center>25  </center></td>\n",
       "<td style=\"font-family:monospace;white-space: pre;\" title=\"(12, 5)\"><center>15  </center></td>\n",
       "<td style=\"font-family:monospace;white-space: pre;\" title=\"(12, 6)\"><center>1   </center></td>\n",
       "<td style=\"font-family:monospace;white-space: pre;\" title=\"(12, 7)\"><center>6   </center></td>\n",
       "<td style=\"font-family:monospace;white-space: pre;\" title=\"(12, 8)\"><center>39  </center></td>\n",
       "<td style=\"font-family:monospace;white-space: pre;\" title=\"(12, 9)\"><center>-100</center></td>\n",
       "<td style=\"font-family:monospace;white-space: pre;\" title=\"(12, 10)\"><center>13  </center></td>\n",
       "<td style=\"font-family:monospace;white-space: pre;\" title=\"(12, 11)\"><center>-100</center></td>\n",
       "<td style=\"font-family:monospace;white-space: pre;\" title=\"(12, 12)\"><center>5   </center></td>\n",
       "<td style=\"font-family:monospace;white-space: pre;\" title=\"(12, 13)\"><center>31  </center></td>\n",
       "<td style=\"font-family:monospace;white-space: pre;\" title=\"(12, 14)\"><center>-100</center></td>\n",
       "</tr>\n",
       "<tr>\n",
       "<td style=\"font-family:monospace;white-space: pre;\" title=\"(13, 0)\"><center>44  </center></td>\n",
       "<td style=\"font-family:monospace;white-space: pre;\" title=\"(13, 1)\"><center>39  </center></td>\n",
       "<td style=\"font-family:monospace;white-space: pre;\" title=\"(13, 2)\"><center>8   </center></td>\n",
       "<td style=\"font-family:monospace;white-space: pre;\" title=\"(13, 3)\"><center>29  </center></td>\n",
       "<td style=\"font-family:monospace;white-space: pre;\" title=\"(13, 4)\"><center>28  </center></td>\n",
       "<td style=\"font-family:monospace;white-space: pre;\" title=\"(13, 5)\"><center>50  </center></td>\n",
       "<td style=\"font-family:monospace;white-space: pre;\" title=\"(13, 6)\"><center>27  </center></td>\n",
       "<td style=\"font-family:monospace;white-space: pre;\" title=\"(13, 7)\"><center>30  </center></td>\n",
       "<td style=\"font-family:monospace;white-space: pre;\" title=\"(13, 8)\"><center>4   </center></td>\n",
       "<td style=\"font-family:monospace;white-space: pre;\" title=\"(13, 9)\"><center>9   </center></td>\n",
       "<td style=\"font-family:monospace;white-space: pre;\" title=\"(13, 10)\"><center>31  </center></td>\n",
       "<td style=\"font-family:monospace;white-space: pre;\" title=\"(13, 11)\"><center>22  </center></td>\n",
       "<td style=\"font-family:monospace;white-space: pre;\" title=\"(13, 12)\"><center>30  </center></td>\n",
       "<td style=\"font-family:monospace;white-space: pre;\" title=\"(13, 13)\"><center>38  </center></td>\n",
       "<td style=\"font-family:monospace;white-space: pre;\" title=\"(13, 14)\"><center>-100</center></td>\n",
       "</tr>\n",
       "<tr>\n",
       "<td style=\"font-family:monospace;white-space: pre;\" title=\"(14, 0)\"><center>3   </center></td>\n",
       "<td style=\"font-family:monospace;white-space: pre;\" title=\"(14, 1)\"><center>3   </center></td>\n",
       "<td style=\"font-family:monospace;white-space: pre;\" title=\"(14, 2)\"><center>30  </center></td>\n",
       "<td style=\"font-family:monospace;white-space: pre;\" title=\"(14, 3)\"><center>30  </center></td>\n",
       "<td style=\"font-family:monospace;white-space: pre;\" title=\"(14, 4)\"><center>-100</center></td>\n",
       "<td style=\"font-family:monospace;white-space: pre;\" title=\"(14, 5)\"><center>21  </center></td>\n",
       "<td style=\"font-family:monospace;white-space: pre;\" title=\"(14, 6)\"><center>20  </center></td>\n",
       "<td style=\"font-family:monospace;white-space: pre;\" title=\"(14, 7)\"><center>-100</center></td>\n",
       "<td style=\"font-family:monospace;white-space: pre;\" title=\"(14, 8)\"><center>33  </center></td>\n",
       "<td style=\"font-family:monospace;white-space: pre;\" title=\"(14, 9)\"><center>9   </center></td>\n",
       "<td style=\"font-family:monospace;white-space: pre;\" title=\"(14, 10)\"><center>44  </center></td>\n",
       "<td style=\"font-family:monospace;white-space: pre;\" title=\"(14, 11)\"><center>-100</center></td>\n",
       "<td style=\"font-family:monospace;white-space: pre;\" title=\"(14, 12)\"><center>33  </center></td>\n",
       "<td style=\"font-family:monospace;white-space: pre;\" title=\"(14, 13)\"><center>-100</center></td>\n",
       "<td style=\"font-family:monospace;white-space: pre;\" title=\"(14, 14)\"><center>24  </center></td>\n",
       "</tr>\n",
       "</table>"
      ],
      "text/plain": [
       "array([[  26,   32, -100,   10,   34,   18,   40,   24,   19,   37,   10,\n",
       "          27,   16,   32,   21],\n",
       "       [   2,   17,   30,   12,    7,   36,   41,   12,   22,   32,    5,\n",
       "          50, -100,   46,    4],\n",
       "       [  47, -100,   43,   16,   25,   46,   30, -100,   11,   24,   11,\n",
       "          46,    1, -100,   15],\n",
       "       [  20,   15,    7, -100,   27,   35,   26,   13,   20,   36,   42,\n",
       "          43,   46,    3, -100],\n",
       "       [  46,   48, -100,   45,   11,   36,   30,   49,   18, -100,   17,\n",
       "          13,    4,   37, -100],\n",
       "       [  11,   33,   24,    6,   50,   37,   45,   47,   20,   43,    2,\n",
       "          24, -100,   24,   37],\n",
       "       [  44,   29,   14,   43,   26,   44,    1, -100,   10,   18,    7,\n",
       "          18,    4,   32,   12],\n",
       "       [  14,    7,   22,   20, -100,   13,    4, -100,   16, -100,   33,\n",
       "          13,   32,   26,   48],\n",
       "       [  19, -100,   14,   28,   34,   48,   40,    2,   36,   45,   50,\n",
       "          47,   49,   17,    7],\n",
       "       [  15,   12,   49,   11,   42,   28,   19,   15,   14,   50,   20,\n",
       "          24,   40,    1,   14],\n",
       "       [   2,   40,   24,   44,   13,   12,   32,   42,   14,   28, -100,\n",
       "           9,   46,   26,    5],\n",
       "       [-100,   21,   17,   13, -100,    5,   41, -100,   44, -100,   29,\n",
       "           1,   27,    4,    8],\n",
       "       [  39,    7,   20,    2,   25,   15,    1,    6,   39, -100,   13,\n",
       "        -100,    5,   31, -100],\n",
       "       [  44,   39,    8,   29,   28,   50,   27,   30,    4,    9,   31,\n",
       "          22,   30,   38, -100],\n",
       "       [   3,    3,   30,   30, -100,   21,   20, -100,   33,    9,   44,\n",
       "        -100,   33, -100,   24]], dtype=int32)"
      ]
     },
     "execution_count": 169,
     "metadata": {},
     "output_type": "execute_result"
    }
   ],
   "source": [
    "# I used np.random.choice to randomly picks up  10 different indexes in the matrix and replaced the values at those indexes with -100.\n",
    "\n",
    "faulty = 10\n",
    "index_b = np.random.choice(matrix0_50.size, faulty, replace=False)\n",
    "np.put(matrix0_50, index_b, -100) \n",
    "\n",
    "# I got this function from there: https://www.geeksforgeeks.org/how-to-randomly-insert-nan-in-a-matrix-with-numpy-in-python/\n",
    "\n",
    "matrix0_50"
   ]
  },
  {
   "cell_type": "code",
   "execution_count": 171,
   "metadata": {},
   "outputs": [
    {
     "data": {
      "text/html": [
       "<table style='border-style:solid;border-width:1px;'>\n",
       "<tr>\n",
       "<td style=\"font-family:monospace;white-space: pre;\" title=\"(0, 0)\"><center>26</center></td>\n",
       "<td style=\"font-family:monospace;white-space: pre;\" title=\"(0, 1)\"><center>32</center></td>\n",
       "<td style=\"font-family:monospace;white-space: pre;\" title=\"(0, 2)\"><center>0 </center></td>\n",
       "<td style=\"font-family:monospace;white-space: pre;\" title=\"(0, 3)\"><center>10</center></td>\n",
       "<td style=\"font-family:monospace;white-space: pre;\" title=\"(0, 4)\"><center>34</center></td>\n",
       "<td style=\"font-family:monospace;white-space: pre;\" title=\"(0, 5)\"><center>18</center></td>\n",
       "<td style=\"font-family:monospace;white-space: pre;\" title=\"(0, 6)\"><center>40</center></td>\n",
       "<td style=\"font-family:monospace;white-space: pre;\" title=\"(0, 7)\"><center>24</center></td>\n",
       "<td style=\"font-family:monospace;white-space: pre;\" title=\"(0, 8)\"><center>19</center></td>\n",
       "<td style=\"font-family:monospace;white-space: pre;\" title=\"(0, 9)\"><center>37</center></td>\n",
       "<td style=\"font-family:monospace;white-space: pre;\" title=\"(0, 10)\"><center>10</center></td>\n",
       "<td style=\"font-family:monospace;white-space: pre;\" title=\"(0, 11)\"><center>27</center></td>\n",
       "<td style=\"font-family:monospace;white-space: pre;\" title=\"(0, 12)\"><center>16</center></td>\n",
       "<td style=\"font-family:monospace;white-space: pre;\" title=\"(0, 13)\"><center>32</center></td>\n",
       "<td style=\"font-family:monospace;white-space: pre;\" title=\"(0, 14)\"><center>21</center></td>\n",
       "</tr>\n",
       "<tr>\n",
       "<td style=\"font-family:monospace;white-space: pre;\" title=\"(1, 0)\"><center>2 </center></td>\n",
       "<td style=\"font-family:monospace;white-space: pre;\" title=\"(1, 1)\"><center>17</center></td>\n",
       "<td style=\"font-family:monospace;white-space: pre;\" title=\"(1, 2)\"><center>30</center></td>\n",
       "<td style=\"font-family:monospace;white-space: pre;\" title=\"(1, 3)\"><center>12</center></td>\n",
       "<td style=\"font-family:monospace;white-space: pre;\" title=\"(1, 4)\"><center>7 </center></td>\n",
       "<td style=\"font-family:monospace;white-space: pre;\" title=\"(1, 5)\"><center>36</center></td>\n",
       "<td style=\"font-family:monospace;white-space: pre;\" title=\"(1, 6)\"><center>41</center></td>\n",
       "<td style=\"font-family:monospace;white-space: pre;\" title=\"(1, 7)\"><center>12</center></td>\n",
       "<td style=\"font-family:monospace;white-space: pre;\" title=\"(1, 8)\"><center>22</center></td>\n",
       "<td style=\"font-family:monospace;white-space: pre;\" title=\"(1, 9)\"><center>32</center></td>\n",
       "<td style=\"font-family:monospace;white-space: pre;\" title=\"(1, 10)\"><center>5 </center></td>\n",
       "<td style=\"font-family:monospace;white-space: pre;\" title=\"(1, 11)\"><center>50</center></td>\n",
       "<td style=\"font-family:monospace;white-space: pre;\" title=\"(1, 12)\"><center>0 </center></td>\n",
       "<td style=\"font-family:monospace;white-space: pre;\" title=\"(1, 13)\"><center>46</center></td>\n",
       "<td style=\"font-family:monospace;white-space: pre;\" title=\"(1, 14)\"><center>4 </center></td>\n",
       "</tr>\n",
       "<tr>\n",
       "<td style=\"font-family:monospace;white-space: pre;\" title=\"(2, 0)\"><center>47</center></td>\n",
       "<td style=\"font-family:monospace;white-space: pre;\" title=\"(2, 1)\"><center>0 </center></td>\n",
       "<td style=\"font-family:monospace;white-space: pre;\" title=\"(2, 2)\"><center>43</center></td>\n",
       "<td style=\"font-family:monospace;white-space: pre;\" title=\"(2, 3)\"><center>16</center></td>\n",
       "<td style=\"font-family:monospace;white-space: pre;\" title=\"(2, 4)\"><center>25</center></td>\n",
       "<td style=\"font-family:monospace;white-space: pre;\" title=\"(2, 5)\"><center>46</center></td>\n",
       "<td style=\"font-family:monospace;white-space: pre;\" title=\"(2, 6)\"><center>30</center></td>\n",
       "<td style=\"font-family:monospace;white-space: pre;\" title=\"(2, 7)\"><center>0 </center></td>\n",
       "<td style=\"font-family:monospace;white-space: pre;\" title=\"(2, 8)\"><center>11</center></td>\n",
       "<td style=\"font-family:monospace;white-space: pre;\" title=\"(2, 9)\"><center>24</center></td>\n",
       "<td style=\"font-family:monospace;white-space: pre;\" title=\"(2, 10)\"><center>11</center></td>\n",
       "<td style=\"font-family:monospace;white-space: pre;\" title=\"(2, 11)\"><center>46</center></td>\n",
       "<td style=\"font-family:monospace;white-space: pre;\" title=\"(2, 12)\"><center>1 </center></td>\n",
       "<td style=\"font-family:monospace;white-space: pre;\" title=\"(2, 13)\"><center>0 </center></td>\n",
       "<td style=\"font-family:monospace;white-space: pre;\" title=\"(2, 14)\"><center>15</center></td>\n",
       "</tr>\n",
       "<tr>\n",
       "<td style=\"font-family:monospace;white-space: pre;\" title=\"(3, 0)\"><center>20</center></td>\n",
       "<td style=\"font-family:monospace;white-space: pre;\" title=\"(3, 1)\"><center>15</center></td>\n",
       "<td style=\"font-family:monospace;white-space: pre;\" title=\"(3, 2)\"><center>7 </center></td>\n",
       "<td style=\"font-family:monospace;white-space: pre;\" title=\"(3, 3)\"><center>0 </center></td>\n",
       "<td style=\"font-family:monospace;white-space: pre;\" title=\"(3, 4)\"><center>27</center></td>\n",
       "<td style=\"font-family:monospace;white-space: pre;\" title=\"(3, 5)\"><center>35</center></td>\n",
       "<td style=\"font-family:monospace;white-space: pre;\" title=\"(3, 6)\"><center>26</center></td>\n",
       "<td style=\"font-family:monospace;white-space: pre;\" title=\"(3, 7)\"><center>13</center></td>\n",
       "<td style=\"font-family:monospace;white-space: pre;\" title=\"(3, 8)\"><center>20</center></td>\n",
       "<td style=\"font-family:monospace;white-space: pre;\" title=\"(3, 9)\"><center>36</center></td>\n",
       "<td style=\"font-family:monospace;white-space: pre;\" title=\"(3, 10)\"><center>42</center></td>\n",
       "<td style=\"font-family:monospace;white-space: pre;\" title=\"(3, 11)\"><center>43</center></td>\n",
       "<td style=\"font-family:monospace;white-space: pre;\" title=\"(3, 12)\"><center>46</center></td>\n",
       "<td style=\"font-family:monospace;white-space: pre;\" title=\"(3, 13)\"><center>3 </center></td>\n",
       "<td style=\"font-family:monospace;white-space: pre;\" title=\"(3, 14)\"><center>0 </center></td>\n",
       "</tr>\n",
       "<tr>\n",
       "<td style=\"font-family:monospace;white-space: pre;\" title=\"(4, 0)\"><center>46</center></td>\n",
       "<td style=\"font-family:monospace;white-space: pre;\" title=\"(4, 1)\"><center>48</center></td>\n",
       "<td style=\"font-family:monospace;white-space: pre;\" title=\"(4, 2)\"><center>0 </center></td>\n",
       "<td style=\"font-family:monospace;white-space: pre;\" title=\"(4, 3)\"><center>45</center></td>\n",
       "<td style=\"font-family:monospace;white-space: pre;\" title=\"(4, 4)\"><center>11</center></td>\n",
       "<td style=\"font-family:monospace;white-space: pre;\" title=\"(4, 5)\"><center>36</center></td>\n",
       "<td style=\"font-family:monospace;white-space: pre;\" title=\"(4, 6)\"><center>30</center></td>\n",
       "<td style=\"font-family:monospace;white-space: pre;\" title=\"(4, 7)\"><center>49</center></td>\n",
       "<td style=\"font-family:monospace;white-space: pre;\" title=\"(4, 8)\"><center>18</center></td>\n",
       "<td style=\"font-family:monospace;white-space: pre;\" title=\"(4, 9)\"><center>0 </center></td>\n",
       "<td style=\"font-family:monospace;white-space: pre;\" title=\"(4, 10)\"><center>17</center></td>\n",
       "<td style=\"font-family:monospace;white-space: pre;\" title=\"(4, 11)\"><center>13</center></td>\n",
       "<td style=\"font-family:monospace;white-space: pre;\" title=\"(4, 12)\"><center>4 </center></td>\n",
       "<td style=\"font-family:monospace;white-space: pre;\" title=\"(4, 13)\"><center>37</center></td>\n",
       "<td style=\"font-family:monospace;white-space: pre;\" title=\"(4, 14)\"><center>0 </center></td>\n",
       "</tr>\n",
       "<tr>\n",
       "<td style=\"font-family:monospace;white-space: pre;\" title=\"(5, 0)\"><center>11</center></td>\n",
       "<td style=\"font-family:monospace;white-space: pre;\" title=\"(5, 1)\"><center>33</center></td>\n",
       "<td style=\"font-family:monospace;white-space: pre;\" title=\"(5, 2)\"><center>24</center></td>\n",
       "<td style=\"font-family:monospace;white-space: pre;\" title=\"(5, 3)\"><center>6 </center></td>\n",
       "<td style=\"font-family:monospace;white-space: pre;\" title=\"(5, 4)\"><center>50</center></td>\n",
       "<td style=\"font-family:monospace;white-space: pre;\" title=\"(5, 5)\"><center>37</center></td>\n",
       "<td style=\"font-family:monospace;white-space: pre;\" title=\"(5, 6)\"><center>45</center></td>\n",
       "<td style=\"font-family:monospace;white-space: pre;\" title=\"(5, 7)\"><center>47</center></td>\n",
       "<td style=\"font-family:monospace;white-space: pre;\" title=\"(5, 8)\"><center>20</center></td>\n",
       "<td style=\"font-family:monospace;white-space: pre;\" title=\"(5, 9)\"><center>43</center></td>\n",
       "<td style=\"font-family:monospace;white-space: pre;\" title=\"(5, 10)\"><center>2 </center></td>\n",
       "<td style=\"font-family:monospace;white-space: pre;\" title=\"(5, 11)\"><center>24</center></td>\n",
       "<td style=\"font-family:monospace;white-space: pre;\" title=\"(5, 12)\"><center>0 </center></td>\n",
       "<td style=\"font-family:monospace;white-space: pre;\" title=\"(5, 13)\"><center>24</center></td>\n",
       "<td style=\"font-family:monospace;white-space: pre;\" title=\"(5, 14)\"><center>37</center></td>\n",
       "</tr>\n",
       "<tr>\n",
       "<td style=\"font-family:monospace;white-space: pre;\" title=\"(6, 0)\"><center>44</center></td>\n",
       "<td style=\"font-family:monospace;white-space: pre;\" title=\"(6, 1)\"><center>29</center></td>\n",
       "<td style=\"font-family:monospace;white-space: pre;\" title=\"(6, 2)\"><center>14</center></td>\n",
       "<td style=\"font-family:monospace;white-space: pre;\" title=\"(6, 3)\"><center>43</center></td>\n",
       "<td style=\"font-family:monospace;white-space: pre;\" title=\"(6, 4)\"><center>26</center></td>\n",
       "<td style=\"font-family:monospace;white-space: pre;\" title=\"(6, 5)\"><center>44</center></td>\n",
       "<td style=\"font-family:monospace;white-space: pre;\" title=\"(6, 6)\"><center>1 </center></td>\n",
       "<td style=\"font-family:monospace;white-space: pre;\" title=\"(6, 7)\"><center>0 </center></td>\n",
       "<td style=\"font-family:monospace;white-space: pre;\" title=\"(6, 8)\"><center>10</center></td>\n",
       "<td style=\"font-family:monospace;white-space: pre;\" title=\"(6, 9)\"><center>18</center></td>\n",
       "<td style=\"font-family:monospace;white-space: pre;\" title=\"(6, 10)\"><center>7 </center></td>\n",
       "<td style=\"font-family:monospace;white-space: pre;\" title=\"(6, 11)\"><center>18</center></td>\n",
       "<td style=\"font-family:monospace;white-space: pre;\" title=\"(6, 12)\"><center>4 </center></td>\n",
       "<td style=\"font-family:monospace;white-space: pre;\" title=\"(6, 13)\"><center>32</center></td>\n",
       "<td style=\"font-family:monospace;white-space: pre;\" title=\"(6, 14)\"><center>12</center></td>\n",
       "</tr>\n",
       "<tr>\n",
       "<td style=\"font-family:monospace;white-space: pre;\" title=\"(7, 0)\"><center>14</center></td>\n",
       "<td style=\"font-family:monospace;white-space: pre;\" title=\"(7, 1)\"><center>7 </center></td>\n",
       "<td style=\"font-family:monospace;white-space: pre;\" title=\"(7, 2)\"><center>22</center></td>\n",
       "<td style=\"font-family:monospace;white-space: pre;\" title=\"(7, 3)\"><center>20</center></td>\n",
       "<td style=\"font-family:monospace;white-space: pre;\" title=\"(7, 4)\"><center>0 </center></td>\n",
       "<td style=\"font-family:monospace;white-space: pre;\" title=\"(7, 5)\"><center>13</center></td>\n",
       "<td style=\"font-family:monospace;white-space: pre;\" title=\"(7, 6)\"><center>4 </center></td>\n",
       "<td style=\"font-family:monospace;white-space: pre;\" title=\"(7, 7)\"><center>0 </center></td>\n",
       "<td style=\"font-family:monospace;white-space: pre;\" title=\"(7, 8)\"><center>16</center></td>\n",
       "<td style=\"font-family:monospace;white-space: pre;\" title=\"(7, 9)\"><center>0 </center></td>\n",
       "<td style=\"font-family:monospace;white-space: pre;\" title=\"(7, 10)\"><center>33</center></td>\n",
       "<td style=\"font-family:monospace;white-space: pre;\" title=\"(7, 11)\"><center>13</center></td>\n",
       "<td style=\"font-family:monospace;white-space: pre;\" title=\"(7, 12)\"><center>32</center></td>\n",
       "<td style=\"font-family:monospace;white-space: pre;\" title=\"(7, 13)\"><center>26</center></td>\n",
       "<td style=\"font-family:monospace;white-space: pre;\" title=\"(7, 14)\"><center>48</center></td>\n",
       "</tr>\n",
       "<tr>\n",
       "<td style=\"font-family:monospace;white-space: pre;\" title=\"(8, 0)\"><center>19</center></td>\n",
       "<td style=\"font-family:monospace;white-space: pre;\" title=\"(8, 1)\"><center>0 </center></td>\n",
       "<td style=\"font-family:monospace;white-space: pre;\" title=\"(8, 2)\"><center>14</center></td>\n",
       "<td style=\"font-family:monospace;white-space: pre;\" title=\"(8, 3)\"><center>28</center></td>\n",
       "<td style=\"font-family:monospace;white-space: pre;\" title=\"(8, 4)\"><center>34</center></td>\n",
       "<td style=\"font-family:monospace;white-space: pre;\" title=\"(8, 5)\"><center>48</center></td>\n",
       "<td style=\"font-family:monospace;white-space: pre;\" title=\"(8, 6)\"><center>40</center></td>\n",
       "<td style=\"font-family:monospace;white-space: pre;\" title=\"(8, 7)\"><center>2 </center></td>\n",
       "<td style=\"font-family:monospace;white-space: pre;\" title=\"(8, 8)\"><center>36</center></td>\n",
       "<td style=\"font-family:monospace;white-space: pre;\" title=\"(8, 9)\"><center>45</center></td>\n",
       "<td style=\"font-family:monospace;white-space: pre;\" title=\"(8, 10)\"><center>50</center></td>\n",
       "<td style=\"font-family:monospace;white-space: pre;\" title=\"(8, 11)\"><center>47</center></td>\n",
       "<td style=\"font-family:monospace;white-space: pre;\" title=\"(8, 12)\"><center>49</center></td>\n",
       "<td style=\"font-family:monospace;white-space: pre;\" title=\"(8, 13)\"><center>17</center></td>\n",
       "<td style=\"font-family:monospace;white-space: pre;\" title=\"(8, 14)\"><center>7 </center></td>\n",
       "</tr>\n",
       "<tr>\n",
       "<td style=\"font-family:monospace;white-space: pre;\" title=\"(9, 0)\"><center>15</center></td>\n",
       "<td style=\"font-family:monospace;white-space: pre;\" title=\"(9, 1)\"><center>12</center></td>\n",
       "<td style=\"font-family:monospace;white-space: pre;\" title=\"(9, 2)\"><center>49</center></td>\n",
       "<td style=\"font-family:monospace;white-space: pre;\" title=\"(9, 3)\"><center>11</center></td>\n",
       "<td style=\"font-family:monospace;white-space: pre;\" title=\"(9, 4)\"><center>42</center></td>\n",
       "<td style=\"font-family:monospace;white-space: pre;\" title=\"(9, 5)\"><center>28</center></td>\n",
       "<td style=\"font-family:monospace;white-space: pre;\" title=\"(9, 6)\"><center>19</center></td>\n",
       "<td style=\"font-family:monospace;white-space: pre;\" title=\"(9, 7)\"><center>15</center></td>\n",
       "<td style=\"font-family:monospace;white-space: pre;\" title=\"(9, 8)\"><center>14</center></td>\n",
       "<td style=\"font-family:monospace;white-space: pre;\" title=\"(9, 9)\"><center>50</center></td>\n",
       "<td style=\"font-family:monospace;white-space: pre;\" title=\"(9, 10)\"><center>20</center></td>\n",
       "<td style=\"font-family:monospace;white-space: pre;\" title=\"(9, 11)\"><center>24</center></td>\n",
       "<td style=\"font-family:monospace;white-space: pre;\" title=\"(9, 12)\"><center>40</center></td>\n",
       "<td style=\"font-family:monospace;white-space: pre;\" title=\"(9, 13)\"><center>1 </center></td>\n",
       "<td style=\"font-family:monospace;white-space: pre;\" title=\"(9, 14)\"><center>14</center></td>\n",
       "</tr>\n",
       "<tr>\n",
       "<td style=\"font-family:monospace;white-space: pre;\" title=\"(10, 0)\"><center>2 </center></td>\n",
       "<td style=\"font-family:monospace;white-space: pre;\" title=\"(10, 1)\"><center>40</center></td>\n",
       "<td style=\"font-family:monospace;white-space: pre;\" title=\"(10, 2)\"><center>24</center></td>\n",
       "<td style=\"font-family:monospace;white-space: pre;\" title=\"(10, 3)\"><center>44</center></td>\n",
       "<td style=\"font-family:monospace;white-space: pre;\" title=\"(10, 4)\"><center>13</center></td>\n",
       "<td style=\"font-family:monospace;white-space: pre;\" title=\"(10, 5)\"><center>12</center></td>\n",
       "<td style=\"font-family:monospace;white-space: pre;\" title=\"(10, 6)\"><center>32</center></td>\n",
       "<td style=\"font-family:monospace;white-space: pre;\" title=\"(10, 7)\"><center>42</center></td>\n",
       "<td style=\"font-family:monospace;white-space: pre;\" title=\"(10, 8)\"><center>14</center></td>\n",
       "<td style=\"font-family:monospace;white-space: pre;\" title=\"(10, 9)\"><center>28</center></td>\n",
       "<td style=\"font-family:monospace;white-space: pre;\" title=\"(10, 10)\"><center>0 </center></td>\n",
       "<td style=\"font-family:monospace;white-space: pre;\" title=\"(10, 11)\"><center>9 </center></td>\n",
       "<td style=\"font-family:monospace;white-space: pre;\" title=\"(10, 12)\"><center>46</center></td>\n",
       "<td style=\"font-family:monospace;white-space: pre;\" title=\"(10, 13)\"><center>26</center></td>\n",
       "<td style=\"font-family:monospace;white-space: pre;\" title=\"(10, 14)\"><center>5 </center></td>\n",
       "</tr>\n",
       "<tr>\n",
       "<td style=\"font-family:monospace;white-space: pre;\" title=\"(11, 0)\"><center>0 </center></td>\n",
       "<td style=\"font-family:monospace;white-space: pre;\" title=\"(11, 1)\"><center>21</center></td>\n",
       "<td style=\"font-family:monospace;white-space: pre;\" title=\"(11, 2)\"><center>17</center></td>\n",
       "<td style=\"font-family:monospace;white-space: pre;\" title=\"(11, 3)\"><center>13</center></td>\n",
       "<td style=\"font-family:monospace;white-space: pre;\" title=\"(11, 4)\"><center>0 </center></td>\n",
       "<td style=\"font-family:monospace;white-space: pre;\" title=\"(11, 5)\"><center>5 </center></td>\n",
       "<td style=\"font-family:monospace;white-space: pre;\" title=\"(11, 6)\"><center>41</center></td>\n",
       "<td style=\"font-family:monospace;white-space: pre;\" title=\"(11, 7)\"><center>0 </center></td>\n",
       "<td style=\"font-family:monospace;white-space: pre;\" title=\"(11, 8)\"><center>44</center></td>\n",
       "<td style=\"font-family:monospace;white-space: pre;\" title=\"(11, 9)\"><center>0 </center></td>\n",
       "<td style=\"font-family:monospace;white-space: pre;\" title=\"(11, 10)\"><center>29</center></td>\n",
       "<td style=\"font-family:monospace;white-space: pre;\" title=\"(11, 11)\"><center>1 </center></td>\n",
       "<td style=\"font-family:monospace;white-space: pre;\" title=\"(11, 12)\"><center>27</center></td>\n",
       "<td style=\"font-family:monospace;white-space: pre;\" title=\"(11, 13)\"><center>4 </center></td>\n",
       "<td style=\"font-family:monospace;white-space: pre;\" title=\"(11, 14)\"><center>8 </center></td>\n",
       "</tr>\n",
       "<tr>\n",
       "<td style=\"font-family:monospace;white-space: pre;\" title=\"(12, 0)\"><center>39</center></td>\n",
       "<td style=\"font-family:monospace;white-space: pre;\" title=\"(12, 1)\"><center>7 </center></td>\n",
       "<td style=\"font-family:monospace;white-space: pre;\" title=\"(12, 2)\"><center>20</center></td>\n",
       "<td style=\"font-family:monospace;white-space: pre;\" title=\"(12, 3)\"><center>2 </center></td>\n",
       "<td style=\"font-family:monospace;white-space: pre;\" title=\"(12, 4)\"><center>25</center></td>\n",
       "<td style=\"font-family:monospace;white-space: pre;\" title=\"(12, 5)\"><center>15</center></td>\n",
       "<td style=\"font-family:monospace;white-space: pre;\" title=\"(12, 6)\"><center>1 </center></td>\n",
       "<td style=\"font-family:monospace;white-space: pre;\" title=\"(12, 7)\"><center>6 </center></td>\n",
       "<td style=\"font-family:monospace;white-space: pre;\" title=\"(12, 8)\"><center>39</center></td>\n",
       "<td style=\"font-family:monospace;white-space: pre;\" title=\"(12, 9)\"><center>0 </center></td>\n",
       "<td style=\"font-family:monospace;white-space: pre;\" title=\"(12, 10)\"><center>13</center></td>\n",
       "<td style=\"font-family:monospace;white-space: pre;\" title=\"(12, 11)\"><center>0 </center></td>\n",
       "<td style=\"font-family:monospace;white-space: pre;\" title=\"(12, 12)\"><center>5 </center></td>\n",
       "<td style=\"font-family:monospace;white-space: pre;\" title=\"(12, 13)\"><center>31</center></td>\n",
       "<td style=\"font-family:monospace;white-space: pre;\" title=\"(12, 14)\"><center>0 </center></td>\n",
       "</tr>\n",
       "<tr>\n",
       "<td style=\"font-family:monospace;white-space: pre;\" title=\"(13, 0)\"><center>44</center></td>\n",
       "<td style=\"font-family:monospace;white-space: pre;\" title=\"(13, 1)\"><center>39</center></td>\n",
       "<td style=\"font-family:monospace;white-space: pre;\" title=\"(13, 2)\"><center>8 </center></td>\n",
       "<td style=\"font-family:monospace;white-space: pre;\" title=\"(13, 3)\"><center>29</center></td>\n",
       "<td style=\"font-family:monospace;white-space: pre;\" title=\"(13, 4)\"><center>28</center></td>\n",
       "<td style=\"font-family:monospace;white-space: pre;\" title=\"(13, 5)\"><center>50</center></td>\n",
       "<td style=\"font-family:monospace;white-space: pre;\" title=\"(13, 6)\"><center>27</center></td>\n",
       "<td style=\"font-family:monospace;white-space: pre;\" title=\"(13, 7)\"><center>30</center></td>\n",
       "<td style=\"font-family:monospace;white-space: pre;\" title=\"(13, 8)\"><center>4 </center></td>\n",
       "<td style=\"font-family:monospace;white-space: pre;\" title=\"(13, 9)\"><center>9 </center></td>\n",
       "<td style=\"font-family:monospace;white-space: pre;\" title=\"(13, 10)\"><center>31</center></td>\n",
       "<td style=\"font-family:monospace;white-space: pre;\" title=\"(13, 11)\"><center>22</center></td>\n",
       "<td style=\"font-family:monospace;white-space: pre;\" title=\"(13, 12)\"><center>30</center></td>\n",
       "<td style=\"font-family:monospace;white-space: pre;\" title=\"(13, 13)\"><center>38</center></td>\n",
       "<td style=\"font-family:monospace;white-space: pre;\" title=\"(13, 14)\"><center>0 </center></td>\n",
       "</tr>\n",
       "<tr>\n",
       "<td style=\"font-family:monospace;white-space: pre;\" title=\"(14, 0)\"><center>3 </center></td>\n",
       "<td style=\"font-family:monospace;white-space: pre;\" title=\"(14, 1)\"><center>3 </center></td>\n",
       "<td style=\"font-family:monospace;white-space: pre;\" title=\"(14, 2)\"><center>30</center></td>\n",
       "<td style=\"font-family:monospace;white-space: pre;\" title=\"(14, 3)\"><center>30</center></td>\n",
       "<td style=\"font-family:monospace;white-space: pre;\" title=\"(14, 4)\"><center>0 </center></td>\n",
       "<td style=\"font-family:monospace;white-space: pre;\" title=\"(14, 5)\"><center>21</center></td>\n",
       "<td style=\"font-family:monospace;white-space: pre;\" title=\"(14, 6)\"><center>20</center></td>\n",
       "<td style=\"font-family:monospace;white-space: pre;\" title=\"(14, 7)\"><center>0 </center></td>\n",
       "<td style=\"font-family:monospace;white-space: pre;\" title=\"(14, 8)\"><center>33</center></td>\n",
       "<td style=\"font-family:monospace;white-space: pre;\" title=\"(14, 9)\"><center>9 </center></td>\n",
       "<td style=\"font-family:monospace;white-space: pre;\" title=\"(14, 10)\"><center>44</center></td>\n",
       "<td style=\"font-family:monospace;white-space: pre;\" title=\"(14, 11)\"><center>0 </center></td>\n",
       "<td style=\"font-family:monospace;white-space: pre;\" title=\"(14, 12)\"><center>33</center></td>\n",
       "<td style=\"font-family:monospace;white-space: pre;\" title=\"(14, 13)\"><center>0 </center></td>\n",
       "<td style=\"font-family:monospace;white-space: pre;\" title=\"(14, 14)\"><center>24</center></td>\n",
       "</tr>\n",
       "</table>"
      ],
      "text/plain": [
       "array([[26, 32,  0, 10, 34, 18, 40, 24, 19, 37, 10, 27, 16, 32, 21],\n",
       "       [ 2, 17, 30, 12,  7, 36, 41, 12, 22, 32,  5, 50,  0, 46,  4],\n",
       "       [47,  0, 43, 16, 25, 46, 30,  0, 11, 24, 11, 46,  1,  0, 15],\n",
       "       [20, 15,  7,  0, 27, 35, 26, 13, 20, 36, 42, 43, 46,  3,  0],\n",
       "       [46, 48,  0, 45, 11, 36, 30, 49, 18,  0, 17, 13,  4, 37,  0],\n",
       "       [11, 33, 24,  6, 50, 37, 45, 47, 20, 43,  2, 24,  0, 24, 37],\n",
       "       [44, 29, 14, 43, 26, 44,  1,  0, 10, 18,  7, 18,  4, 32, 12],\n",
       "       [14,  7, 22, 20,  0, 13,  4,  0, 16,  0, 33, 13, 32, 26, 48],\n",
       "       [19,  0, 14, 28, 34, 48, 40,  2, 36, 45, 50, 47, 49, 17,  7],\n",
       "       [15, 12, 49, 11, 42, 28, 19, 15, 14, 50, 20, 24, 40,  1, 14],\n",
       "       [ 2, 40, 24, 44, 13, 12, 32, 42, 14, 28,  0,  9, 46, 26,  5],\n",
       "       [ 0, 21, 17, 13,  0,  5, 41,  0, 44,  0, 29,  1, 27,  4,  8],\n",
       "       [39,  7, 20,  2, 25, 15,  1,  6, 39,  0, 13,  0,  5, 31,  0],\n",
       "       [44, 39,  8, 29, 28, 50, 27, 30,  4,  9, 31, 22, 30, 38,  0],\n",
       "       [ 3,  3, 30, 30,  0, 21, 20,  0, 33,  9, 44,  0, 33,  0, 24]],\n",
       "      dtype=int32)"
      ]
     },
     "execution_count": 171,
     "metadata": {},
     "output_type": "execute_result"
    }
   ],
   "source": [
    "# Replacing the -100 with zero in the matrix\n",
    "matrix0_50[matrix0_50 == -100] = 0\n",
    "matrix0_50"
   ]
  },
  {
   "attachments": {},
   "cell_type": "markdown",
   "metadata": {},
   "source": [
    "<h3><b>3. argsort is a feature of NumPy  that allows you to sort a NumPy array based on another NumPy array. </b></h3>\n",
    "\n",
    "This is useful if you have two separate arrays, but their data  should be in sync even if order of data is changed. For example, one array contains the prices of cars, and another contains the manufacturing years. If we wish to sort the data by manufacturing years, and keep the prices in sync as well, argsort will be handy.\n",
    "\n",
    "Useful link:\n",
    "http://arogozhnikov.github.io/2015/09/29/NumpyTipsAndTricks1.html\n",
    "\n",
    "Create two random datasets:\n",
    "\n",
    "- Manufacturing years of 10 cars, values between 2010 and 2020\n",
    "\n",
    "- Selling price of 10 cars, prices between 2000€ and 60000€\n",
    "\n",
    "Use argsort to sort both datasets according to manufacturing years.\n"
   ]
  },
  {
   "cell_type": "code",
   "execution_count": 146,
   "metadata": {},
   "outputs": [
    {
     "data": {
      "text/html": [
       "<table style='border-style:solid;border-width:1px;'>\n",
       "<tr><td style=\"font-family:monospace;white-space: pre;\" title=\"0\"><center>2018</center></td></tr>\n",
       "<tr><td style=\"font-family:monospace;white-space: pre;\" title=\"1\"><center>2020</center></td></tr>\n",
       "<tr><td style=\"font-family:monospace;white-space: pre;\" title=\"2\"><center>2011</center></td></tr>\n",
       "<tr><td style=\"font-family:monospace;white-space: pre;\" title=\"3\"><center>2017</center></td></tr>\n",
       "<tr><td style=\"font-family:monospace;white-space: pre;\" title=\"4\"><center>2012</center></td></tr>\n",
       "<tr><td style=\"font-family:monospace;white-space: pre;\" title=\"5\"><center>2015</center></td></tr>\n",
       "<tr><td style=\"font-family:monospace;white-space: pre;\" title=\"6\"><center>2011</center></td></tr>\n",
       "<tr><td style=\"font-family:monospace;white-space: pre;\" title=\"7\"><center>2010</center></td></tr>\n",
       "<tr><td style=\"font-family:monospace;white-space: pre;\" title=\"8\"><center>2012</center></td></tr>\n",
       "<tr><td style=\"font-family:monospace;white-space: pre;\" title=\"9\"><center>2012</center></td></tr>\n",
       "</table>"
      ],
      "text/plain": [
       "array([2018, 2020, 2011, 2017, 2012, 2015, 2011, 2010, 2012, 2012],\n",
       "      dtype=int32)"
      ]
     },
     "execution_count": 146,
     "metadata": {},
     "output_type": "execute_result"
    }
   ],
   "source": [
    "# Manufacturing years of 10 cars, values between 2010 and 2020\n",
    "years = np.random.randint(2010, 2021, 10)\n",
    "years\n",
    "\n",
    "\n"
   ]
  },
  {
   "cell_type": "code",
   "execution_count": 147,
   "metadata": {},
   "outputs": [
    {
     "data": {
      "text/html": [
       "<table style='border-style:solid;border-width:1px;'>\n",
       "<tr><td style=\"font-family:monospace;white-space: pre;\" title=\"0\"><center>51180</center></td></tr>\n",
       "<tr><td style=\"font-family:monospace;white-space: pre;\" title=\"1\"><center>49293</center></td></tr>\n",
       "<tr><td style=\"font-family:monospace;white-space: pre;\" title=\"2\"><center>19688</center></td></tr>\n",
       "<tr><td style=\"font-family:monospace;white-space: pre;\" title=\"3\"><center>2709 </center></td></tr>\n",
       "<tr><td style=\"font-family:monospace;white-space: pre;\" title=\"4\"><center>46130</center></td></tr>\n",
       "<tr><td style=\"font-family:monospace;white-space: pre;\" title=\"5\"><center>12499</center></td></tr>\n",
       "<tr><td style=\"font-family:monospace;white-space: pre;\" title=\"6\"><center>29245</center></td></tr>\n",
       "<tr><td style=\"font-family:monospace;white-space: pre;\" title=\"7\"><center>7322 </center></td></tr>\n",
       "<tr><td style=\"font-family:monospace;white-space: pre;\" title=\"8\"><center>34775</center></td></tr>\n",
       "<tr><td style=\"font-family:monospace;white-space: pre;\" title=\"9\"><center>7081 </center></td></tr>\n",
       "</table>"
      ],
      "text/plain": [
       "array([51180, 49293, 19688,  2709, 46130, 12499, 29245,  7322, 34775,\n",
       "        7081], dtype=int32)"
      ]
     },
     "execution_count": 147,
     "metadata": {},
     "output_type": "execute_result"
    }
   ],
   "source": [
    "# Selling price of 10 cars, prices between 2000€ and 60000€\n",
    "prices = np.random.randint(2000, 60001, 10)\n",
    "prices"
   ]
  },
  {
   "cell_type": "code",
   "execution_count": 148,
   "metadata": {},
   "outputs": [
    {
     "data": {
      "text/html": [
       "<div>\n",
       "<style scoped>\n",
       "    .dataframe tbody tr th:only-of-type {\n",
       "        vertical-align: middle;\n",
       "    }\n",
       "\n",
       "    .dataframe tbody tr th {\n",
       "        vertical-align: top;\n",
       "    }\n",
       "\n",
       "    .dataframe thead th {\n",
       "        text-align: right;\n",
       "    }\n",
       "</style>\n",
       "<table border=\"1\" class=\"dataframe\">\n",
       "  <thead>\n",
       "    <tr style=\"text-align: right;\">\n",
       "      <th></th>\n",
       "      <th>Year</th>\n",
       "      <th>Price</th>\n",
       "    </tr>\n",
       "  </thead>\n",
       "  <tbody>\n",
       "    <tr>\n",
       "      <th>0</th>\n",
       "      <td>2010</td>\n",
       "      <td>7322</td>\n",
       "    </tr>\n",
       "    <tr>\n",
       "      <th>1</th>\n",
       "      <td>2011</td>\n",
       "      <td>19688</td>\n",
       "    </tr>\n",
       "    <tr>\n",
       "      <th>2</th>\n",
       "      <td>2011</td>\n",
       "      <td>29245</td>\n",
       "    </tr>\n",
       "    <tr>\n",
       "      <th>3</th>\n",
       "      <td>2012</td>\n",
       "      <td>46130</td>\n",
       "    </tr>\n",
       "    <tr>\n",
       "      <th>4</th>\n",
       "      <td>2012</td>\n",
       "      <td>7081</td>\n",
       "    </tr>\n",
       "    <tr>\n",
       "      <th>5</th>\n",
       "      <td>2012</td>\n",
       "      <td>34775</td>\n",
       "    </tr>\n",
       "    <tr>\n",
       "      <th>6</th>\n",
       "      <td>2015</td>\n",
       "      <td>12499</td>\n",
       "    </tr>\n",
       "    <tr>\n",
       "      <th>7</th>\n",
       "      <td>2017</td>\n",
       "      <td>2709</td>\n",
       "    </tr>\n",
       "    <tr>\n",
       "      <th>8</th>\n",
       "      <td>2018</td>\n",
       "      <td>51180</td>\n",
       "    </tr>\n",
       "    <tr>\n",
       "      <th>9</th>\n",
       "      <td>2020</td>\n",
       "      <td>49293</td>\n",
       "    </tr>\n",
       "  </tbody>\n",
       "</table>\n",
       "</div>"
      ],
      "text/plain": [
       "   Year  Price\n",
       "0  2010   7322\n",
       "1  2011  19688\n",
       "2  2011  29245\n",
       "3  2012  46130\n",
       "4  2012   7081\n",
       "5  2012  34775\n",
       "6  2015  12499\n",
       "7  2017   2709\n",
       "8  2018  51180\n",
       "9  2020  49293"
      ]
     },
     "execution_count": 148,
     "metadata": {},
     "output_type": "execute_result"
    }
   ],
   "source": [
    "# Sorting the years and prices\n",
    "sort = np.argsort(years)\n",
    "sorted_years = years[sort]\n",
    "sorted_prices = prices[sort]\n",
    "\n",
    "# Creating a DataFrame\n",
    "df = pd.DataFrame({'Year': sorted_years, 'Price': sorted_prices})\n",
    "df"
   ]
  },
  {
   "attachments": {},
   "cell_type": "markdown",
   "metadata": {},
   "source": [
    "<h3><b>4. Try out the following additional NumPy features, and discuss in your code comments or in Jupyter Notebook text where they could be useful. You can also Google and search for ideas where these could be used. </b></h3>\n",
    "\n",
    "You can write your thoughts as comments in the code or Jupyter text as you try out each feature.\n",
    "\n",
    "- np.repeat()\n",
    "\n",
    "- np.ravel()\n",
    "\n",
    "- np.hsplit(), np.vsplit(), np.hstack, np.vstack()\n",
    "\n",
    "- np.transpose()\n",
    "\n",
    "- np.round()\n",
    "\n",
    "- np.expand_dims(), np.squeeze()\n",
    "\n",
    "- np.digitize()\n",
    "\n",
    "\n"
   ]
  },
  {
   "cell_type": "markdown",
   "metadata": {},
   "source": [
    "### 1. np.repeat()"
   ]
  },
  {
   "cell_type": "code",
   "execution_count": 149,
   "metadata": {},
   "outputs": [
    {
     "data": {
      "text/html": [
       "<table style='border-style:solid;border-width:1px;'>\n",
       "<tr><td style=\"font-family:monospace;white-space: pre;\" title=\"0\"><center>1</center></td></tr>\n",
       "<tr><td style=\"font-family:monospace;white-space: pre;\" title=\"1\"><center>2</center></td></tr>\n",
       "<tr><td style=\"font-family:monospace;white-space: pre;\" title=\"2\"><center>3</center></td></tr>\n",
       "<tr><td style=\"font-family:monospace;white-space: pre;\" title=\"3\"><center>4</center></td></tr>\n",
       "<tr><td style=\"font-family:monospace;white-space: pre;\" title=\"4\"><center>5</center></td></tr>\n",
       "</table>"
      ],
      "text/plain": [
       "array([1, 2, 3, 4, 5])"
      ]
     },
     "execution_count": 149,
     "metadata": {},
     "output_type": "execute_result"
    }
   ],
   "source": [
    "# Repeats each element in an array a specified number of times.\n",
    "# when you need to duplicate data for creating patterns or expanding datasets\n",
    "# Example:\n",
    "# Create an array of 5 elements\n",
    "array = np.array([1, 2, 3, 4, 5])\n",
    "array\n",
    "\n"
   ]
  },
  {
   "cell_type": "code",
   "execution_count": 150,
   "metadata": {},
   "outputs": [
    {
     "data": {
      "text/html": [
       "<table style='border-style:solid;border-width:1px;'>\n",
       "<tr><td style=\"font-family:monospace;white-space: pre;\" title=\"0\"><center>1</center></td></tr>\n",
       "<tr><td style=\"font-family:monospace;white-space: pre;\" title=\"1\"><center>1</center></td></tr>\n",
       "<tr><td style=\"font-family:monospace;white-space: pre;\" title=\"2\"><center>1</center></td></tr>\n",
       "<tr><td style=\"font-family:monospace;white-space: pre;\" title=\"3\"><center>2</center></td></tr>\n",
       "<tr><td style=\"font-family:monospace;white-space: pre;\" title=\"4\"><center>2</center></td></tr>\n",
       "<tr><td style=\"font-family:monospace;white-space: pre;\" title=\"5\"><center>2</center></td></tr>\n",
       "<tr><td style=\"font-family:monospace;white-space: pre;\" title=\"6\"><center>3</center></td></tr>\n",
       "<tr><td style=\"font-family:monospace;white-space: pre;\" title=\"7\"><center>3</center></td></tr>\n",
       "<tr><td style=\"font-family:monospace;white-space: pre;\" title=\"8\"><center>3</center></td></tr>\n",
       "<tr><td style=\"font-family:monospace;white-space: pre;\" title=\"9\"><center>4</center></td></tr>\n",
       "<tr><td style=\"font-family:monospace;white-space: pre;\" title=\"10\"><center>4</center></td></tr>\n",
       "<tr><td style=\"font-family:monospace;white-space: pre;\" title=\"11\"><center>4</center></td></tr>\n",
       "<tr><td style=\"font-family:monospace;white-space: pre;\" title=\"12\"><center>5</center></td></tr>\n",
       "<tr><td style=\"font-family:monospace;white-space: pre;\" title=\"13\"><center>5</center></td></tr>\n",
       "<tr><td style=\"font-family:monospace;white-space: pre;\" title=\"14\"><center>5</center></td></tr>\n",
       "</table>"
      ],
      "text/plain": [
       "array([1, 1, 1, 2, 2, 2, 3, 3, 3, 4, 4, 4, 5, 5, 5])"
      ]
     },
     "execution_count": 150,
     "metadata": {},
     "output_type": "execute_result"
    }
   ],
   "source": [
    "repeat = np.repeat(array, 3)\n",
    "repeat"
   ]
  },
  {
   "cell_type": "markdown",
   "metadata": {},
   "source": [
    "### 2. np.ravel()"
   ]
  },
  {
   "cell_type": "code",
   "execution_count": 151,
   "metadata": {},
   "outputs": [
    {
     "data": {
      "text/html": [
       "<table style='border-style:solid;border-width:1px;'>\n",
       "<tr>\n",
       "<td style=\"font-family:monospace;white-space: pre;\" title=\"(0, 0)\"><center>1</center></td>\n",
       "<td style=\"font-family:monospace;white-space: pre;\" title=\"(0, 1)\"><center>2</center></td>\n",
       "<td style=\"font-family:monospace;white-space: pre;\" title=\"(0, 2)\"><center>3</center></td>\n",
       "</tr>\n",
       "<tr>\n",
       "<td style=\"font-family:monospace;white-space: pre;\" title=\"(1, 0)\"><center>4</center></td>\n",
       "<td style=\"font-family:monospace;white-space: pre;\" title=\"(1, 1)\"><center>5</center></td>\n",
       "<td style=\"font-family:monospace;white-space: pre;\" title=\"(1, 2)\"><center>6</center></td>\n",
       "</tr>\n",
       "<tr>\n",
       "<td style=\"font-family:monospace;white-space: pre;\" title=\"(2, 0)\"><center>7</center></td>\n",
       "<td style=\"font-family:monospace;white-space: pre;\" title=\"(2, 1)\"><center>8</center></td>\n",
       "<td style=\"font-family:monospace;white-space: pre;\" title=\"(2, 2)\"><center>9</center></td>\n",
       "</tr>\n",
       "</table>"
      ],
      "text/plain": [
       "array([[1, 2, 3],\n",
       "       [4, 5, 6],\n",
       "       [7, 8, 9]])"
      ]
     },
     "execution_count": 151,
     "metadata": {},
     "output_type": "execute_result"
    }
   ],
   "source": [
    "# it converts a multi-dimensional array into a flat (1D) array. \n",
    "# It is useful when you need to process data as a single dimension, like for machine learning models.\n",
    "ravel_array = np.array([[1, 2, 3], [4, 5, 6], [7, 8, 9]])\n",
    "ravel_array"
   ]
  },
  {
   "cell_type": "code",
   "execution_count": 152,
   "metadata": {},
   "outputs": [
    {
     "data": {
      "text/html": [
       "<table style='border-style:solid;border-width:1px;'>\n",
       "<tr><td style=\"font-family:monospace;white-space: pre;\" title=\"0\"><center>1</center></td></tr>\n",
       "<tr><td style=\"font-family:monospace;white-space: pre;\" title=\"1\"><center>2</center></td></tr>\n",
       "<tr><td style=\"font-family:monospace;white-space: pre;\" title=\"2\"><center>3</center></td></tr>\n",
       "<tr><td style=\"font-family:monospace;white-space: pre;\" title=\"3\"><center>4</center></td></tr>\n",
       "<tr><td style=\"font-family:monospace;white-space: pre;\" title=\"4\"><center>5</center></td></tr>\n",
       "<tr><td style=\"font-family:monospace;white-space: pre;\" title=\"5\"><center>6</center></td></tr>\n",
       "<tr><td style=\"font-family:monospace;white-space: pre;\" title=\"6\"><center>7</center></td></tr>\n",
       "<tr><td style=\"font-family:monospace;white-space: pre;\" title=\"7\"><center>8</center></td></tr>\n",
       "<tr><td style=\"font-family:monospace;white-space: pre;\" title=\"8\"><center>9</center></td></tr>\n",
       "</table>"
      ],
      "text/plain": [
       "array([1, 2, 3, 4, 5, 6, 7, 8, 9])"
      ]
     },
     "execution_count": 152,
     "metadata": {},
     "output_type": "execute_result"
    }
   ],
   "source": [
    "flatten = np.ravel(ravel_array)\n",
    "flatten"
   ]
  },
  {
   "cell_type": "markdown",
   "metadata": {},
   "source": [
    "### 3. np.hsplit(), np.vsplit(), np.hstack, np.vstack()"
   ]
  },
  {
   "cell_type": "code",
   "execution_count": 153,
   "metadata": {},
   "outputs": [],
   "source": [
    "# hsplit(): Splits an array into equal parts along columns.\n",
    "# vsplit(): Splits an array into equal parts along rows.\n",
    "# hstack(): Stacks arrays side by side (columns).\n",
    "# vstack(): Stacks arrays on top of each other (rows)."
   ]
  },
  {
   "cell_type": "code",
   "execution_count": 154,
   "metadata": {},
   "outputs": [
    {
     "data": {
      "text/html": [
       "<table style='border-style:solid;border-width:1px;'>\n",
       "<tr>\n",
       "<td style=\"font-family:monospace;white-space: pre;\" title=\"(0, 0)\"><center>1 </center></td>\n",
       "<td style=\"font-family:monospace;white-space: pre;\" title=\"(0, 1)\"><center>2 </center></td>\n",
       "<td style=\"font-family:monospace;white-space: pre;\" title=\"(0, 2)\"><center>3 </center></td>\n",
       "<td style=\"font-family:monospace;white-space: pre;\" title=\"(0, 3)\"><center>4 </center></td>\n",
       "</tr>\n",
       "<tr>\n",
       "<td style=\"font-family:monospace;white-space: pre;\" title=\"(1, 0)\"><center>5 </center></td>\n",
       "<td style=\"font-family:monospace;white-space: pre;\" title=\"(1, 1)\"><center>6 </center></td>\n",
       "<td style=\"font-family:monospace;white-space: pre;\" title=\"(1, 2)\"><center>7 </center></td>\n",
       "<td style=\"font-family:monospace;white-space: pre;\" title=\"(1, 3)\"><center>8 </center></td>\n",
       "</tr>\n",
       "<tr>\n",
       "<td style=\"font-family:monospace;white-space: pre;\" title=\"(2, 0)\"><center>9 </center></td>\n",
       "<td style=\"font-family:monospace;white-space: pre;\" title=\"(2, 1)\"><center>10</center></td>\n",
       "<td style=\"font-family:monospace;white-space: pre;\" title=\"(2, 2)\"><center>11</center></td>\n",
       "<td style=\"font-family:monospace;white-space: pre;\" title=\"(2, 3)\"><center>12</center></td>\n",
       "</tr>\n",
       "<tr>\n",
       "<td style=\"font-family:monospace;white-space: pre;\" title=\"(3, 0)\"><center>13</center></td>\n",
       "<td style=\"font-family:monospace;white-space: pre;\" title=\"(3, 1)\"><center>14</center></td>\n",
       "<td style=\"font-family:monospace;white-space: pre;\" title=\"(3, 2)\"><center>15</center></td>\n",
       "<td style=\"font-family:monospace;white-space: pre;\" title=\"(3, 3)\"><center>16</center></td>\n",
       "</tr>\n",
       "</table>"
      ],
      "text/plain": [
       "array([[ 1,  2,  3,  4],\n",
       "       [ 5,  6,  7,  8],\n",
       "       [ 9, 10, 11, 12],\n",
       "       [13, 14, 15, 16]])"
      ]
     },
     "execution_count": 154,
     "metadata": {},
     "output_type": "execute_result"
    }
   ],
   "source": [
    "# Creating  a 4x4 matrix\n",
    "matrix = np.arange(1, 17).reshape(4, 4)\n",
    "matrix"
   ]
  },
  {
   "cell_type": "code",
   "execution_count": 155,
   "metadata": {},
   "outputs": [
    {
     "data": {
      "text/plain": [
       "[array([[ 1,  2],\n",
       "        [ 5,  6],\n",
       "        [ 9, 10],\n",
       "        [13, 14]]),\n",
       " array([[ 3,  4],\n",
       "        [ 7,  8],\n",
       "        [11, 12],\n",
       "        [15, 16]])]"
      ]
     },
     "execution_count": 155,
     "metadata": {},
     "output_type": "execute_result"
    }
   ],
   "source": [
    "# Split the matrix into two equal parts along columns\n",
    "hsplit = np.hsplit(matrix, 2)\n",
    "hsplit\n"
   ]
  },
  {
   "cell_type": "code",
   "execution_count": 156,
   "metadata": {},
   "outputs": [
    {
     "data": {
      "text/html": [
       "<table style='border-style:solid;border-width:1px;'>\n",
       "<tr>\n",
       "<td style=\"font-family:monospace;white-space: pre;\" title=\"(0, 0)\"><center>1 </center></td>\n",
       "<td style=\"font-family:monospace;white-space: pre;\" title=\"(0, 1)\"><center>2 </center></td>\n",
       "<td style=\"font-family:monospace;white-space: pre;\" title=\"(0, 2)\"><center>3 </center></td>\n",
       "<td style=\"font-family:monospace;white-space: pre;\" title=\"(0, 3)\"><center>4 </center></td>\n",
       "<td style=\"font-family:monospace;white-space: pre;\" title=\"(0, 4)\"><center>5 </center></td>\n",
       "<td style=\"font-family:monospace;white-space: pre;\" title=\"(0, 5)\"><center>6 </center></td>\n",
       "</tr>\n",
       "<tr>\n",
       "<td style=\"font-family:monospace;white-space: pre;\" title=\"(1, 0)\"><center>7 </center></td>\n",
       "<td style=\"font-family:monospace;white-space: pre;\" title=\"(1, 1)\"><center>8 </center></td>\n",
       "<td style=\"font-family:monospace;white-space: pre;\" title=\"(1, 2)\"><center>9 </center></td>\n",
       "<td style=\"font-family:monospace;white-space: pre;\" title=\"(1, 3)\"><center>10</center></td>\n",
       "<td style=\"font-family:monospace;white-space: pre;\" title=\"(1, 4)\"><center>11</center></td>\n",
       "<td style=\"font-family:monospace;white-space: pre;\" title=\"(1, 5)\"><center>12</center></td>\n",
       "</tr>\n",
       "<tr>\n",
       "<td style=\"font-family:monospace;white-space: pre;\" title=\"(2, 0)\"><center>13</center></td>\n",
       "<td style=\"font-family:monospace;white-space: pre;\" title=\"(2, 1)\"><center>14</center></td>\n",
       "<td style=\"font-family:monospace;white-space: pre;\" title=\"(2, 2)\"><center>15</center></td>\n",
       "<td style=\"font-family:monospace;white-space: pre;\" title=\"(2, 3)\"><center>16</center></td>\n",
       "<td style=\"font-family:monospace;white-space: pre;\" title=\"(2, 4)\"><center>17</center></td>\n",
       "<td style=\"font-family:monospace;white-space: pre;\" title=\"(2, 5)\"><center>18</center></td>\n",
       "</tr>\n",
       "<tr>\n",
       "<td style=\"font-family:monospace;white-space: pre;\" title=\"(3, 0)\"><center>19</center></td>\n",
       "<td style=\"font-family:monospace;white-space: pre;\" title=\"(3, 1)\"><center>20</center></td>\n",
       "<td style=\"font-family:monospace;white-space: pre;\" title=\"(3, 2)\"><center>21</center></td>\n",
       "<td style=\"font-family:monospace;white-space: pre;\" title=\"(3, 3)\"><center>22</center></td>\n",
       "<td style=\"font-family:monospace;white-space: pre;\" title=\"(3, 4)\"><center>23</center></td>\n",
       "<td style=\"font-family:monospace;white-space: pre;\" title=\"(3, 5)\"><center>24</center></td>\n",
       "</tr>\n",
       "<tr>\n",
       "<td style=\"font-family:monospace;white-space: pre;\" title=\"(4, 0)\"><center>25</center></td>\n",
       "<td style=\"font-family:monospace;white-space: pre;\" title=\"(4, 1)\"><center>26</center></td>\n",
       "<td style=\"font-family:monospace;white-space: pre;\" title=\"(4, 2)\"><center>27</center></td>\n",
       "<td style=\"font-family:monospace;white-space: pre;\" title=\"(4, 3)\"><center>28</center></td>\n",
       "<td style=\"font-family:monospace;white-space: pre;\" title=\"(4, 4)\"><center>29</center></td>\n",
       "<td style=\"font-family:monospace;white-space: pre;\" title=\"(4, 5)\"><center>30</center></td>\n",
       "</tr>\n",
       "<tr>\n",
       "<td style=\"font-family:monospace;white-space: pre;\" title=\"(5, 0)\"><center>31</center></td>\n",
       "<td style=\"font-family:monospace;white-space: pre;\" title=\"(5, 1)\"><center>32</center></td>\n",
       "<td style=\"font-family:monospace;white-space: pre;\" title=\"(5, 2)\"><center>33</center></td>\n",
       "<td style=\"font-family:monospace;white-space: pre;\" title=\"(5, 3)\"><center>34</center></td>\n",
       "<td style=\"font-family:monospace;white-space: pre;\" title=\"(5, 4)\"><center>35</center></td>\n",
       "<td style=\"font-family:monospace;white-space: pre;\" title=\"(5, 5)\"><center>36</center></td>\n",
       "</tr>\n",
       "</table>"
      ],
      "text/plain": [
       "array([[ 1,  2,  3,  4,  5,  6],\n",
       "       [ 7,  8,  9, 10, 11, 12],\n",
       "       [13, 14, 15, 16, 17, 18],\n",
       "       [19, 20, 21, 22, 23, 24],\n",
       "       [25, 26, 27, 28, 29, 30],\n",
       "       [31, 32, 33, 34, 35, 36]])"
      ]
     },
     "execution_count": 156,
     "metadata": {},
     "output_type": "execute_result"
    }
   ],
   "source": [
    "# Example 2:\n",
    "# Creating a 6x6 matrix\n",
    "matrix6_6 = np.arange(1, 37).reshape(6, 6)\n",
    "matrix6_6"
   ]
  },
  {
   "cell_type": "code",
   "execution_count": 157,
   "metadata": {},
   "outputs": [
    {
     "data": {
      "text/plain": [
       "[array([[ 1,  2,  3,  4,  5,  6],\n",
       "        [ 7,  8,  9, 10, 11, 12],\n",
       "        [13, 14, 15, 16, 17, 18]]),\n",
       " array([[19, 20, 21, 22, 23, 24],\n",
       "        [25, 26, 27, 28, 29, 30],\n",
       "        [31, 32, 33, 34, 35, 36]])]"
      ]
     },
     "execution_count": 157,
     "metadata": {},
     "output_type": "execute_result"
    }
   ],
   "source": [
    "# Split the matrix into two equal parts along rows\n",
    "vsplit = np.vsplit(matrix6_6, 2)\n",
    "vsplit\n"
   ]
  },
  {
   "cell_type": "code",
   "execution_count": 158,
   "metadata": {},
   "outputs": [
    {
     "data": {
      "text/html": [
       "<table style='border-style:solid;border-width:1px;'>\n",
       "<tr><td style=\"font-family:monospace;white-space: pre;\" title=\"0\"><center>1</center></td></tr>\n",
       "<tr><td style=\"font-family:monospace;white-space: pre;\" title=\"1\"><center>2</center></td></tr>\n",
       "<tr><td style=\"font-family:monospace;white-space: pre;\" title=\"2\"><center>3</center></td></tr>\n",
       "<tr><td style=\"font-family:monospace;white-space: pre;\" title=\"3\"><center>4</center></td></tr>\n",
       "<tr><td style=\"font-family:monospace;white-space: pre;\" title=\"4\"><center>5</center></td></tr>\n",
       "<tr><td style=\"font-family:monospace;white-space: pre;\" title=\"5\"><center>6</center></td></tr>\n",
       "</table>"
      ],
      "text/plain": [
       "array([1, 2, 3, 4, 5, 6])"
      ]
     },
     "execution_count": 158,
     "metadata": {},
     "output_type": "execute_result"
    }
   ],
   "source": [
    "# Example 3: \n",
    "\n",
    "array1 = np.array([1, 2, 3])\n",
    "array2 = np.array([4, 5, 6])\n",
    "\n",
    "# Stacking the arrays side by side\n",
    "hstack = np.hstack((array1, array2))\n",
    "hstack\n"
   ]
  },
  {
   "cell_type": "code",
   "execution_count": 159,
   "metadata": {},
   "outputs": [
    {
     "data": {
      "text/html": [
       "<table style='border-style:solid;border-width:1px;'>\n",
       "<tr>\n",
       "<td style=\"font-family:monospace;white-space: pre;\" title=\"(0, 0)\"><center>1</center></td>\n",
       "<td style=\"font-family:monospace;white-space: pre;\" title=\"(0, 1)\"><center>2</center></td>\n",
       "<td style=\"font-family:monospace;white-space: pre;\" title=\"(0, 2)\"><center>3</center></td>\n",
       "</tr>\n",
       "<tr>\n",
       "<td style=\"font-family:monospace;white-space: pre;\" title=\"(1, 0)\"><center>4</center></td>\n",
       "<td style=\"font-family:monospace;white-space: pre;\" title=\"(1, 1)\"><center>5</center></td>\n",
       "<td style=\"font-family:monospace;white-space: pre;\" title=\"(1, 2)\"><center>6</center></td>\n",
       "</tr>\n",
       "</table>"
      ],
      "text/plain": [
       "array([[1, 2, 3],\n",
       "       [4, 5, 6]])"
      ]
     },
     "execution_count": 159,
     "metadata": {},
     "output_type": "execute_result"
    }
   ],
   "source": [
    "# Stacking the arrays on top of each other\n",
    "vstack = np.vstack((array1, array2))\n",
    "vstack"
   ]
  },
  {
   "cell_type": "markdown",
   "metadata": {},
   "source": [
    "### 4. np.transpose()"
   ]
  },
  {
   "cell_type": "code",
   "execution_count": 160,
   "metadata": {},
   "outputs": [
    {
     "data": {
      "text/html": [
       "<table style='border-style:solid;border-width:1px;'>\n",
       "<tr>\n",
       "<td style=\"font-family:monospace;white-space: pre;\" title=\"(0, 0)\"><center>1</center></td>\n",
       "<td style=\"font-family:monospace;white-space: pre;\" title=\"(0, 1)\"><center>3</center></td>\n",
       "</tr>\n",
       "<tr>\n",
       "<td style=\"font-family:monospace;white-space: pre;\" title=\"(1, 0)\"><center>2</center></td>\n",
       "<td style=\"font-family:monospace;white-space: pre;\" title=\"(1, 1)\"><center>4</center></td>\n",
       "</tr>\n",
       "</table>"
      ],
      "text/plain": [
       "array([[1, 3],\n",
       "       [2, 4]])"
      ]
     },
     "execution_count": 160,
     "metadata": {},
     "output_type": "execute_result"
    }
   ],
   "source": [
    "# np.transpose()\n",
    "# Swaps rows and columns in a matrix.  \n",
    "arr = np.array([[1, 2], [3, 4]])\n",
    "np.transpose(arr)  \n"
   ]
  },
  {
   "cell_type": "markdown",
   "metadata": {},
   "source": [
    "### 5. np.round()"
   ]
  },
  {
   "cell_type": "code",
   "execution_count": 161,
   "metadata": {},
   "outputs": [
    {
     "data": {
      "text/html": [
       "<table style='border-style:solid;border-width:1px;'>\n",
       "<tr><td style=\"font-family:monospace;white-space: pre;\" title=\"0\"><center>1.1</center></td></tr>\n",
       "<tr><td style=\"font-family:monospace;white-space: pre;\" title=\"1\"><center>2.5</center></td></tr>\n",
       "</table>"
      ],
      "text/plain": [
       "array([1.1, 2.5])"
      ]
     },
     "execution_count": 161,
     "metadata": {},
     "output_type": "execute_result"
    }
   ],
   "source": [
    "# It is used when formatting results, like rounding predictions to two decimals.\n",
    "\n",
    "# Example:\n",
    "arr = np.array([1.123, 2.456])\n",
    "np.round(arr, 1) "
   ]
  },
  {
   "cell_type": "markdown",
   "metadata": {},
   "source": [
    "### 6. np.expand_dims(), np.squeeze()"
   ]
  },
  {
   "cell_type": "code",
   "execution_count": 162,
   "metadata": {},
   "outputs": [
    {
     "name": "stdout",
     "output_type": "stream",
     "text": [
      "(3,)\n"
     ]
    }
   ],
   "source": [
    "# expand_dims(): Adds a new dimension to an array.\n",
    "# squeeze():  Adds a new dimension to an array.\n",
    "\n",
    "# Example:\n",
    "arr = np.array([1, 2, 3])\n",
    "print(arr.shape)"
   ]
  },
  {
   "cell_type": "code",
   "execution_count": 163,
   "metadata": {},
   "outputs": [
    {
     "data": {
      "text/plain": [
       "(3, 1)"
      ]
     },
     "execution_count": 163,
     "metadata": {},
     "output_type": "execute_result"
    }
   ],
   "source": [
    "# Expanding the dimensions of the array\n",
    "new_arr = np.expand_dims(arr, axis=1)\n",
    "\n",
    "new_arr.shape\n"
   ]
  },
  {
   "cell_type": "code",
   "execution_count": 164,
   "metadata": {},
   "outputs": [
    {
     "name": "stdout",
     "output_type": "stream",
     "text": [
      "(1, 2, 2)\n",
      "(2, 2)\n"
     ]
    }
   ],
   "source": [
    "# Example 2:\n",
    "\n",
    "arr = np.array([[[1, 2], [3, 4]]])\n",
    "print(arr.shape)\n",
    "\n",
    "# Removing the extra dimension\n",
    "new_arr = np.squeeze(arr)\n",
    "\n",
    "print(new_arr.shape)\n"
   ]
  },
  {
   "cell_type": "markdown",
   "metadata": {},
   "source": [
    "### 7. np.digitiz"
   ]
  },
  {
   "cell_type": "code",
   "execution_count": 165,
   "metadata": {},
   "outputs": [
    {
     "data": {
      "text/html": [
       "<table style='border-style:solid;border-width:1px;'>\n",
       "<tr><td style=\"font-family:monospace;white-space: pre;\" title=\"0\"><center>1</center></td></tr>\n",
       "<tr><td style=\"font-family:monospace;white-space: pre;\" title=\"1\"><center>2</center></td></tr>\n",
       "<tr><td style=\"font-family:monospace;white-space: pre;\" title=\"2\"><center>3</center></td></tr>\n",
       "<tr><td style=\"font-family:monospace;white-space: pre;\" title=\"3\"><center>4</center></td></tr>\n",
       "</table>"
      ],
      "text/plain": [
       "array([1, 2, 3, 4])"
      ]
     },
     "execution_count": 165,
     "metadata": {},
     "output_type": "execute_result"
    }
   ],
   "source": [
    "# It simplifies complex data, reduces noise, and prepares data for specific algorithms.\n",
    "\n",
    "a = np.array([1.2, 2.4, 3.6, 4.8])\n",
    "bins = np.array([1.0, 1.3, 2.5, 4.0, 10.0])\n",
    "\n",
    "# using np.digitize() method\n",
    "gfg = np.digitize(a, bins)\n",
    "\n",
    "gfg"
   ]
  }
 ],
 "metadata": {
  "kernelspec": {
   "display_name": ".venv",
   "language": "python",
   "name": "python3"
  },
  "language_info": {
   "codemirror_mode": {
    "name": "ipython",
    "version": 3
   },
   "file_extension": ".py",
   "mimetype": "text/x-python",
   "name": "python",
   "nbconvert_exporter": "python",
   "pygments_lexer": "ipython3",
   "version": "3.10.11"
  },
  "orig_nbformat": 4,
  "vscode": {
   "interpreter": {
    "hash": "7b393597a1a01400f99fd0b0bd7e53e32f7c09a6c4e3f1d7dcfe73f5e3a50c61"
   }
  }
 },
 "nbformat": 4,
 "nbformat_minor": 2
}
