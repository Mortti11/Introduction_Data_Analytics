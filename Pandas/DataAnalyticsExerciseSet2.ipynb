{
 "cells": [
  {
   "attachments": {},
   "cell_type": "markdown",
   "metadata": {},
   "source": [
    "<h3><b>Introduction to Data Analytics - Exercise set 2 - pandas-module</b></h3>"
   ]
  },
  {
   "attachments": {},
   "cell_type": "markdown",
   "metadata": {},
   "source": [
    "Put all your exercises (Jupyter Notebooks or Python-files) in your course Git-project.\n",
    "Use either code comments or Jupyter Notebook markdown (text) to document which exercise you are doing and what a certain code section does! \n",
    "You can return all of these exercises in a single Jupyter Notebook, if you wish."
   ]
  },
  {
   "attachments": {},
   "cell_type": "markdown",
   "metadata": {},
   "source": [
    "<b>The datasets for these exercises have been collected from kaggle.com<br />\n",
    "(a service providing different datasets for practice)</b>\n",
    "\n",
    "<img src=\"http://srv.plab.fi/~tuomasv/data_analytics_2023_images/exercise_set_2/es2_1.png\" />"
   ]
  },
  {
   "attachments": {},
   "cell_type": "markdown",
   "metadata": {},
   "source": [
    "<h4><b>1. import pandas and read the csv-file found in Moodle (loans.csv). Use Python coding with pandas to answer the questions.</b></h4>\n"
   ]
  },
  {
   "cell_type": "code",
   "execution_count": 93,
   "metadata": {},
   "outputs": [],
   "source": [
    "# you can import numpy and pandas here\n",
    "# and also load the needed csv-file\n",
    "import numpy as np\n",
    "import matplotlib.pyplot as plt\n",
    "import pandas as pd\n",
    "from scipy import stats\n",
    "from scipy.stats import zscore\n",
    "\n",
    "# Load the data \n",
    "df= pd.read_csv('Datasets\\loans.csv')"
   ]
  },
  {
   "attachments": {},
   "cell_type": "markdown",
   "metadata": {},
   "source": [
    "<li>Remove the Customer ID –column from data</li>\n",
    "<li>Print the head of the data</li>"
   ]
  },
  {
   "cell_type": "code",
   "execution_count": 94,
   "metadata": {},
   "outputs": [],
   "source": [
    "# Removing the customer id  from the dataset\n",
    "df = df.drop('Customer ID', axis=1)"
   ]
  },
  {
   "attachments": {},
   "cell_type": "markdown",
   "metadata": {},
   "source": [
    "<ul>\n",
    "    <li>Remove rows from the data that have <b style=\"color: red;\">a too large of a loan</b> (Current Loan Amount should be less than 99999999)</li>\n",
    "    <ul>\n",
    "        <li><b>Tip:</b> use filtering!</li>\n",
    "    </ul>\n",
    "</ul>"
   ]
  },
  {
   "cell_type": "code",
   "execution_count": 95,
   "metadata": {},
   "outputs": [
    {
     "data": {
      "text/plain": [
       "(88516, 18)"
      ]
     },
     "execution_count": 95,
     "metadata": {},
     "output_type": "execute_result"
    }
   ],
   "source": [
    "# remove loans that are too large\n",
    "df = df[df[\"Current Loan Amount\"] < 99999999]\n",
    "df.shape"
   ]
  },
  {
   "attachments": {},
   "cell_type": "markdown",
   "metadata": {},
   "source": [
    "<ul>\n",
    "    <li>Remove rows that have the annual income as NaN (not a number)</li>\n",
    "    <ul>\n",
    "        <li><b>Extra task:</b> use imputation to use average income as the value instead of NaN</li>\n",
    "    </ul>\n",
    "</ul>"
   ]
  },
  {
   "cell_type": "code",
   "execution_count": 96,
   "metadata": {},
   "outputs": [
    {
     "data": {
      "text/plain": [
       "Loan ID                             0\n",
       "Loan Status                         0\n",
       "Current Loan Amount                 0\n",
       "Term                                0\n",
       "Credit Score                    19154\n",
       "Annual Income                   19154\n",
       "Years in current job             3794\n",
       "Home Ownership                      0\n",
       "Purpose                             0\n",
       "Monthly Debt                        0\n",
       "Years of Credit History             0\n",
       "Months since last delinquent    46788\n",
       "Number of Open Accounts             0\n",
       "Number of Credit Problems           0\n",
       "Current Credit Balance              0\n",
       "Maximum Open Credit                 2\n",
       "Bankruptcies                      177\n",
       "Tax Liens                           9\n",
       "dtype: int64"
      ]
     },
     "execution_count": 96,
     "metadata": {},
     "output_type": "execute_result"
    }
   ],
   "source": [
    "# Checking the NaN values in the dataset\n",
    "df.isnull().sum()\n"
   ]
  },
  {
   "cell_type": "code",
   "execution_count": 97,
   "metadata": {},
   "outputs": [
    {
     "data": {
      "text/plain": [
       "np.float64(52.85824031813458)"
      ]
     },
     "execution_count": 97,
     "metadata": {},
     "output_type": "execute_result"
    }
   ],
   "source": [
    "# There are many columns that have NaN values, let's handle them, but there is a problem \"Month since last delinquent\" column has a lot many miss values\n",
    "# let's calculate the percentage of NaN values in the this column\n",
    "prcent_miss_value = df['Months since last delinquent'].isnull().sum() / df.shape[0] * 100\n",
    "prcent_miss_value "
   ]
  },
  {
   "cell_type": "code",
   "execution_count": 98,
   "metadata": {},
   "outputs": [],
   "source": [
    "# Since the percentage of NaN values in the \"Months since last delinquent\" column is 52.85 %, I think it is better to remove this column from the dataset\n",
    "df =df.drop('Months since last delinquent', axis=1)"
   ]
  },
  {
   "cell_type": "code",
   "execution_count": 99,
   "metadata": {},
   "outputs": [],
   "source": [
    "# Before analyzing the \"Years in current job\" column, I need to convert the column to numerical values \n",
    "df[\"Years in current job\"] = df[\"Years in current job\"].str.extract('(\\d+)').astype(float)"
   ]
  },
  {
   "cell_type": "code",
   "execution_count": 100,
   "metadata": {},
   "outputs": [
    {
     "data": {
      "text/plain": [
       "'\\nBefore imputing, I analyzed the \" Annual Income\", it has positive skewed distribution and right long tail, and high kurtosis. Standard deviation is also large\\nmean is higher than median, it shows that few people have high income, and most of the people have low income.\\n\\nIt would be better to impute the missing values with median, because mean is affected by the rich people.\\nOn the other hand, median is a bit effected by the rich people.\\n \\nI will implement the imputation with mean, it is mentioned in my assignment.\\n\\n\"Credit Score\"  has also positive skewed distribution it shows few people have  high credit score  I think because of financial stability.\\n\\n\"Maximum Open Credit\" has also positive skewed distribution, it shows that few people have high credit limit, and most of the people have low credit limit.\\n\\n\"Bankruptcies\" has positive skewed distribution too and a bit higher kurtosis. \\n\"Tax Liens\" has positive skewed distribution and  high kurtosis.\\n# \"Years in current job\" has near to zero skewness so it means that the data is normally distributed and it has negative kurtosis which means that distribution in fair.\\n\\n'"
      ]
     },
     "execution_count": 100,
     "metadata": {},
     "output_type": "execute_result"
    }
   ],
   "source": [
    "\"\"\"\n",
    "Before imputing, I analyzed the \" Annual Income\", it has positive skewed distribution and right long tail, and high kurtosis. Standard deviation is also large\n",
    "mean is higher than median, it shows that few people have high income, and most of the people have low income.\n",
    "\n",
    "It would be better to impute the missing values with median, because mean is affected by the rich people.\n",
    "On the other hand, median is a bit effected by the rich people.\n",
    " \n",
    "I will implement the imputation with mean, it is mentioned in my assignment.\n",
    "\n",
    "\"Credit Score\"  has also positive skewed distribution it shows few people have  high credit score  I think because of financial stability.\n",
    "\n",
    "\"Maximum Open Credit\" has also positive skewed distribution, it shows that few people have high credit limit, and most of the people have low credit limit.\n",
    "\n",
    "\"Bankruptcies\" has positive skewed distribution too and a bit higher kurtosis. \n",
    "\"Tax Liens\" has positive skewed distribution and  high kurtosis.\n",
    "# \"Years in current job\" has near to zero skewness so it means that the data is normally distributed and it has negative kurtosis which means that distribution in fair.\n",
    "\n",
    "\"\"\""
   ]
  },
  {
   "cell_type": "code",
   "execution_count": 101,
   "metadata": {},
   "outputs": [],
   "source": [
    "#Let's handle the NaN values in the dataset\n",
    "\n",
    "df[\"Credit Score\"] = df[\"Credit Score\"].fillna(round(df[\"Credit Score\"].mean()))\n",
    "df[\"Annual Income\"] = df[\"Annual Income\"].fillna(round(df[\"Annual Income\"].mean()))     \n",
    "df[\"Maximum Open Credit\"] = df[\"Maximum Open Credit\"].fillna(round(df[\"Maximum Open Credit\"].mean()))\n",
    "df[\"Bankruptcies\"] = df[\"Bankruptcies\"].fillna(round(df[\"Bankruptcies\"].mean()))\n",
    "df[\"Years in current job\"] = df[\"Years in current job\"].fillna(round(df[\"Years in current job\"].mean()))\n"
   ]
  },
  {
   "cell_type": "code",
   "execution_count": 102,
   "metadata": {},
   "outputs": [],
   "source": [
    "# For the \"Tax Liens\" column, I will fill the NaN values by mode\n",
    "# because it has small number of unique values and it has strong positive skewness and the zero value is the most frequent value\n",
    "# Even I can use median because it median gives as mode so I can use mode\n",
    "df[\"Tax Liens\"] = df[\"Tax Liens\"].fillna(df[\"Tax Liens\"].mode()[0])"
   ]
  },
  {
   "cell_type": "code",
   "execution_count": 103,
   "metadata": {},
   "outputs": [
    {
     "data": {
      "text/plain": [
       "Loan ID                      0\n",
       "Loan Status                  0\n",
       "Current Loan Amount          0\n",
       "Term                         0\n",
       "Credit Score                 0\n",
       "Annual Income                0\n",
       "Years in current job         0\n",
       "Home Ownership               0\n",
       "Purpose                      0\n",
       "Monthly Debt                 0\n",
       "Years of Credit History      0\n",
       "Number of Open Accounts      0\n",
       "Number of Credit Problems    0\n",
       "Current Credit Balance       0\n",
       "Maximum Open Credit          0\n",
       "Bankruptcies                 0\n",
       "Tax Liens                    0\n",
       "dtype: int64"
      ]
     },
     "execution_count": 103,
     "metadata": {},
     "output_type": "execute_result"
    }
   ],
   "source": [
    "df.isnull().sum()"
   ]
  },
  {
   "attachments": {},
   "cell_type": "markdown",
   "metadata": {},
   "source": [
    "<li>Get the average Current Loan Amount</li>"
   ]
  },
  {
   "cell_type": "code",
   "execution_count": 104,
   "metadata": {},
   "outputs": [
    {
     "data": {
      "text/plain": [
       "np.float64(312313.59788060916)"
      ]
     },
     "execution_count": 104,
     "metadata": {},
     "output_type": "execute_result"
    }
   ],
   "source": [
    "# get the average current loan\n",
    "df[\"Current Loan Amount\"].mean()"
   ]
  },
  {
   "attachments": {},
   "cell_type": "markdown",
   "metadata": {},
   "source": [
    "<li>Get the highest and lowest Annual Income in the dataset</li>"
   ]
  },
  {
   "cell_type": "code",
   "execution_count": 105,
   "metadata": {},
   "outputs": [
    {
     "name": "stdout",
     "output_type": "stream",
     "text": [
      "165557393.0\n",
      "76627.0\n"
     ]
    }
   ],
   "source": [
    "# get highest and lowest annual income in dataset\n",
    "print(df[\"Annual Income\"].max())\n",
    "print(df[\"Annual Income\"].min())"
   ]
  },
  {
   "attachments": {},
   "cell_type": "markdown",
   "metadata": {},
   "source": [
    "<li>Get the Home Ownership value of the <b>Loan ID = bbf87a87-22cd-4d10-bd9b-7a9cc1b6e59d</b></li>"
   ]
  },
  {
   "cell_type": "code",
   "execution_count": 106,
   "metadata": {},
   "outputs": [
    {
     "data": {
      "text/plain": [
       "491    Own Home\n",
       "Name: Home Ownership, dtype: object"
      ]
     },
     "execution_count": 106,
     "metadata": {},
     "output_type": "execute_result"
    }
   ],
   "source": [
    "# get the needed value with the Loan ID\n",
    "df[df[\"Loan ID\"] == \"bbf87a87-22cd-4d10-bd9b-7a9cc1b6e59d\"][\"Home Ownership\"]"
   ]
  },
  {
   "attachments": {},
   "cell_type": "markdown",
   "metadata": {},
   "source": [
    "<li>Create a new field into your dataset called <b>Actual Annual Income</b>.</li>\n",
    "<br><b>Note:</b> The Actual Annual Income follow this formula:<br>\n",
    "<b style=\"color: green\">Annual Income – 12 * Monthly Debt</b><br><br>\n"
   ]
  },
  {
   "cell_type": "code",
   "execution_count": 107,
   "metadata": {},
   "outputs": [],
   "source": [
    "# create a new field for Actual Annual income (annual income - 12 * monthly debt)\n",
    "df[\"Actual Annual Income\"] = df[\"Annual Income\"] - 12 * df[\"Monthly Debt\"]"
   ]
  },
  {
   "cell_type": "markdown",
   "metadata": {},
   "source": [
    "<li>Get the Actual Annual Income of the loan with the <b>ID = 76fa89b9-e6a8-49af-afa1-8151315aba8e</b></li>"
   ]
  },
  {
   "cell_type": "code",
   "execution_count": 108,
   "metadata": {},
   "outputs": [
    {
     "data": {
      "text/plain": [
       "491    1262631.32\n",
       "Name: Actual Annual Income, dtype: float64"
      ]
     },
     "execution_count": 108,
     "metadata": {},
     "output_type": "execute_result"
    }
   ],
   "source": [
    "# get the Actual Annual income for the needed ID\n",
    "df[df[\"Loan ID\"] == \"bbf87a87-22cd-4d10-bd9b-7a9cc1b6e59d\"][\"Actual Annual Income\"]"
   ]
  },
  {
   "attachments": {},
   "cell_type": "markdown",
   "metadata": {},
   "source": [
    "<li>Get the Loan ID of the loan with the smallest Actual Annual Income </li>"
   ]
  },
  {
   "cell_type": "code",
   "execution_count": 109,
   "metadata": {},
   "outputs": [
    {
     "data": {
      "text/plain": [
       "11648    0a84b8ab-ed2f-474f-a3a9-8bf5bb90c31a\n",
       "Name: Loan ID, dtype: object"
      ]
     },
     "execution_count": 109,
     "metadata": {},
     "output_type": "execute_result"
    }
   ],
   "source": [
    "# get loan ID of lowest actual annual income\n",
    "df[df[\"Actual Annual Income\"] == df[\"Actual Annual Income\"].min()][\"Loan ID\"]"
   ]
  },
  {
   "attachments": {},
   "cell_type": "markdown",
   "metadata": {},
   "source": [
    "<li>How many loans are \"Long term\"?</li>"
   ]
  },
  {
   "cell_type": "code",
   "execution_count": 110,
   "metadata": {},
   "outputs": [
    {
     "data": {
      "text/plain": [
       "25475"
      ]
     },
     "execution_count": 110,
     "metadata": {},
     "output_type": "execute_result"
    }
   ],
   "source": [
    "# produce code that shows many loans are long term\n",
    "long_term = df[df[\"Term\"] == \"Long Term\"].shape[0]\n",
    "long_term"
   ]
  },
  {
   "attachments": {},
   "cell_type": "markdown",
   "metadata": {},
   "source": [
    "<li>How many loaners have more than 1 bankruptcy?</li>"
   ]
  },
  {
   "cell_type": "code",
   "execution_count": 111,
   "metadata": {},
   "outputs": [
    {
     "data": {
      "text/plain": [
       "476"
      ]
     },
     "execution_count": 111,
     "metadata": {},
     "output_type": "execute_result"
    }
   ],
   "source": [
    "# produce code that shows how many loaners have more than 1 bankruptcy\n",
    "bankruptcy = df[df[\"Bankruptcies\"] > 1].shape[0]\n",
    "bankruptcy"
   ]
  },
  {
   "attachments": {},
   "cell_type": "markdown",
   "metadata": {},
   "source": [
    "<li>How many Short Term loans are for Home Improvements?</li>"
   ]
  },
  {
   "cell_type": "code",
   "execution_count": 112,
   "metadata": {},
   "outputs": [
    {
     "data": {
      "text/plain": [
       "3490"
      ]
     },
     "execution_count": 112,
     "metadata": {},
     "output_type": "execute_result"
    }
   ],
   "source": [
    "# produce code that shows how many of the Short Term loans are for Home Improvements\n",
    "home_imp = df[(df[\"Term\"] == \"Short Term\") & (df[\"Purpose\"] == \"Home Improvements\")].shape[0]\n",
    "home_imp"
   ]
  },
  {
   "attachments": {},
   "cell_type": "markdown",
   "metadata": {},
   "source": [
    "<li>How many unique loan purposes are there?</li>"
   ]
  },
  {
   "cell_type": "code",
   "execution_count": 113,
   "metadata": {},
   "outputs": [
    {
     "data": {
      "text/plain": [
       "16"
      ]
     },
     "execution_count": 113,
     "metadata": {},
     "output_type": "execute_result"
    }
   ],
   "source": [
    "# produce code that shows how many unique loan purposes there are\n",
    "unique_purp = df[\"Purpose\"].nunique()\n",
    "unique_purp"
   ]
  },
  {
   "attachments": {},
   "cell_type": "markdown",
   "metadata": {},
   "source": [
    "<li>What are the 3 most common loan purposes?</li>"
   ]
  },
  {
   "cell_type": "code",
   "execution_count": 114,
   "metadata": {},
   "outputs": [
    {
     "data": {
      "text/plain": [
       "Purpose\n",
       "Debt Consolidation    69506\n",
       "other                  5409\n",
       "Home Improvements      5124\n",
       "Name: count, dtype: int64"
      ]
     },
     "execution_count": 114,
     "metadata": {},
     "output_type": "execute_result"
    }
   ],
   "source": [
    "# produce code that shows the 3 most common loan purposes\n",
    "common_purp = df[\"Purpose\"].value_counts().head(3)\n",
    "common_purp"
   ]
  },
  {
   "attachments": {},
   "cell_type": "markdown",
   "metadata": {},
   "source": [
    "<li>Is there a correlation between <b>Annual Income</b> and <b>Number of Open Accounts</b> or is there a correlation between <b>Number of Credit Problems</b> and <b>Bankruptcies</b>?</li>"
   ]
  },
  {
   "cell_type": "code",
   "execution_count": 115,
   "metadata": {},
   "outputs": [
    {
     "data": {
      "image/png": "[encoded data removed]",
      "text/plain": [
       "<Figure size 1400x800 with 2 Axes>"
      ]
     },
     "metadata": {},
     "output_type": "display_data"
    }
   ],
   "source": [
    "# produce code that shows which correlation statement is true\n",
    "# Getting the correlation only numerical columns\n",
    "correlation = df.corr(numeric_only=True)\n",
    "\n",
    "# visualizing the correlation\n",
    "plt.figure(figsize=(14,8))\n",
    "sns.heatmap(correlation, annot=True, cmap='coolwarm')\n",
    "plt.show()"
   ]
  },
  {
   "cell_type": "markdown",
   "metadata": {},
   "source": [
    "## <span style=\"color: #20C997;\">Personal Analysis</span>\n",
    "Between annual income and numbers of open accounts is weak positive correlation which means that people with high income are not very interested in opening many accounts.\n",
    "But between credit problem and bankruptcies is strong positive correlation which means that people with credit problems (miss payments) are more probable to go bankrupt."
   ]
  },
  {
   "attachments": {},
   "cell_type": "markdown",
   "metadata": {},
   "source": [
    "<h4><b>2. Download the purchases.csv from Moodle, and do the following observations:</b></h4>\n"
   ]
  },
  {
   "cell_type": "code",
   "execution_count": 116,
   "metadata": {},
   "outputs": [],
   "source": [
    "df = pd.read_csv('Datasets/purchases.csv')"
   ]
  },
  {
   "attachments": {},
   "cell_type": "markdown",
   "metadata": {},
   "source": [
    "<li>What was the total price sum of the Purchase Order Number 018H2015? (14 rows in total)</li>"
   ]
  },
  {
   "cell_type": "code",
   "execution_count": 117,
   "metadata": {},
   "outputs": [
    {
     "data": {
      "text/plain": [
       "np.float64(1245.0400000000002)"
      ]
     },
     "execution_count": 117,
     "metadata": {},
     "output_type": "execute_result"
    }
   ],
   "source": [
    "# produce the code that gets the needed total price sum\n",
    "Total = df[df['Purchase Order Number'] == '018H2015']['Total Price']\n",
    "Total.sum() "
   ]
  },
  {
   "attachments": {},
   "cell_type": "markdown",
   "metadata": {},
   "source": [
    "<li>What is the name and description of the purchased item with the Purchase Order Number 3176273?</li>"
   ]
  },
  {
   "cell_type": "code",
   "execution_count": 118,
   "metadata": {},
   "outputs": [
    {
     "data": {
      "text/html": [
       "<div>\n",
       "<style scoped>\n",
       "    .dataframe tbody tr th:only-of-type {\n",
       "        vertical-align: middle;\n",
       "    }\n",
       "\n",
       "    .dataframe tbody tr th {\n",
       "        vertical-align: top;\n",
       "    }\n",
       "\n",
       "    .dataframe thead th {\n",
       "        text-align: right;\n",
       "    }\n",
       "</style>\n",
       "<table border=\"1\" class=\"dataframe\">\n",
       "  <thead>\n",
       "    <tr style=\"text-align: right;\">\n",
       "      <th></th>\n",
       "      <th>Item Name</th>\n",
       "      <th>Item Description</th>\n",
       "    </tr>\n",
       "  </thead>\n",
       "  <tbody>\n",
       "    <tr>\n",
       "      <th>103</th>\n",
       "      <td>PC Desktop</td>\n",
       "      <td>HP Prodesk 600</td>\n",
       "    </tr>\n",
       "  </tbody>\n",
       "</table>\n",
       "</div>"
      ],
      "text/plain": [
       "      Item Name Item Description\n",
       "103  PC Desktop   HP Prodesk 600"
      ]
     },
     "execution_count": 118,
     "metadata": {},
     "output_type": "execute_result"
    }
   ],
   "source": [
    "# produce the code that gets the needed name and description\n",
    "df[df['Purchase Order Number'] == '3176273'][['Item Name', 'Item Description']]"
   ]
  },
  {
   "attachments": {},
   "cell_type": "markdown",
   "metadata": {},
   "source": [
    "<li>How many occasions (rows) of purchase data happened during the year 2013?</li>"
   ]
  },
  {
   "cell_type": "code",
   "execution_count": 119,
   "metadata": {},
   "outputs": [
    {
     "data": {
      "text/plain": [
       "34024"
      ]
     },
     "execution_count": 119,
     "metadata": {},
     "output_type": "execute_result"
    }
   ],
   "source": [
    "# produce the code that filters the needed data for year 2013\n",
    "# Since the Purchase Date format is object and so I need to convert it to datetime format\n",
    "df['Purchase Date'] = pd.to_datetime(df['Purchase Date'], errors='coerce')\n",
    "df[df['Purchase Date'].dt.year == 2013].shape[0] "
   ]
  },
  {
   "attachments": {},
   "cell_type": "markdown",
   "metadata": {},
   "source": [
    "<ul><li>What are the 5 most common Departments in the data?</li>\n",
    "<ul><li><b>Extra task: </b>What are 3 Departments using most money in the data?</li></ul>\n",
    "</ul>"
   ]
  },
  {
   "cell_type": "code",
   "execution_count": 120,
   "metadata": {},
   "outputs": [
    {
     "data": {
      "text/plain": [
       "Department Name\n",
       "Corrections and Rehabilitation, Department of    10891\n",
       "Correctional Health Care Services                 6593\n",
       "Water Resources, Department of                    4582\n",
       "Forestry and Fire Protection, Department of       4526\n",
       "State Hospitals, Department of                    4281\n",
       "Name: count, dtype: int64"
      ]
     },
     "execution_count": 120,
     "metadata": {},
     "output_type": "execute_result"
    }
   ],
   "source": [
    "# produce the code that gtest the needed most common departments\n",
    "df['Department Name'].value_counts().head(5)"
   ]
  },
  {
   "cell_type": "code",
   "execution_count": 121,
   "metadata": {},
   "outputs": [
    {
     "data": {
      "text/plain": [
       "Department Name\n",
       "Health Care Services, Department of    7337038064\n",
       "Public Health, Department of           2200000000\n",
       "Social Services, Department of          803754000\n",
       "Name: Total Price, dtype: int64"
      ]
     },
     "execution_count": 121,
     "metadata": {},
     "output_type": "execute_result"
    }
   ],
   "source": [
    "# Extra Task: What are 3 Departments using most money in the data?\n",
    "df.groupby('Department Name')['Total Price'].max().sort_values(ascending=False).head(3).map(int)"
   ]
  },
  {
   "attachments": {},
   "cell_type": "markdown",
   "metadata": {},
   "source": [
    "<li>Sort the data by Department Name</li>"
   ]
  },
  {
   "cell_type": "code",
   "execution_count": 122,
   "metadata": {},
   "outputs": [
    {
     "data": {
      "text/plain": [
       "6              Administrative Law, Office of\n",
       "519            Administrative Law, Office of\n",
       "20018          Administrative Law, Office of\n",
       "31381    African American Museum, California\n",
       "27820    African American Museum, California\n",
       "                        ...                 \n",
       "24826         Water Resources, Department of\n",
       "49068         Water Resources, Department of\n",
       "49069         Water Resources, Department of\n",
       "49057         Water Resources, Department of\n",
       "44469         Water Resources, Department of\n",
       "Name: Department Name, Length: 62657, dtype: object"
      ]
     },
     "execution_count": 122,
     "metadata": {},
     "output_type": "execute_result"
    }
   ],
   "source": [
    "# sort the data by department name\n",
    "sorted_data  = df.sort_values(by='Department Name')\n",
    "sorted_data[\"Department Name\"]"
   ]
  },
  {
   "cell_type": "code",
   "execution_count": 123,
   "metadata": {},
   "outputs": [
    {
     "data": {
      "text/plain": [
       "0            0.60\n",
       "1        12587.05\n",
       "2          199.00\n",
       "3            4.95\n",
       "4            1.00\n",
       "           ...   \n",
       "62652      100.50\n",
       "62653      245.00\n",
       "62654      245.00\n",
       "62655    20475.00\n",
       "62656     1181.44\n",
       "Name: Unit Price, Length: 62657, dtype: float64"
      ]
     },
     "execution_count": 123,
     "metadata": {},
     "output_type": "execute_result"
    }
   ],
   "source": [
    "df['Unit Price'] = df['Unit Price'].str.replace('$', '').astype(float)\n",
    "df['Unit Price']"
   ]
  },
  {
   "attachments": {},
   "cell_type": "markdown",
   "metadata": {},
   "source": [
    "<ul>\n",
    "<li><b>Small extra tasks for extra points</b></li>\n",
    "<ul>\n",
    "<li>How many purchases in the data were IT Goods and had the total price more than 50000 dollars?</li>\n",
    "<li>How many of the purchases have anything to do with IT? (IT Goods, IT Services, IT Telecommunications)</li>\n",
    "\n",
    "</ul>\n",
    "</ul>"
   ]
  },
  {
   "cell_type": "code",
   "execution_count": 124,
   "metadata": {},
   "outputs": [
    {
     "data": {
      "text/plain": [
       "698"
      ]
     },
     "execution_count": 124,
     "metadata": {},
     "output_type": "execute_result"
    }
   ],
   "source": [
    "# produce the code for the extra tasks if you wish complete them\n",
    "df[(df['Acquisition Type'] == 'IT Goods') & (df['Total Price'] > 50000)].shape[0]"
   ]
  },
  {
   "cell_type": "code",
   "execution_count": 125,
   "metadata": {},
   "outputs": [
    {
     "data": {
      "text/plain": [
       "9558"
      ]
     },
     "execution_count": 125,
     "metadata": {},
     "output_type": "execute_result"
    }
   ],
   "source": [
    "# How many of the purchases have anything to do with IT? (IT Goods, IT Services, IT Telecommunications)\n",
    "df[(df['Acquisition Type'] == 'IT Goods') | (df['Acquisition Type'] == 'IT Services') | (df['Acquisition Type'] == 'IT Telecommunications')].shape[0]"
   ]
  },
  {
   "cell_type": "markdown",
   "metadata": {},
   "source": [
    "<ul>\n",
    "<li><b>Other extra tasks for extra points</b></li>\n",
    "<ul>\n",
    "<li>Create a new DataFrame, where you have filtered out purchases that have a Total Price of 0 or less</li>\n",
    "<li>For this DataFrame, use groupby() –function twice to group the purchases data by Acquisition Type, and then calculating the result first by sum() and then by mean()</li>\n",
    "<li>Which two acquisition types have the largest sums and means after grouping the data?</li>\n",
    "</ul>\n",
    "</ul>"
   ]
  },
  {
   "cell_type": "code",
   "execution_count": 126,
   "metadata": {},
   "outputs": [],
   "source": [
    "# produce the code for the extra tasks if you wish complete them\n",
    "Purchase_new = df[df['Total Price'] > 0]"
   ]
  },
  {
   "attachments": {},
   "cell_type": "markdown",
   "metadata": {},
   "source": [
    "<img src=\"http://srv.plab.fi/~tuomasv/data_analytics_2023_images/exercise_set_2/es2_2.png\" />"
   ]
  },
  {
   "attachments": {},
   "cell_type": "markdown",
   "metadata": {},
   "source": [
    "<h4><b>3. Download the data_salaries_india.csv from Moodle, and consider the following questions of the data. Use any means in pandas (or even NumPy) you wish to explain your answers.</b></h4>\n"
   ]
  },
  {
   "cell_type": "code",
   "execution_count": 127,
   "metadata": {},
   "outputs": [],
   "source": [
    "# loading the data\n",
    "data = pd.read_csv('Datasets/data_salaries_india.csv')"
   ]
  },
  {
   "attachments": {},
   "cell_type": "markdown",
   "metadata": {},
   "source": [
    "<ul>\n",
    "<li>Before we can do anything with the salaries, we have to convert them into something more usable</li>\n",
    "<ul>\n",
    "<li>Note: the salaries can be yearly, monthly or hourly salaries</li>\n",
    "<ul>\n",
    "<li>We don't also need the Indian rupee –sign (₹)</li>\n",
    "</ul>\n",
    "<li>You can use the template in Moodle to help you out with this (Salary filtering, pandas exercise 3)</li>\n",
    "</ul>\n",
    "</ul>"
   ]
  },
  {
   "cell_type": "code",
   "execution_count": 128,
   "metadata": {},
   "outputs": [],
   "source": [
    "# converting the salaries as needed\n",
    "def yearly_wage(row):\n",
    "    # the last two characters determine if it's yearly, monthly, hourly\n",
    "    period = row['Salary'][-2:]\n",
    "    \n",
    "    # remove all commas and combine all numbers\n",
    "    number = int(''.join(filter(str.isdigit, row['Salary'])))\n",
    "    \n",
    "    # if it's hourly, the average work hours per year in India is\n",
    "    # approximately 2117.01 (might change in future)\n",
    "    if period == \"hr\":\n",
    "        number = int(number * 2117.01)\n",
    "    elif period == \"mo\":\n",
    "        # months to year\n",
    "        number = int(number * 12)\n",
    "    \n",
    "    # return the yearly salary in integer format\n",
    "    return number\n",
    "\n",
    "\n",
    "# I got \"Yearly wage\" function from Moodle to convert all.\n",
    "\n",
    "data['Yearly Salary'] = data.apply(yearly_wage, axis=1)\n",
    "\n",
    "# let's convert the \"Year Salary\" into \"Month Salary\" it is easier to understand\n",
    "data['Monthly Salary'] = round( data['Yearly Salary'] / 12, 2)\n",
    "\n",
    "# Now I can drop the the both columns  \"Yearly Salary\" and \"Salary\"\n",
    "data = data.drop(['Yearly Salary', 'Salary'], axis=1)"
   ]
  },
  {
   "attachments": {},
   "cell_type": "markdown",
   "metadata": {},
   "source": [
    "<ul>\n",
    "<li>What are the most common values in different fields (Job Titles, Companies, Location)? <b>Based on the distribution, is the data balanced or not?</b></li>\n",
    "<ul>\n",
    "<li><b>Extra task:</b> there seem to be some Job Titles that are almost the same, like \"Machine Learning Data Associate\" and \"Machine Learning Associate\", combine these into something common</li>\n",
    "</ul>\n",
    "</ul>"
   ]
  },
  {
   "cell_type": "code",
   "execution_count": 129,
   "metadata": {},
   "outputs": [
    {
     "data": {
      "text/plain": [
       "Company Name\n",
       "Tata Consultancy Services    51\n",
       "Accenture                    39\n",
       "Amazon                       35\n",
       "Fresher                      31\n",
       "First Student                30\n",
       "Name: count, dtype: int64"
      ]
     },
     "execution_count": 129,
     "metadata": {},
     "output_type": "execute_result"
    }
   ],
   "source": [
    "# produce the code that shows the most common values in different fields\n",
    "# and answer the question about the distribution\n",
    "data['Company Name'].value_counts().head()"
   ]
  },
  {
   "cell_type": "code",
   "execution_count": 130,
   "metadata": {},
   "outputs": [
    {
     "data": {
      "text/plain": [
       "Job Title\n",
       "Data Scientist               2165\n",
       "Data Analyst                 1167\n",
       "Data Engineer                 948\n",
       "Machine Learning Engineer     683\n",
       "Data Science                   54\n",
       "Name: count, dtype: int64"
      ]
     },
     "execution_count": 130,
     "metadata": {},
     "output_type": "execute_result"
    }
   ],
   "source": [
    "data['Job Title'].value_counts().head()"
   ]
  },
  {
   "cell_type": "code",
   "execution_count": 131,
   "metadata": {},
   "outputs": [
    {
     "data": {
      "text/plain": [
       "Location\n",
       "Bangalore    1858\n",
       "Pune          966\n",
       "Hyderabad     786\n",
       "New Delhi     781\n",
       "Mumbai        736\n",
       "Name: count, dtype: int64"
      ]
     },
     "execution_count": 131,
     "metadata": {},
     "output_type": "execute_result"
    }
   ],
   "source": [
    "data['Location'].value_counts().head()"
   ]
  },
  {
   "cell_type": "code",
   "execution_count": 153,
   "metadata": {},
   "outputs": [
    {
     "data": {
      "text/plain": [
       "Job Title\n",
       "Data Scientist              2165\n",
       "Data Analyst                1167\n",
       "Data Engineer                948\n",
       "Machine Learning             712\n",
       "Data Science                  54\n",
       "Senior Data Scientist         45\n",
       "Junior Data Scientist         22\n",
       "Lead Data Scientist            6\n",
       "Data Scientist - Trainee       2\n",
       "Data Science Consultant        1\n",
       "Data Science Manager           1\n",
       "Data Science Lead              1\n",
       "National Director              1\n",
       "Data Science Associate         1\n",
       "CEO                            1\n",
       "Name: count, dtype: int64"
      ]
     },
     "execution_count": 153,
     "metadata": {},
     "output_type": "execute_result"
    }
   ],
   "source": [
    "# Combining \"Machine Learning Engineer\", \"Senior Machine Learning Engineer\", \"Software Engineer - Machine Learning\", \"Machine Learning Developer\", \"Machine Learning Consultant\", \"Machine Learning Engineer/Data Scientist\"\n",
    "# \"Machine Learning Associate Machine\" \"Learning Data Associate\"  \"Machine Learning Software Engineer\", \"Associate Machine Learning Engineer \", \"Machine Learning Data Analyst\", \"Machine Learning Data Associate \"\n",
    "\n",
    "# Combining all the job titles that have 'Machine Learning' into one column\n",
    "data['Job Title'] = data['Job Title'].apply(lambda x: \"Machine Learning\" if \"Machine Learning\" in x else x)\n",
    "data['Job Title'].value_counts()"
   ]
  },
  {
   "cell_type": "markdown",
   "metadata": {},
   "source": [
    "## <span style=\"color: #20C997;\">Personal Analysis</span>\n",
    "The data is imbalanced "
   ]
  },
  {
   "attachments": {},
   "cell_type": "markdown",
   "metadata": {},
   "source": [
    "<li>Are there any outliers in the data that might affect the averages negatively (certain salaries)? Manage the outliers as you best see fit (either remove them or leave them, based on your analysis) </li>"
   ]
  },
  {
   "cell_type": "code",
   "execution_count": 132,
   "metadata": {},
   "outputs": [
    {
     "data": {
      "image/png": "[encoded data removed]",
      "text/plain": [
       "<Figure size 1000x500 with 1 Axes>"
      ]
     },
     "metadata": {},
     "output_type": "display_data"
    }
   ],
   "source": [
    "# produce the code that shows the potential outliers and take care of them as you see fit\n",
    "# Visualizing the distribution of the data\n",
    "plt.figure(figsize=(10, 5))\n",
    "sns.histplot(data['Monthly Salary'], bins=50, kde=True)\n",
    "plt.title(\"Distribution of Monthly Salary\")\n",
    "plt.show()"
   ]
  },
  {
   "cell_type": "markdown",
   "metadata": {},
   "source": [
    "## <span style=\"color: #20C997;\">Personal Analysis</span>\n",
    "Before detecting the outliers of \"Monthly Salary\", the above visualization shows imbalanced distribution and the skewness is strong positive and the kurtosis is very high. it makes scenes because only few people have high income."
   ]
  },
  {
   "cell_type": "code",
   "execution_count": 133,
   "metadata": {},
   "outputs": [
    {
     "name": "stdout",
     "output_type": "stream",
     "text": [
      "Mean Salary: 102714.20449970741\n",
      "Median Salary: 68664.25\n",
      "Minimum Salary: 901.17\n",
      "Maximum Salary: 6203777.25\n",
      "Standard Deviation of Salary: 151359.55676261988\n",
      "Salary Percentiles (25th, 50th, 75th): [ 38581.415  68664.25  119661.75 ]\n",
      "Salary Skewness: 16.375426082180702\n",
      "Salary Kurtosis: 552.1802966035519\n"
     ]
    }
   ],
   "source": [
    "# Calculate statistics\n",
    "mean = np.mean(data[\"Monthly Salary\"])\n",
    "median = np.median(data[\"Monthly Salary\"])\n",
    "std = np.std(data[\"Monthly Salary\"])\n",
    "min_val = np.min(data[\"Monthly Salary\"])\n",
    "max_val = np.max(data[\"Monthly Salary\"])\n",
    "percent = np.percentile(data[\"Monthly Salary\"], [25, 50, 75])\n",
    "skewness = stats.skew(data[\"Monthly Salary\"])\n",
    "kurtosis = stats.kurtosis(data[\"Monthly Salary\"])\n",
    "\n",
    "\n",
    "print(\"Mean Salary:\", mean)\n",
    "print(\"Median Salary:\", median)\n",
    "print(\"Minimum Salary:\", min_val)\n",
    "print(\"Maximum Salary:\", max_val)\n",
    "print(\"Standard Deviation of Salary:\", std)\n",
    "print(\"Salary Percentiles (25th, 50th, 75th):\", percent)\n",
    "print(\"Salary Skewness:\", skewness)\n",
    "print(\"Salary Kurtosis:\", kurtosis)\n"
   ]
  },
  {
   "cell_type": "markdown",
   "metadata": {},
   "source": [
    "## <span style=\"color: #20C997;\">Personal Analysis</span>\n",
    "As I mentioned on the above the \"Monthly Salary\" has un normal distribution, mean is higher than median which means mean is effected by some high income. \n",
    "Standard deviation is very spread."
   ]
  },
  {
   "cell_type": "code",
   "execution_count": 141,
   "metadata": {},
   "outputs": [
    {
     "data": {
      "text/html": [
       "<div>\n",
       "<style scoped>\n",
       "    .dataframe tbody tr th:only-of-type {\n",
       "        vertical-align: middle;\n",
       "    }\n",
       "\n",
       "    .dataframe tbody tr th {\n",
       "        vertical-align: top;\n",
       "    }\n",
       "\n",
       "    .dataframe thead th {\n",
       "        text-align: right;\n",
       "    }\n",
       "</style>\n",
       "<table border=\"1\" class=\"dataframe\">\n",
       "  <thead>\n",
       "    <tr style=\"text-align: right;\">\n",
       "      <th></th>\n",
       "      <th>Salary</th>\n",
       "      <th>Count</th>\n",
       "    </tr>\n",
       "  </thead>\n",
       "  <tbody>\n",
       "    <tr>\n",
       "      <th>0</th>\n",
       "      <td>Outliers</td>\n",
       "      <td>374</td>\n",
       "    </tr>\n",
       "  </tbody>\n",
       "</table>\n",
       "</div>"
      ],
      "text/plain": [
       "     Salary  Count\n",
       "0  Outliers    374"
      ]
     },
     "execution_count": 141,
     "metadata": {},
     "output_type": "execute_result"
    }
   ],
   "source": [
    "Q1 = data[\"Monthly Salary\"].quantile(0.25)\n",
    "Q3 = data[\"Monthly Salary\"].quantile(0.75)\n",
    "IQR = Q3 - Q1\n",
    "\n",
    "\n",
    "outliers_count = ((data[\"Monthly Salary\"] < (Q1 - 1.5 * IQR)) | (data[\"Monthly Salary\"] > (Q3 + 1.5 * IQR))).sum()\n",
    "outliers = pd.DataFrame({'Salary': ['Outliers'], 'Count': [outliers_count]})\n",
    "outliers"
   ]
  },
  {
   "cell_type": "markdown",
   "metadata": {},
   "source": [
    "#### Trying different way to handle the outliers values and then let's see what would be the best way to deal with them"
   ]
  },
  {
   "cell_type": "code",
   "execution_count": 142,
   "metadata": {},
   "outputs": [
    {
     "data": {
      "text/html": [
       "<div>\n",
       "<style scoped>\n",
       "    .dataframe tbody tr th:only-of-type {\n",
       "        vertical-align: middle;\n",
       "    }\n",
       "\n",
       "    .dataframe tbody tr th {\n",
       "        vertical-align: top;\n",
       "    }\n",
       "\n",
       "    .dataframe thead th {\n",
       "        text-align: right;\n",
       "    }\n",
       "</style>\n",
       "<table border=\"1\" class=\"dataframe\">\n",
       "  <thead>\n",
       "    <tr style=\"text-align: right;\">\n",
       "      <th></th>\n",
       "      <th>Salary</th>\n",
       "      <th>Count</th>\n",
       "    </tr>\n",
       "  </thead>\n",
       "  <tbody>\n",
       "    <tr>\n",
       "      <th>0</th>\n",
       "      <td>Outliers</td>\n",
       "      <td>59</td>\n",
       "    </tr>\n",
       "  </tbody>\n",
       "</table>\n",
       "</div>"
      ],
      "text/plain": [
       "     Salary  Count\n",
       "0  Outliers     59"
      ]
     },
     "execution_count": 142,
     "metadata": {},
     "output_type": "execute_result"
    }
   ],
   "source": [
    "# Using distribution (z-score) method to find and remove outliers\n",
    "z_scores = zscore(data[\"Monthly Salary\"])\n",
    "abs_z_scores = np.abs(z_scores)\n",
    "filtered_entries = (abs_z_scores < 3)\n",
    "z_scores_outlier = pd.DataFrame({'Salary': ['Outliers'], 'Count': [data.shape[0] - filtered_entries.sum()]})\n",
    "z_scores_outlier"
   ]
  },
  {
   "cell_type": "markdown",
   "metadata": {},
   "source": [
    "## <span style=\"color: #20C997;\">Personal Analysis</span>\n",
    "Z-Score method is not  helpful to detect outliers\" because my dataset is strongly skewed. since Z-Score measures how far data is from mean and standard Deviation unit but in this dataset mean and Standard deviation are effected by  outliers themselves. On other hand IQR is a mathematic technique to find the outliers and is independent from mean or Standard deviation. In my case IQR is the best option."
   ]
  },
  {
   "cell_type": "code",
   "execution_count": 143,
   "metadata": {},
   "outputs": [
    {
     "name": "stdout",
     "output_type": "stream",
     "text": [
      "Mean Salary: 88093.85502925688\n",
      "Median Salary: 68664.25\n",
      "Minimum Salary: 901.17\n",
      "Maximum Salary: 241282.2525\n",
      "Standard Deviation of Salary: 65627.77942084288\n",
      "Salary Percentiles (25th, 50th, 75th): [ 38581.415  68664.25  119661.75 ]\n",
      "Salary Skewness: 1.0619714645384188\n",
      "Salary Kurtosis: 0.17646971820428092\n"
     ]
    }
   ],
   "source": [
    "# Using cap method to deal with outliers\n",
    "data['Monthly Salary'] = data['Monthly Salary'].clip(lower=Q1 - 1.5 * IQR, upper=Q3 + 1.5 * IQR)\n",
    "\n",
    "# Calculate statistics\n",
    "mean = np.mean(data[\"Monthly Salary\"])\n",
    "median = np.median(data[\"Monthly Salary\"])\n",
    "std = np.std(data[\"Monthly Salary\"])\n",
    "min_val = np.min(data[\"Monthly Salary\"])\n",
    "max_val = np.max(data[\"Monthly Salary\"])\n",
    "percent = np.percentile(data[\"Monthly Salary\"], [25, 50, 75])\n",
    "skewness = stats.skew(data[\"Monthly Salary\"])\n",
    "kurtosis = stats.kurtosis(data[\"Monthly Salary\"])\n",
    "\n",
    "print(\"Mean Salary:\", mean)\n",
    "print(\"Median Salary:\", median)\n",
    "print(\"Minimum Salary:\", min_val)\n",
    "print(\"Maximum Salary:\", max_val)\n",
    "print(\"Standard Deviation of Salary:\", std)\n",
    "print(\"Salary Percentiles (25th, 50th, 75th):\", percent)\n",
    "print(\"Salary Skewness:\", skewness)\n",
    "print(\"Salary Kurtosis:\", kurtosis)"
   ]
  },
  {
   "cell_type": "markdown",
   "metadata": {},
   "source": [
    "## <span style=\"color: #20C997;\">Personal Analysis</span>\n",
    "After using the \"Capping\" method to deal with outliers data, Now mean salary got closed to the median but still higher than median. Skewness and kurtosis now show near to normal distribution. \n",
    "The gap between min and max is smaller. Standard deviation is lower."
   ]
  },
  {
   "cell_type": "code",
   "execution_count": 144,
   "metadata": {},
   "outputs": [
    {
     "data": {
      "image/png": "[encoded data removed]",
      "text/plain": [
       "<Figure size 1000x500 with 1 Axes>"
      ]
     },
     "metadata": {},
     "output_type": "display_data"
    }
   ],
   "source": [
    "# Visualizing the distribution of \"Monthly Salary\" after removing outliers\n",
    "plt.figure(figsize=(10, 5))\n",
    "sns.histplot(data['Monthly Salary'], bins=50, kde=True)\n",
    "plt.title(\"Distribution of Monthly Salary (Without Outliers)\")\n",
    "plt.show()"
   ]
  },
  {
   "cell_type": "markdown",
   "metadata": {},
   "source": [
    "## <span style=\"color: #20C997;\">Personal Analysis</span>\n",
    "Even after handling outliers, still the data has skewed with long tail which means few people have higher income than others but it makes scence in real word\n",
    "Now the distribution looks closer to normal"
   ]
  },
  {
   "attachments": {},
   "cell_type": "markdown",
   "metadata": {},
   "source": [
    "<ul>\n",
    "<li>If we want to correlate upon categories (ordinal or binary), we need to use factorize(). <b>Factorize the Role-column, and add the new column to the DataFrame.</b></li>\n",
    "<ul>\n",
    "<li><b>Note:</b> using <b>factorize()</b> for nominal categories (Job Title, Location, Company Name) doesn't work well, because the numbers do not have any numeric magnitude. In other words, these categories don't measure anything, they just group data, so numerical comparison / correlation doesn't mean anything statistically.</li>\n",
    "</ul>\n",
    "</ul>"
   ]
  },
  {
   "cell_type": "code",
   "execution_count": 145,
   "metadata": {},
   "outputs": [],
   "source": [
    "# converting the \"Role\" into numerical values\n",
    "one_hot = pd.get_dummies(data['Role'], prefix='Role').astype(int)\n",
    "data = pd.concat([data, one_hot], axis=1)\n",
    "# drop the original \"Role\" column\n",
    "data = data.drop('Role', axis=1)"
   ]
  },
  {
   "cell_type": "markdown",
   "metadata": {},
   "source": [
    "## <span style=\"color: #20C997;\">Personal Analysis</span>\n",
    "I almost tried all options for encoding the categorical columns,but I have not seen any different so I go for dummy."
   ]
  },
  {
   "cell_type": "code",
   "execution_count": 149,
   "metadata": {},
   "outputs": [],
   "source": [
    "# Creating a dataframe for  Role_Manager,Role_Specialist, and monthly salary\n",
    "role_data = data[['Role_Manager', 'Role_Specialist', 'Monthly Salary']]"
   ]
  },
  {
   "cell_type": "markdown",
   "metadata": {},
   "source": [
    "<ul>\n",
    "<li><b>Finally, check out the correlations. Does anything correlate with anything? Can we make any assumptions?</b></li>\n",
    "<ul>\n",
    "<li>Tip: When correlating against binary variables, sometimes the Spearman correlation might be more sensitive, in pandas:</li>\n",
    "</ul>\n",
    "</ul>"
   ]
  },
  {
   "cell_type": "code",
   "execution_count": 147,
   "metadata": {},
   "outputs": [
    {
     "data": {
      "text/html": [
       "<div>\n",
       "<style scoped>\n",
       "    .dataframe tbody tr th:only-of-type {\n",
       "        vertical-align: middle;\n",
       "    }\n",
       "\n",
       "    .dataframe tbody tr th {\n",
       "        vertical-align: top;\n",
       "    }\n",
       "\n",
       "    .dataframe thead th {\n",
       "        text-align: right;\n",
       "    }\n",
       "</style>\n",
       "<table border=\"1\" class=\"dataframe\">\n",
       "  <thead>\n",
       "    <tr style=\"text-align: right;\">\n",
       "      <th></th>\n",
       "      <th>Role_Manager</th>\n",
       "      <th>Role_Specialist</th>\n",
       "      <th>Monthly Salary</th>\n",
       "    </tr>\n",
       "  </thead>\n",
       "  <tbody>\n",
       "    <tr>\n",
       "      <th>Role_Manager</th>\n",
       "      <td>1.000000</td>\n",
       "      <td>-1.000000</td>\n",
       "      <td>0.517336</td>\n",
       "    </tr>\n",
       "    <tr>\n",
       "      <th>Role_Specialist</th>\n",
       "      <td>-1.000000</td>\n",
       "      <td>1.000000</td>\n",
       "      <td>-0.517336</td>\n",
       "    </tr>\n",
       "    <tr>\n",
       "      <th>Monthly Salary</th>\n",
       "      <td>0.517336</td>\n",
       "      <td>-0.517336</td>\n",
       "      <td>1.000000</td>\n",
       "    </tr>\n",
       "  </tbody>\n",
       "</table>\n",
       "</div>"
      ],
      "text/plain": [
       "                 Role_Manager  Role_Specialist  Monthly Salary\n",
       "Role_Manager         1.000000        -1.000000        0.517336\n",
       "Role_Specialist     -1.000000         1.000000       -0.517336\n",
       "Monthly Salary       0.517336        -0.517336        1.000000"
      ]
     },
     "execution_count": 147,
     "metadata": {},
     "output_type": "execute_result"
    }
   ],
   "source": [
    "# finding the correlation between the column data_role\n",
    "correlation = role_data.corr()\n",
    "correlation"
   ]
  },
  {
   "cell_type": "code",
   "execution_count": 148,
   "metadata": {},
   "outputs": [
    {
     "data": {
      "text/html": [
       "<div>\n",
       "<style scoped>\n",
       "    .dataframe tbody tr th:only-of-type {\n",
       "        vertical-align: middle;\n",
       "    }\n",
       "\n",
       "    .dataframe tbody tr th {\n",
       "        vertical-align: top;\n",
       "    }\n",
       "\n",
       "    .dataframe thead th {\n",
       "        text-align: right;\n",
       "    }\n",
       "</style>\n",
       "<table border=\"1\" class=\"dataframe\">\n",
       "  <thead>\n",
       "    <tr style=\"text-align: right;\">\n",
       "      <th></th>\n",
       "      <th>Role_Manager</th>\n",
       "      <th>Role_Specialist</th>\n",
       "      <th>Monthly Salary</th>\n",
       "    </tr>\n",
       "  </thead>\n",
       "  <tbody>\n",
       "    <tr>\n",
       "      <th>Role_Manager</th>\n",
       "      <td>1.00000</td>\n",
       "      <td>-1.00000</td>\n",
       "      <td>0.42936</td>\n",
       "    </tr>\n",
       "    <tr>\n",
       "      <th>Role_Specialist</th>\n",
       "      <td>-1.00000</td>\n",
       "      <td>1.00000</td>\n",
       "      <td>-0.42936</td>\n",
       "    </tr>\n",
       "    <tr>\n",
       "      <th>Monthly Salary</th>\n",
       "      <td>0.42936</td>\n",
       "      <td>-0.42936</td>\n",
       "      <td>1.00000</td>\n",
       "    </tr>\n",
       "  </tbody>\n",
       "</table>\n",
       "</div>"
      ],
      "text/plain": [
       "                 Role_Manager  Role_Specialist  Monthly Salary\n",
       "Role_Manager          1.00000         -1.00000         0.42936\n",
       "Role_Specialist      -1.00000          1.00000        -0.42936\n",
       "Monthly Salary        0.42936         -0.42936         1.00000"
      ]
     },
     "execution_count": 148,
     "metadata": {},
     "output_type": "execute_result"
    }
   ],
   "source": [
    "role_data.corr(method=\"spearman\")"
   ]
  },
  {
   "cell_type": "markdown",
   "metadata": {},
   "source": [
    "I used both way and found out that Pearson gives me stronger correlation because of data distribution, it is skewed. So I go for Spearman"
   ]
  },
  {
   "cell_type": "markdown",
   "metadata": {},
   "source": [
    "## <span style=\"color: #20C997;\">Personal Analysis</span>\n",
    "Role_Manager and Role_Specialist has perfectly negative correlated, since they are binary.\n",
    "Manager is correlated with salary positive, it shows that manager has better salary than Specialist which is correlated negative with salary"
   ]
  },
  {
   "cell_type": "code",
   "execution_count": 150,
   "metadata": {},
   "outputs": [
    {
     "data": {
      "text/plain": [
       "Role_Manager  Role_Specialist\n",
       "0             1                   73398.065032\n",
       "1             0                  166531.952936\n",
       "Name: Monthly Salary, dtype: float64"
      ]
     },
     "execution_count": 150,
     "metadata": {},
     "output_type": "execute_result"
    }
   ],
   "source": [
    "# Let's find average salary for Manager and Specialist\n",
    "average_salary = role_data.groupby(['Role_Manager', 'Role_Specialist'])['Monthly Salary'].mean()\n",
    "average_salary"
   ]
  },
  {
   "cell_type": "markdown",
   "metadata": {},
   "source": [
    "## <span style=\"color: #20C997;\">Personal Analysis</span> \n",
    "It makes sense the manager has higher salary"
   ]
  },
  {
   "cell_type": "code",
   "execution_count": 151,
   "metadata": {},
   "outputs": [
    {
     "data": {
      "text/plain": [
       "Job Title\n",
       "Associate Machine Learning Engineer          38697.670000\n",
       "CEO                                         241282.252500\n",
       "Data Analyst                                 60979.376300\n",
       "Data Engineer                                91828.484612\n",
       "Data Science                                 38252.862824\n",
       "Data Science Associate                      100326.080000\n",
       "Data Science Consultant                     222622.000000\n",
       "Data Science Lead                           241282.252500\n",
       "Data Science Manager                        241282.252500\n",
       "Data Scientist                              103755.386823\n",
       "Data Scientist - Trainee                    111558.835000\n",
       "Junior Data Scientist                        68731.117386\n",
       "Lead Data Scientist                         154349.083333\n",
       "Machine Learning Associate                   24592.830000\n",
       "Machine Learning Consultant                  58866.750000\n",
       "Machine Learning Data Analyst                30114.830000\n",
       "Machine Learning Data Associate              22986.750000\n",
       "Machine Learning Data Associate I            21549.670000\n",
       "Machine Learning Data Associate II           29693.835000\n",
       "Machine Learning Developer                   48426.585000\n",
       "Machine Learning Engineer                    78065.948239\n",
       "Machine Learning Engineer/Data Scientist    131315.125000\n",
       "Machine Learning Scientist                   14176.500000\n",
       "Machine Learning Software Engineer          116445.580000\n",
       "National Director                           241282.252500\n",
       "Senior Data Scientist                       151703.998778\n",
       "Senior Machine Learning Engineer            132793.850750\n",
       "Software Engineer - Machine Learning        167470.750833\n",
       "Name: Monthly Salary, dtype: float64"
      ]
     },
     "execution_count": 151,
     "metadata": {},
     "output_type": "execute_result"
    }
   ],
   "source": [
    "# Grouping by title job and finding the average salary\n",
    "average_salary = data.groupby('Job Title')['Monthly Salary'].mean()\n",
    "average_salary"
   ]
  },
  {
   "cell_type": "code",
   "execution_count": 152,
   "metadata": {},
   "outputs": [
    {
     "data": {
      "text/plain": [
       "Location   Job Title                               \n",
       "Bangalore  CEO                                         241282.252500\n",
       "           Data Analyst                                 67714.472329\n",
       "           Data Engineer                                96617.537115\n",
       "           Data Scientist                              105523.169547\n",
       "           Machine Learning Engineer                    81603.746181\n",
       "           National Director                           241282.252500\n",
       "Hyderabad  Associate Machine Learning Engineer          38697.670000\n",
       "           Data Analyst                                 61301.282401\n",
       "           Data Engineer                                86537.135622\n",
       "           Data Scientist                               96749.636600\n",
       "           Machine Learning Associate                   24592.830000\n",
       "           Machine Learning Data Analyst                30114.830000\n",
       "           Machine Learning Data Associate              22986.750000\n",
       "           Machine Learning Data Associate I            21549.670000\n",
       "           Machine Learning Data Associate II           31934.420000\n",
       "           Machine Learning Engineer                    79218.710000\n",
       "           Senior Machine Learning Engineer            143091.500833\n",
       "Mumbai     Data Analyst                                 58646.816477\n",
       "           Data Engineer                                96204.845229\n",
       "           Data Scientist                              106501.989791\n",
       "           Machine Learning Developer                   48426.585000\n",
       "           Machine Learning Engineer                    66995.212925\n",
       "           Machine Learning Scientist                   14176.500000\n",
       "           Senior Machine Learning Engineer            128380.572143\n",
       "           Software Engineer - Machine Learning        187821.291250\n",
       "New Delhi  Data Analyst                                 63201.062076\n",
       "           Data Engineer                                90319.792723\n",
       "           Data Scientist                              104422.108387\n",
       "           Machine Learning Data Associate II           27453.250000\n",
       "           Machine Learning Engineer                    81704.563025\n",
       "Pune       Data Analyst                                 53992.702909\n",
       "           Data Engineer                                89000.583284\n",
       "           Data Science                                 38252.862824\n",
       "           Data Science Associate                      100326.080000\n",
       "           Data Science Consultant                     222622.000000\n",
       "           Data Science Lead                           241282.252500\n",
       "           Data Science Manager                        241282.252500\n",
       "           Data Scientist                              100058.916516\n",
       "           Data Scientist - Trainee                    111558.835000\n",
       "           Junior Data Scientist                        68731.117386\n",
       "           Lead Data Scientist                         154349.083333\n",
       "           Machine Learning Consultant                  58866.750000\n",
       "           Machine Learning Engineer                    75556.124684\n",
       "           Machine Learning Engineer/Data Scientist    131315.125000\n",
       "           Machine Learning Software Engineer          116445.580000\n",
       "           Senior Data Scientist                       151703.998778\n",
       "           Software Engineer - Machine Learning        126769.670000\n",
       "Name: Monthly Salary, dtype: float64"
      ]
     },
     "execution_count": 152,
     "metadata": {},
     "output_type": "execute_result"
    }
   ],
   "source": [
    "# Grouping location, job title and finding the average salary\n",
    "average_salary = data.groupby(['Location', 'Job Title'])['Monthly Salary'].mean()\n",
    "average_salary"
   ]
  },
  {
   "attachments": {},
   "cell_type": "markdown",
   "metadata": {},
   "source": [
    "<b>Extra tasks for this dataset</b><br><br>\n",
    "\n",
    "<ul>\n",
    "<li>After all salaries have been converted to correct format by using the helper function (check Moodle), use quantiles and split the data into four different parts:</li>\n",
    "<ul>\n",
    "<li><span style=\"color: red;\">Top 25%</span><br>=> quantile(0.75)</li>\n",
    "<li><span style=\"color: red;\">Above average, values between top 25-50%</span><br>\n",
    "=> quantile(0.5)  - quantile(0.75)</li>\n",
    "<li><span style=\"color: red;\">Below average, values between top 50-75% </span><br>\n",
    "=> quantile(0.25) – quantile(0.5)\n",
    "</li>\n",
    "<li><span style=\"color: red;\">Bottom 25%</span><br>=> quantile(0.25)</li>\n",
    "<br>\n",
    "<li>What are the salary ranges for each quantile?</li><li>\n",
    "See examples in pandas-materials on how to use quantiles\n",
    "</li>\n",
    "</ul>\n",
    "</ul>\n",
    "<hr>\n",
    "\n",
    "<ul>\n",
    "<li>Did you get any ideas how this data could be improved? Do we need some particular new data or some other operations on the data? Should we filter something out based on some other column?<br><br><b>Provide arguments for your answers in code comments.</b><br><br> </li>\n",
    "<ul>\n",
    "<li>Note: There are many good possible answers here!</li>\n",
    "<li>Tip: How about replacing the \"Salaries Reported\" column with actual rows based on that number? Try doing this with the data!</li>\n",
    "<li>Remember: This data only represents data engineering salaries based on selected Indian cities.\n",
    "The world is a vast place :)\n",
    "</li>\n",
    "</ul>\n",
    "</ul>"
   ]
  },
  {
   "cell_type": "code",
   "execution_count": 136,
   "metadata": {},
   "outputs": [],
   "source": [
    "# code for the extra tasks"
   ]
  },
  {
   "attachments": {},
   "cell_type": "markdown",
   "metadata": {},
   "source": [
    "\n",
    "<h2><b>Advanced extra tasks for extra points (varying challenges, some require Googling):</b></h2>"
   ]
  },
  {
   "attachments": {},
   "cell_type": "markdown",
   "metadata": {},
   "source": [
    "<ul>\n",
    "<li><b>1. Data merge is a useful tool when you have multiple files of data that have the exact same structure.</b><br><br>Download the two csv-files from Moodle (videogames1.csv, videogames2.csv), and combine them into one Data Frame. Lastly, save the Data Frame into a new csv-file => combined.csv.</li>\n",
    "</ul>"
   ]
  },
  {
   "cell_type": "code",
   "execution_count": 137,
   "metadata": {},
   "outputs": [],
   "source": [
    "# code for the advanced extra task"
   ]
  },
  {
   "attachments": {},
   "cell_type": "markdown",
   "metadata": {},
   "source": [
    "<ul>\n",
    "<li><b>2. Functions and lambdas allow us to extend the operations we wish to do to columns and rows in pandas. </b><br><br>For example, the built-in functions may not be enough in all cases. Use the data of exercise 1 (loans.csv), and create a new column called \"Income Group\" that holds a text value. <br><br>Create either a function or a lambda, that determines the True or False –value based on the Annual Income –column. Use the following table to create the values:</li>\n",
    "</ul>\n",
    "\n",
    "<img src=\"http://srv.plab.fi/~tuomasv/data_analytics_2023_images/exercise_set_2/es2_3.png\"/>"
   ]
  },
  {
   "attachments": {},
   "cell_type": "markdown",
   "metadata": {},
   "source": [
    "<li>After creating the function/lambda, you can use it by using pandas' .apply() –function.<br><br></li>\n",
    "\n",
    "<li>Finally, get the amount of rows grouped by each of the new Income Group –field values and print them out.</li> \n"
   ]
  },
  {
   "cell_type": "code",
   "execution_count": 138,
   "metadata": {},
   "outputs": [],
   "source": [
    "# code for the advanced extra task"
   ]
  },
  {
   "attachments": {},
   "cell_type": "markdown",
   "metadata": {},
   "source": [
    "<ul>\n",
    "<li><b>3.\tNormalization allows us to convert the values of numeric columns to be between 0 and 1.</b> This is helpful when two different numbers seem to follow the same trend, but have completely different value ranges. For example, gold and silver prices tend to follow similar patterns, but their market worth is quite different. By using normalization, we can compare these trends more easily. <br>\n",
    "\n",
    "Get historical prices of both gold and silver, and compare them without and with normalization. You can plot the prices by using df.plot() –function. Check the dataset in list in Moodle for some alternatives for gold and silver prices.\n",
    "</li>\n",
    "</ul>\n",
    "<img src=\"http://srv.plab.fi/~tuomasv/data_analytics_2023_images/exercise_set_2/es2_4.png\" />"
   ]
  },
  {
   "attachments": {},
   "cell_type": "markdown",
   "metadata": {},
   "source": [
    "<ul>\n",
    "<li><b>4.\tCreate an account to kaggle.com, and find any dataset that interests you. </b><br>\n",
    "\n",
    "There's a list of possibly interesting datasets listed in Moodle as well.\n",
    "<br><br>\n",
    "<b>Try to find interesting features in data, in particular:</b>\n",
    "</li>\n",
    "<ul>\n",
    "<li>Clean up data first (rows with too many NaN –values), values that are way too big or small, insignificant columns etc.)</li>\n",
    "<li>You can create new columns as well if it seems suitable! (either by using functions or other means)</li>\n",
    "<li>Interesting correlations (.corr() –function) and other interesting features in the data. Is something surprising in the data?</li>\n",
    "<li><b>Note: </b>There are many ways on how to approach this exercise.</li>\n",
    "</ul>\n",
    "</ul>\n",
    "\n",
    "<img src=\"http://srv.plab.fi/~tuomasv/data_analytics_2023_images/exercise_set_2/es2_5.png\" />"
   ]
  },
  {
   "cell_type": "code",
   "execution_count": 139,
   "metadata": {},
   "outputs": [],
   "source": [
    "# do any Kaggle.com -related extra tasks in their own Jupyter notebooks for easier coding"
   ]
  },
  {
   "cell_type": "markdown",
   "metadata": {},
   "source": []
  }
 ],
 "metadata": {
  "kernelspec": {
   "display_name": ".venv",
   "language": "python",
   "name": "python3"
  },
  "language_info": {
   "codemirror_mode": {
    "name": "ipython",
    "version": 3
   },
   "file_extension": ".py",
   "mimetype": "text/x-python",
   "name": "python",
   "nbconvert_exporter": "python",
   "pygments_lexer": "ipython3",
   "version": "3.10.11"
  },
  "orig_nbformat": 4,
  "vscode": {
   "interpreter": {
    "hash": "7b393597a1a01400f99fd0b0bd7e53e32f7c09a6c4e3f1d7dcfe73f5e3a50c61"
   }
  }
 },
 "nbformat": 4,
 "nbformat_minor": 2
}
