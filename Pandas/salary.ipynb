{
 "cells": [
  {
   "cell_type": "code",
   "execution_count": 1,
   "metadata": {},
   "outputs": [],
   "source": [
    "import numpy as np\n",
    "import pandas as pd\n",
    "import matplotlib.pyplot as plt\n",
    "import seaborn as sns\n",
    "from scipy import stats\n",
    "from scipy.stats import zscore\n",
    "\n",
    "np.set_printoptions(legacy='1.13')"
   ]
  },
  {
   "cell_type": "code",
   "execution_count": 2,
   "metadata": {},
   "outputs": [],
   "source": [
    "# loading the data\n",
    "data = pd.read_csv('Datasets/data_salaries_india.csv')"
   ]
  },
  {
   "cell_type": "code",
   "execution_count": 3,
   "metadata": {},
   "outputs": [
    {
     "data": {
      "text/html": [
       "<div>\n",
       "<style scoped>\n",
       "    .dataframe tbody tr th:only-of-type {\n",
       "        vertical-align: middle;\n",
       "    }\n",
       "\n",
       "    .dataframe tbody tr th {\n",
       "        vertical-align: top;\n",
       "    }\n",
       "\n",
       "    .dataframe thead th {\n",
       "        text-align: right;\n",
       "    }\n",
       "</style>\n",
       "<table border=\"1\" class=\"dataframe\">\n",
       "  <thead>\n",
       "    <tr style=\"text-align: right;\">\n",
       "      <th></th>\n",
       "      <th>Company Name</th>\n",
       "      <th>Job Title</th>\n",
       "      <th>Role</th>\n",
       "      <th>Salaries Reported</th>\n",
       "      <th>Location</th>\n",
       "      <th>Salary</th>\n",
       "    </tr>\n",
       "  </thead>\n",
       "  <tbody>\n",
       "    <tr>\n",
       "      <th>0</th>\n",
       "      <td>Axis Bank</td>\n",
       "      <td>Data Scientist</td>\n",
       "      <td>Specialist</td>\n",
       "      <td>3</td>\n",
       "      <td>Bangalore</td>\n",
       "      <td>₹11,71,687/yr</td>\n",
       "    </tr>\n",
       "    <tr>\n",
       "      <th>1</th>\n",
       "      <td>Globex Digital Solutions</td>\n",
       "      <td>Machine Learning Engineer</td>\n",
       "      <td>Manager</td>\n",
       "      <td>1</td>\n",
       "      <td>Hyderabad</td>\n",
       "      <td>₹32,57,305/yr</td>\n",
       "    </tr>\n",
       "  </tbody>\n",
       "</table>\n",
       "</div>"
      ],
      "text/plain": [
       "               Company Name                  Job Title        Role  \\\n",
       "0                 Axis Bank             Data Scientist  Specialist   \n",
       "1  Globex Digital Solutions  Machine Learning Engineer     Manager   \n",
       "\n",
       "   Salaries Reported   Location         Salary  \n",
       "0                  3  Bangalore  ₹11,71,687/yr  \n",
       "1                  1  Hyderabad  ₹32,57,305/yr  "
      ]
     },
     "execution_count": 3,
     "metadata": {},
     "output_type": "execute_result"
    }
   ],
   "source": [
    "data.head(2)"
   ]
  },
  {
   "cell_type": "code",
   "execution_count": 4,
   "metadata": {},
   "outputs": [
    {
     "data": {
      "text/html": [
       "<div>\n",
       "<style scoped>\n",
       "    .dataframe tbody tr th:only-of-type {\n",
       "        vertical-align: middle;\n",
       "    }\n",
       "\n",
       "    .dataframe tbody tr th {\n",
       "        vertical-align: top;\n",
       "    }\n",
       "\n",
       "    .dataframe thead th {\n",
       "        text-align: right;\n",
       "    }\n",
       "</style>\n",
       "<table border=\"1\" class=\"dataframe\">\n",
       "  <thead>\n",
       "    <tr style=\"text-align: right;\">\n",
       "      <th></th>\n",
       "      <th>Company Name</th>\n",
       "      <th>Job Title</th>\n",
       "      <th>Role</th>\n",
       "      <th>Salaries Reported</th>\n",
       "      <th>Location</th>\n",
       "      <th>Monthly Salary</th>\n",
       "    </tr>\n",
       "  </thead>\n",
       "  <tbody>\n",
       "    <tr>\n",
       "      <th>0</th>\n",
       "      <td>Axis Bank</td>\n",
       "      <td>Data Scientist</td>\n",
       "      <td>Specialist</td>\n",
       "      <td>3</td>\n",
       "      <td>Bangalore</td>\n",
       "      <td>97640.58</td>\n",
       "    </tr>\n",
       "    <tr>\n",
       "      <th>1</th>\n",
       "      <td>Globex Digital Solutions</td>\n",
       "      <td>Machine Learning Engineer</td>\n",
       "      <td>Manager</td>\n",
       "      <td>1</td>\n",
       "      <td>Hyderabad</td>\n",
       "      <td>271442.08</td>\n",
       "    </tr>\n",
       "    <tr>\n",
       "      <th>2</th>\n",
       "      <td>Tempworks Services</td>\n",
       "      <td>Data Scientist</td>\n",
       "      <td>Manager</td>\n",
       "      <td>1</td>\n",
       "      <td>Bangalore</td>\n",
       "      <td>484267.08</td>\n",
       "    </tr>\n",
       "    <tr>\n",
       "      <th>3</th>\n",
       "      <td>BlueOptima</td>\n",
       "      <td>Machine Learning Engineer</td>\n",
       "      <td>Specialist</td>\n",
       "      <td>2</td>\n",
       "      <td>Bangalore</td>\n",
       "      <td>98413.75</td>\n",
       "    </tr>\n",
       "    <tr>\n",
       "      <th>4</th>\n",
       "      <td>Dell Technologies</td>\n",
       "      <td>Data Analyst</td>\n",
       "      <td>Specialist</td>\n",
       "      <td>5</td>\n",
       "      <td>New Delhi</td>\n",
       "      <td>50244.17</td>\n",
       "    </tr>\n",
       "  </tbody>\n",
       "</table>\n",
       "</div>"
      ],
      "text/plain": [
       "               Company Name                  Job Title        Role  \\\n",
       "0                 Axis Bank             Data Scientist  Specialist   \n",
       "1  Globex Digital Solutions  Machine Learning Engineer     Manager   \n",
       "2        Tempworks Services             Data Scientist     Manager   \n",
       "3                BlueOptima  Machine Learning Engineer  Specialist   \n",
       "4         Dell Technologies               Data Analyst  Specialist   \n",
       "\n",
       "   Salaries Reported   Location  Monthly Salary  \n",
       "0                  3  Bangalore        97640.58  \n",
       "1                  1  Hyderabad       271442.08  \n",
       "2                  1  Bangalore       484267.08  \n",
       "3                  2  Bangalore        98413.75  \n",
       "4                  5  New Delhi        50244.17  "
      ]
     },
     "execution_count": 4,
     "metadata": {},
     "output_type": "execute_result"
    }
   ],
   "source": [
    "def yearly_wage(row):\n",
    "    # the last two characters determine if it's yearly, monthly, hourly\n",
    "    period = row['Salary'][-2:]\n",
    "    \n",
    "    # remove all commas and combine all numbers\n",
    "    number = int(''.join(filter(str.isdigit, row['Salary'])))\n",
    "    \n",
    "    # if it's hourly, the average work hours per year in India is\n",
    "    # approximately 2117.01 (might change in future)\n",
    "    if period == \"hr\":\n",
    "        number = int(number * 2117.01)\n",
    "    elif period == \"mo\":\n",
    "        # months to year\n",
    "        number = int(number * 12)\n",
    "    \n",
    "    # return the yearly salary in integer format\n",
    "    return number\n",
    "\n",
    "\n",
    "# I got \"Yearly wage\" function from Moodle to convert all.\n",
    "\n",
    "data['Yearly Salary'] = data.apply(yearly_wage, axis=1)\n",
    "\n",
    "# let's convert the \"Year Salary\" into \"Month Salary\" it is easier to understand\n",
    "data['Monthly Salary'] = round( data['Yearly Salary'] / 12, 2)\n",
    "\n",
    "# Now I can drop the the both columns  \"Yearly Salary\" and \"Salary\"\n",
    "data = data.drop(['Yearly Salary', 'Salary'], axis=1)\n",
    "\n",
    "\n",
    "data.head()"
   ]
  },
  {
   "cell_type": "code",
   "execution_count": 5,
   "metadata": {},
   "outputs": [
    {
     "data": {
      "text/plain": [
       "Company Name\n",
       "Tata Consultancy Services    51\n",
       "Accenture                    39\n",
       "Amazon                       35\n",
       "Fresher                      31\n",
       "First Student                30\n",
       "Name: count, dtype: int64"
      ]
     },
     "execution_count": 5,
     "metadata": {},
     "output_type": "execute_result"
    }
   ],
   "source": [
    "# What are the most common values in different fields (Job Titles, Companies, Location)?, Based on the distribution, is the data balanced or not?\n",
    "data['Company Name'].value_counts().head()"
   ]
  },
  {
   "cell_type": "code",
   "execution_count": 6,
   "metadata": {},
   "outputs": [
    {
     "data": {
      "text/plain": [
       "Job Title\n",
       "Data Scientist               2165\n",
       "Data Analyst                 1167\n",
       "Data Engineer                 948\n",
       "Machine Learning Engineer     683\n",
       "Data Science                   54\n",
       "Name: count, dtype: int64"
      ]
     },
     "execution_count": 6,
     "metadata": {},
     "output_type": "execute_result"
    }
   ],
   "source": [
    "data['Job Title'].value_counts().head()"
   ]
  },
  {
   "cell_type": "code",
   "execution_count": 7,
   "metadata": {},
   "outputs": [
    {
     "data": {
      "text/plain": [
       "Location\n",
       "Bangalore    1858\n",
       "Pune          966\n",
       "Hyderabad     786\n",
       "New Delhi     781\n",
       "Mumbai        736\n",
       "Name: count, dtype: int64"
      ]
     },
     "execution_count": 7,
     "metadata": {},
     "output_type": "execute_result"
    }
   ],
   "source": [
    "data['Location'].value_counts().head()"
   ]
  },
  {
   "cell_type": "markdown",
   "metadata": {},
   "source": [
    "## <span style=\"color: #20C997;\">Personal Analysis</span>\n",
    "The data is imbalanced "
   ]
  },
  {
   "cell_type": "code",
   "execution_count": 8,
   "metadata": {},
   "outputs": [
    {
     "data": {
      "text/plain": [
       "Job Title\n",
       "Data Scientist                              2165\n",
       "Data Analyst                                1167\n",
       "Data Engineer                                948\n",
       "Machine Learning Engineer                    683\n",
       "Data Science                                  54\n",
       "Senior Data Scientist                         45\n",
       "Junior Data Scientist                         22\n",
       "Senior Machine Learning Engineer              10\n",
       "Lead Data Scientist                            6\n",
       "Software Engineer - Machine Learning           3\n",
       "Machine Learning Data Associate II             2\n",
       "Machine Learning Developer                     2\n",
       "Data Scientist - Trainee                       2\n",
       "Machine Learning Consultant                    2\n",
       "Machine Learning Engineer/Data Scientist       2\n",
       "Machine Learning Scientist                     2\n",
       "Data Science Consultant                        1\n",
       "Machine Learning Associate                     1\n",
       "Machine Learning Data Associate                1\n",
       "Machine Learning Software Engineer             1\n",
       "Data Science Manager                           1\n",
       "Associate Machine Learning Engineer            1\n",
       "Data Science Lead                              1\n",
       "Machine Learning Data Analyst                  1\n",
       "Machine Learning Data Associate I              1\n",
       "National Director                              1\n",
       "Data Science Associate                         1\n",
       "CEO                                            1\n",
       "Name: count, dtype: int64"
      ]
     },
     "execution_count": 8,
     "metadata": {},
     "output_type": "execute_result"
    }
   ],
   "source": [
    "# Combining \"Machine Learning Data Associate\" and \"Machine Learning Associate\"\n",
    "data['Job Title'].value_counts()"
   ]
  },
  {
   "cell_type": "code",
   "execution_count": 9,
   "metadata": {},
   "outputs": [
    {
     "data": {
      "text/plain": [
       "Job Title\n",
       "Data Scientist              2165\n",
       "Data Analyst                1167\n",
       "Data Engineer                948\n",
       "Machine Learning             712\n",
       "Data Science                  54\n",
       "Senior Data Scientist         45\n",
       "Junior Data Scientist         22\n",
       "Lead Data Scientist            6\n",
       "Data Scientist - Trainee       2\n",
       "Data Science Consultant        1\n",
       "Data Science Manager           1\n",
       "Data Science Lead              1\n",
       "National Director              1\n",
       "Data Science Associate         1\n",
       "CEO                            1\n",
       "Name: count, dtype: int64"
      ]
     },
     "execution_count": 9,
     "metadata": {},
     "output_type": "execute_result"
    }
   ],
   "source": [
    "# Combining \"Machine Learning Engineer\", \"Senior Machine Learning Engineer\", \"Software Engineer - Machine Learning\", \"Machine Learning Developer\", \"Machine Learning Consultant\", \"Machine Learning Engineer/Data Scientist\"\n",
    "# \"Machine Learning Associate Machine\" \"Learning Data Associate\"  \"Machine Learning Software Engineer\", \"Associate Machine Learning Engineer \", \"Machine Learning Data Analyst\", \"Machine Learning Data Associate \"\n",
    "\n",
    "# Combining all the job titles that have 'Machine Learning' into one column\n",
    "data['Job Title'] = data['Job Title'].apply(lambda x: \"Machine Learning\" if \"Machine Learning\" in x else x)\n",
    "data['Job Title'].value_counts()"
   ]
  },
  {
   "cell_type": "markdown",
   "metadata": {},
   "source": [
    "### Ckeck out  any outliers in the data that might affect the averages negatively (certain salaries)?, ? Manage the outliers"
   ]
  },
  {
   "cell_type": "code",
   "execution_count": 10,
   "metadata": {},
   "outputs": [
    {
     "data": {
      "image/png": "[encoded data removed]",
      "text/plain": [
       "<Figure size 1000x500 with 1 Axes>"
      ]
     },
     "metadata": {},
     "output_type": "display_data"
    }
   ],
   "source": [
    "# Visualizing the distribution of the data\n",
    "plt.figure(figsize=(10, 5))\n",
    "sns.histplot(data['Monthly Salary'], bins=50, kde=True)\n",
    "plt.title(\"Distribution of Monthly Salary\")\n",
    "plt.show()"
   ]
  },
  {
   "cell_type": "markdown",
   "metadata": {},
   "source": [
    "## <span style=\"color: #20C997;\">Personal Analysis</span>\n",
    "Before detecting the outliers of \"Monthly Salary\", the above visualization shows imbalanced distribution and the skewness is strong positive and the kurtosis is very high. it makes scenes because only few people have high income."
   ]
  },
  {
   "cell_type": "code",
   "execution_count": 11,
   "metadata": {},
   "outputs": [
    {
     "name": "stdout",
     "output_type": "stream",
     "text": [
      "Mean Salary: 102714.2045\n",
      "Median Salary: 68664.25\n",
      "Minimum Salary: 901.17\n",
      "Maximum Salary: 6203777.25\n",
      "Standard Deviation of Salary: 151359.556763\n",
      "Salary Percentiles (25th, 50th, 75th): [  38581.415   68664.25   119661.75 ]\n",
      "Salary Skewness: 16.3754260822\n",
      "Salary Kurtosis: 552.180296604\n"
     ]
    }
   ],
   "source": [
    "# Calculate statistics\n",
    "mean = np.mean(data[\"Monthly Salary\"])\n",
    "median = np.median(data[\"Monthly Salary\"])\n",
    "std = np.std(data[\"Monthly Salary\"])\n",
    "min_val = np.min(data[\"Monthly Salary\"])\n",
    "max_val = np.max(data[\"Monthly Salary\"])\n",
    "percent = np.percentile(data[\"Monthly Salary\"], [25, 50, 75])\n",
    "skewness = stats.skew(data[\"Monthly Salary\"])\n",
    "kurtosis = stats.kurtosis(data[\"Monthly Salary\"])\n",
    "\n",
    "\n",
    "print(\"Mean Salary:\", mean)\n",
    "print(\"Median Salary:\", median)\n",
    "print(\"Minimum Salary:\", min_val)\n",
    "print(\"Maximum Salary:\", max_val)\n",
    "print(\"Standard Deviation of Salary:\", std)\n",
    "print(\"Salary Percentiles (25th, 50th, 75th):\", percent)\n",
    "print(\"Salary Skewness:\", skewness)\n",
    "print(\"Salary Kurtosis:\", kurtosis)\n"
   ]
  },
  {
   "cell_type": "markdown",
   "metadata": {},
   "source": [
    "## <span style=\"color: #20C997;\">Personal Analysis</span>\n",
    "As I mentioned on the above the \"Monthly Salary\" has un normal distribution, mean is higher than median which means mean is effected by some high income. \n",
    "Standard deviation is very spread.\n"
   ]
  },
  {
   "cell_type": "code",
   "execution_count": 12,
   "metadata": {},
   "outputs": [
    {
     "data": {
      "text/html": [
       "<div>\n",
       "<style scoped>\n",
       "    .dataframe tbody tr th:only-of-type {\n",
       "        vertical-align: middle;\n",
       "    }\n",
       "\n",
       "    .dataframe tbody tr th {\n",
       "        vertical-align: top;\n",
       "    }\n",
       "\n",
       "    .dataframe thead th {\n",
       "        text-align: right;\n",
       "    }\n",
       "</style>\n",
       "<table border=\"1\" class=\"dataframe\">\n",
       "  <thead>\n",
       "    <tr style=\"text-align: right;\">\n",
       "      <th></th>\n",
       "      <th>Salary</th>\n",
       "      <th>Count</th>\n",
       "    </tr>\n",
       "  </thead>\n",
       "  <tbody>\n",
       "    <tr>\n",
       "      <th>0</th>\n",
       "      <td>Outliers</td>\n",
       "      <td>374</td>\n",
       "    </tr>\n",
       "  </tbody>\n",
       "</table>\n",
       "</div>"
      ],
      "text/plain": [
       "     Salary  Count\n",
       "0  Outliers    374"
      ]
     },
     "execution_count": 12,
     "metadata": {},
     "output_type": "execute_result"
    }
   ],
   "source": [
    "Q1 = data[\"Monthly Salary\"].quantile(0.25)\n",
    "Q3 = data[\"Monthly Salary\"].quantile(0.75)\n",
    "IQR = Q3 - Q1\n",
    "\n",
    "\n",
    "outliers_count = ((data[\"Monthly Salary\"] < (Q1 - 1.5 * IQR)) | (data[\"Monthly Salary\"] > (Q3 + 1.5 * IQR))).sum()\n",
    "outliers = pd.DataFrame({'Salary': ['Outliers'], 'Count': [outliers_count]})\n",
    "outliers"
   ]
  },
  {
   "cell_type": "markdown",
   "metadata": {},
   "source": [
    "### Trying different ways to handle the outliers values and then let's see what would be the best way to deal with them"
   ]
  },
  {
   "cell_type": "code",
   "execution_count": 13,
   "metadata": {},
   "outputs": [
    {
     "data": {
      "text/html": [
       "<div>\n",
       "<style scoped>\n",
       "    .dataframe tbody tr th:only-of-type {\n",
       "        vertical-align: middle;\n",
       "    }\n",
       "\n",
       "    .dataframe tbody tr th {\n",
       "        vertical-align: top;\n",
       "    }\n",
       "\n",
       "    .dataframe thead th {\n",
       "        text-align: right;\n",
       "    }\n",
       "</style>\n",
       "<table border=\"1\" class=\"dataframe\">\n",
       "  <thead>\n",
       "    <tr style=\"text-align: right;\">\n",
       "      <th></th>\n",
       "      <th>Salary</th>\n",
       "      <th>Count</th>\n",
       "    </tr>\n",
       "  </thead>\n",
       "  <tbody>\n",
       "    <tr>\n",
       "      <th>0</th>\n",
       "      <td>Outliers</td>\n",
       "      <td>59</td>\n",
       "    </tr>\n",
       "  </tbody>\n",
       "</table>\n",
       "</div>"
      ],
      "text/plain": [
       "     Salary  Count\n",
       "0  Outliers     59"
      ]
     },
     "execution_count": 13,
     "metadata": {},
     "output_type": "execute_result"
    }
   ],
   "source": [
    "# Using distribution (z-score) method to find and remove outliers\n",
    "z_scores = zscore(data[\"Monthly Salary\"])\n",
    "abs_z_scores = np.abs(z_scores)\n",
    "filtered_entries = (abs_z_scores < 3)\n",
    "z_scores_outlier = pd.DataFrame({'Salary': ['Outliers'], 'Count': [data.shape[0] - filtered_entries.sum()]})\n",
    "z_scores_outlier"
   ]
  },
  {
   "cell_type": "markdown",
   "metadata": {},
   "source": [
    "## <span style=\"color: #20C997;\">Personal Analysis</span>\n",
    "Z-Score method is not  helpful to detect outliers\" because my dataset is strongly skewed. since Z-Score measures how far data is from mean and standard Deviation unit but in this dataset mean and Standard deviation are effected by  outliers themselves. On other hand IQR is a mathematic technique to find the outliers and is independent from mean or Standard deviation. In my case IQR is the best option."
   ]
  },
  {
   "cell_type": "code",
   "execution_count": 14,
   "metadata": {},
   "outputs": [
    {
     "name": "stdout",
     "output_type": "stream",
     "text": [
      "Mean Salary: 88093.8550293\n",
      "Median Salary: 68664.25\n",
      "Minimum Salary: 901.17\n",
      "Maximum Salary: 241282.2525\n",
      "Standard Deviation of Salary: 65627.7794208\n",
      "Salary Percentiles (25th, 50th, 75th): [  38581.415   68664.25   119661.75 ]\n",
      "Salary Skewness: 1.06197146454\n",
      "Salary Kurtosis: 0.176469718204\n"
     ]
    }
   ],
   "source": [
    "# Using cap method to deal with outliers\n",
    "data['Monthly Salary'] = data['Monthly Salary'].clip(lower=Q1 - 1.5 * IQR, upper=Q3 + 1.5 * IQR)\n",
    "\n",
    "# Calculate statistics\n",
    "mean = np.mean(data[\"Monthly Salary\"])\n",
    "median = np.median(data[\"Monthly Salary\"])\n",
    "std = np.std(data[\"Monthly Salary\"])\n",
    "min_val = np.min(data[\"Monthly Salary\"])\n",
    "max_val = np.max(data[\"Monthly Salary\"])\n",
    "percent = np.percentile(data[\"Monthly Salary\"], [25, 50, 75])\n",
    "skewness = stats.skew(data[\"Monthly Salary\"])\n",
    "kurtosis = stats.kurtosis(data[\"Monthly Salary\"])\n",
    "\n",
    "print(\"Mean Salary:\", mean)\n",
    "print(\"Median Salary:\", median)\n",
    "print(\"Minimum Salary:\", min_val)\n",
    "print(\"Maximum Salary:\", max_val)\n",
    "print(\"Standard Deviation of Salary:\", std)\n",
    "print(\"Salary Percentiles (25th, 50th, 75th):\", percent)\n",
    "print(\"Salary Skewness:\", skewness)\n",
    "print(\"Salary Kurtosis:\", kurtosis)"
   ]
  },
  {
   "cell_type": "markdown",
   "metadata": {},
   "source": [
    "## <span style=\"color: #20C997;\">Personal Analysis</span>\n",
    "After using the \"Capping\" method to deal with outliers data, Now mean salary got closed to the median but still higher than median. Skewness and kurtosis now show near to normal distribution. \n",
    "The gap between min and max is smaller. Standard deviation is lower. \n"
   ]
  },
  {
   "cell_type": "code",
   "execution_count": 15,
   "metadata": {},
   "outputs": [
    {
     "data": {
      "image/png": "[encoded data removed]",
      "text/plain": [
       "<Figure size 1000x500 with 1 Axes>"
      ]
     },
     "metadata": {},
     "output_type": "display_data"
    }
   ],
   "source": [
    "# Visualizing the distribution of \"Monthly Salary\" after removing outliers\n",
    "plt.figure(figsize=(10, 5))\n",
    "sns.histplot(data['Monthly Salary'], bins=50, kde=True)\n",
    "plt.title(\"Distribution of Monthly Salary (Without Outliers)\")\n",
    "plt.show()"
   ]
  },
  {
   "cell_type": "markdown",
   "metadata": {},
   "source": [
    "## <span style=\"color: #20C997;\">Personal Analysis</span>\n",
    "Even after handling outliers, still the data has skewed with long tail which means few people have higher income than others but it makes scence in real word\n",
    "Now the distribution looks closer to normal "
   ]
  },
  {
   "cell_type": "code",
   "execution_count": 16,
   "metadata": {},
   "outputs": [
    {
     "data": {
      "text/html": [
       "<div>\n",
       "<style scoped>\n",
       "    .dataframe tbody tr th:only-of-type {\n",
       "        vertical-align: middle;\n",
       "    }\n",
       "\n",
       "    .dataframe tbody tr th {\n",
       "        vertical-align: top;\n",
       "    }\n",
       "\n",
       "    .dataframe thead th {\n",
       "        text-align: right;\n",
       "    }\n",
       "</style>\n",
       "<table border=\"1\" class=\"dataframe\">\n",
       "  <thead>\n",
       "    <tr style=\"text-align: right;\">\n",
       "      <th></th>\n",
       "      <th>Company Name</th>\n",
       "      <th>Job Title</th>\n",
       "      <th>Role</th>\n",
       "      <th>Salaries Reported</th>\n",
       "      <th>Location</th>\n",
       "      <th>Monthly Salary</th>\n",
       "    </tr>\n",
       "  </thead>\n",
       "  <tbody>\n",
       "    <tr>\n",
       "      <th>0</th>\n",
       "      <td>Axis Bank</td>\n",
       "      <td>Data Scientist</td>\n",
       "      <td>Specialist</td>\n",
       "      <td>3</td>\n",
       "      <td>Bangalore</td>\n",
       "      <td>97640.5800</td>\n",
       "    </tr>\n",
       "    <tr>\n",
       "      <th>1</th>\n",
       "      <td>Globex Digital Solutions</td>\n",
       "      <td>Machine Learning</td>\n",
       "      <td>Manager</td>\n",
       "      <td>1</td>\n",
       "      <td>Hyderabad</td>\n",
       "      <td>241282.2525</td>\n",
       "    </tr>\n",
       "    <tr>\n",
       "      <th>2</th>\n",
       "      <td>Tempworks Services</td>\n",
       "      <td>Data Scientist</td>\n",
       "      <td>Manager</td>\n",
       "      <td>1</td>\n",
       "      <td>Bangalore</td>\n",
       "      <td>241282.2525</td>\n",
       "    </tr>\n",
       "    <tr>\n",
       "      <th>3</th>\n",
       "      <td>BlueOptima</td>\n",
       "      <td>Machine Learning</td>\n",
       "      <td>Specialist</td>\n",
       "      <td>2</td>\n",
       "      <td>Bangalore</td>\n",
       "      <td>98413.7500</td>\n",
       "    </tr>\n",
       "    <tr>\n",
       "      <th>4</th>\n",
       "      <td>Dell Technologies</td>\n",
       "      <td>Data Analyst</td>\n",
       "      <td>Specialist</td>\n",
       "      <td>5</td>\n",
       "      <td>New Delhi</td>\n",
       "      <td>50244.1700</td>\n",
       "    </tr>\n",
       "  </tbody>\n",
       "</table>\n",
       "</div>"
      ],
      "text/plain": [
       "               Company Name         Job Title        Role  Salaries Reported  \\\n",
       "0                 Axis Bank    Data Scientist  Specialist                  3   \n",
       "1  Globex Digital Solutions  Machine Learning     Manager                  1   \n",
       "2        Tempworks Services    Data Scientist     Manager                  1   \n",
       "3                BlueOptima  Machine Learning  Specialist                  2   \n",
       "4         Dell Technologies      Data Analyst  Specialist                  5   \n",
       "\n",
       "    Location  Monthly Salary  \n",
       "0  Bangalore      97640.5800  \n",
       "1  Hyderabad     241282.2525  \n",
       "2  Bangalore     241282.2525  \n",
       "3  Bangalore      98413.7500  \n",
       "4  New Delhi      50244.1700  "
      ]
     },
     "execution_count": 16,
     "metadata": {},
     "output_type": "execute_result"
    }
   ],
   "source": [
    "data.head()"
   ]
  },
  {
   "cell_type": "markdown",
   "metadata": {},
   "source": [
    "### Checking out the correlation"
   ]
  },
  {
   "cell_type": "code",
   "execution_count": 17,
   "metadata": {},
   "outputs": [
    {
     "data": {
      "text/plain": [
       "Company Name          object\n",
       "Job Title             object\n",
       "Role                  object\n",
       "Salaries Reported      int64\n",
       "Location              object\n",
       "Monthly Salary       float64\n",
       "dtype: object"
      ]
     },
     "execution_count": 17,
     "metadata": {},
     "output_type": "execute_result"
    }
   ],
   "source": [
    "data.dtypes"
   ]
  },
  {
   "cell_type": "code",
   "execution_count": 18,
   "metadata": {},
   "outputs": [
    {
     "data": {
      "text/plain": [
       "Company Name         2523\n",
       "Job Title              15\n",
       "Role                    2\n",
       "Salaries Reported      49\n",
       "Location                5\n",
       "Monthly Salary       3493\n",
       "dtype: int64"
      ]
     },
     "execution_count": 18,
     "metadata": {},
     "output_type": "execute_result"
    }
   ],
   "source": [
    "# let's check number of unique values in each column\n",
    "data.nunique()"
   ]
  },
  {
   "cell_type": "code",
   "execution_count": 19,
   "metadata": {},
   "outputs": [
    {
     "data": {
      "text/html": [
       "<div>\n",
       "<style scoped>\n",
       "    .dataframe tbody tr th:only-of-type {\n",
       "        vertical-align: middle;\n",
       "    }\n",
       "\n",
       "    .dataframe tbody tr th {\n",
       "        vertical-align: top;\n",
       "    }\n",
       "\n",
       "    .dataframe thead th {\n",
       "        text-align: right;\n",
       "    }\n",
       "</style>\n",
       "<table border=\"1\" class=\"dataframe\">\n",
       "  <thead>\n",
       "    <tr style=\"text-align: right;\">\n",
       "      <th></th>\n",
       "      <th>Company Name</th>\n",
       "      <th>Job Title</th>\n",
       "      <th>Salaries Reported</th>\n",
       "      <th>Location</th>\n",
       "      <th>Monthly Salary</th>\n",
       "      <th>Role_Manager</th>\n",
       "      <th>Role_Specialist</th>\n",
       "    </tr>\n",
       "  </thead>\n",
       "  <tbody>\n",
       "    <tr>\n",
       "      <th>0</th>\n",
       "      <td>Axis Bank</td>\n",
       "      <td>Data Scientist</td>\n",
       "      <td>3</td>\n",
       "      <td>Bangalore</td>\n",
       "      <td>97640.5800</td>\n",
       "      <td>0</td>\n",
       "      <td>1</td>\n",
       "    </tr>\n",
       "    <tr>\n",
       "      <th>1</th>\n",
       "      <td>Globex Digital Solutions</td>\n",
       "      <td>Machine Learning</td>\n",
       "      <td>1</td>\n",
       "      <td>Hyderabad</td>\n",
       "      <td>241282.2525</td>\n",
       "      <td>1</td>\n",
       "      <td>0</td>\n",
       "    </tr>\n",
       "    <tr>\n",
       "      <th>2</th>\n",
       "      <td>Tempworks Services</td>\n",
       "      <td>Data Scientist</td>\n",
       "      <td>1</td>\n",
       "      <td>Bangalore</td>\n",
       "      <td>241282.2525</td>\n",
       "      <td>1</td>\n",
       "      <td>0</td>\n",
       "    </tr>\n",
       "    <tr>\n",
       "      <th>3</th>\n",
       "      <td>BlueOptima</td>\n",
       "      <td>Machine Learning</td>\n",
       "      <td>2</td>\n",
       "      <td>Bangalore</td>\n",
       "      <td>98413.7500</td>\n",
       "      <td>0</td>\n",
       "      <td>1</td>\n",
       "    </tr>\n",
       "    <tr>\n",
       "      <th>4</th>\n",
       "      <td>Dell Technologies</td>\n",
       "      <td>Data Analyst</td>\n",
       "      <td>5</td>\n",
       "      <td>New Delhi</td>\n",
       "      <td>50244.1700</td>\n",
       "      <td>0</td>\n",
       "      <td>1</td>\n",
       "    </tr>\n",
       "  </tbody>\n",
       "</table>\n",
       "</div>"
      ],
      "text/plain": [
       "               Company Name         Job Title  Salaries Reported   Location  \\\n",
       "0                 Axis Bank    Data Scientist                  3  Bangalore   \n",
       "1  Globex Digital Solutions  Machine Learning                  1  Hyderabad   \n",
       "2        Tempworks Services    Data Scientist                  1  Bangalore   \n",
       "3                BlueOptima  Machine Learning                  2  Bangalore   \n",
       "4         Dell Technologies      Data Analyst                  5  New Delhi   \n",
       "\n",
       "   Monthly Salary  Role_Manager  Role_Specialist  \n",
       "0      97640.5800             0                1  \n",
       "1     241282.2525             1                0  \n",
       "2     241282.2525             1                0  \n",
       "3      98413.7500             0                1  \n",
       "4      50244.1700             0                1  "
      ]
     },
     "execution_count": 19,
     "metadata": {},
     "output_type": "execute_result"
    }
   ],
   "source": [
    "# converting the \"Role\" into numerical values\n",
    "one_hot = pd.get_dummies(data['Role'], prefix='Role').astype(int)\n",
    "data = pd.concat([data, one_hot], axis=1)\n",
    "# drop the original \"Role\" column\n",
    "data = data.drop('Role', axis=1)\n",
    "data.head()"
   ]
  },
  {
   "cell_type": "markdown",
   "metadata": {},
   "source": [
    "## <span style=\"color: #20C997;\">Personal Analysis</span>\n",
    "I almost tried all options for encoding the categorical columns,but I have not seen any different so I go for dummy."
   ]
  },
  {
   "cell_type": "code",
   "execution_count": 20,
   "metadata": {},
   "outputs": [],
   "source": [
    "# Creating a dataframe for  Role_Manager,Role_Specialist, and monthly salary\n",
    "role_data = data[['Role_Manager', 'Role_Specialist', 'Monthly Salary']]"
   ]
  },
  {
   "cell_type": "code",
   "execution_count": 21,
   "metadata": {},
   "outputs": [
    {
     "data": {
      "text/html": [
       "<div>\n",
       "<style scoped>\n",
       "    .dataframe tbody tr th:only-of-type {\n",
       "        vertical-align: middle;\n",
       "    }\n",
       "\n",
       "    .dataframe tbody tr th {\n",
       "        vertical-align: top;\n",
       "    }\n",
       "\n",
       "    .dataframe thead th {\n",
       "        text-align: right;\n",
       "    }\n",
       "</style>\n",
       "<table border=\"1\" class=\"dataframe\">\n",
       "  <thead>\n",
       "    <tr style=\"text-align: right;\">\n",
       "      <th></th>\n",
       "      <th>Role_Manager</th>\n",
       "      <th>Role_Specialist</th>\n",
       "      <th>Monthly Salary</th>\n",
       "    </tr>\n",
       "  </thead>\n",
       "  <tbody>\n",
       "    <tr>\n",
       "      <th>Role_Manager</th>\n",
       "      <td>1.000000</td>\n",
       "      <td>-1.000000</td>\n",
       "      <td>0.517336</td>\n",
       "    </tr>\n",
       "    <tr>\n",
       "      <th>Role_Specialist</th>\n",
       "      <td>-1.000000</td>\n",
       "      <td>1.000000</td>\n",
       "      <td>-0.517336</td>\n",
       "    </tr>\n",
       "    <tr>\n",
       "      <th>Monthly Salary</th>\n",
       "      <td>0.517336</td>\n",
       "      <td>-0.517336</td>\n",
       "      <td>1.000000</td>\n",
       "    </tr>\n",
       "  </tbody>\n",
       "</table>\n",
       "</div>"
      ],
      "text/plain": [
       "                 Role_Manager  Role_Specialist  Monthly Salary\n",
       "Role_Manager         1.000000        -1.000000        0.517336\n",
       "Role_Specialist     -1.000000         1.000000       -0.517336\n",
       "Monthly Salary       0.517336        -0.517336        1.000000"
      ]
     },
     "execution_count": 21,
     "metadata": {},
     "output_type": "execute_result"
    }
   ],
   "source": [
    "# finding the correlation between the column data_role\n",
    "correlation = role_data.corr()\n",
    "correlation"
   ]
  },
  {
   "cell_type": "code",
   "execution_count": 22,
   "metadata": {},
   "outputs": [
    {
     "data": {
      "text/html": [
       "<div>\n",
       "<style scoped>\n",
       "    .dataframe tbody tr th:only-of-type {\n",
       "        vertical-align: middle;\n",
       "    }\n",
       "\n",
       "    .dataframe tbody tr th {\n",
       "        vertical-align: top;\n",
       "    }\n",
       "\n",
       "    .dataframe thead th {\n",
       "        text-align: right;\n",
       "    }\n",
       "</style>\n",
       "<table border=\"1\" class=\"dataframe\">\n",
       "  <thead>\n",
       "    <tr style=\"text-align: right;\">\n",
       "      <th></th>\n",
       "      <th>Role_Manager</th>\n",
       "      <th>Role_Specialist</th>\n",
       "      <th>Monthly Salary</th>\n",
       "    </tr>\n",
       "  </thead>\n",
       "  <tbody>\n",
       "    <tr>\n",
       "      <th>Role_Manager</th>\n",
       "      <td>1.00000</td>\n",
       "      <td>-1.00000</td>\n",
       "      <td>0.42936</td>\n",
       "    </tr>\n",
       "    <tr>\n",
       "      <th>Role_Specialist</th>\n",
       "      <td>-1.00000</td>\n",
       "      <td>1.00000</td>\n",
       "      <td>-0.42936</td>\n",
       "    </tr>\n",
       "    <tr>\n",
       "      <th>Monthly Salary</th>\n",
       "      <td>0.42936</td>\n",
       "      <td>-0.42936</td>\n",
       "      <td>1.00000</td>\n",
       "    </tr>\n",
       "  </tbody>\n",
       "</table>\n",
       "</div>"
      ],
      "text/plain": [
       "                 Role_Manager  Role_Specialist  Monthly Salary\n",
       "Role_Manager          1.00000         -1.00000         0.42936\n",
       "Role_Specialist      -1.00000          1.00000        -0.42936\n",
       "Monthly Salary        0.42936         -0.42936         1.00000"
      ]
     },
     "execution_count": 22,
     "metadata": {},
     "output_type": "execute_result"
    }
   ],
   "source": [
    "role_data.corr(method=\"spearman\")"
   ]
  },
  {
   "cell_type": "markdown",
   "metadata": {},
   "source": [
    "## <span style=\"color: #20C997;\">Personal Analysis</span>"
   ]
  },
  {
   "cell_type": "markdown",
   "metadata": {},
   "source": [
    "I used both way and found out that Pearson gives me stronger correlation because of data distribution, it is skewed. So I go for Spearman"
   ]
  },
  {
   "cell_type": "markdown",
   "metadata": {},
   "source": [
    "## <span style=\"color: #20C997;\">Personal Analysis</span>\n",
    "Role_Manager and Role_Specialist has perfectly negative correlated, since they are binary.\n",
    "Manager is correlated with salary positive, it shows that manager has better salary than Specialist which is correlated negative with salary"
   ]
  },
  {
   "cell_type": "code",
   "execution_count": 24,
   "metadata": {},
   "outputs": [],
   "source": [
    "# saving the clean data to a new csv file\n",
    "data.to_csv('Datasets/data_cleaned.csv', index=False) "
   ]
  },
  {
   "cell_type": "code",
   "execution_count": 25,
   "metadata": {},
   "outputs": [
    {
     "data": {
      "text/plain": [
       "Role_Manager  Role_Specialist\n",
       "0             1                   73398.065032\n",
       "1             0                  166531.952936\n",
       "Name: Monthly Salary, dtype: float64"
      ]
     },
     "execution_count": 25,
     "metadata": {},
     "output_type": "execute_result"
    }
   ],
   "source": [
    "# Let's find average salary for Manager and Specialist\n",
    "average_salary = role_data.groupby(['Role_Manager', 'Role_Specialist'])['Monthly Salary'].mean()\n",
    "average_salary"
   ]
  },
  {
   "cell_type": "markdown",
   "metadata": {},
   "source": [
    "## <span style=\"color: #20C997;\">Personal Analysis</span> \n",
    "It makes sense the manager has higher salary\n"
   ]
  },
  {
   "cell_type": "code",
   "execution_count": 26,
   "metadata": {},
   "outputs": [
    {
     "data": {
      "text/plain": [
       "Job Title\n",
       "CEO                         241282.252500\n",
       "Data Analyst                 60979.376300\n",
       "Data Engineer                91828.484612\n",
       "Data Science                 38252.862824\n",
       "Data Science Associate      100326.080000\n",
       "Data Science Consultant     222622.000000\n",
       "Data Science Lead           241282.252500\n",
       "Data Science Manager        241282.252500\n",
       "Data Scientist              103755.386823\n",
       "Data Scientist - Trainee    111558.835000\n",
       "Junior Data Scientist        68731.117386\n",
       "Lead Data Scientist         154349.083333\n",
       "Machine Learning             78607.778550\n",
       "National Director           241282.252500\n",
       "Senior Data Scientist       151703.998778\n",
       "Name: Monthly Salary, dtype: float64"
      ]
     },
     "execution_count": 26,
     "metadata": {},
     "output_type": "execute_result"
    }
   ],
   "source": [
    "# Grouping by title job and finding the average salary\n",
    "average_salary = data.groupby('Job Title')['Monthly Salary'].mean()\n",
    "average_salary"
   ]
  },
  {
   "cell_type": "code",
   "execution_count": 27,
   "metadata": {},
   "outputs": [
    {
     "data": {
      "text/plain": [
       "Location   Job Title               \n",
       "Bangalore  CEO                         241282.252500\n",
       "           Data Analyst                 67714.472329\n",
       "           Data Engineer                96617.537115\n",
       "           Data Scientist              105523.169547\n",
       "           Machine Learning             81603.746181\n",
       "           National Director           241282.252500\n",
       "Hyderabad  Data Analyst                 61301.282401\n",
       "           Data Engineer                86537.135622\n",
       "           Data Scientist               96749.636600\n",
       "           Machine Learning             78387.923741\n",
       "Mumbai     Data Analyst                 58646.816477\n",
       "           Data Engineer                96204.845229\n",
       "           Data Scientist              106501.989791\n",
       "           Machine Learning             71437.019559\n",
       "New Delhi  Data Analyst                 63201.062076\n",
       "           Data Engineer                90319.792723\n",
       "           Data Scientist              104422.108387\n",
       "           Machine Learning             81252.468750\n",
       "Pune       Data Analyst                 53992.702909\n",
       "           Data Engineer                89000.583284\n",
       "           Data Science                 38252.862824\n",
       "           Data Science Associate      100326.080000\n",
       "           Data Science Consultant     222622.000000\n",
       "           Data Science Lead           241282.252500\n",
       "           Data Science Manager        241282.252500\n",
       "           Data Scientist              100058.916516\n",
       "           Data Scientist - Trainee    111558.835000\n",
       "           Junior Data Scientist        68731.117386\n",
       "           Lead Data Scientist         154349.083333\n",
       "           Machine Learning             77241.691535\n",
       "           Senior Data Scientist       151703.998778\n",
       "Name: Monthly Salary, dtype: float64"
      ]
     },
     "execution_count": 27,
     "metadata": {},
     "output_type": "execute_result"
    }
   ],
   "source": [
    "# Grouping location, job title and finding the average salary\n",
    "average_salary = data.groupby(['Location', 'Job Title'])['Monthly Salary'].mean()\n",
    "average_salary"
   ]
  }
 ],
 "metadata": {
  "kernelspec": {
   "display_name": ".venv",
   "language": "python",
   "name": "python3"
  },
  "language_info": {
   "codemirror_mode": {
    "name": "ipython",
    "version": 3
   },
   "file_extension": ".py",
   "mimetype": "text/x-python",
   "name": "python",
   "nbconvert_exporter": "python",
   "pygments_lexer": "ipython3",
   "version": "3.10.11"
  }
 },
 "nbformat": 4,
 "nbformat_minor": 2
}
